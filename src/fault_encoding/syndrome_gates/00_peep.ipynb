{
  "cells": [
    {
      "cell_type": "code",
      "execution_count": 27,
      "metadata": {},
      "outputs": [],
      "source": [
        "# check if a code space protects against list of error channels\n",
        "# Let C be a quantum code, and let P be the projector onto C.\n",
        "# Suppose \\Epsilon is quantum operation with operation elements {E_i}.\n",
        "# A necessary and sufficient condition for the existence of\n",
        "# an error-correction operation R correcting \\Epsilon on C is that\n",
        "# P E^dag_i E_j P = \\alpha_{ij} P,\n",
        "# for some Hermitian matrix \\alpha of complex numbers."
      ]
    },
    {
      "cell_type": "code",
      "execution_count": 28,
      "metadata": {},
      "outputs": [],
      "source": [
        "import numpy as np\n",
        "\n",
        "\n",
        "def are_matrices_scalar_multiple(mat1, mat2):\n",
        "    # Step 1: Check if both matrices have the same shape\n",
        "    if mat1.shape != mat2.shape:\n",
        "        return False\n",
        "\n",
        "    # Step 2: Flatten both matrices to 1D arrays\n",
        "    flat_mat1 = mat1.flatten()\n",
        "    flat_mat2 = mat2.flatten()\n",
        "\n",
        "    # Step 3: Remove zero elements to avoid division by zero\n",
        "    nonzero_indices = np.logical_and(flat_mat1 != 0, flat_mat2 != 0)\n",
        "    flat_mat1 = flat_mat1[nonzero_indices]\n",
        "    flat_mat2 = flat_mat2[nonzero_indices]\n",
        "\n",
        "    # Check if either matrix is entirely zero\n",
        "    if len(flat_mat1) == 0 or len(flat_mat2) == 0:\n",
        "        return len(flat_mat1) == len(flat_mat2)\n",
        "\n",
        "    # Step 4: Divide all elements of one array by the corresponding elements of the other array\n",
        "    ratios = flat_mat1 / flat_mat2\n",
        "\n",
        "    # Step 5: Check if the resulting array contains the same value for all elements\n",
        "    return np.allclose(ratios, ratios[0])\n",
        "\n",
        "\n",
        "# # Test the function\n",
        "# mat1 = np.array([[2, 4], [6, 8]])\n",
        "# mat2 = np.array([[1, 2], [3, 4]])\n",
        "\n",
        "# print(are_matrices_scalar_multiple(mat1, mat2))  # Should return True"
      ]
    },
    {
      "cell_type": "code",
      "execution_count": 34,
      "metadata": {},
      "outputs": [
        {
          "name": "stdout",
          "output_type": "stream",
          "text": [
            "PEEP for E0 and E0:\n",
            "True\n",
            "PEEP for E0 and E1:\n",
            "True\n",
            "PEEP for E0 and E2:\n",
            "True\n",
            "PEEP for E0 and E3:\n",
            "True\n",
            "PEEP for E1 and E0:\n",
            "True\n",
            "PEEP for E1 and E1:\n",
            "True\n",
            "PEEP for E1 and E2:\n",
            "True\n",
            "PEEP for E1 and E3:\n",
            "True\n",
            "PEEP for E2 and E0:\n",
            "True\n",
            "PEEP for E2 and E1:\n",
            "True\n",
            "PEEP for E2 and E2:\n",
            "True\n",
            "PEEP for E2 and E3:\n",
            "True\n",
            "PEEP for E3 and E0:\n",
            "True\n",
            "PEEP for E3 and E1:\n",
            "True\n",
            "PEEP for E3 and E2:\n",
            "True\n",
            "PEEP for E3 and E3:\n",
            "True\n"
          ]
        }
      ],
      "source": [
        "# define error channels as photon loss and phase flip\n",
        "import numpy as np\n",
        "from qutip import *\n",
        "from qiskit.circuit.library import IGate, XGate\n",
        "\n",
        "# use PEEP to check if bit repetition code protects against bit flips\n",
        "logical0 = tensor(basis(2, 0), basis(2, 0), basis(2, 0))\n",
        "logical1 = tensor(basis(2, 1), basis(2, 1), basis(2, 1))\n",
        "\n",
        "Id = Qobj(IGate().to_matrix())\n",
        "X = Qobj(XGate().to_matrix())\n",
        "\n",
        "# define projector onto dual rail qubit\n",
        "P = logical0 * logical0.dag() + logical1 * logical1.dag()\n",
        "\n",
        "# define bit flip channel\n",
        "E = []\n",
        "p = 0.1\n",
        "# \\sqrt{(1-p)**3} I + \\sqrt{p*(1-p)**2} X_1 + \\sqrt{p*(1-p)**2} X_2 + \\sqrt{p*(1-p)**2} X_3 + ...\n",
        "E.append(np.sqrt((1 - p) ** 3) * tensor(Id, Id, Id))\n",
        "E.append(tensor(np.sqrt(p * (1 - p) ** 2) * X, Id, Id))\n",
        "E.append(tensor(Id, np.sqrt(p * (1 - p) ** 2) * X, Id))\n",
        "E.append(tensor(Id, Id, np.sqrt(p * (1 - p) ** 2) * X))\n",
        "\n",
        "# check if dual rail qubit protects against photon loss\n",
        "for i in range(len(E)):\n",
        "    for j in range(len(E)):\n",
        "        print(\"PEEP for E\" + str(i) + \" and E\" + str(j) + \":\")\n",
        "        # print((P * E[i].dag() * E[j] * P).tr() == P.tr() * P)\n",
        "        left = (P * E[i].dag() * E[j] * P).full()\n",
        "        right = P.full()\n",
        "        print(are_matrices_scalar_multiple(left, right))"
      ]
    },
    {
      "cell_type": "code",
      "execution_count": 39,
      "metadata": {},
      "outputs": [
        {
          "name": "stdout",
          "output_type": "stream",
          "text": [
            "PEEP for E0 and E0:\n",
            "True\n",
            "PEEP for E0 and E1:\n",
            "True\n",
            "PEEP for E0 and E2:\n",
            "True\n",
            "PEEP for E1 and E0:\n",
            "True\n",
            "PEEP for E1 and E1:\n",
            "True\n",
            "PEEP for E1 and E2:\n",
            "True\n",
            "PEEP for E2 and E0:\n",
            "True\n",
            "PEEP for E2 and E1:\n",
            "True\n",
            "PEEP for E2 and E2:\n",
            "True\n"
          ]
        }
      ],
      "source": [
        "# define error channels as photon loss and phase flip\n",
        "import numpy as np\n",
        "from qutip import *\n",
        "\n",
        "E = []\n",
        "\n",
        "# define photon loss channel\n",
        "# one 2 qubits, assume only one can be lost at a time\n",
        "# each photon loss channel has 2 Kraus operators\n",
        "# [[1, 0], [0, sqrt(1 - p)]] and [[0, sqrt(p)], [0, 0]]\n",
        "# where p is the probability of photon loss\n",
        "# E.append(tensor(qeye(2), Qobj([[1, 0], [0, np.sqrt(1 - 0.1)]])))\n",
        "# E.append(tensor(qeye(2), Qobj([[0, np.sqrt(0.1)], [0, 0]])))\n",
        "# E.append(tensor(Qobj([[1, 0], [0, np.sqrt(1 - 0.1)]]), qeye(2)))\n",
        "# E.append(tensor(Qobj([[0, np.sqrt(0.1)], [0, 0]]), qeye(2)))\n",
        "\n",
        "gamma = 0.1\n",
        "a = destroy(2)\n",
        "E.append(np.sqrt((1 - gamma) ** 2) * tensor(Id, Id))\n",
        "E.append(tensor(np.sqrt(p * (1 - gamma)) * a, Id))\n",
        "E.append(tensor(Id, np.sqrt(p * (1 - gamma)) * a))\n",
        "\n",
        "\n",
        "# use PEEP to check if dual rail qubit protects against photon loss]\n",
        "# define dual rail qubit\n",
        "logical0 = tensor(basis(2, 0), basis(2, 1))\n",
        "logical1 = tensor(basis(2, 1), basis(2, 0))\n",
        "\n",
        "# define projector onto dual rail qubit\n",
        "P = logical0 * logical0.dag() + logical1 * logical1.dag()\n",
        "\n",
        "# check if dual rail qubit protects against photon loss\n",
        "for i in range(len(E)):\n",
        "    for j in range(len(E)):\n",
        "        print(\"PEEP for E\" + str(i) + \" and E\" + str(j) + \":\")\n",
        "        # print((P * E[i].dag() * E[j] * P).tr() == P.tr() * P)\n",
        "        left = (P * E[i].dag() * E[j] * P).full()\n",
        "        right = P.full()\n",
        "        print(are_matrices_scalar_multiple(left, right))"
      ]
    },
    {
      "cell_type": "code",
      "execution_count": 37,
      "metadata": {},
      "outputs": [
        {
          "data": {
            "text/latex": [
              "Quantum object: dims = [[2, 2], [2, 2]], shape = (4, 4), type = oper, isherm = True $ \\\\ \\left(\\begin{matrix}0.0 & 0.0 & 0.0 & 0.0\\\\0.0 & 0.810 & 0.0 & 0.0\\\\0.0 & 0.0 & 0.810 & 0.0\\\\0.0 & 0.0 & 0.0 & 0.0\\\\\\end{matrix}\\right)$"
            ],
            "text/plain": [
              "Quantum object: dims = [[2, 2], [2, 2]], shape = (4, 4), type = oper, isherm = True\n",
              "Qobj data =\n",
              "[[0.   0.   0.   0.  ]\n",
              " [0.   0.81 0.   0.  ]\n",
              " [0.   0.   0.81 0.  ]\n",
              " [0.   0.   0.   0.  ]]"
            ]
          },
          "execution_count": 37,
          "metadata": {},
          "output_type": "execute_result"
        }
      ],
      "source": [
        "# check if dual rail qubit protects against photon loss\n",
        "i, j = 0, 0\n",
        "P * E[i].dag() * E[j] * P"
      ]
    }
  ],
  "metadata": {
    "kernelspec": {
      "display_name": ".venv",
      "language": "python",
      "name": "python3"
    },
    "language_info": {
      "codemirror_mode": {
        "name": "ipython",
        "version": 3
      },
      "file_extension": ".py",
      "mimetype": "text/x-python",
      "name": "python",
      "nbconvert_exporter": "python",
      "pygments_lexer": "ipython3",
      "version": "3.9.17"
    },
    "orig_nbformat": 4
  },
  "nbformat": 4,
  "nbformat_minor": 2
}
