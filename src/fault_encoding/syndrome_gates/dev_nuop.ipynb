{
  "cells": [
    {
      "cell_type": "code",
      "execution_count": 1,
      "metadata": {},
      "outputs": [],
      "source": [
        "from qiskit import QuantumCircuit\n",
        "from transpile_benchy.utilities.numerical_decomp import BasicDecomposer\n",
        "import numpy as np\n",
        "from qiskit.circuit.library import RZXGate\n",
        "from quantum_logical.interaction import ConversionGainInteraction\n",
        "from qiskit.circuit import Gate\n",
        "from qiskit.circuit.library import UGate, iSwapGate"
      ]
    },
    {
      "cell_type": "code",
      "execution_count": 2,
      "metadata": {},
      "outputs": [
        {
          "name": "stderr",
          "output_type": "stream",
          "text": [
            "/home/evm9/quantum_logical/.venv/lib/python3.9/site-packages/qiskit/visualization/circuit/matplotlib.py:266: FutureWarning: The default matplotlib drawer scheme will be changed to \"iqp\" in a following release. To silence this warning, specify the current default explicitly as style=\"clifford\", or the new default as style=\"iqp\".\n",
            "  self._style, def_font_ratio = load_style(self._style)\n"
          ]
        },
        {
          "data": {
            "image/png": "[encoded data removed]",
            "text/plain": [
              "<Figure size 287.496x284.278 with 1 Axes>"
            ]
          },
          "execution_count": 2,
          "metadata": {},
          "output_type": "execute_result"
        }
      ],
      "source": [
        "target_qc = QuantumCircuit(3)\n",
        "target_qc.cx(0, 2)\n",
        "target_qc.cx(1, 2)\n",
        "target_qc.draw(output=\"mpl\")"
      ]
    },
    {
      "cell_type": "code",
      "execution_count": 3,
      "metadata": {},
      "outputs": [],
      "source": [
        "class basis_gate(Gate):\n",
        "    def __init__(self, gc, gg, t=1.0):\n",
        "        super().__init__(\"2Q\", 2, [gc, gg, t])\n",
        "\n",
        "    def __array__(self, dtype=None):\n",
        "        H = ConversionGainInteraction(*self.params)\n",
        "        return H.construct_U(t=1.0).full()"
      ]
    },
    {
      "cell_type": "code",
      "execution_count": 4,
      "metadata": {},
      "outputs": [],
      "source": [
        "sqrtiswap = lambda: iSwapGate().power(1 / 2)"
      ]
    },
    {
      "cell_type": "code",
      "execution_count": 5,
      "metadata": {},
      "outputs": [],
      "source": [
        "# basis gates are tuples of (gate, num_params)\n",
        "# NOTE, basis gate is only parameterized if considering a continuous basis set\n",
        "# basis_gates = [(RZXGate, 1), (CCXGate, 0)]\n",
        "\n",
        "# basis_gates = [(basis_gate, 2)] # TOO EXPENSIVE!\n",
        "basis_gates = [(sqrtiswap, 0)]\n",
        "\n",
        "decomposer = BasicDecomposer(basis_gates)\n",
        "decomposer.convergence_threshold = 1e-8\n",
        "ansatz = decomposer(target_qc)\n",
        "print(ansatz)\n",
        "ansatz.draw(\"mpl\")"
      ]
    }
  ],
  "metadata": {
    "kernelspec": {
      "display_name": ".venv",
      "language": "python",
      "name": "python3"
    },
    "language_info": {
      "codemirror_mode": {
        "name": "ipython",
        "version": 3
      },
      "file_extension": ".py",
      "mimetype": "text/x-python",
      "name": "python",
      "nbconvert_exporter": "python",
      "pygments_lexer": "ipython3",
      "version": "3.9.18"
    }
  },
  "nbformat": 4,
  "nbformat_minor": 2
}
