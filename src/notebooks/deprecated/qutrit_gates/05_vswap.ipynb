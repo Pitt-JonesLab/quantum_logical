{
  "cells": [
    {
      "cell_type": "code",
      "execution_count": 20,
      "metadata": {},
      "outputs": [],
      "source": [
        "from qiskit.circuit.library import iSwapGate\n",
        "from qiskit import QuantumCircuit\n",
        "from qiskit.quantum_info import Operator\n",
        "from qutip import Qobj"
      ]
    },
    {
      "cell_type": "code",
      "execution_count": 21,
      "metadata": {},
      "outputs": [
        {
          "data": {
            "image/png": "[encoded data removed]",
            "text/plain": [
              "<Figure size 454.719x284.278 with 1 Axes>"
            ]
          },
          "execution_count": 21,
          "metadata": {},
          "output_type": "execute_result"
        }
      ],
      "source": [
        "qc = QuantumCircuit(3)\n",
        "qc.iswap(0, 1)\n",
        "qc.iswap(1, 2)\n",
        "qc.draw(\"mpl\")"
      ]
    },
    {
      "cell_type": "code",
      "execution_count": 22,
      "metadata": {},
      "outputs": [
        {
          "data": {
            "text/latex": [
              "Quantum object: dims = [[8], [8]], shape = (8, 8), type = oper, isherm = False $ \\\\ \\left(\\begin{matrix}1.0 & 0.0 & 0.0 & 0.0 & 0.0 & 0.0 & 0.0 & 0.0\\\\0.0 & 0.0 & 1.0j & 0.0 & 0.0 & 0.0 & 0.0 & 0.0\\\\0.0 & 0.0 & 0.0 & 0.0 & 1.0j & 0.0 & 0.0 & 0.0\\\\0.0 & 0.0 & 0.0 & 0.0 & 0.0 & 0.0 & -1.0 & 0.0\\\\0.0 & -1.0 & 0.0 & 0.0 & 0.0 & 0.0 & 0.0 & 0.0\\\\0.0 & 0.0 & 0.0 & 1.0j & 0.0 & 0.0 & 0.0 & 0.0\\\\0.0 & 0.0 & 0.0 & 0.0 & 0.0 & 1.0j & 0.0 & 0.0\\\\0.0 & 0.0 & 0.0 & 0.0 & 0.0 & 0.0 & 0.0 & 1.0\\\\\\end{matrix}\\right)$"
            ],
            "text/plain": [
              "Quantum object: dims = [[8], [8]], shape = (8, 8), type = oper, isherm = False\n",
              "Qobj data =\n",
              "[[ 1.+0.j  0.+0.j  0.+0.j  0.+0.j  0.+0.j  0.+0.j  0.+0.j  0.+0.j]\n",
              " [ 0.+0.j  0.+0.j  0.+1.j  0.+0.j  0.+0.j  0.+0.j  0.+0.j  0.+0.j]\n",
              " [ 0.+0.j  0.+0.j  0.+0.j  0.+0.j  0.+1.j  0.+0.j  0.+0.j  0.+0.j]\n",
              " [ 0.+0.j  0.+0.j  0.+0.j  0.+0.j  0.+0.j  0.+0.j -1.+0.j  0.+0.j]\n",
              " [ 0.+0.j -1.+0.j  0.+0.j  0.+0.j  0.+0.j  0.+0.j  0.+0.j  0.+0.j]\n",
              " [ 0.+0.j  0.+0.j  0.+0.j  0.+1.j  0.+0.j  0.+0.j  0.+0.j  0.+0.j]\n",
              " [ 0.+0.j  0.+0.j  0.+0.j  0.+0.j  0.+0.j  0.+1.j  0.+0.j  0.+0.j]\n",
              " [ 0.+0.j  0.+0.j  0.+0.j  0.+0.j  0.+0.j  0.+0.j  0.+0.j  1.+0.j]]"
            ]
          },
          "execution_count": 22,
          "metadata": {},
          "output_type": "execute_result"
        }
      ],
      "source": [
        "Qobj(Operator(qc).data)"
      ]
    },
    {
      "cell_type": "code",
      "execution_count": 33,
      "metadata": {},
      "outputs": [
        {
          "name": "stderr",
          "output_type": "stream",
          "text": [
            "/home/evm9/quantum_logical/.venv/lib/python3.9/site-packages/qutip/qobj.py:303: UserWarning: Initializing Qobj from unsupported type: <class 'qutip.qip.circuit.QubitCircuit'>\n",
            "  warnings.warn(\"Initializing Qobj from unsupported type: %s\" %\n"
          ]
        },
        {
          "data": {
            "text/latex": [
              "Quantum object: dims = [[1], [1]], shape = (1, 1), type = bra $ \\\\ \\left(\\begin{matrix}0.0\\\\\\end{matrix}\\right)$"
            ],
            "text/plain": [
              "Quantum object: dims = [[1], [1]], shape = (1, 1), type = bra\n",
              "Qobj data =\n",
              "[[0.]]"
            ]
          },
          "execution_count": 33,
          "metadata": {},
          "output_type": "execute_result"
        }
      ],
      "source": [
        "from qutip.qip.circuit import QubitCircuit, Gate\n",
        "from qutip.qip.circuit import CircuitSimulator\n",
        "from qutip import tensor, basis\n",
        "\n",
        "qc = QubitCircuit(N=3, num_cbits=1, dims=[2, 5, 2])\n",
        "qc.add_gate(\"ISWAP\", targets=[0, 1])\n",
        "qc.add_gate(\"ISWAP\", targets=[1, 2])\n",
        "\n",
        "Qobj(qc)"
      ]
    }
  ],
  "metadata": {
    "kernelspec": {
      "display_name": ".venv",
      "language": "python",
      "name": "python3"
    },
    "language_info": {
      "codemirror_mode": {
        "name": "ipython",
        "version": 3
      },
      "file_extension": ".py",
      "mimetype": "text/x-python",
      "name": "python",
      "nbconvert_exporter": "python",
      "pygments_lexer": "ipython3",
      "version": "3.9.17"
    }
  },
  "nbformat": 4,
  "nbformat_minor": 2
}
