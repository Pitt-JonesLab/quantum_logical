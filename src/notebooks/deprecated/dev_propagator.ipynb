{
 "cells": [
  {
   "cell_type": "code",
   "execution_count": null,
   "metadata": {},
   "outputs": [],
   "source": [
    "# # Calculate the propagator for T\n",
    "# # assumes Ampltiude * envelope(t) is real/constant\n",
    "\n",
    "# # v1 integrate Pulse H1(t) = [c e^{-iwt} - c^* e^{iwt}] from 0 to T\n",
    "# U_t = (-1j * (H0 * T + H1 * (2 * c * 1j * (np.cos(wp * T) - 1) / wp))).expm()\n",
    "\n",
    "# v2 integate the Pulse H1(t) = c * cos(wp * t) from 0 to T\n",
    "# U_t = (-1j * (H0 * T + H1 * (c * np.sin(wp * T) / wp))).expm()\n",
    "# # Apply the propagator to the initial state\n",
    "# rho_t = qt.Qobj(U_t * rho0 * U_t.dag())\n",
    "\n",
    "# # Calculate fidelities\n",
    "# best_fidelity = qt.fidelity(rho_t, expected_rho)\n",
    "# avg_gate_fidelity = qt.average_gate_fidelity(desired_U, U_t)\n",
    "# print(f\"Best fidelity: {best_fidelity:.4f} with c = {c:.4f}\")\n",
    "# print(f\"Average gate fidelity: {avg_gate_fidelity:.4f}\")\n",
    "\n",
    "#####################################\n",
    "# try using qutip's propagator\n",
    "# turns out to be the same as our manual integral calculation\n",
    "period_time = np.linspace(0, T, 250)  # a single period of the pulse\n",
    "pulse = Pulse(omega=wp, amp=30)\n",
    "H_pump = qs.hamiltonian.driven_term(snail_mode=snail)  # n_max=3.0)\n",
    "H = [qs.hamiltonian.H0, [H_pump, pulse.drive]]\n",
    "U_ts = qt.propagator(H, period_time, c_ops, args=args, options=opts)\n",
    "\n",
    "# plot occupations for each time step inside the period\n",
    "period_occupations = {mode: np.zeros(len(period_time)) for mode in qs.modes_num}\n",
    "for idx, t in enumerate(period_time):\n",
    "    rho_tt = qt.Qobj(U_ts[idx] * rho0 * U_ts[idx].dag())\n",
    "    for mode in qs.modes_num:\n",
    "        period_occupations[mode][idx] = np.abs(qt.expect(qs.modes_num[mode], rho_tt))\n",
    "\n",
    "# next, propagate the state 1 period at a time\n",
    "U_t = U_ts[-1]  # propagator for T=1 period\n",
    "n_periods = 250\n",
    "full_time = np.linspace(0, n_periods * T, n_periods)  # 250 periods of the pulse\n",
    "occupations = {mode: np.zeros(len(full_time)) for mode in qs.modes_num}\n",
    "\n",
    "rho_tt = rho0\n",
    "for idx, t in tqdm(enumerate(full_time)):\n",
    "    rho_tt = qt.Qobj(U_t * rho_tt * U_t.dag())\n",
    "    for mode in qs.modes_num:\n",
    "        # cast to reals, but we expect the imaginary part to be zero\n",
    "        occupations[mode][idx] = np.abs(qt.expect(qs.modes_num[mode], rho_tt))"
   ]
  }
 ],
 "metadata": {
  "language_info": {
   "name": "python"
  }
 },
 "nbformat": 4,
 "nbformat_minor": 2
}
