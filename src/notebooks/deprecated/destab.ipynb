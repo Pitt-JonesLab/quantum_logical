{
 "cells": [
  {
   "cell_type": "code",
   "execution_count": 1,
   "metadata": {},
   "outputs": [
    {
     "data": {
      "text/plain": [
       "True"
      ]
     },
     "execution_count": 1,
     "metadata": {},
     "output_type": "execute_result"
    }
   ],
   "source": [
    "# import qiskit,\n",
    "# want to do operation on pauli strings\n",
    "from qiskit.quantum_info import Pauli\n",
    "\n",
    "z = Pauli(\"XX\")\n",
    "g = Pauli(\"ZZ\")\n",
    "\n",
    "# want to do operation on pauli strings\n",
    "z.commutes(g)\n",
    "\n",
    "# why is it true that z commutes with g?"
   ]
  },
  {
   "cell_type": "code",
   "execution_count": null,
   "metadata": {},
   "outputs": [],
   "source": [
    "from qiskit import QuantumCircuit\n",
    "from qiskit.quantum_info import StabilizerState, Pauli\n",
    "\n",
    "\n",
    "qc = QuantumCircuit(3, 2)\n",
    "# bell state prep\n",
    "qc.h(1)\n",
    "qc.cx(1, 2)\n",
    "qc.barrier()\n",
    "\n",
    "stab = StabilizerState(qc)\n",
    "print(stab)\n",
    "\n",
    "# apply a CNOT\n",
    "qc.cx(0, 1)\n",
    "stab = StabilizerState(qc)\n",
    "print(stab)\n",
    "\n",
    "# apply H to qubit 0\n",
    "qc.h(0)\n",
    "stab = StabilizerState(qc)\n",
    "print(stab)\n",
    "\n",
    "\n",
    "# measure qubit 1\n",
    "qc.measure(1, 0)\n",
    "# classically control-X on qubit 2\n",
    "qc.x(2).c_if(qc.cregs[0], 1)\n",
    "\n",
    "stab = StabilizerState(qc)\n",
    "print(stab)\n",
    "\n",
    "# # measure qubit 0\n",
    "# qc.measure(0, 0)\n",
    "# # classically control-Z on qubit 2\n",
    "# qc.z(2).c_if(qc.cregs[0], 1)\n",
    "\n",
    "# stab = StabilizerState(qc)\n",
    "# print(stab)"
   ]
  },
  {
   "cell_type": "code",
   "execution_count": null,
   "metadata": {},
   "outputs": [],
   "source": [
    "qc.draw()"
   ]
  },
  {
   "cell_type": "code",
   "execution_count": 7,
   "metadata": {},
   "outputs": [
    {
     "name": "stdout",
     "output_type": "stream",
     "text": [
      "[[0]]\n",
      "[[0]]\n",
      "[[0]]\n",
      "[[0]]\n",
      "[[0]]\n",
      "[[0]]\n"
     ]
    }
   ],
   "source": [
    "# given a list of error operations, want to reverse-engineer the logical qubit code space\n",
    "from qiskit.quantum_info import Pauli\n",
    "import numpy as np\n",
    "from qutip import *\n",
    "from tqdm import tqdm\n",
    "\n",
    "# # we have 4 qubits, thus 8 logical spaces\n",
    "# # we have 1 logical, thus 7 error spaces\n",
    "\n",
    "# # define errors\n",
    "# error_list = [Pauli('ZII'), Pauli('IZI'), Pauli('IIZ')]\n",
    "\n",
    "# # each error acting on the logical space must go to an orthogonal space\n",
    "\n",
    "# # iterate over all possible logical spaces, check orthogonality condition\n",
    "\n",
    "# # example, basis is |000> and |111>\n",
    "# # create statevector\n",
    "# from sympy import Symbol\n",
    "# a = Symbol('a')\n",
    "# b = Symbol('b')\n",
    "# state = np.array([a, 0, 0, 0, 0, 0, 0, b]).reshape(8, 1)\n",
    "# # complex conjugate transpose\n",
    "# statet = state.conj().T\n",
    "\n",
    "# # check <state|error|state> = 0\n",
    "# ot = statet @ (Pauli('XII').to_matrix() @ state)\n",
    "# print(ot == 0)\n",
    "\n",
    "# # check <state|error|state> = 0\n",
    "# ot = statet @ (Pauli('ZII').to_matrix() @ state)\n",
    "# print(ot == 0)\n",
    "\n",
    "\n",
    "error_list = [Pauli(\"XII\"), Pauli(\"IXI\"), Pauli(\"IIX\")]\n",
    "# want to iterate through all possible logical spaces, check if we can find one that works for phase flip\n",
    "from sympy import symbols\n",
    "\n",
    "a, b, c, d, e, f, g, h = symbols(\"a b c d e f g h\")\n",
    "state = np.array([a, 0, 0, 0, 0, 0, 0, h]).reshape(8, 1)\n",
    "statet = state.conj().T\n",
    "\n",
    "# check <state|error|state> = 0\n",
    "ot = statet @ (Pauli(\"XII\").to_matrix() @ state)\n",
    "print(ot)\n",
    "ot = statet @ (Pauli(\"IXI\").to_matrix() @ state)\n",
    "print(ot)\n",
    "ot = statet @ (Pauli(\"IIX\").to_matrix() @ state)\n",
    "print(ot)\n",
    "\n",
    "# should also check that all errors are orthogonal to each other\n",
    "# check <state|error_1 error_2|state> = 0\n",
    "# ot = statet @ (Pauli('XII').to_matrix().conj()) @ (Pauli('IXI').to_matrix() @ state)\n",
    "# print(ot)\n",
    "for i in range(len(error_list)):\n",
    "    for j in range(i + 1, len(error_list)):\n",
    "        # print error |state>\n",
    "        # print(\"\\n\")\n",
    "        # print(error_list[i].to_matrix() @ state)\n",
    "        # print(\"\\n\")\n",
    "        ot = (\n",
    "            statet\n",
    "            @ (error_list[i].to_matrix().conj())\n",
    "            @ (error_list[j].to_matrix() @ state)\n",
    "        )\n",
    "        print(ot)"
   ]
  },
  {
   "cell_type": "code",
   "execution_count": 8,
   "metadata": {},
   "outputs": [],
   "source": [
    "num_qubits = 3\n",
    "a, b, c, d, e, f, g, h = symbols(\"a b c d e f g h\")\n",
    "state_list = []\n",
    "\n",
    "for i in range(2 ** (2**num_qubits)):\n",
    "    hot_encode = bin(i)[2:].zfill(2**num_qubits)\n",
    "    # enforce weight at least 2\n",
    "    if hot_encode.count(\"1\") < 2:\n",
    "        continue\n",
    "    hot_encode = [int(x) for x in hot_encode]\n",
    "    # multiply binary string to get state\n",
    "    state = np.array([a, b, c, d, e, f, g, h]) * hot_encode\n",
    "    state = state.reshape(2**num_qubits, 1)\n",
    "    statet = state.conj().T\n",
    "    state_list.append((state, statet))"
   ]
  },
  {
   "cell_type": "code",
   "execution_count": 9,
   "metadata": {},
   "outputs": [
    {
     "name": "stdout",
     "output_type": "stream",
     "text": [
      "[[0 0 0 d e 0 0 0]]\n",
      "[[0 0 c 0 0 f 0 0]]\n",
      "[[0 b 0 0 0 0 g 0]]\n",
      "[[a 0 0 0 0 0 0 h]]\n"
     ]
    }
   ],
   "source": [
    "error_list = [Pauli(\"III\"), Pauli(\"XII\"), Pauli(\"IXI\"), Pauli(\"IIX\")]\n",
    "for i in range(len(state_list)):\n",
    "    # want to check that <state| error_1 error_2 |state> = 0\n",
    "    # unless error_1 = error_2, then <state| error_1 error_1 |state> = 1\n",
    "    # if state satisfies this for all errors, print state\n",
    "    for j in range(len(error_list)):\n",
    "        for k in range(j + 1, len(error_list)):\n",
    "            ot = (\n",
    "                state_list[i][1]\n",
    "                @ (error_list[j].to_matrix().conj())\n",
    "                @ (error_list[k].to_matrix() @ state_list[i][0])\n",
    "            )\n",
    "            if ot != 0:\n",
    "                break\n",
    "        if ot != 0:\n",
    "            break\n",
    "    if ot == 0:\n",
    "        print(state_list[i][0].T)"
   ]
  },
  {
   "cell_type": "code",
   "execution_count": 10,
   "metadata": {},
   "outputs": [],
   "source": [
    "num_qubits = 3\n",
    "a, b, c, d, e, f, g, h = symbols(\"a b c d e f g h\")\n",
    "state_list = []\n",
    "\n",
    "for i in range(2 ** (2**num_qubits)):\n",
    "    hot_encode = bin(i)[2:].zfill(2**num_qubits)\n",
    "    # enforce weight at least 2\n",
    "    if hot_encode.count(\"1\") < 2:\n",
    "        continue\n",
    "    hot_encode = [int(x) for x in hot_encode]\n",
    "    # multiply binary string to get state\n",
    "    state = np.array([a, b, c, d, e, f, g, h]) * hot_encode\n",
    "    state = state.reshape(2**num_qubits, 1)\n",
    "    statet = state.conj().T\n",
    "    state_list.append((state, statet))\n",
    "\n",
    "# # we know logical space a|+++> + b|---> is a solution\n",
    "# # XXX not constructed by our state_list (?)\n",
    "# state = [a+h, 0, 0, 0, 0, 0, 0, a-h]\n",
    "# state = np.array(state).reshape(8, 1)\n",
    "# statet = state.conj().T\n",
    "# state_list.append((state, statet))"
   ]
  },
  {
   "cell_type": "code",
   "execution_count": 11,
   "metadata": {},
   "outputs": [
    {
     "name": "stderr",
     "output_type": "stream",
     "text": [
      "100%|██████████| 248/248 [00:01<00:00, 167.81it/s]\n"
     ]
    }
   ],
   "source": [
    "error_list = [Pauli(\"III\"), Pauli(\"ZII\"), Pauli(\"IZI\"), Pauli(\"IIZ\")]\n",
    "for i in tqdm(range(len(state_list))):\n",
    "    # want to check that <state| error_1 error_2 |state> = 0\n",
    "    # unless error_1 = error_2, then <state| error_1 error_1 |state> = 1\n",
    "    # if state satisfies this for all errors, print state\n",
    "    for j in range(len(error_list)):\n",
    "        for k in range(j + 1, len(error_list)):\n",
    "            ot = (\n",
    "                state_list[i][1]\n",
    "                @ (error_list[j].to_matrix().conj())\n",
    "                @ (error_list[k].to_matrix() @ state_list[i][0])\n",
    "            )\n",
    "            if ot != 0:\n",
    "                break\n",
    "        if ot != 0:\n",
    "            break\n",
    "    if ot == 0:\n",
    "        print(state_list[i][0].T)\n",
    "\n",
    "# problem, we don't find the expected solution |psi> = a|+++> + b|--->"
   ]
  },
  {
   "cell_type": "code",
   "execution_count": 12,
   "metadata": {},
   "outputs": [],
   "source": [
    "num_qubits = 4\n",
    "a, b, c, d, e, f, g, h, i, j, k, l, m, n, o, p = symbols(\n",
    "    \"a b c d e f g h i j k l m n o p\"\n",
    ")\n",
    "state_list = []\n",
    "\n",
    "for i in range(2 ** (2**num_qubits)):\n",
    "    hot_encode = bin(i)[2:].zfill(2**num_qubits)\n",
    "    # enforce weight at least 2\n",
    "    if hot_encode.count(\"1\") < 2:\n",
    "        continue\n",
    "    hot_encode = [int(x) for x in hot_encode]\n",
    "    # multiply binary string to get state\n",
    "    state = (\n",
    "        np.array([a, b, c, d, e, f, g, h, i, j, k, l, m, n, o, p]) * hot_encode\n",
    "    )\n",
    "    state = state.reshape(2**num_qubits, 1)\n",
    "    statet = state.conj().T\n",
    "    state_list.append((state, statet))"
   ]
  },
  {
   "cell_type": "code",
   "execution_count": 13,
   "metadata": {},
   "outputs": [
    {
     "name": "stderr",
     "output_type": "stream",
     "text": [
      "100%|██████████| 65519/65519 [27:21<00:00, 39.92it/s]\n"
     ]
    }
   ],
   "source": [
    "error_list = [\n",
    "    Pauli(\"IIII\"),\n",
    "    Pauli(\"IXII\"),\n",
    "    Pauli(\"IIXI\"),\n",
    "    Pauli(\"IIIX\"),\n",
    "    Pauli(\"ZIII\"),\n",
    "    Pauli(\"IZII\"),\n",
    "    Pauli(\"IIZI\"),\n",
    "    Pauli(\"IIIZ\"),\n",
    "]\n",
    "for i in tqdm(range(len(state_list))):\n",
    "    # want to check that <state| error_1 error_2 |state> = 0\n",
    "    # unless error_1 = error_2, then <state| error_1 error_1 |state> = 1\n",
    "    # if state satisfies this for all errors, print state\n",
    "    for j in range(len(error_list)):\n",
    "        for k in range(j + 1, len(error_list)):\n",
    "            ot = (\n",
    "                state_list[i][1]\n",
    "                @ (error_list[j].to_matrix().conj())\n",
    "                @ (error_list[k].to_matrix() @ state_list[i][0])\n",
    "            )\n",
    "            if ot != 0:\n",
    "                break\n",
    "        if ot != 0:\n",
    "            break\n",
    "    if ot == 0:\n",
    "        print(state_list[i][0].T)"
   ]
  }
 ],
 "metadata": {
  "kernelspec": {
   "display_name": ".venv",
   "language": "python",
   "name": "python3"
  },
  "language_info": {
   "codemirror_mode": {
    "name": "ipython",
    "version": 3
   },
   "file_extension": ".py",
   "mimetype": "text/x-python",
   "name": "python",
   "nbconvert_exporter": "python",
   "pygments_lexer": "ipython3",
   "version": "3.9.17"
  },
  "orig_nbformat": 4
 },
 "nbformat": 4,
 "nbformat_minor": 2
}
