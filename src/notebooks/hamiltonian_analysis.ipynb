{
  "cells": [
    {
      "cell_type": "markdown",
      "metadata": {},
      "source": [
        "Notebook for deriving the SNAIL-coupling interaction terms. Traditionally, after RWA we should be left with only the conversion (iswap) interaction. We are instead going to keep some of the slow-rotating terms and include them as coherent sources of error. Ultimately, we need to be able to describe the effective interaction rate of these terms instead of assuming they are small enough to be perfectly neglible.\n",
        "Primary reference: Chao Thesis (Sec 2.1), most of the setup is taken directly from the thesis, skipping some of the derivations (e.g. Bogoliubov transformation) which we don't need to reproduce here."
      ]
    },
    {
      "cell_type": "markdown",
      "metadata": {},
      "source": [
        "Outline of paper:\n",
        "\n",
        "0. Motivation, hardware crowding + connectivity (SWAPs, high-fidelity 2Q gates, etc) -> transition into (1) SNAIL-coupling hardware architecture co-design. this paper is spiritual successor to corral paper, so we can talk about the short-comings of that paper here, ie how do we know what is the right size corral to use (previously we guesstimated)? More- in the first paper we showed that dense connectivity is better at reducing SWAPs (let's try again with better SWAP routing algorithms) but more importantly, we didn't account for the fact that we can't keep gate fidelities perfectly ideal. Now we have better analysis to make sure we are making appropriate tradeoff considerations)\n",
        "1. Derive physics-informed frequency constraints\n",
        "   - expand terms, variation of RWA (keep some of the slow non-zero terms)\n",
        "   - stark shift, kerr shift, coupling theory, etc\n",
        "2. Frequency allocation problem (classical CS + regularly appears in engineering real-world network e.g.), constraint satisfaction, graph coloring (?), linear programming, etc\n",
        "3. spectator errors as coherent errors (errors that propagate outside the module can be cancelled out by the other module's SNAIL with a compensation pulse :))\n",
        "4. bring full circle to topology/connectivity problem\n",
        "   - feasibile architecture designs with reasonable fab requirements that maintain high fidelity 2Q gates\n",
        "   - how can we push to increasingly high connected systems (or do we even want to?)\n",
        "   - can look at these thresholds by incorporting incoherent lifetime errors, now with tradeoffs between slower gates (ie DRAG style compensation or more plainly by narrowing frequency spectrum)\n",
        "  \n"
      ]
    },
    {
      "cell_type": "markdown",
      "metadata": {},
      "source": [
        "Begin with non-interacting components, each with linear and nonlinear terms.\n",
        "Define a module with a single SNAIL mode and $i$ transmons.\n",
        "Note to self: missing $\\hbar$ everywhere :(\n",
        "\n",
        "Linear terms:\n",
        "$$\n",
        "H_{0L} = \\omega_s s^\\dagger s + \\sum_{i} \\omega_i q_i^\\dagger q_i\n",
        "$$\n",
        "\n",
        "Nonlinear terms:\n",
        "$$\n",
        "H_{NL} = g_3 (s^\\dagger + s)^3 + \\sum_{i} \\frac{\\alpha_i}{12}(q_i^\\dagger + q_i)^4\n",
        "$$\n",
        "\n",
        "Coupling, note that because we are assuming $g_{qs} >> g_{ij}$, which says qubits are strongly coupled to the SNAIL mode, but qubits are weakly coupled to each other, then we can remove the cross terms between qubits and only consider the qubit-SNAIL coupling terms. This is a reasonable assumption because the tube-designs of the transmons means the electric-fields will be localized. Second, we remove (fast oscillating) non-photon number preserving terms $s^\\dagger q^\\dagger + s q$. We could justify this later when we get to RWA step, but for conveince in handling expressions with many terms we know to get rid of these at the start.\n",
        "\n",
        "$$\n",
        "\\begin{align*}\n",
        "H_{c} &= \\sum_{q} g_{sq} (s^\\dagger + s)(q^\\dagger + q)  + \\sum_{i,j} g_{ij} (q_i^\\dagger + q_i)(q_j^\\dagger + q_j) \\\\\n",
        "    &\\approx \\sum_{q} g_{sq} (s^\\dagger q + s q^\\dagger)\n",
        "\\end{align*}\n",
        "$$"
      ]
    },
    {
      "cell_type": "markdown",
      "metadata": {
        "vscode": {
          "languageId": "plaintext"
        }
      },
      "source": [
        "\n",
        "Note that in the extended version, which includes nearest-neighbor SNAIL modules we actually have 3 more types of terms. 1. original module snail to neighbor snail coupling, which we think should be small but this is likely the most imporant term to include if trying to be more accurate. 2. module qubit to neighbor qubit, this is a weak term, not only have we already said it was  fair to consider module-qubit to other module qubit couplings to be a neglible term, this will be even more true if they are in separate modules, depending on how you notate the qubit indices you would need to only include terms that are qubits in the nieghbor module that are unique to neighbor (obviously dont want to include qubit-qubit for the qubit that is shared between the two modules), 3. the neighbor modules qubit-snail coupling. this ends up being identical to terms we already are keeping from the original module proper, the difference being is that the neighbor snail is not going to be pumped on - again being careful with qubit indices, probably worth separating this into cases where the neighbor modules qubit-snail are/are not with a qubit that is also in the original module. this will be what differentiates between lambda^4 and lambda^6 terms. recall, if we end up keeping snail-snail terms then you would want mutual hybridization to take place through 2 different routes, one is qubit-snail-qubit-snail alternating, and if snail-snail is big enough you could take shortcut and do qubit-snail-snail qubit. these are two ways you could have qubitN-qubitM coupling terms.\n",
        "\n",
        "\n",
        "Notation should be improved, but I am using m to denote pumped module, and n to denote set of neighboring modules.\n",
        "$$\n",
        "\\begin{align*}\n",
        "H_{c} &= \\sum_{i_m} g_{s_m, q_{i_m}} (s_m^\\dagger q_{i_m} + s_m q_{i_m}^\\dagger)\\\\\n",
        "&+ \\sum_{i_m, j_m} g_{q_{i_m}, q_{j_m}} (q_{i_m}^\\dagger q_{j_m} + q_{i_m} q_{j_m}^\\dagger)\\\\\n",
        "&+ \\sum_{n} g_{s_m, s_n} (s_m^\\dagger s_{n} + s_m s_{n}^\\dagger)\\\\\n",
        "&+ \\sum_{n} \\sum_{i_n} g_{s_n, q_{i_n}} (s_n^\\dagger q_{i_n} + s_n q_{i_n}^\\dagger) \\\\\n",
        "&+ \\sum_{n} \\sum_{i_n, j_n} g_{q_{i_n}, q_{j_n}} (q_{i_n}^\\dagger q_{j_n} + q_{i_n} q_{j_n}^\\dagger)\\\\\n",
        "&+ \\ldots\n",
        "\\end{align*}\n",
        "$$\n",
        "and this could continue with coupling terms, i.e. module snail- neighbor qubits, and second nearest neighbors of course, but we are already stretching the total terms worth considering.\n",
        "\n",
        "$$\n",
        "\\begin{align*}\n",
        "H_{c} &\\approx \\sum_{i_m} g_{s_m, q_{i_m}} (s_m^\\dagger q_{i_m} + s_m q_{i_m}^\\dagger)\\\\\n",
        "&+ \\sum_{n} \\sum_{i_n} g_{s_n, q_{i_n}} (s_n^\\dagger q_{i_n} + s_n q_{i_n}^\\dagger)\n",
        "\\end{align*}\n",
        "$$\n",
        "we have to be very careful with this notation - because the set of qubits in m and n are not disjoint, we have qubits that overlapping being in the driven module that are also in the neighbor modules. I need to revise this notation - but maybe it becomes easier to do once we get some crossterms because we can sort them by lambda^2 (driven module only), lambda^4(half-half), lambda^6 (neighbor module only)\n",
        "\n",
        "reminder - we also don't want to be overly relying on small terms here either because we have already made an approximation at the very initial step by assuming the SNAIL and transmons only have 3rd and 4th order non-linearity terms. something to consider in the hierachy of approximations, ie that focusing too much on the small terms is bad if those terms come secondary to approximations we have already forgotten about."
      ]
    },
    {
      "cell_type": "markdown",
      "metadata": {},
      "source": [
        "Next, diagonalization using Bogoliubov transformation (there is a lot of meat here in Chao thesis about using perturbative methods in dispersive reigme, Sec.2.1.1). The goal of this transformation is to use the linear terms and couplings to describe a dressed linear system. There exists some operator $B$,\n",
        "$$\n",
        "H_D = B^\\dagger H_{0L} B\n",
        "$$\n",
        "such that when solved for, diagonalizes the linear-terms\n",
        "$$\n",
        "\\tilde{H}_{0L} = \\tilde{\\omega}_s s^\\dagger s + \\sum_{i} \\tilde{\\omega}_i q_i^\\dagger q_i\n",
        "$$\n",
        "which is then also used to transform the non-linear terms:\n",
        "$$\n",
        "\\tilde{H}_{NL} = B H_{NL} B^\\dagger\n",
        "$$\n",
        "where (be very careful! Is '~' actually there or have I just forgot to include it?)\n",
        "$$\n",
        "\\tilde{\\omega}_x = \\omega_x - \\sum_y \\lambda_{xy}g_{xy}\n",
        "$$\n",
        "and (be careful about consistency with $\\Delta$ and negative sign!)\n",
        "$$\n",
        "\\lambda_{xy} = \\left (\\frac{g}{\\Delta}\\right )_{xy}\n",
        "$$"
      ]
    },
    {
      "cell_type": "markdown",
      "metadata": {},
      "source": [
        "Then we will introduce an external drive pump on the SNAIL\n",
        "$$\n",
        "H_{\\text{pump}} = \\left [ \\varepsilon(t) e^{-i \\omega_p t} - \\varepsilon^*(t) e^{+i \\omega_p t} \\right ](s^\\dagger - s)\n",
        "$$\n",
        "\n",
        "Because we want to move the pump terms into the non-linearity, we perform a displacement transformation on the SNAIL mode,\n",
        "$$\n",
        "U_D = \\exp{(z s^\\dagger - z^* s)} \\\\\n",
        "H_D = U_D H U_D^\\dagger + i \\dot{U_D} U_D^\\dagger\n",
        "$$,\n",
        "\n",
        "by defining \n",
        "$$\n",
        "z = \\frac{\\varepsilon(t)}{\\omega_s - \\omega_p} e^{-i \\omega_p t} - \\frac{\\varepsilon^*(t)}{\\omega_s + \\omega_p} e^{+i \\omega_p t}\n",
        "$$\n",
        "\n",
        "which gives us new snail mode operators that include the pump terms\n",
        "$$\n",
        "\\begin{align*}\n",
        "&\\tilde{s} = U_D s U_D^\\dagger = s - z \\\\\n",
        "&\\tilde{s}^\\dagger = U_D s^\\dagger U_D^\\dagger = s^\\dagger - z^*\n",
        "\\end{align*}\n",
        "$$\n"
      ]
    },
    {
      "cell_type": "markdown",
      "metadata": {},
      "source": [
        "Put everything together, and we need to do some simplifications (for simplicity, I drop $\\lambda_{ij}$ qubit-qubit hybridization terms here, but if we deem it important can look at this more carefully)\n",
        "$$\n",
        "\\begin{align*}\n",
        "H_D &= \\tilde{\\omega}_s s^\\dagger s + \\sum_{i} \\tilde{\\omega}_i q_i^\\dagger q_i \\\\\n",
        "& + g_3 \\left (s - z + s^\\dagger - z^* + \\sum_{i} \\lambda_{si} (q_i^\\dagger + q_i) \\right )^3 \\\\\n",
        "& + \\sum_{i} \\frac{\\alpha_i}{12}\\left (q_i^\\dagger + q_i - \\lambda_{si}(s - z + s^\\dagger - z^*) \\right )^4 \\\\\n",
        "\\end{align*}\n",
        "$$\n",
        "\n",
        "Introduce \n",
        "$$\n",
        "\\begin{align*}\n",
        "\\eta = \\frac{2 \\omega_p \\varepsilon(t)}{\\omega_p^2 - \\omega_s^2}\\\\\n",
        "\\left [ -z = \\eta e^{-i \\omega_p t} \\right ]\n",
        "\\end{align*}\n",
        "$$\n",
        "\n",
        "Then we can write the Hamiltonian in the form with the pump terms included in the SNAIL non-linearity\n",
        "$$\n",
        "\\begin{align*}\n",
        "H_D &= \\tilde{\\omega}_s s^\\dagger s + \\sum_{i} \\tilde{\\omega}_i q_i^\\dagger q_i \\\\\n",
        "&+ g_3 \\left (s + s^\\dagger + \\eta e^{-i \\omega_p t} + \\eta^* e^{i \\omega_p t} + \\sum_{i} \\lambda_{si} (q_i^\\dagger + q_i) \\right )^3 \\\\\n",
        "&+ \\sum_{i} \\frac{\\alpha_i}{12} \\left (q_i^\\dagger + q_i + \\lambda_{si}(s + s^\\dagger + \\eta e^{-i \\omega_p t} + \\eta^* e^{i \\omega_p t}) \\right )^4\n",
        "\\end{align*}\n",
        "$$\n"
      ]
    },
    {
      "cell_type": "markdown",
      "metadata": {},
      "source": [
        "The final transformation is to move to the interaction-picture (rotating-frame),\n",
        "$$\n",
        "U_R = \\exp{\\left (it (\\tilde{\\omega}_s s^\\dagger s + \\sum_i \\tilde{\\omega}_{q_i} q_i^\\dagger q_i)\\right )}\\\\\n",
        "\\tilde{H}_I = U_R H_D U_R^\\dagger + i \\dot{U_R}U_{R}^\\dagger\n",
        "$$\n",
        "which should have the effect of removing the linear terms $H_{0L}$ using this substitution over $s$, $q_i$:\n",
        "$$\n",
        "\\tilde{a} = U_R a U_R^\\dagger = a e^{-i \\tilde{\\omega}_a t}\n",
        "$$\n",
        "(wait why is this true? what happens to terms like $ss^\\dagger$?)\n",
        "\n",
        "\n",
        "thus we are left with \n",
        "$$\n",
        "\\begin{align*}\n",
        "\\tilde{H}_{NL} &= U_R H_{NL} U_R^\\dagger \\\\\n",
        "\n",
        "&= g_3 \\left (s e^{-i \\tilde{\\omega}_s t} + s^\\dagger e^{i \\tilde{\\omega}_s t} + \\eta e^{-i \\omega_p t} + \\eta^* e^{i \\omega_p t} + \\sum_{i} \\lambda_{si} (q_i^\\dagger e^{i \\tilde{\\omega}_{q_i} t} + q_i e^{-i \\tilde{\\omega}_{q_i} t}) \\right )^3 \\\\\n",
        "\n",
        "&+ \\sum_{i} \\frac{\\alpha_i}{12} \\left ( q_i^\\dagger e^{i \\tilde{\\omega}_{q_i} t} + q_i e^{-i \\tilde{\\omega}_{q_i} t} - \\lambda_{si}(s e^{-i \\tilde{\\omega}_s t} + s^\\dagger e^{i \\tilde{\\omega}_s t} + \\eta e^{-i \\omega_p t} + \\eta^* e^{i \\omega_p t}) \\right )^4\n",
        "\\end{align*}\n",
        "$$\n",
        "\n",
        "from here we can identity 4 types of terms that will appear following expansion: snail/pump-self, snail/pump-qubit, qubit-self, qubit-snail/pump. recall, we choose to eliminate qubit-qubit like terms because $g_{qs} >> g_{ij}$\n",
        "\n",
        "$$\n",
        "\\begin{align*}\n",
        "\\tilde{H}_I &= g_3 \\left (s e^{-i \\tilde{\\omega}_s t} + s^\\dagger e^{i \\tilde{\\omega}_s t} + \\eta e^{-i \\omega_p t} + \\eta^* e^{i \\omega_p t} + \\sum_{i} \\lambda_{si} (q_i^\\dagger e^{i \\tilde{\\omega}_{q_i} t} + q_i e^{-i \\tilde{\\omega}_{q_i} t}) \\right )^3 \\\\\n",
        "\n",
        "&+ \\sum_{i} \\frac{\\alpha_i}{12} \\left ( q_i^\\dagger e^{i \\tilde{\\omega}_{q_i} t} + q_i e^{-i \\tilde{\\omega}_{q_i} t} - \\lambda_{si}(s e^{-i \\tilde{\\omega}_s t} + s^\\dagger e^{i \\tilde{\\omega}_s t} + \\eta e^{-i \\omega_p t} + \\eta^* e^{i \\omega_p t}) \\right )^4\n",
        "\\end{align*}\n",
        "$$\n"
      ]
    },
    {
      "cell_type": "markdown",
      "metadata": {},
      "source": [
        "Up to this point we have reproduced existing derivations. The final conventional step is to select a pump frequency, i.e. $\\omega_p = \\tilde{\\omega}_1 - \\tilde{\\omega}_2$, if we wanted a conversion-interaction between qubits 1 and 2. By substituting in this value for $\\omega_p$ we can simplify the phase-oscillating (complex exponentials) terms, followed by eliminating fast-oscillating terms (non-zero complex exponential) we get the expected $\\texttt{iSWAP}$:\n",
        "\n",
        "$$\n",
        "H_\\text{eff} = \\eta q_1 q_2^\\dagger e^0 + \\eta q_1 q_3^\\dagger e^{-i (\\tilde{\\omega}_1 - \\tilde{\\omega}_3)t} + \\eta q_2 q_3^\\dagger e^{-i (2 \\tilde{\\omega}_2 - \\tilde{\\omega}_1 - \\tilde{\\omega}_3)t} + \\ldots\n",
        "$$\n",
        "\n",
        "Because we are interested in domain of increasingly close interaction frequencies, as to create densely connected modules, we want to assume that the qubit and snail frequencies can be very close to each other. Therefore, we should keep some of the non-zero terms (e.g. $\\tilde{\\omega}_1 - \\tilde{\\omega}_3 \\approx 0$ but not $\\tilde{\\omega}_1 + \\tilde{\\omega}_3$). In other words, perform RWA as if $\\forall i, \\omega_s \\equiv \\omega_i$. The full expansion will give many terms, but we should expect to keep only some which look like $[\\eta q_i q_j^\\dagger, \\eta s q_i^\\dagger, \\eta s^\\dagger s]$ each with different effective rates. Of course, if done carefully, we should see the effective rates of all the terms that are normally removed at this step are small. "
      ]
    },
    {
      "cell_type": "markdown",
      "metadata": {},
      "source": []
    },
    {
      "cell_type": "markdown",
      "metadata": {},
      "source": []
    }
  ],
  "metadata": {
    "language_info": {
      "name": "python"
    }
  },
  "nbformat": 4,
  "nbformat_minor": 2
}
