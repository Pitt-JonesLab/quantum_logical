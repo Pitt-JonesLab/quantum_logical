{
 "cells": [
  {
   "cell_type": "code",
   "execution_count": 1,
   "metadata": {},
   "outputs": [],
   "source": [
    "import qutip as qt\n",
    "import numpy as np\n",
    "from quantum_logical.pulsesim import QuantumSystem, Pulse\n",
    "from quantum_logical.pulsesim.mode import QubitMode, SNAILMode, CavityMode\n",
    "from quantum_logical.pulsesim.build_hamiltonian import Build_hamiltonian\n",
    "import matplotlib.pyplot as plt\n",
    "from quantum_logical.channel import AmplitudeDamping, PhaseDamping\n",
    "from quantum_logical.trotter import TrotterGroup\n",
    "from quantum_logical.interaction import ConversionGainInteraction\n",
    "from qutip import Options\n",
    "from tqdm import tqdm\n",
    "from progressbar import progressbar\n",
    "from threading import Thread\n",
    "from multiprocessing.pool import Pool, ThreadPool\n",
    "from numpy.linalg import eig\n",
    "from quantum_logical.creating_operators import Creating_operators\n",
    "from quantum_logical.operators import selective_destroy\n",
    "\n",
    "# opts = Options(nsteps=1e6, atol=1e-8, rtol=1e-6)\n",
    "# p_bar = qt.ui.TextProgressBar()  # None\n",
    "opts = {\"nsteps\": 1e6, \"atol\": 1e-8, \"rtol\": 1e-6, \"progress_bar\": \"text\"}"
   ]
  },
  {
   "cell_type": "code",
   "execution_count": 2,
   "metadata": {},
   "outputs": [
    {
     "ename": "TypeError",
     "evalue": "must be real number, not Qobj",
     "output_type": "error",
     "traceback": [
      "\u001b[1;31m---------------------------------------------------------------------------\u001b[0m",
      "\u001b[1;31mTypeError\u001b[0m                                 Traceback (most recent call last)",
      "Cell \u001b[1;32mIn[2], line 9\u001b[0m\n\u001b[0;32m      7\u001b[0m amp_damp_channel \u001b[38;5;241m=\u001b[39m AmplitudeDamping(T1, num_qubits\u001b[38;5;241m=\u001b[39mN, hilbert_space_dim\u001b[38;5;241m=\u001b[39mdim)\n\u001b[0;32m      8\u001b[0m phase_damp_channel \u001b[38;5;241m=\u001b[39m PhaseDamping(T1, T2, num_qubits\u001b[38;5;241m=\u001b[39mN, hilbert_space_dim\u001b[38;5;241m=\u001b[39mdim)\n\u001b[1;32m----> 9\u001b[0m trotter \u001b[38;5;241m=\u001b[39m \u001b[43mTrotterGroup\u001b[49m\u001b[43m(\u001b[49m\n\u001b[0;32m     10\u001b[0m \u001b[43m    \u001b[49m\u001b[43mcontinuous_operators\u001b[49m\u001b[38;5;241;43m=\u001b[39;49m\u001b[43m[\u001b[49m\u001b[43mamp_damp_channel\u001b[49m\u001b[43m,\u001b[49m\u001b[43m \u001b[49m\u001b[43mphase_damp_channel\u001b[49m\u001b[43m]\u001b[49m\u001b[43m,\u001b[49m\n\u001b[0;32m     11\u001b[0m \u001b[43m    \u001b[49m\u001b[43mtrotter_dt\u001b[49m\u001b[38;5;241;43m=\u001b[39;49m\u001b[43mtrotter_dt\u001b[49m\u001b[43m,\u001b[49m\n\u001b[0;32m     12\u001b[0m \u001b[43m)\u001b[49m\n",
      "File \u001b[1;32m~\\Desktop\\Github\\quantum_logical\\src\\quantum_logical\\trotter.py:26\u001b[0m, in \u001b[0;36mTrotterGroup.__init__\u001b[1;34m(self, continuous_operators, trotter_dt)\u001b[0m\n\u001b[0;32m     24\u001b[0m \u001b[38;5;28mself\u001b[39m\u001b[38;5;241m.\u001b[39mcontinuous_operators \u001b[38;5;241m=\u001b[39m []\n\u001b[0;32m     25\u001b[0m \u001b[38;5;28;01mfor\u001b[39;00m op \u001b[38;5;129;01min\u001b[39;00m continuous_operators:\n\u001b[1;32m---> 26\u001b[0m     \u001b[38;5;28;43mself\u001b[39;49m\u001b[38;5;241;43m.\u001b[39;49m\u001b[43m_compose\u001b[49m\u001b[43m(\u001b[49m\u001b[43mop\u001b[49m\u001b[43m)\u001b[49m\n",
      "File \u001b[1;32m~\\Desktop\\Github\\quantum_logical\\src\\quantum_logical\\trotter.py:36\u001b[0m, in \u001b[0;36mTrotterGroup._compose\u001b[1;34m(self, operator)\u001b[0m\n\u001b[0;32m     34\u001b[0m \u001b[38;5;28;01melif\u001b[39;00m \u001b[38;5;28misinstance\u001b[39m(operator, Channel):\n\u001b[0;32m     35\u001b[0m     \u001b[38;5;28;01mif\u001b[39;00m operator\u001b[38;5;241m.\u001b[39m_trotter_dt \u001b[38;5;241m!=\u001b[39m \u001b[38;5;28mself\u001b[39m\u001b[38;5;241m.\u001b[39mtrotter_dt:\n\u001b[1;32m---> 36\u001b[0m         \u001b[43moperator\u001b[49m\u001b[38;5;241;43m.\u001b[39;49m\u001b[43mset_trotter_dt\u001b[49m\u001b[43m(\u001b[49m\u001b[38;5;28;43mself\u001b[39;49m\u001b[38;5;241;43m.\u001b[39;49m\u001b[43mtrotter_dt\u001b[49m\u001b[43m)\u001b[49m\n\u001b[0;32m     37\u001b[0m     \u001b[38;5;28mself\u001b[39m\u001b[38;5;241m.\u001b[39mcontinuous_operators\u001b[38;5;241m.\u001b[39mappend(operator)\n\u001b[0;32m     38\u001b[0m \u001b[38;5;28;01melif\u001b[39;00m \u001b[38;5;28misinstance\u001b[39m(operator, Qobj) \u001b[38;5;129;01mand\u001b[39;00m operator\u001b[38;5;241m.\u001b[39misunitary:\n",
      "File \u001b[1;32m~\\Desktop\\Github\\quantum_logical\\src\\quantum_logical\\channel.py:77\u001b[0m, in \u001b[0;36mChannel.set_trotter_dt\u001b[1;34m(self, trotter_dt)\u001b[0m\n\u001b[0;32m     75\u001b[0m \u001b[38;5;250m\u001b[39m\u001b[38;5;124;03m\"\"\"Set the trotter step size and initialize Kraus operators.\"\"\"\u001b[39;00m\n\u001b[0;32m     76\u001b[0m \u001b[38;5;28mself\u001b[39m\u001b[38;5;241m.\u001b[39m_trotter_dt \u001b[38;5;241m=\u001b[39m trotter_dt\n\u001b[1;32m---> 77\u001b[0m \u001b[38;5;28mself\u001b[39m\u001b[38;5;241m.\u001b[39m_E \u001b[38;5;241m=\u001b[39m \u001b[38;5;28;43mself\u001b[39;49m\u001b[38;5;241;43m.\u001b[39;49m\u001b[43m_init_kraus_operators\u001b[49m\u001b[43m(\u001b[49m\u001b[43m)\u001b[49m\n\u001b[0;32m     78\u001b[0m \u001b[38;5;28;01mreturn\u001b[39;00m \u001b[38;5;28;01mTrue\u001b[39;00m\n",
      "File \u001b[1;32m~\\Desktop\\Github\\quantum_logical\\src\\quantum_logical\\channel.py:89\u001b[0m, in \u001b[0;36mChannel._init_kraus_operators\u001b[1;34m(self)\u001b[0m\n\u001b[0;32m     87\u001b[0m     qubit_operators\u001b[38;5;241m.\u001b[39mappend(\u001b[38;5;28mself\u001b[39m\u001b[38;5;241m.\u001b[39m_create_single_qubit_operators(\u001b[38;5;241m*\u001b[39m\u001b[38;5;241m*\u001b[39mqubit_params))\n\u001b[0;32m     88\u001b[0m \u001b[38;5;28mself\u001b[39m\u001b[38;5;241m.\u001b[39m_E \u001b[38;5;241m=\u001b[39m \u001b[38;5;28mself\u001b[39m\u001b[38;5;241m.\u001b[39m_extend_kraus_operators_to_multiple(qubit_operators)\n\u001b[1;32m---> 89\u001b[0m \u001b[38;5;28mself\u001b[39m\u001b[38;5;241m.\u001b[39m_E \u001b[38;5;241m=\u001b[39m [np\u001b[38;5;241m.\u001b[39marray(E, dtype\u001b[38;5;241m=\u001b[39m\u001b[38;5;28mcomplex\u001b[39m) \u001b[38;5;28;01mfor\u001b[39;00m E \u001b[38;5;129;01min\u001b[39;00m \u001b[38;5;28mself\u001b[39m\u001b[38;5;241m.\u001b[39m_E]\n\u001b[0;32m     90\u001b[0m \u001b[38;5;28mself\u001b[39m\u001b[38;5;241m.\u001b[39m_verify_completeness()\n\u001b[0;32m     91\u001b[0m \u001b[38;5;28;01mreturn\u001b[39;00m \u001b[38;5;28mself\u001b[39m\u001b[38;5;241m.\u001b[39m_E\n",
      "File \u001b[1;32m~\\Desktop\\Github\\quantum_logical\\src\\quantum_logical\\channel.py:89\u001b[0m, in \u001b[0;36m<listcomp>\u001b[1;34m(.0)\u001b[0m\n\u001b[0;32m     87\u001b[0m     qubit_operators\u001b[38;5;241m.\u001b[39mappend(\u001b[38;5;28mself\u001b[39m\u001b[38;5;241m.\u001b[39m_create_single_qubit_operators(\u001b[38;5;241m*\u001b[39m\u001b[38;5;241m*\u001b[39mqubit_params))\n\u001b[0;32m     88\u001b[0m \u001b[38;5;28mself\u001b[39m\u001b[38;5;241m.\u001b[39m_E \u001b[38;5;241m=\u001b[39m \u001b[38;5;28mself\u001b[39m\u001b[38;5;241m.\u001b[39m_extend_kraus_operators_to_multiple(qubit_operators)\n\u001b[1;32m---> 89\u001b[0m \u001b[38;5;28mself\u001b[39m\u001b[38;5;241m.\u001b[39m_E \u001b[38;5;241m=\u001b[39m [\u001b[43mnp\u001b[49m\u001b[38;5;241;43m.\u001b[39;49m\u001b[43marray\u001b[49m\u001b[43m(\u001b[49m\u001b[43mE\u001b[49m\u001b[43m,\u001b[49m\u001b[43m \u001b[49m\u001b[43mdtype\u001b[49m\u001b[38;5;241;43m=\u001b[39;49m\u001b[38;5;28;43mcomplex\u001b[39;49m\u001b[43m)\u001b[49m \u001b[38;5;28;01mfor\u001b[39;00m E \u001b[38;5;129;01min\u001b[39;00m \u001b[38;5;28mself\u001b[39m\u001b[38;5;241m.\u001b[39m_E]\n\u001b[0;32m     90\u001b[0m \u001b[38;5;28mself\u001b[39m\u001b[38;5;241m.\u001b[39m_verify_completeness()\n\u001b[0;32m     91\u001b[0m \u001b[38;5;28;01mreturn\u001b[39;00m \u001b[38;5;28mself\u001b[39m\u001b[38;5;241m.\u001b[39m_E\n",
      "\u001b[1;31mTypeError\u001b[0m: must be real number, not Qobj"
     ]
    }
   ],
   "source": [
    "T1 = 1\n",
    "T2 = 1\n",
    "N = 2\n",
    "dim = 2\n",
    "trotter_dt = 20\n",
    "psi0 = qt.tensor(qt.basis(dim, 1), qt.basis(dim, 0))\n",
    "amp_damp_channel = AmplitudeDamping(T1, num_qubits=N, hilbert_space_dim=dim)\n",
    "phase_damp_channel = PhaseDamping(T1, T2, num_qubits=N, hilbert_space_dim=dim)\n",
    "trotter = TrotterGroup(\n",
    "    continuous_operators=[amp_damp_channel, phase_damp_channel],\n",
    "    trotter_dt=trotter_dt,\n",
    ")\n"
   ]
  },
  {
   "cell_type": "code",
   "execution_count": null,
   "metadata": {},
   "outputs": [],
   "source": []
  }
 ],
 "metadata": {
  "kernelspec": {
   "display_name": "venv",
   "language": "python",
   "name": "python3"
  },
  "language_info": {
   "codemirror_mode": {
    "name": "ipython",
    "version": 3
   },
   "file_extension": ".py",
   "mimetype": "text/x-python",
   "name": "python",
   "nbconvert_exporter": "python",
   "pygments_lexer": "ipython3",
   "version": "3.9.13"
  }
 },
 "nbformat": 4,
 "nbformat_minor": 2
}
