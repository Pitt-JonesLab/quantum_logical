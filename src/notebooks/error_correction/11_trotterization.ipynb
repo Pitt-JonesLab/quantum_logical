{
 "cells": [
  {
   "cell_type": "code",
   "execution_count": 20,
   "metadata": {},
   "outputs": [],
   "source": [
    "import qutip as qt\n",
    "import numpy as np\n",
    "from quantum_logical.pulsesim import QuantumSystem, Pulse\n",
    "from quantum_logical.pulsesim.mode import QubitMode, SNAILMode, CavityMode\n",
    "from quantum_logical.pulsesim.build_hamiltonian import Build_hamiltonian\n",
    "import matplotlib.pyplot as plt\n",
    "from quantum_logical.channel import AmplitudeDamping, PhaseDamping\n",
    "from quantum_logical.trotter import TrotterGroup\n",
    "from quantum_logical.interaction import ConversionGainInteraction\n",
    "from qutip import Options\n",
    "from tqdm import tqdm\n",
    "from progressbar import progressbar\n",
    "from threading import Thread\n",
    "from multiprocessing.pool import Pool, ThreadPool\n",
    "from numpy.linalg import eig\n",
    "from quantum_logical.creating_operators import Creating_operators\n",
    "from quantum_logical.operators import selective_destroy\n",
    "\n",
    "# opts = Options(nsteps=1e6, atol=1e-8, rtol=1e-6)\n",
    "# p_bar = qt.ui.TextProgressBar()  # None\n",
    "opts = {\"nsteps\": 1e6, \"atol\": 1e-8, \"rtol\": 1e-6, \"progress_bar\": \"text\"}"
   ]
  },
  {
   "cell_type": "code",
   "execution_count": 21,
   "metadata": {},
   "outputs": [
    {
     "data": {
      "text/latex": [
       "Quantum object: dims=[[3, 3], [3, 3]], shape=(9, 9), type='oper', dtype=Dense, isherm=True$$\\left(\\begin{array}{cc}0 & 0 & 0 & 0 & 0 & 0 & 0 & 0 & 0\\\\0 & 0 & 0 & 0 & 0 & 0 & 0 & 0 & 0\\\\0 & 0 & 0 & 0 & 0 & 0 & 0 & 0 & 0\\\\0 & 0 & 0 & 0 & 0 & 0 & 0 & 0 & 0\\\\0 & 0 & 0 & 0 & 0 & 0 & 0 & 0 & 0\\\\0 & 0 & 0 & 0 & 0 & 0 & 0 & 0 & 0\\\\0 & 0 & 0 & 0 & 0 & 0 & 1 & 0 & 0\\\\0 & 0 & 0 & 0 & 0 & 0 & 0 & 0 & 0\\\\0 & 0 & 0 & 0 & 0 & 0 & 0 & 0 & 0\\end{array}\\right)$$"
      ],
      "text/plain": [
       "Quantum object: dims=[[3, 3], [3, 3]], shape=(9, 9), type='oper', dtype=Dense, isherm=True\n",
       "Qobj data =\n",
       "[[0. 0. 0. 0. 0. 0. 0. 0. 0.]\n",
       " [0. 0. 0. 0. 0. 0. 0. 0. 0.]\n",
       " [0. 0. 0. 0. 0. 0. 0. 0. 0.]\n",
       " [0. 0. 0. 0. 0. 0. 0. 0. 0.]\n",
       " [0. 0. 0. 0. 0. 0. 0. 0. 0.]\n",
       " [0. 0. 0. 0. 0. 0. 0. 0. 0.]\n",
       " [0. 0. 0. 0. 0. 0. 1. 0. 0.]\n",
       " [0. 0. 0. 0. 0. 0. 0. 0. 0.]\n",
       " [0. 0. 0. 0. 0. 0. 0. 0. 0.]]"
      ]
     },
     "execution_count": 21,
     "metadata": {},
     "output_type": "execute_result"
    }
   ],
   "source": [
    "T1 = 80\n",
    "T2 = 1\n",
    "N = 2\n",
    "dim = 3\n",
    "trotter_dt = .02\n",
    "psi0 = qt.tensor(qt.basis(dim, 2), qt.basis(dim, 0))\n",
    "rho0 = psi0 * psi0.dag()\n",
    "amp_damp_channel = AmplitudeDamping(T1, num_qubits=N, hilbert_space_dim=dim)\n",
    "phase_damp_channel = PhaseDamping(T1, T2, num_qubits=N, hilbert_space_dim=dim)\n",
    "trotter = TrotterGroup(\n",
    "    continuous_operators=[amp_damp_channel, phase_damp_channel],\n",
    "    trotter_dt=trotter_dt,\n",
    ")\n",
    "\n",
    "\n",
    "qt.Qobj(amp_damp_channel._create_single_qubit_operators(T1=1)[1])\n",
    "rho0"
   ]
  },
  {
   "cell_type": "code",
   "execution_count": 22,
   "metadata": {},
   "outputs": [],
   "source": [
    "fund_ops_list = []\n",
    "H = Creating_operators(qubit_count=2, qubit_dim=3)\n",
    "fund_ops_list.append(H.create_ops_unconventional_annhilation(from_level=0, to_level=1))  # this is not necessary with the new addition for the operator \n",
    "fund_ops_list.append(H.create_ops_unconventional_annhilation(from_level=1, to_level=2))\n",
    "\n",
    "# # list of operators based on the fundamental single qubit operators \n",
    "# ops_list = []\n",
    "# ops_list.append(qt.tensor(fund_ops_list[0], fund_ops_list[1].dag()))\n",
    "# ops_list.append(qt.tensor(fund_ops_list[1], fund_ops_list[0].dag()))\n",
    "# ops_list.append(qt.tensor(fund_ops_list[1].dag(), fund_ops_list[0]))\n",
    "# ops_list.append(qt.tensor(fund_ops_list[0].dag(), fund_ops_list[1]))\n",
    "\n",
    "# list of operators based on the full dimension operators\n",
    "ops_list = []\n",
    "ops_list.append(H.creating_ops_full_dim(qubit1_from=1, qubit1_to=0, qubit2_from=1, qubit2_to=2))\n",
    "ops_list.append(H.creating_ops_full_dim(qubit1_from=2, qubit1_to=1, qubit2_from=0, qubit2_to=1))\n",
    "ops_list.append(H.creating_ops_full_dim(qubit1_from=1, qubit1_to=2, qubit2_from=1, qubit2_to=0))\n",
    "ops_list.append(H.creating_ops_full_dim(qubit1_from=0, qubit1_to=1, qubit2_from=2, qubit2_to=1))\n",
    "\n",
    "ops_list1 = []\n",
    "ops_list1.append(H.create_ops_unconventional_annhilation(from_level=1, to_level=0))\n",
    "ops_list1.append(H.create_ops_unconventional_annhilation(from_level=2, to_level=1))\n",
    "\n",
    "# this doesnt work yet but it is necessary for this to work\n",
    "# ops_list2 = []\n",
    "# ops_list1 = np.zeros((9,9), dtype=complex)\n",
    "# for i in range(len(ops_list)):\n",
    "#     for j in range(ops_list[i].shape[0]):\n",
    "#         for k in range(ops_list[i].shape[0]):\n",
    "#             ops_list1[j,k] = ops_list[i][j,k]\n",
    "#     ops_list2.append(ops_list1)\n",
    "\n",
    "# for i in range(len(ops_list2)):\n",
    "#     ops_list2[i] = qt.Qobj(ops_list2[i])\n",
    "\n",
    "# ops_list[0].shape[0]\n",
    "\n",
    "states = []\n",
    "xlist = []\n",
    "ylist = []\n",
    "proj = []"
   ]
  },
  {
   "cell_type": "code",
   "execution_count": 23,
   "metadata": {},
   "outputs": [
    {
     "data": {
      "text/latex": [
       "Quantum object: dims=[[9], [9]], shape=(9, 9), type='oper', dtype=Dense, isherm=True$$\\left(\\begin{array}{cc}1 & 0 & 0 & 0 & 0 & 0 & 0 & 0 & 0\\\\0 & 0 & 0 & 0 & 0 & 0 & 0 & 0 & 0\\\\0 & 0 & 0 & 0 & 0 & 0 & 0 & 0 & 0\\\\0 & 0 & 0 & 0 & 0 & 0 & 0 & 0 & 0\\\\0 & 0 & 0 & 0 & 0 & 0 & 0 & 0 & 0\\\\0 & 0 & 0 & 0 & 0 & 0 & 0 & 0 & 0\\\\0 & 0 & 0 & 0 & 0 & 0 & 0 & 0 & 0\\\\0 & 0 & 0 & 0 & 0 & 0 & 0 & 0 & 0\\\\0 & 0 & 0 & 0 & 0 & 0 & 0 & 0 & 0\\end{array}\\right)$$"
      ],
      "text/plain": [
       "Quantum object: dims=[[9], [9]], shape=(9, 9), type='oper', dtype=Dense, isherm=True\n",
       "Qobj data =\n",
       "[[1. 0. 0. 0. 0. 0. 0. 0. 0.]\n",
       " [0. 0. 0. 0. 0. 0. 0. 0. 0.]\n",
       " [0. 0. 0. 0. 0. 0. 0. 0. 0.]\n",
       " [0. 0. 0. 0. 0. 0. 0. 0. 0.]\n",
       " [0. 0. 0. 0. 0. 0. 0. 0. 0.]\n",
       " [0. 0. 0. 0. 0. 0. 0. 0. 0.]\n",
       " [0. 0. 0. 0. 0. 0. 0. 0. 0.]\n",
       " [0. 0. 0. 0. 0. 0. 0. 0. 0.]\n",
       " [0. 0. 0. 0. 0. 0. 0. 0. 0.]]"
      ]
     },
     "execution_count": 23,
     "metadata": {},
     "output_type": "execute_result"
    }
   ],
   "source": [
    "# create the projection operators and use them to break the results down \n",
    "for i in range(3):\n",
    "    for j in range(3):\n",
    "        proj.append(qt.tensor(qt.basis(dim, i), qt.basis(dim, j)) * qt.tensor(qt.basis(dim, i), qt.basis(dim, j)).dag())\n",
    "\n",
    "qt.Qobj(proj[0].full())"
   ]
  },
  {
   "cell_type": "code",
   "execution_count": 24,
   "metadata": {},
   "outputs": [
    {
     "data": {
      "text/latex": [
       "Quantum object: dims=[[9], [9]], shape=(9, 9), type='oper', dtype=Dense, isherm=True$$\\left(\\begin{array}{cc}1 & 0 & 0 & 0 & 0 & 0 & 0 & 0 & 0\\\\0 & 1 & 0 & 0 & 0 & 0 & 0 & 0 & 0\\\\0 & 0 & 1 & 0 & 0 & 0 & 0 & 0 & 0\\\\0 & 0 & 0 & 0 & 1 & 0 & 0 & 0 & 0\\\\0 & 0 & 0 & 1 & 0 & 0 & 0 & 0 & 0\\\\0 & 0 & 0 & 0 & 0 & 1 & 0 & 0 & 0\\\\0 & 0 & 0 & 0 & 0 & 0 & 1 & 0 & 0\\\\0 & 0 & 0 & 0 & 0 & 0 & 0 & 1 & 0\\\\0 & 0 & 0 & 0 & 0 & 0 & 0 & 0 & 1\\end{array}\\right)$$"
      ],
      "text/plain": [
       "Quantum object: dims=[[9], [9]], shape=(9, 9), type='oper', dtype=Dense, isherm=True\n",
       "Qobj data =\n",
       "[[1. 0. 0. 0. 0. 0. 0. 0. 0.]\n",
       " [0. 1. 0. 0. 0. 0. 0. 0. 0.]\n",
       " [0. 0. 1. 0. 0. 0. 0. 0. 0.]\n",
       " [0. 0. 0. 0. 1. 0. 0. 0. 0.]\n",
       " [0. 0. 0. 1. 0. 0. 0. 0. 0.]\n",
       " [0. 0. 0. 0. 0. 1. 0. 0. 0.]\n",
       " [0. 0. 0. 0. 0. 0. 1. 0. 0.]\n",
       " [0. 0. 0. 0. 0. 0. 0. 1. 0.]\n",
       " [0. 0. 0. 0. 0. 0. 0. 0. 1.]]"
      ]
     },
     "execution_count": 24,
     "metadata": {},
     "output_type": "execute_result"
    }
   ],
   "source": [
    "xnot = qt.tensor(H.not_gate(exchange_levels=[1,2]), qt.qeye(3))\n",
    "H.not_gate(exchange_levels=[1,2])\n",
    "# cnot = qt.tensor(qt.qeye(dim), H.not_gate(exchange_levels=[1,2]))\n",
    "cnot = H.cnot_op(control=1, targets = [0,1])\n",
    "cnot"
   ]
  },
  {
   "cell_type": "code",
   "execution_count": 25,
   "metadata": {},
   "outputs": [
    {
     "data": {
      "text/latex": [
       "Quantum object: dims=[[3, 3], [3, 3]], shape=(9, 9), type='oper', dtype=Dense, isherm=False$$\\left(\\begin{array}{cc}0.707 & 0 & 0 & 0 & -0.707j & 0 & 0 & 0 & 0\\\\0 & 0.707 & 0 & -0.707j & 0 & 0 & 0 & 0 & 0\\\\0 & 0 & 1 & 0 & 0 & 0 & 0 & 0 & 0\\\\0 & -0.707j & 0 & 0.707 & 0 & 0 & 0 & 0 & 0\\\\-0.707j & 0 & 0 & 0 & 0.707 & 0 & 0 & 0 & 0\\\\0 & 0 & 0 & 0 & 0 & 1 & 0 & 0 & 0\\\\0 & 0 & 0 & 0 & 0 & 0 & 1 & 0 & 0\\\\0 & 0 & 0 & 0 & 0 & 0 & 0 & 1 & 0\\\\0 & 0 & 0 & 0 & 0 & 0 & 0 & 0 & 1\\end{array}\\right)$$"
      ],
      "text/plain": [
       "Quantum object: dims=[[3, 3], [3, 3]], shape=(9, 9), type='oper', dtype=Dense, isherm=False\n",
       "Qobj data =\n",
       "[[0.70710678+0.j         0.        +0.j         0.        +0.j\n",
       "  0.        +0.j         0.        -0.70710678j 0.        +0.j\n",
       "  0.        +0.j         0.        +0.j         0.        +0.j        ]\n",
       " [0.        +0.j         0.70710678+0.j         0.        +0.j\n",
       "  0.        -0.70710678j 0.        +0.j         0.        +0.j\n",
       "  0.        +0.j         0.        +0.j         0.        +0.j        ]\n",
       " [0.        +0.j         0.        +0.j         1.        +0.j\n",
       "  0.        +0.j         0.        +0.j         0.        +0.j\n",
       "  0.        +0.j         0.        +0.j         0.        +0.j        ]\n",
       " [0.        +0.j         0.        -0.70710678j 0.        +0.j\n",
       "  0.70710678+0.j         0.        +0.j         0.        +0.j\n",
       "  0.        +0.j         0.        +0.j         0.        +0.j        ]\n",
       " [0.        -0.70710678j 0.        +0.j         0.        +0.j\n",
       "  0.        +0.j         0.70710678+0.j         0.        +0.j\n",
       "  0.        +0.j         0.        +0.j         0.        +0.j        ]\n",
       " [0.        +0.j         0.        +0.j         0.        +0.j\n",
       "  0.        +0.j         0.        +0.j         1.        +0.j\n",
       "  0.        +0.j         0.        +0.j         0.        +0.j        ]\n",
       " [0.        +0.j         0.        +0.j         0.        +0.j\n",
       "  0.        +0.j         0.        +0.j         0.        +0.j\n",
       "  1.        +0.j         0.        +0.j         0.        +0.j        ]\n",
       " [0.        +0.j         0.        +0.j         0.        +0.j\n",
       "  0.        +0.j         0.        +0.j         0.        +0.j\n",
       "  0.        +0.j         1.        +0.j         0.        +0.j        ]\n",
       " [0.        +0.j         0.        +0.j         0.        +0.j\n",
       "  0.        +0.j         0.        +0.j         0.        +0.j\n",
       "  0.        +0.j         0.        +0.j         1.        +0.j        ]]"
      ]
     },
     "execution_count": 25,
     "metadata": {},
     "output_type": "execute_result"
    }
   ],
   "source": [
    "# put in the target cnot \n",
    "# check that these operations give a cnot\n",
    "H_new = ConversionGainInteraction(gg=np.pi / 4, gc= np.pi / 4, transmon_levels=3)\n",
    "U_cnot_no_time = H_new.construct_U(1.0)\n",
    "# H_mine = (np.pi / 4) * qt.tensor(ops_list1[0], ops_list1[0].dag()) + (np.pi / 4) * qt.tensor(ops_list1[0], ops_list1[0]) + (np.pi / 4) * qt.tensor(ops_list1[0], ops_list1[0].dag()).dag() + (np.pi / 4) * qt.tensor(ops_list1[0], ops_list1[0]).dag()\n",
    "# U_mine = H.propagator(H=H_mine, T=1)\n",
    "# U_mine\n",
    "U_cnot_no_time"
   ]
  },
  {
   "cell_type": "code",
   "execution_count": 26,
   "metadata": {},
   "outputs": [
    {
     "data": {
      "text/latex": [
       "Quantum object: dims=[[3, 3], [3, 3]], shape=(9, 9), type='oper', dtype=Dense, isherm=True$$\\left(\\begin{array}{cc}0.145 & 0 & 0 & 0 & 0 & 0 & 0 & 0 & 0\\\\0 & 0 & 0 & 0 & 0 & 0 & 0 & 0 & 0\\\\0 & 0 & 0 & 0 & 0 & 0 & 0 & 0 & 0\\\\0 & 0 & 0 & 0.768 & 0 & 0 & 0.039j & 0 & 0\\\\0 & 0 & 0 & 0 & 0 & 0 & 0 & 0 & 0\\\\0 & 0 & 0 & 0 & 0 & 0 & 0 & 0 & 0\\\\0 & 0 & 0 & -0.039j & 0 & 0 & 0.087 & 0 & 0\\\\0 & 0 & 0 & 0 & 0 & 0 & 0 & 0 & 0\\\\0 & 0 & 0 & 0 & 0 & 0 & 0 & 0 & 0\\end{array}\\right)$$"
      ],
      "text/plain": [
       "Quantum object: dims=[[3, 3], [3, 3]], shape=(9, 9), type='oper', dtype=Dense, isherm=True\n",
       "Qobj data =\n",
       "[[1.44997847e-01+2.26841688e-19j 0.00000000e+00+0.00000000e+00j\n",
       "  0.00000000e+00+0.00000000e+00j 0.00000000e+00+0.00000000e+00j\n",
       "  0.00000000e+00+0.00000000e+00j 0.00000000e+00+0.00000000e+00j\n",
       "  0.00000000e+00+0.00000000e+00j 0.00000000e+00+0.00000000e+00j\n",
       "  0.00000000e+00+0.00000000e+00j]\n",
       " [0.00000000e+00+0.00000000e+00j 0.00000000e+00+0.00000000e+00j\n",
       "  0.00000000e+00+0.00000000e+00j 0.00000000e+00+0.00000000e+00j\n",
       "  0.00000000e+00+0.00000000e+00j 0.00000000e+00+0.00000000e+00j\n",
       "  0.00000000e+00+0.00000000e+00j 0.00000000e+00+0.00000000e+00j\n",
       "  0.00000000e+00+0.00000000e+00j]\n",
       " [0.00000000e+00+0.00000000e+00j 0.00000000e+00+0.00000000e+00j\n",
       "  0.00000000e+00+0.00000000e+00j 0.00000000e+00+0.00000000e+00j\n",
       "  0.00000000e+00+0.00000000e+00j 0.00000000e+00+0.00000000e+00j\n",
       "  0.00000000e+00+0.00000000e+00j 0.00000000e+00+0.00000000e+00j\n",
       "  0.00000000e+00+0.00000000e+00j]\n",
       " [0.00000000e+00+0.00000000e+00j 0.00000000e+00+0.00000000e+00j\n",
       "  0.00000000e+00+0.00000000e+00j 7.67672032e-01+1.91466603e-19j\n",
       "  0.00000000e+00+0.00000000e+00j 0.00000000e+00+0.00000000e+00j\n",
       "  3.82750575e-13+3.88923933e-02j 0.00000000e+00+0.00000000e+00j\n",
       "  0.00000000e+00+0.00000000e+00j]\n",
       " [0.00000000e+00+0.00000000e+00j 0.00000000e+00+0.00000000e+00j\n",
       "  0.00000000e+00+0.00000000e+00j 0.00000000e+00+0.00000000e+00j\n",
       "  0.00000000e+00+0.00000000e+00j 0.00000000e+00+0.00000000e+00j\n",
       "  0.00000000e+00+0.00000000e+00j 0.00000000e+00+0.00000000e+00j\n",
       "  0.00000000e+00+0.00000000e+00j]\n",
       " [0.00000000e+00+0.00000000e+00j 0.00000000e+00+0.00000000e+00j\n",
       "  0.00000000e+00+0.00000000e+00j 0.00000000e+00+0.00000000e+00j\n",
       "  0.00000000e+00+0.00000000e+00j 0.00000000e+00+0.00000000e+00j\n",
       "  0.00000000e+00+0.00000000e+00j 0.00000000e+00+0.00000000e+00j\n",
       "  0.00000000e+00+0.00000000e+00j]\n",
       " [0.00000000e+00+0.00000000e+00j 0.00000000e+00+0.00000000e+00j\n",
       "  0.00000000e+00+0.00000000e+00j 3.82750972e-13-3.88923933e-02j\n",
       "  0.00000000e+00+0.00000000e+00j 0.00000000e+00+0.00000000e+00j\n",
       "  8.73301216e-02-4.18308291e-19j 0.00000000e+00+0.00000000e+00j\n",
       "  0.00000000e+00+0.00000000e+00j]\n",
       " [0.00000000e+00+0.00000000e+00j 0.00000000e+00+0.00000000e+00j\n",
       "  0.00000000e+00+0.00000000e+00j 0.00000000e+00+0.00000000e+00j\n",
       "  0.00000000e+00+0.00000000e+00j 0.00000000e+00+0.00000000e+00j\n",
       "  0.00000000e+00+0.00000000e+00j 0.00000000e+00+0.00000000e+00j\n",
       "  0.00000000e+00+0.00000000e+00j]\n",
       " [0.00000000e+00+0.00000000e+00j 0.00000000e+00+0.00000000e+00j\n",
       "  0.00000000e+00+0.00000000e+00j 0.00000000e+00+0.00000000e+00j\n",
       "  0.00000000e+00+0.00000000e+00j 0.00000000e+00+0.00000000e+00j\n",
       "  0.00000000e+00+0.00000000e+00j 0.00000000e+00+0.00000000e+00j\n",
       "  0.00000000e+00+0.00000000e+00j]]"
      ]
     },
     "execution_count": 26,
     "metadata": {},
     "output_type": "execute_result"
    }
   ],
   "source": [
    "# states = []\n",
    "psi_after_xgate = trotter.apply(state=rho0, duration=50, discrete_unitary=xnot)\n",
    "# for i in range(len(proj)):\n",
    "#     val = proj[i].full()\n",
    "#     val_dag = val.dag()\n",
    "#     xlist.append(val * psi_after_xgate.full() * val_dag)\n",
    "# psi_after_xgate\n",
    "# for i in psi_after_xgate:\n",
    "#     for j in range(len(proj)):\n",
    "#         val = proj[i].full()\n",
    "#         val_dag = val.dag()\n",
    "psi_after_xgate[-1]"
   ]
  },
  {
   "cell_type": "code",
   "execution_count": 27,
   "metadata": {},
   "outputs": [
    {
     "data": {
      "text/latex": [
       "Quantum object: dims=[[3, 3], [3, 3]], shape=(9, 9), type='oper', dtype=Dense, isherm=True$$\\left(\\begin{array}{cc}0.707 & 0.134j & 0 & 0 & 0 & 0 & 0 & 0 & 0\\\\-0.134j & 0.085 & 0 & 0 & 0 & 0 & 0 & 0 & 0\\\\0 & 0 & 0 & 0 & 0 & 0 & 0 & 0 & 0\\\\0 & 0 & 0 & 0.087 & 0.057j & 0 & -0.002 & 0 & 0\\\\0 & 0 & 0 & -0.057j & 0.103 & 0 & 0.006j & 0 & 0\\\\0 & 0 & 0 & 0 & 0 & 0 & 0 & 0 & 0\\\\0 & 0 & 0 & -0.002 & -0.006j & 0 & 0.018 & 0 & 0\\\\0 & 0 & 0 & 0 & 0 & 0 & 0 & 0 & 0\\\\0 & 0 & 0 & 0 & 0 & 0 & 0 & 0 & 0\\end{array}\\right)$$"
      ],
      "text/plain": [
       "Quantum object: dims=[[3, 3], [3, 3]], shape=(9, 9), type='oper', dtype=Dense, isherm=True\n",
       "Qobj data =\n",
       "[[ 7.06879356e-01+7.32039773e-20j -1.36096085e-13+1.33560189e-01j\n",
       "   0.00000000e+00+0.00000000e+00j  0.00000000e+00+0.00000000e+00j\n",
       "   0.00000000e+00+0.00000000e+00j  0.00000000e+00+0.00000000e+00j\n",
       "   0.00000000e+00+0.00000000e+00j  0.00000000e+00+0.00000000e+00j\n",
       "   0.00000000e+00+0.00000000e+00j]\n",
       " [-1.36096295e-13-1.33560189e-01j  8.52799926e-02-3.88671577e-20j\n",
       "   0.00000000e+00+0.00000000e+00j  0.00000000e+00+0.00000000e+00j\n",
       "   0.00000000e+00+0.00000000e+00j  0.00000000e+00+0.00000000e+00j\n",
       "   0.00000000e+00+0.00000000e+00j  0.00000000e+00+0.00000000e+00j\n",
       "   0.00000000e+00+0.00000000e+00j]\n",
       " [ 0.00000000e+00+0.00000000e+00j  0.00000000e+00+0.00000000e+00j\n",
       "   0.00000000e+00+0.00000000e+00j  0.00000000e+00+0.00000000e+00j\n",
       "   0.00000000e+00+0.00000000e+00j  0.00000000e+00+0.00000000e+00j\n",
       "   0.00000000e+00+0.00000000e+00j  0.00000000e+00+0.00000000e+00j\n",
       "   0.00000000e+00+0.00000000e+00j]\n",
       " [ 0.00000000e+00+0.00000000e+00j  0.00000000e+00+0.00000000e+00j\n",
       "   0.00000000e+00+0.00000000e+00j  8.67673798e-02+1.05513514e-19j\n",
       "  -1.19529686e-13+5.70203768e-02j  0.00000000e+00+0.00000000e+00j\n",
       "  -1.68689044e-03+1.01604396e-14j  0.00000000e+00+0.00000000e+00j\n",
       "   0.00000000e+00+0.00000000e+00j]\n",
       " [ 0.00000000e+00+0.00000000e+00j  0.00000000e+00+0.00000000e+00j\n",
       "   0.00000000e+00+0.00000000e+00j -1.19529648e-13-5.70203768e-02j\n",
       "   1.02766096e-01-5.11888668e-20j  0.00000000e+00+0.00000000e+00j\n",
       "   5.59530800e-14+5.68864409e-03j  0.00000000e+00+0.00000000e+00j\n",
       "   0.00000000e+00+0.00000000e+00j]\n",
       " [ 0.00000000e+00+0.00000000e+00j  0.00000000e+00+0.00000000e+00j\n",
       "   0.00000000e+00+0.00000000e+00j  0.00000000e+00+0.00000000e+00j\n",
       "   0.00000000e+00+0.00000000e+00j  0.00000000e+00+0.00000000e+00j\n",
       "   0.00000000e+00+0.00000000e+00j  0.00000000e+00+0.00000000e+00j\n",
       "   0.00000000e+00+0.00000000e+00j]\n",
       " [ 0.00000000e+00+0.00000000e+00j  0.00000000e+00+0.00000000e+00j\n",
       "   0.00000000e+00+0.00000000e+00j -1.68689044e-03-1.01448392e-14j\n",
       "   5.59662656e-14-5.68864409e-03j  0.00000000e+00+0.00000000e+00j\n",
       "   1.83071756e-02-8.86614672e-20j  0.00000000e+00+0.00000000e+00j\n",
       "   0.00000000e+00+0.00000000e+00j]\n",
       " [ 0.00000000e+00+0.00000000e+00j  0.00000000e+00+0.00000000e+00j\n",
       "   0.00000000e+00+0.00000000e+00j  0.00000000e+00+0.00000000e+00j\n",
       "   0.00000000e+00+0.00000000e+00j  0.00000000e+00+0.00000000e+00j\n",
       "   0.00000000e+00+0.00000000e+00j  0.00000000e+00+0.00000000e+00j\n",
       "   0.00000000e+00+0.00000000e+00j]\n",
       " [ 0.00000000e+00+0.00000000e+00j  0.00000000e+00+0.00000000e+00j\n",
       "   0.00000000e+00+0.00000000e+00j  0.00000000e+00+0.00000000e+00j\n",
       "   0.00000000e+00+0.00000000e+00j  0.00000000e+00+0.00000000e+00j\n",
       "   0.00000000e+00+0.00000000e+00j  0.00000000e+00+0.00000000e+00j\n",
       "   0.00000000e+00+0.00000000e+00j]]"
      ]
     },
     "execution_count": 27,
     "metadata": {},
     "output_type": "execute_result"
    }
   ],
   "source": [
    "# for i in tqdm(range(351)):\n",
    "psi_after_cnot = trotter.apply(state=psi_after_xgate[-1], duration=250, discrete_unitary=cnot)\n",
    "# states.append(psi_after_cnot)\n",
    "psi_after_cnot[-1]"
   ]
  },
  {
   "cell_type": "code",
   "execution_count": 28,
   "metadata": {},
   "outputs": [
    {
     "data": {
      "text/latex": [
       "Quantum object: dims=[[3, 3], [3, 3]], shape=(9, 9), type='oper', dtype=Dense, isherm=True$$\\left(\\begin{array}{cc}0.750 & 0.122j & 0 & 0 & 0 & 0 & 0 & 0 & 0\\\\-0.122j & 0.074 & 0 & 0 & 0 & 0 & 0 & 0 & 0\\\\0 & 0 & 0 & 0 & 0 & 0 & 0 & 0 & 0\\\\0 & 0 & 0 & 0.024 & 0.004j & 0 & (-0.001+0.005j) & (-0.002-0.003j) & 0\\\\0 & 0 & 0 & -0.004j & 0.007 & 0 & 0.002 & 0.003j & 0\\\\0 & 0 & 0 & 0 & 0 & 0 & 0 & 0 & 0\\\\0 & 0 & 0 & (-0.001-0.005j) & 0.002 & 0 & 0.089 & 0.037j & 0\\\\0 & 0 & 0 & (-0.002+0.003j) & -0.003j & 0 & -0.037j & 0.057 & 0\\\\0 & 0 & 0 & 0 & 0 & 0 & 0 & 0 & 0\\end{array}\\right)$$"
      ],
      "text/plain": [
       "Quantum object: dims=[[3, 3], [3, 3]], shape=(9, 9), type='oper', dtype=Dense, isherm=True\n",
       "Qobj data =\n",
       "[[ 7.49845853e-01+1.36416586e-17j -3.68026713e-04+1.21674141e-01j\n",
       "   0.00000000e+00+0.00000000e+00j  0.00000000e+00+0.00000000e+00j\n",
       "   0.00000000e+00+0.00000000e+00j  0.00000000e+00+0.00000000e+00j\n",
       "   0.00000000e+00+0.00000000e+00j  0.00000000e+00+0.00000000e+00j\n",
       "   0.00000000e+00+0.00000000e+00j]\n",
       " [-3.68026713e-04-1.21674141e-01j  7.38534619e-02-7.43315114e-20j\n",
       "   0.00000000e+00+0.00000000e+00j  0.00000000e+00+0.00000000e+00j\n",
       "   0.00000000e+00+0.00000000e+00j  0.00000000e+00+0.00000000e+00j\n",
       "   0.00000000e+00+0.00000000e+00j  0.00000000e+00+0.00000000e+00j\n",
       "   0.00000000e+00+0.00000000e+00j]\n",
       " [ 0.00000000e+00+0.00000000e+00j  0.00000000e+00+0.00000000e+00j\n",
       "   0.00000000e+00+0.00000000e+00j  0.00000000e+00+0.00000000e+00j\n",
       "   0.00000000e+00+0.00000000e+00j  0.00000000e+00+0.00000000e+00j\n",
       "   0.00000000e+00+0.00000000e+00j  0.00000000e+00+0.00000000e+00j\n",
       "   0.00000000e+00+0.00000000e+00j]\n",
       " [ 0.00000000e+00+0.00000000e+00j  0.00000000e+00+0.00000000e+00j\n",
       "   0.00000000e+00+0.00000000e+00j  2.40283738e-02-2.81150595e-18j\n",
       "   1.89228334e-04+4.25484733e-03j  0.00000000e+00+0.00000000e+00j\n",
       "  -1.23417952e-03+4.91338168e-03j -1.79219348e-03-3.41742650e-03j\n",
       "   0.00000000e+00+0.00000000e+00j]\n",
       " [ 0.00000000e+00+0.00000000e+00j  0.00000000e+00+0.00000000e+00j\n",
       "   0.00000000e+00+0.00000000e+00j  1.89228334e-04-4.25484733e-03j\n",
       "   6.55950022e-03+1.51885671e-20j  0.00000000e+00+0.00000000e+00j\n",
       "   1.79219348e-03+1.42453394e-04j  2.70712374e-14+2.76293995e-03j\n",
       "   0.00000000e+00+0.00000000e+00j]\n",
       " [ 0.00000000e+00+0.00000000e+00j  0.00000000e+00+0.00000000e+00j\n",
       "   0.00000000e+00+0.00000000e+00j  0.00000000e+00+0.00000000e+00j\n",
       "   0.00000000e+00+0.00000000e+00j  0.00000000e+00+0.00000000e+00j\n",
       "   0.00000000e+00+0.00000000e+00j  0.00000000e+00+0.00000000e+00j\n",
       "   0.00000000e+00+0.00000000e+00j]\n",
       " [ 0.00000000e+00+0.00000000e+00j  0.00000000e+00+0.00000000e+00j\n",
       "   0.00000000e+00+0.00000000e+00j -1.23417952e-03-4.91338168e-03j\n",
       "   1.79219348e-03-1.42453394e-04j  0.00000000e+00+0.00000000e+00j\n",
       "   8.85456284e-02-1.07144766e-17j  1.78798378e-04+3.70840035e-02j\n",
       "   0.00000000e+00+0.00000000e+00j]\n",
       " [ 0.00000000e+00+0.00000000e+00j  0.00000000e+00+0.00000000e+00j\n",
       "   0.00000000e+00+0.00000000e+00j -1.79219348e-03+3.41742650e-03j\n",
       "   2.70711219e-14-2.76293995e-03j  0.00000000e+00+0.00000000e+00j\n",
       "   1.78798378e-04-3.70840035e-02j  5.71671826e-02-5.65331412e-20j\n",
       "   0.00000000e+00+0.00000000e+00j]\n",
       " [ 0.00000000e+00+0.00000000e+00j  0.00000000e+00+0.00000000e+00j\n",
       "   0.00000000e+00+0.00000000e+00j  0.00000000e+00+0.00000000e+00j\n",
       "   0.00000000e+00+0.00000000e+00j  0.00000000e+00+0.00000000e+00j\n",
       "   0.00000000e+00+0.00000000e+00j  0.00000000e+00+0.00000000e+00j\n",
       "   0.00000000e+00+0.00000000e+00j]]"
      ]
     },
     "execution_count": 28,
     "metadata": {},
     "output_type": "execute_result"
    }
   ],
   "source": [
    "# for i in tqdm(range(51)):\n",
    "psi_after_last_xnot = trotter.apply(state=psi_after_cnot[-1], duration=50, discrete_unitary=xnot)\n",
    "    # states.append(psi_after_last_xnot)\n",
    "psi_after_last_xnot[-1]"
   ]
  },
  {
   "cell_type": "code",
   "execution_count": 29,
   "metadata": {},
   "outputs": [],
   "source": [
    "# getting the data to plot \n",
    "states = []\n",
    "states.extend(psi_after_xgate)\n",
    "states.extend(psi_after_cnot)\n",
    "states.extend(psi_after_last_xnot)\n",
    "values = []\n",
    "# len(states)\n",
    "for i in states:\n",
    "    for j in range(9):\n",
    "        values.append(i[j,j])\n",
    "len(values)\n",
    "\n",
    "gg = []\n",
    "ge = []\n",
    "gf = []\n",
    "eg = []\n",
    "ee = []\n",
    "ef = []\n",
    "fg = []\n",
    "fe = []\n",
    "ff = []\n",
    "\n",
    "for i in range(len(states)):\n",
    "    gg.append(values[(i * 9)])\n",
    "    ge.append(values[(i * 9) + 1])\n",
    "    gf.append(values[(i * 9) + 2]) \n",
    "    eg.append(values[(i * 9) + 3]) \n",
    "    ee.append(values[(i * 9) + 4])\n",
    "    ef.append(values[(i * 9) + 5])\n",
    "    fg.append(values[(i * 9) + 6]) \n",
    "    fe.append(values[(i * 9) + 7])\n",
    "    ff.append(values[(i * 9) + 8])\n",
    "\n",
    "time_plot = np.linspace(0, 350, 17500)"
   ]
  },
  {
   "cell_type": "code",
   "execution_count": 30,
   "metadata": {},
   "outputs": [
    {
     "name": "stderr",
     "output_type": "stream",
     "text": [
      "C:\\Users\\girgi\\AppData\\Local\\Temp\\ipykernel_19364\\298530530.py:13: UserWarning: FigureCanvasAgg is non-interactive, and thus cannot be shown\n",
      "  fig.show()\n"
     ]
    },
    {
     "data": {
      "text/plain": [
       "Text(0, 0.5, 'state occupancy')"
      ]
     },
     "execution_count": 30,
     "metadata": {},
     "output_type": "execute_result"
    },
    {
     "data": {
      "image/png": "[encoded data removed]",
      "text/plain": [
       "<Figure size 640x480 with 1 Axes>"
      ]
     },
     "metadata": {},
     "output_type": "display_data"
    }
   ],
   "source": [
    "# creating the plot \n",
    "fig, ax = plt.subplots()\n",
    "ax.plot(time_plot, gg, 'blue', marker = '.', label = 'gg')\n",
    "ax.plot(time_plot, ge, 'red', marker = '.', label = 'ge' )\n",
    "ax.plot(time_plot, gf, 'green', marker = '.', label = 'gf')\n",
    "ax.plot(time_plot, eg, 'orange', marker = '.', label = 'eg')\n",
    "ax.plot(time_plot, ee, 'purple', marker = '.', label = 'ee')\n",
    "ax.plot(time_plot, ef, 'black', marker = '.', label = 'ef')\n",
    "ax.plot(time_plot, fg, 'gray', marker = '.', label = 'fg')\n",
    "ax.plot(time_plot, fe, 'pink', marker = '.', label = 'fe')\n",
    "ax.plot(time_plot, ff, 'yellow', marker = '.', label = 'ff')\n",
    "fig.legend(loc = \"center right\")\n",
    "fig.show()\n",
    "ax.set_title('state occupancy as a function of time with circuit execution(3-wave)')\n",
    "ax.set_xlabel('time (dt)')\n",
    "ax.set_ylabel(\"state occupancy\")"
   ]
  },
  {
   "cell_type": "code",
   "execution_count": 31,
   "metadata": {},
   "outputs": [
    {
     "data": {
      "text/latex": [
       "Quantum object: dims=[[3, 3], [3, 3]], shape=(9, 9), type='oper', dtype=Dense, isherm=True$$\\left(\\begin{array}{cc}0 & 0 & 0 & 0 & 0 & 0 & 0 & 0 & 0\\\\0 & 0.500 & 0 & 0 & 0 & 0 & -0.500j & 0 & 0\\\\0 & 0 & 0 & 0 & 0 & 0 & 0 & 0 & 0\\\\0 & 0 & 0 & 0 & 0 & 0 & 0 & 0 & 0\\\\0 & 0 & 0 & 0 & 0 & 0 & 0 & 0 & 0\\\\0 & 0 & 0 & 0 & 0 & 0 & 0 & 0 & 0\\\\0 & 0.500j & 0 & 0 & 0 & 0 & 0.500 & 0 & 0\\\\0 & 0 & 0 & 0 & 0 & 0 & 0 & 0 & 0\\\\0 & 0 & 0 & 0 & 0 & 0 & 0 & 0 & 0\\end{array}\\right)$$"
      ],
      "text/plain": [
       "Quantum object: dims=[[3, 3], [3, 3]], shape=(9, 9), type='oper', dtype=Dense, isherm=True\n",
       "Qobj data =\n",
       "[[0. +0.j  0. +0.j  0. +0.j  0. +0.j  0. +0.j  0. +0.j  0. +0.j  0. +0.j\n",
       "  0. +0.j ]\n",
       " [0. +0.j  0.5+0.j  0. +0.j  0. +0.j  0. +0.j  0. +0.j  0. -0.5j 0. +0.j\n",
       "  0. +0.j ]\n",
       " [0. +0.j  0. +0.j  0. +0.j  0. +0.j  0. +0.j  0. +0.j  0. +0.j  0. +0.j\n",
       "  0. +0.j ]\n",
       " [0. +0.j  0. +0.j  0. +0.j  0. +0.j  0. +0.j  0. +0.j  0. +0.j  0. +0.j\n",
       "  0. +0.j ]\n",
       " [0. +0.j  0. +0.j  0. +0.j  0. +0.j  0. +0.j  0. +0.j  0. +0.j  0. +0.j\n",
       "  0. +0.j ]\n",
       " [0. +0.j  0. +0.j  0. +0.j  0. +0.j  0. +0.j  0. +0.j  0. +0.j  0. +0.j\n",
       "  0. +0.j ]\n",
       " [0. +0.j  0. +0.5j 0. +0.j  0. +0.j  0. +0.j  0. +0.j  0.5+0.j  0. +0.j\n",
       "  0. +0.j ]\n",
       " [0. +0.j  0. +0.j  0. +0.j  0. +0.j  0. +0.j  0. +0.j  0. +0.j  0. +0.j\n",
       "  0. +0.j ]\n",
       " [0. +0.j  0. +0.j  0. +0.j  0. +0.j  0. +0.j  0. +0.j  0. +0.j  0. +0.j\n",
       "  0. +0.j ]]"
      ]
     },
     "execution_count": 31,
     "metadata": {},
     "output_type": "execute_result"
    }
   ],
   "source": [
    "state_after_1_xnot = xnot * rho0 * xnot.dag()\n",
    "state_after_cnot = U_cnot_no_time * state_after_1_xnot * U_cnot_no_time.dag()\n",
    "final_state = xnot * state_after_cnot * xnot.dag()\n",
    "final_state"
   ]
  },
  {
   "cell_type": "code",
   "execution_count": 32,
   "metadata": {},
   "outputs": [
    {
     "data": {
      "text/plain": [
       "0.28495534530859823"
      ]
     },
     "execution_count": 32,
     "metadata": {},
     "output_type": "execute_result"
    }
   ],
   "source": [
    "qt.fidelity(final_state, psi_after_last_xnot[-1])"
   ]
  },
  {
   "cell_type": "code",
   "execution_count": 33,
   "metadata": {},
   "outputs": [
    {
     "data": {
      "text/latex": [
       "Quantum object: dims=[[3, 3], [3, 3]], shape=(9, 9), type='oper', dtype=Dense, isherm=True$$\\left(\\begin{array}{cc}0.145 & 0 & 0 & 0 & 0 & 0 & 0 & 0 & 0\\\\0 & 0 & 0 & 0 & 0 & 0 & 0 & 0 & 0\\\\0 & 0 & 0 & 0 & 0 & 0 & 0 & 0 & 0\\\\0 & 0 & 0 & 0.768 & 0 & 0 & 0.039j & 0 & 0\\\\0 & 0 & 0 & 0 & 0 & 0 & 0 & 0 & 0\\\\0 & 0 & 0 & 0 & 0 & 0 & 0 & 0 & 0\\\\0 & 0 & 0 & -0.039j & 0 & 0 & 0.087 & 0 & 0\\\\0 & 0 & 0 & 0 & 0 & 0 & 0 & 0 & 0\\\\0 & 0 & 0 & 0 & 0 & 0 & 0 & 0 & 0\\end{array}\\right)$$"
      ],
      "text/plain": [
       "Quantum object: dims=[[3, 3], [3, 3]], shape=(9, 9), type='oper', dtype=Dense, isherm=True\n",
       "Qobj data =\n",
       "[[1.44997847e-01+2.26841688e-19j 0.00000000e+00+0.00000000e+00j\n",
       "  0.00000000e+00+0.00000000e+00j 0.00000000e+00+0.00000000e+00j\n",
       "  0.00000000e+00+0.00000000e+00j 0.00000000e+00+0.00000000e+00j\n",
       "  0.00000000e+00+0.00000000e+00j 0.00000000e+00+0.00000000e+00j\n",
       "  0.00000000e+00+0.00000000e+00j]\n",
       " [0.00000000e+00+0.00000000e+00j 0.00000000e+00+0.00000000e+00j\n",
       "  0.00000000e+00+0.00000000e+00j 0.00000000e+00+0.00000000e+00j\n",
       "  0.00000000e+00+0.00000000e+00j 0.00000000e+00+0.00000000e+00j\n",
       "  0.00000000e+00+0.00000000e+00j 0.00000000e+00+0.00000000e+00j\n",
       "  0.00000000e+00+0.00000000e+00j]\n",
       " [0.00000000e+00+0.00000000e+00j 0.00000000e+00+0.00000000e+00j\n",
       "  0.00000000e+00+0.00000000e+00j 0.00000000e+00+0.00000000e+00j\n",
       "  0.00000000e+00+0.00000000e+00j 0.00000000e+00+0.00000000e+00j\n",
       "  0.00000000e+00+0.00000000e+00j 0.00000000e+00+0.00000000e+00j\n",
       "  0.00000000e+00+0.00000000e+00j]\n",
       " [0.00000000e+00+0.00000000e+00j 0.00000000e+00+0.00000000e+00j\n",
       "  0.00000000e+00+0.00000000e+00j 7.67672032e-01+1.91466603e-19j\n",
       "  0.00000000e+00+0.00000000e+00j 0.00000000e+00+0.00000000e+00j\n",
       "  3.82750575e-13+3.88923933e-02j 0.00000000e+00+0.00000000e+00j\n",
       "  0.00000000e+00+0.00000000e+00j]\n",
       " [0.00000000e+00+0.00000000e+00j 0.00000000e+00+0.00000000e+00j\n",
       "  0.00000000e+00+0.00000000e+00j 0.00000000e+00+0.00000000e+00j\n",
       "  0.00000000e+00+0.00000000e+00j 0.00000000e+00+0.00000000e+00j\n",
       "  0.00000000e+00+0.00000000e+00j 0.00000000e+00+0.00000000e+00j\n",
       "  0.00000000e+00+0.00000000e+00j]\n",
       " [0.00000000e+00+0.00000000e+00j 0.00000000e+00+0.00000000e+00j\n",
       "  0.00000000e+00+0.00000000e+00j 0.00000000e+00+0.00000000e+00j\n",
       "  0.00000000e+00+0.00000000e+00j 0.00000000e+00+0.00000000e+00j\n",
       "  0.00000000e+00+0.00000000e+00j 0.00000000e+00+0.00000000e+00j\n",
       "  0.00000000e+00+0.00000000e+00j]\n",
       " [0.00000000e+00+0.00000000e+00j 0.00000000e+00+0.00000000e+00j\n",
       "  0.00000000e+00+0.00000000e+00j 3.82750972e-13-3.88923933e-02j\n",
       "  0.00000000e+00+0.00000000e+00j 0.00000000e+00+0.00000000e+00j\n",
       "  8.73301216e-02-4.18308291e-19j 0.00000000e+00+0.00000000e+00j\n",
       "  0.00000000e+00+0.00000000e+00j]\n",
       " [0.00000000e+00+0.00000000e+00j 0.00000000e+00+0.00000000e+00j\n",
       "  0.00000000e+00+0.00000000e+00j 0.00000000e+00+0.00000000e+00j\n",
       "  0.00000000e+00+0.00000000e+00j 0.00000000e+00+0.00000000e+00j\n",
       "  0.00000000e+00+0.00000000e+00j 0.00000000e+00+0.00000000e+00j\n",
       "  0.00000000e+00+0.00000000e+00j]\n",
       " [0.00000000e+00+0.00000000e+00j 0.00000000e+00+0.00000000e+00j\n",
       "  0.00000000e+00+0.00000000e+00j 0.00000000e+00+0.00000000e+00j\n",
       "  0.00000000e+00+0.00000000e+00j 0.00000000e+00+0.00000000e+00j\n",
       "  0.00000000e+00+0.00000000e+00j 0.00000000e+00+0.00000000e+00j\n",
       "  0.00000000e+00+0.00000000e+00j]]"
      ]
     },
     "execution_count": 33,
     "metadata": {},
     "output_type": "execute_result"
    }
   ],
   "source": [
    "# states = []\n",
    "psi_after_5xgate = trotter.apply(state=rho0, duration=50, discrete_unitary=xnot)\n",
    "# for i in range(len(proj)):\n",
    "#     val = proj[i].full()\n",
    "#     val_dag = val.dag()\n",
    "#     xlist.append(val * psi_after_xgate.full() * val_dag)\n",
    "# psi_after_xgate\n",
    "# for i in psi_after_xgate:\n",
    "#     for j in range(len(proj)):\n",
    "#         val = proj[i].full()\n",
    "#         val_dag = val.dag()\n",
    "psi_after_5xgate[-1]"
   ]
  },
  {
   "cell_type": "code",
   "execution_count": 34,
   "metadata": {},
   "outputs": [
    {
     "data": {
      "text/latex": [
       "Quantum object: dims=[[3, 3], [3, 3]], shape=(9, 9), type='oper', dtype=Dense, isherm=True$$\\left(\\begin{array}{cc}1.000 & -3.648\\times10^{ -15 } & 0 & 0 & 0 & 0 & 0 & 0 & 0\\\\-3.648\\times10^{ -15 } & 1.057\\times10^{ -7 } & 0 & 0 & 0 & 0 & 0 & 0 & 0\\\\0 & 0 & 0 & 0 & 0 & 0 & 0 & 0 & 0\\\\0 & 0 & 0 & 3.379\\times10^{ -7 } & -3.074\\times10^{ -18 } & 0 & -4.795\\times10^{ -9 } & 0 & 0\\\\0 & 0 & 0 & -3.074\\times10^{ -18 } & 1.158\\times10^{ -8 } & 0 & 3.395\\times10^{ -20 } & 0 & 0\\\\0 & 0 & 0 & 0 & 0 & 0 & 0 & 0 & 0\\\\0 & 0 & 0 & -4.795\\times10^{ -9 } & 3.394\\times10^{ -20 } & 0 & 1.431\\times10^{ -8 } & 0 & 0\\\\0 & 0 & 0 & 0 & 0 & 0 & 0 & 0 & 0\\\\0 & 0 & 0 & 0 & 0 & 0 & 0 & 0 & 0\\end{array}\\right)$$"
      ],
      "text/plain": [
       "Quantum object: dims=[[3, 3], [3, 3]], shape=(9, 9), type='oper', dtype=Dense, isherm=True\n",
       "Qobj data =\n",
       "[[ 9.99999530e-01+1.25187300e-24j -3.64838065e-15+7.45484038e-05j\n",
       "   0.00000000e+00+0.00000000e+00j  0.00000000e+00+0.00000000e+00j\n",
       "   0.00000000e+00+0.00000000e+00j  0.00000000e+00+0.00000000e+00j\n",
       "   0.00000000e+00+0.00000000e+00j  0.00000000e+00+0.00000000e+00j\n",
       "   0.00000000e+00+0.00000000e+00j]\n",
       " [-3.64838070e-15-7.45484038e-05j  1.05728606e-07-1.12739938e-25j\n",
       "   0.00000000e+00+0.00000000e+00j  0.00000000e+00+0.00000000e+00j\n",
       "   0.00000000e+00+0.00000000e+00j  0.00000000e+00+0.00000000e+00j\n",
       "   0.00000000e+00+0.00000000e+00j  0.00000000e+00+0.00000000e+00j\n",
       "   0.00000000e+00+0.00000000e+00j]\n",
       " [ 0.00000000e+00+0.00000000e+00j  0.00000000e+00+0.00000000e+00j\n",
       "   0.00000000e+00+0.00000000e+00j  0.00000000e+00+0.00000000e+00j\n",
       "   0.00000000e+00+0.00000000e+00j  0.00000000e+00+0.00000000e+00j\n",
       "   0.00000000e+00+0.00000000e+00j  0.00000000e+00+0.00000000e+00j\n",
       "   0.00000000e+00+0.00000000e+00j]\n",
       " [ 0.00000000e+00+0.00000000e+00j  0.00000000e+00+0.00000000e+00j\n",
       "   0.00000000e+00+0.00000000e+00j  3.37880557e-07-1.05448202e-24j\n",
       "  -3.07385844e-18+6.02757584e-08j  0.00000000e+00+0.00000000e+00j\n",
       "  -4.79511871e-09-8.75377845e-20j  0.00000000e+00+0.00000000e+00j\n",
       "   0.00000000e+00+0.00000000e+00j]\n",
       " [ 0.00000000e+00+0.00000000e+00j  0.00000000e+00+0.00000000e+00j\n",
       "   0.00000000e+00+0.00000000e+00j -3.07385865e-18-6.02757584e-08j\n",
       "   1.15829488e-08-1.67967025e-26j  0.00000000e+00+0.00000000e+00j\n",
       "   3.39485621e-20+1.00577789e-09j  0.00000000e+00+0.00000000e+00j\n",
       "   0.00000000e+00+0.00000000e+00j]\n",
       " [ 0.00000000e+00+0.00000000e+00j  0.00000000e+00+0.00000000e+00j\n",
       "   0.00000000e+00+0.00000000e+00j  0.00000000e+00+0.00000000e+00j\n",
       "   0.00000000e+00+0.00000000e+00j  0.00000000e+00+0.00000000e+00j\n",
       "   0.00000000e+00+0.00000000e+00j  0.00000000e+00+0.00000000e+00j\n",
       "   0.00000000e+00+0.00000000e+00j]\n",
       " [ 0.00000000e+00+0.00000000e+00j  0.00000000e+00+0.00000000e+00j\n",
       "   0.00000000e+00+0.00000000e+00j -4.79511871e-09+8.76082687e-20j\n",
       "   3.39366707e-20-1.00577789e-09j  0.00000000e+00+0.00000000e+00j\n",
       "   1.43132053e-08-6.78543448e-26j  0.00000000e+00+0.00000000e+00j\n",
       "   0.00000000e+00+0.00000000e+00j]\n",
       " [ 0.00000000e+00+0.00000000e+00j  0.00000000e+00+0.00000000e+00j\n",
       "   0.00000000e+00+0.00000000e+00j  0.00000000e+00+0.00000000e+00j\n",
       "   0.00000000e+00+0.00000000e+00j  0.00000000e+00+0.00000000e+00j\n",
       "   0.00000000e+00+0.00000000e+00j  0.00000000e+00+0.00000000e+00j\n",
       "   0.00000000e+00+0.00000000e+00j]\n",
       " [ 0.00000000e+00+0.00000000e+00j  0.00000000e+00+0.00000000e+00j\n",
       "   0.00000000e+00+0.00000000e+00j  0.00000000e+00+0.00000000e+00j\n",
       "   0.00000000e+00+0.00000000e+00j  0.00000000e+00+0.00000000e+00j\n",
       "   0.00000000e+00+0.00000000e+00j  0.00000000e+00+0.00000000e+00j\n",
       "   0.00000000e+00+0.00000000e+00j]]"
      ]
     },
     "execution_count": 34,
     "metadata": {},
     "output_type": "execute_result"
    }
   ],
   "source": [
    "# start the 5-wave benchmark \n",
    "psi_after_5cnot = trotter.apply(state=psi_after_5xgate[-1], duration=2500, discrete_unitary=cnot)\n",
    "psi_after_5cnot[-1]"
   ]
  },
  {
   "cell_type": "code",
   "execution_count": 35,
   "metadata": {},
   "outputs": [
    {
     "data": {
      "text/latex": [
       "Quantum object: dims=[[3, 3], [3, 3]], shape=(9, 9), type='oper', dtype=Dense, isherm=True$$\\left(\\begin{array}{cc}1.000 & -6.507\\times10^{ -11 } & 0 & 0 & 0 & 0 & 0 & 0 & 0\\\\-6.507\\times10^{ -11 } & 7.865\\times10^{ -8 } & 0 & 0 & 0 & 0 & 0 & 0 & 0\\\\0 & 0 & 0 & 0 & 0 & 0 & 0 & 0 & 0\\\\0 & 0 & 0 & 4.073\\times10^{ -8 } & 3.346\\times10^{ -11 } & 0 & -3.508\\times10^{ -9 } & -1.895\\times10^{ -9 } & 0\\\\0 & 0 & 0 & 3.346\\times10^{ -11 } & 7.393\\times10^{ -10 } & 0 & 1.895\\times10^{ -9 } & 3.051\\times10^{ -21 } & 0\\\\0 & 0 & 0 & 0 & 0 & 0 & 0 & 0 & 0\\\\0 & 0 & 0 & -3.508\\times10^{ -9 } & 1.895\\times10^{ -9 } & 0 & 2.605\\times10^{ -7 } & 3.161\\times10^{ -11 } & 0\\\\0 & 0 & 0 & -1.895\\times10^{ -9 } & 3.051\\times10^{ -21 } & 0 & 3.161\\times10^{ -11 } & 6.443\\times10^{ -9 } & 0\\\\0 & 0 & 0 & 0 & 0 & 0 & 0 & 0 & 0\\end{array}\\right)$$"
      ],
      "text/plain": [
       "Quantum object: dims=[[3, 3], [3, 3]], shape=(9, 9), type='oper', dtype=Dense, isherm=True\n",
       "Qobj data =\n",
       "[[ 9.99999613e-01+4.74597795e-23j -6.50719009e-11+6.37727981e-05j\n",
       "   0.00000000e+00+0.00000000e+00j  0.00000000e+00+0.00000000e+00j\n",
       "   0.00000000e+00+0.00000000e+00j  0.00000000e+00+0.00000000e+00j\n",
       "   0.00000000e+00+0.00000000e+00j  0.00000000e+00+0.00000000e+00j\n",
       "   0.00000000e+00+0.00000000e+00j]\n",
       " [-6.50719009e-11-6.37727981e-05j  7.86458956e-08-8.67261979e-26j\n",
       "   0.00000000e+00+0.00000000e+00j  0.00000000e+00+0.00000000e+00j\n",
       "   0.00000000e+00+0.00000000e+00j  0.00000000e+00+0.00000000e+00j\n",
       "   0.00000000e+00+0.00000000e+00j  0.00000000e+00+0.00000000e+00j\n",
       "   0.00000000e+00+0.00000000e+00j]\n",
       " [ 0.00000000e+00+0.00000000e+00j  0.00000000e+00+0.00000000e+00j\n",
       "   0.00000000e+00+0.00000000e+00j  0.00000000e+00+0.00000000e+00j\n",
       "   0.00000000e+00+0.00000000e+00j  0.00000000e+00+0.00000000e+00j\n",
       "   0.00000000e+00+0.00000000e+00j  0.00000000e+00+0.00000000e+00j\n",
       "   0.00000000e+00+0.00000000e+00j]\n",
       " [ 0.00000000e+00+0.00000000e+00j  0.00000000e+00+0.00000000e+00j\n",
       "   0.00000000e+00+0.00000000e+00j  4.07339901e-08-2.59754099e-23j\n",
       "   3.34564213e-11+4.49776315e-09j  0.00000000e+00+0.00000000e+00j\n",
       "  -3.50825231e-09+1.30861188e-08j -1.89451259e-09-6.04216392e-10j\n",
       "   0.00000000e+00+0.00000000e+00j]\n",
       " [ 0.00000000e+00+0.00000000e+00j  0.00000000e+00+0.00000000e+00j\n",
       "   0.00000000e+00+0.00000000e+00j  3.34564213e-11-4.49776315e-09j\n",
       "   7.39332892e-10-7.27014100e-27j  0.00000000e+00+0.00000000e+00j\n",
       "   1.89451259e-09+2.51864014e-11j  3.05126094e-21+3.11415857e-10j\n",
       "   0.00000000e+00+0.00000000e+00j]\n",
       " [ 0.00000000e+00+0.00000000e+00j  0.00000000e+00+0.00000000e+00j\n",
       "   0.00000000e+00+0.00000000e+00j  0.00000000e+00+0.00000000e+00j\n",
       "   0.00000000e+00+0.00000000e+00j  0.00000000e+00+0.00000000e+00j\n",
       "   0.00000000e+00+0.00000000e+00j  0.00000000e+00+0.00000000e+00j\n",
       "   0.00000000e+00+0.00000000e+00j]\n",
       " [ 0.00000000e+00+0.00000000e+00j  0.00000000e+00+0.00000000e+00j\n",
       "   0.00000000e+00+0.00000000e+00j -3.50825231e-09-1.30861188e-08j\n",
       "   1.89451259e-09-2.51864014e-11j  0.00000000e+00+0.00000000e+00j\n",
       "   2.60525311e-07-2.14032980e-23j  3.16123563e-11+3.92011867e-08j\n",
       "   0.00000000e+00+0.00000000e+00j]\n",
       " [ 0.00000000e+00+0.00000000e+00j  0.00000000e+00+0.00000000e+00j\n",
       "   0.00000000e+00+0.00000000e+00j -1.89451259e-09+6.04216392e-10j\n",
       "   3.05123368e-21-3.11415857e-10j  0.00000000e+00+0.00000000e+00j\n",
       "   3.16123563e-11-3.92011867e-08j  6.44341444e-09+1.29247067e-26j\n",
       "   0.00000000e+00+0.00000000e+00j]\n",
       " [ 0.00000000e+00+0.00000000e+00j  0.00000000e+00+0.00000000e+00j\n",
       "   0.00000000e+00+0.00000000e+00j  0.00000000e+00+0.00000000e+00j\n",
       "   0.00000000e+00+0.00000000e+00j  0.00000000e+00+0.00000000e+00j\n",
       "   0.00000000e+00+0.00000000e+00j  0.00000000e+00+0.00000000e+00j\n",
       "   0.00000000e+00+0.00000000e+00j]]"
      ]
     },
     "execution_count": 35,
     "metadata": {},
     "output_type": "execute_result"
    }
   ],
   "source": [
    "psi_after_last_5xnot = trotter.apply(state=psi_after_5cnot[-1], duration=50, discrete_unitary=xnot)\n",
    "psi_after_last_5xnot[-1]"
   ]
  },
  {
   "cell_type": "code",
   "execution_count": 36,
   "metadata": {},
   "outputs": [],
   "source": [
    "# getting the data to plot \n",
    "states1 = []\n",
    "states1.extend(psi_after_5xgate)\n",
    "states1.extend(psi_after_5cnot)\n",
    "states1.extend(psi_after_last_5xnot)\n",
    "values1 = []\n",
    "# len(states)\n",
    "for i in states1:\n",
    "    for j in range(9):\n",
    "        values1.append(i[j,j])\n",
    "len(values1)\n",
    "\n",
    "gg1 = []\n",
    "ge1 = []\n",
    "gf1 = []\n",
    "eg1 = []\n",
    "ee1 = []\n",
    "ef1 = []\n",
    "fg1 = []\n",
    "fe1 = []\n",
    "ff1 = []\n",
    "\n",
    "for i in range(len(states1)):\n",
    "    gg1.append(values1[(i * 9)])\n",
    "    ge1.append(values1[(i * 9) + 1])\n",
    "    gf1.append(values1[(i * 9) + 2]) \n",
    "    eg1.append(values1[(i * 9) + 3]) \n",
    "    ee1.append(values1[(i * 9) + 4])\n",
    "    ef1.append(values1[(i * 9) + 5])\n",
    "    fg1.append(values1[(i * 9) + 6]) \n",
    "    fe1.append(values1[(i * 9) + 7])\n",
    "    ff1.append(values1[(i * 9) + 8])\n",
    "\n",
    "time_plot2 = np.linspace(0, 2600, 130000)"
   ]
  },
  {
   "cell_type": "code",
   "execution_count": 37,
   "metadata": {},
   "outputs": [
    {
     "name": "stderr",
     "output_type": "stream",
     "text": [
      "C:\\Users\\girgi\\AppData\\Local\\Temp\\ipykernel_19364\\959055465.py:13: UserWarning: FigureCanvasAgg is non-interactive, and thus cannot be shown\n",
      "  fig.show()\n"
     ]
    },
    {
     "data": {
      "text/plain": [
       "Text(0, 0.5, 'state occupancy')"
      ]
     },
     "execution_count": 37,
     "metadata": {},
     "output_type": "execute_result"
    },
    {
     "data": {
      "image/png": "[encoded data removed]",
      "text/plain": [
       "<Figure size 640x480 with 1 Axes>"
      ]
     },
     "metadata": {},
     "output_type": "display_data"
    }
   ],
   "source": [
    "# use the data above and build the plot\n",
    "fig, ax = plt.subplots()\n",
    "ax.plot(time_plot2, gg1, 'blue', marker = '.', label = 'gg')\n",
    "ax.plot(time_plot2, ge1, 'red', marker = '.', label = 'ge' )\n",
    "ax.plot(time_plot2, gf1, 'green', marker = '.', label = 'gf')\n",
    "ax.plot(time_plot2, eg1, 'orange', marker = '.', label = 'eg')\n",
    "ax.plot(time_plot2, ee1, 'purple', marker = '.', label = 'ee')\n",
    "ax.plot(time_plot2, ef1, 'black', marker = '.', label = 'ef')\n",
    "ax.plot(time_plot2, fg1, 'gray', marker = '.', label = 'fg')\n",
    "ax.plot(time_plot2, fe1, 'pink', marker = '.', label = 'fe')\n",
    "ax.plot(time_plot2, ff1, 'yellow', marker = '.', label = 'ff')\n",
    "fig.legend(loc = \"center right\")\n",
    "fig.show()\n",
    "ax.set_title('state occupancy as a function of time with circuit execution(5-wave)')\n",
    "ax.set_xlabel('time (dt)')\n",
    "ax.set_ylabel(\"state occupancy\")"
   ]
  },
  {
   "cell_type": "code",
   "execution_count": 38,
   "metadata": {},
   "outputs": [
    {
     "data": {
      "text/plain": [
       "0.00041180773473479133"
      ]
     },
     "execution_count": 38,
     "metadata": {},
     "output_type": "execute_result"
    }
   ],
   "source": [
    "qt.fidelity(final_state, psi_after_last_5xnot[-1])"
   ]
  },
  {
   "cell_type": "code",
   "execution_count": null,
   "metadata": {},
   "outputs": [],
   "source": []
  }
 ],
 "metadata": {
  "kernelspec": {
   "display_name": "venv",
   "language": "python",
   "name": "python3"
  },
  "language_info": {
   "codemirror_mode": {
    "name": "ipython",
    "version": 3
   },
   "file_extension": ".py",
   "mimetype": "text/x-python",
   "name": "python",
   "nbconvert_exporter": "python",
   "pygments_lexer": "ipython3",
   "version": "3.9.13"
  }
 },
 "nbformat": 4,
 "nbformat_minor": 2
}
