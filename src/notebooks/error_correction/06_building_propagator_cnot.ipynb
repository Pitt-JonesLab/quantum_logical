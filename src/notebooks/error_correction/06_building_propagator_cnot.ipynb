{
 "cells": [
  {
   "cell_type": "code",
   "execution_count": 1,
   "metadata": {},
   "outputs": [],
   "source": [
    "# run this same experiment again but instead of 2,0,0 -> 0,0,2 have 2,0,0 -> 0,1,1 this would be cool \n",
    "# declaring all dependancies    \n",
    "import qutip as qt\n",
    "import numpy as np\n",
    "from quantum_logical.pulsesim import QuantumSystem, Pulse\n",
    "from quantum_logical.pulsesim.mode import QubitMode, SNAILMode, CavityMode\n",
    "from quantum_logical.pulsesim.build_hamiltonian import Build_hamiltonian\n",
    "import matplotlib.pyplot as plt\n",
    "from quantum_logical.channel import AmplitudeDamping, PhaseDamping\n",
    "from quantum_logical.trotter import TrotterGroup\n",
    "from qutip import Options\n",
    "from tqdm import tqdm_notebook as tqdm\n",
    "from progressbar import progressbar\n",
    "from threading import Thread\n",
    "from multiprocessing.pool import Pool, ThreadPool\n",
    "from numpy.linalg import eig\n",
    "from quantum_logical.creating_operators import Creating_operators\n",
    "\n",
    "# opts = Options(nsteps=1e6, atol=1e-8, rtol=1e-6)\n",
    "# p_bar = qt.ui.TextProgressBar()  # None\n",
    "opts = {\"nsteps\": 1e6, \"atol\": 1e-8, \"rtol\": 1e-6, \"progress_bar\": \"text\"}"
   ]
  },
  {
   "cell_type": "code",
   "execution_count": 2,
   "metadata": {},
   "outputs": [],
   "source": [
    "# create a list of operators \n",
    "# create the fundamental operators first and then create the combination of the two that then gives the total set of operators\n",
    "fund_ops_list = []\n",
    "H = Creating_operators(qubit_count=2, qubit_dim=3)\n",
    "fund_ops_list.append(H.create_ops_unconventional_annhilation(from_level=0, to_level=1))\n",
    "fund_ops_list.append(H.create_ops_unconventional_annhilation(from_level=1, to_level=2))\n"
   ]
  },
  {
   "cell_type": "code",
   "execution_count": 3,
   "metadata": {},
   "outputs": [],
   "source": [
    "# list of operators\n",
    "ops_list = []\n",
    "ops_list.append(qt.tensor(fund_ops_list[0], fund_ops_list[1].dag()))\n",
    "ops_list.append(qt.tensor(fund_ops_list[1], fund_ops_list[0].dag()))\n",
    "ops_list.append(qt.tensor(fund_ops_list[1].dag(), fund_ops_list[0]))\n",
    "ops_list.append(qt.tensor(fund_ops_list[0].dag(), fund_ops_list[1]))"
   ]
  },
  {
   "cell_type": "code",
   "execution_count": 4,
   "metadata": {},
   "outputs": [
    {
     "data": {
      "text/latex": [
       "Quantum object: dims=[[3, 3], [3, 3]], shape=(9, 9), type='oper', dtype=Dense, isherm=False$$\\left(\\begin{array}{cc}(-0.670-0.665j) & (-0.119+0.202j) & 0 & (-0.119+0.202j) & 0 & 0 & 0 & 0 & 0\\\\(-0.119+0.202j) & (-0.210+0.306j) & 0 & (-0.697-0.567j) & 0 & 0 & 0 & 0 & 0\\\\0 & 0 & (0.336+0.603j) & 0 & (0.040+0.252j) & -0.490 & (-0.084-0.150j) & (-0.048-0.247j) & (0.112-0.336j)\\\\(-0.119+0.202j) & (-0.697-0.567j) & 0 & (-0.210+0.306j) & 0 & 0 & 0 & 0 & 0\\\\0 & 0 & (0.040+0.252j) & 0 & (-0.520-0.486j) & (0.154+0.188j) & (0.040+0.252j) & (0.154+0.188j) & (-0.119-0.481j)\\\\0 & 0 & -0.490 & 0 & (0.154+0.188j) & (0.334+0.330j) & (-0.048-0.247j) & (-0.086-0.423j) & (-0.195-0.439j)\\\\0 & 0 & (-0.084-0.150j) & 0 & (0.040+0.252j) & (-0.048-0.247j) & (0.336+0.603j) & -0.490 & (0.112-0.336j)\\\\0 & 0 & (-0.048-0.247j) & 0 & (0.154+0.188j) & (-0.086-0.423j) & -0.490 & (0.334+0.330j) & (-0.195-0.439j)\\\\0 & 0 & (0.112-0.336j) & 0 & (-0.119-0.481j) & (-0.195-0.439j) & (0.112-0.336j) & (-0.195-0.439j) & (-0.136-0.152j)\\end{array}\\right)$$"
      ],
      "text/plain": [
       "Quantum object: dims=[[3, 3], [3, 3]], shape=(9, 9), type='oper', dtype=Dense, isherm=False\n",
       "Qobj data =\n",
       "[[-0.6697186 -6.64738340e-01j -0.11853712+2.01863610e-01j\n",
       "   0.        +0.00000000e+00j -0.11853712+2.01863610e-01j\n",
       "   0.        +0.00000000e+00j  0.        +0.00000000e+00j\n",
       "   0.        +0.00000000e+00j  0.        +0.00000000e+00j\n",
       "   0.        +0.00000000e+00j]\n",
       " [-0.11853712+2.01863610e-01j -0.20980258+3.06143089e-01j\n",
       "   0.        +0.00000000e+00j -0.69699026-5.67154209e-01j\n",
       "   0.        +0.00000000e+00j  0.        +0.00000000e+00j\n",
       "   0.        +0.00000000e+00j  0.        +0.00000000e+00j\n",
       "   0.        +0.00000000e+00j]\n",
       " [ 0.        +0.00000000e+00j  0.        +0.00000000e+00j\n",
       "   0.33621994+6.02683489e-01j  0.        +0.00000000e+00j\n",
       "   0.03988084+2.51571282e-01j -0.49013981-3.84635749e-04j\n",
       "  -0.08389118-1.50377252e-01j -0.04793206-2.47079735e-01j\n",
       "   0.1119558 -3.36276617e-01j]\n",
       " [-0.11853712+2.01863610e-01j -0.69699026-5.67154209e-01j\n",
       "   0.        +0.00000000e+00j -0.20980258+3.06143089e-01j\n",
       "   0.        +0.00000000e+00j  0.        +0.00000000e+00j\n",
       "   0.        +0.00000000e+00j  0.        +0.00000000e+00j\n",
       "   0.        +0.00000000e+00j]\n",
       " [ 0.        +0.00000000e+00j  0.        +0.00000000e+00j\n",
       "   0.03988084+2.51571282e-01j  0.        +0.00000000e+00j\n",
       "  -0.51961315-4.86147705e-01j  0.15410836+1.87847007e-01j\n",
       "   0.03988084+2.51571282e-01j  0.15410836+1.87847007e-01j\n",
       "  -0.11877094-4.81380410e-01j]\n",
       " [ 0.        +0.00000000e+00j  0.        +0.00000000e+00j\n",
       "  -0.49013981-3.84635749e-04j  0.        +0.00000000e+00j\n",
       "   0.15410836+1.87847007e-01j  0.33394823+3.30131146e-01j\n",
       "  -0.04793206-2.47079735e-01j -0.0861629 -4.22929594e-01j\n",
       "  -0.19538933-4.38637196e-01j]\n",
       " [ 0.        +0.00000000e+00j  0.        +0.00000000e+00j\n",
       "  -0.08389118-1.50377252e-01j  0.        +0.00000000e+00j\n",
       "   0.03988084+2.51571282e-01j -0.04793206-2.47079735e-01j\n",
       "   0.33621994+6.02683489e-01j -0.49013981-3.84635749e-04j\n",
       "   0.1119558 -3.36276617e-01j]\n",
       " [ 0.        +0.00000000e+00j  0.        +0.00000000e+00j\n",
       "  -0.04793206-2.47079735e-01j  0.        +0.00000000e+00j\n",
       "   0.15410836+1.87847007e-01j -0.0861629 -4.22929594e-01j\n",
       "  -0.49013981-3.84635749e-04j  0.33394823+3.30131146e-01j\n",
       "  -0.19538933-4.38637196e-01j]\n",
       " [ 0.        +0.00000000e+00j  0.        +0.00000000e+00j\n",
       "   0.1119558 -3.36276617e-01j  0.        +0.00000000e+00j\n",
       "  -0.11877094-4.81380410e-01j -0.19538933-4.38637196e-01j\n",
       "   0.1119558 -3.36276617e-01j -0.19538933-4.38637196e-01j\n",
       "  -0.13617818-1.52415812e-01j]]"
      ]
     },
     "execution_count": 4,
     "metadata": {},
     "output_type": "execute_result"
    }
   ],
   "source": [
    "coeff_list = [1, 1, 1, 1]\n",
    "H_new = H.total_operator(coeff_list=coeff_list, ops_list=ops_list)\n",
    "H.propagator(H = H_new, T = 100)"
   ]
  }
 ],
 "metadata": {
  "kernelspec": {
   "display_name": "venv",
   "language": "python",
   "name": "python3"
  },
  "language_info": {
   "codemirror_mode": {
    "name": "ipython",
    "version": 3
   },
   "file_extension": ".py",
   "mimetype": "text/x-python",
   "name": "python",
   "nbconvert_exporter": "python",
   "pygments_lexer": "ipython3",
   "version": "3.9.13"
  }
 },
 "nbformat": 4,
 "nbformat_minor": 2
}
