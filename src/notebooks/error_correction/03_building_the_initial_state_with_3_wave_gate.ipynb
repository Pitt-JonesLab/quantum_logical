{
 "cells": [
  {
   "cell_type": "code",
   "execution_count": 1,
   "metadata": {},
   "outputs": [
    {
     "name": "stderr",
     "output_type": "stream",
     "text": [
      "c:\\Users\\girgi\\Desktop\\Github\\quantum_logical\\venv\\lib\\site-packages\\qutip\\solver\\options.py:16: FutureWarning: Dedicated options class are no longer needed, options should be passed as dict to solvers.\n",
      "  warnings.warn(\n"
     ]
    }
   ],
   "source": [
    "# run this same experiment again but instead of 2,0,0 -> 0,0,2 have 2,0,0 -> 0,1,1 this would be cool \n",
    "# declaring all dependancies    \n",
    "import qutip as qt\n",
    "import numpy as np\n",
    "from quantum_logical.pulsesim import QuantumSystem, Pulse\n",
    "from quantum_logical.pulsesim.mode import QubitMode, SNAILMode, CavityMode\n",
    "from quantum_logical.pulsesim.build_hamiltonian import Build_hamiltonian\n",
    "import matplotlib.pyplot as plt\n",
    "from qutip import Options\n",
    "from tqdm import tqdm_notebook as tqdm\n",
    "from progressbar import progressbar\n",
    "import concurrent.futures\n",
    "\n",
    "opts = Options(nsteps=1e6, atol=1e-8, rtol=1e-6)\n",
    "p_bar = qt.ui.TextProgressBar()  # None"
   ]
  },
  {
   "cell_type": "code",
   "execution_count": 14,
   "metadata": {},
   "outputs": [],
   "source": [
    "# adding all of the necessary elements to the full creation of the system \n",
    "qubit_dim = 3\n",
    "\n",
    "# frequencies \n",
    "w1_un = 4\n",
    "w2_un = 6\n",
    "w3_un = 4.6666666666666666\n",
    "ws_un = 5.6666666666666666\n",
    "\n",
    "# coupling strength coefficient \n",
    "g1s = 2 * np.pi * 0.05467\n",
    "g2s = 2 * np.pi * 0.0435\n",
    "g3s = 2 * np.pi * 0.04875\n",
    "\n",
    "# create array of the coefficients should be useful \n",
    "gs = [g1s, g2s, g3s]\n",
    "\n",
    "# unknown value as of now \n",
    "g3 = .1"
   ]
  },
  {
   "cell_type": "code",
   "execution_count": 15,
   "metadata": {},
   "outputs": [],
   "source": [
    "# creating the qubits and the hilbert space\n",
    "qubit1 = QubitMode(\n",
    "    mode_type=\"Qubit\", name=\"q1\", dim=qubit_dim, freq=w1_un, alpha=-0.161, T1=1e2, T2=5e1\n",
    ")\n",
    "qubit2 = QubitMode(\n",
    "    mode_type=\"Qubit\", name=\"q2\", dim=qubit_dim, freq=w2_un, alpha=-0.1275, T1=1e2, T2=5e1\n",
    ")\n",
    "qubit3 = QubitMode(\n",
    "    mode_type=\"Qubit\", name=\"q3\", dim=qubit_dim, freq=w3_un, alpha=-0.160, T1=1e2, T2=5e1\n",
    ")\n",
    "qubits = [qubit1, qubit2, qubit3]\n",
    "snail = SNAILMode(mode_type=\"Snail\", name=\"s\", freq=ws_un, g3=0.3, dim=10, T1=1e3, T2=5e2)\n",
    "_couplings = {\n",
    "    frozenset([qubit1, snail]): 2 * np.pi * 0.05467,\n",
    "    frozenset([qubit2, snail]): 2 * np.pi * 0.0435,\n",
    "    frozenset([qubit3, snail]): 2 * np.pi * 0.04875\n",
    "}\n",
    "\n",
    "qs = QuantumSystem(qubits + [snail], couplings=_couplings)\n",
    "\n",
    "system = []\n",
    "system.extend(qubits)\n",
    "system.extend([snail])"
   ]
  },
  {
   "cell_type": "markdown",
   "metadata": {},
   "source": [
    "Will have to build the iswap using the 3-wave-mixing stuff.\n",
    "Will have to build the controlled Z using sqrtiswaps and that is when the hamiltonian comes into effect.\n",
    "Although we have three qubits labeled above the ancillas are a part of the three"
   ]
  },
  {
   "cell_type": "code",
   "execution_count": 16,
   "metadata": {},
   "outputs": [
    {
     "data": {
      "text/latex": [
       "Quantum object: dims=[[3, 3, 3], [1, 1, 1]], shape=(27, 1), type='ket', dtype=Dense$$\\left(\\begin{array}{cc}0.707\\\\0\\\\0.707\\\\0\\\\0\\\\\\vdots\\\\0\\\\0\\\\0\\\\0\\\\0\\end{array}\\right)$$"
      ],
      "text/plain": [
       "Quantum object: dims=[[3, 3, 3], [1, 1, 1]], shape=(27, 1), type='ket', dtype=Dense\n",
       "Qobj data =\n",
       "[[0.70710678]\n",
       " [0.        ]\n",
       " [0.70710678]\n",
       " [0.        ]\n",
       " [0.        ]\n",
       " [0.        ]\n",
       " [0.        ]\n",
       " [0.        ]\n",
       " [0.        ]\n",
       " [0.        ]\n",
       " [0.        ]\n",
       " [0.        ]\n",
       " [0.        ]\n",
       " [0.        ]\n",
       " [0.        ]\n",
       " [0.        ]\n",
       " [0.        ]\n",
       " [0.        ]\n",
       " [0.        ]\n",
       " [0.        ]\n",
       " [0.        ]\n",
       " [0.        ]\n",
       " [0.        ]\n",
       " [0.        ]\n",
       " [0.        ]\n",
       " [0.        ]\n",
       " [0.        ]]"
      ]
     },
     "execution_count": 16,
     "metadata": {},
     "output_type": "execute_result"
    }
   ],
   "source": [
    "# create the initial states of the qutrits\n",
    "# physical qubits \n",
    "q = 1 # number of physical qubits \n",
    "qubit1_state = qt.basis(qubit_dim, 0) + qt.basis(qubit_dim, 2)\n",
    "qubit1_state /= qubit1_state.norm()\n",
    "\n",
    "initial_encoded_state = qubit1_state\n",
    "# prepare the ancillas in their respective states\n",
    "for _ in range(2*q):\n",
    "    initial_encoded_state = qt.tensor(qt.basis(qubit_dim, 0), initial_encoded_state)\n",
    "    initial_encoded_state /= initial_encoded_state.norm()\n",
    "\n",
    "initial_encoded_state"
   ]
  },
  {
   "cell_type": "code",
   "execution_count": 17,
   "metadata": {},
   "outputs": [],
   "source": [
    "# creating a loss channel that will run during the gate "
   ]
  },
  {
   "cell_type": "code",
   "execution_count": null,
   "metadata": {},
   "outputs": [],
   "source": [
    "# create decay channels that will run at all times "
   ]
  },
  {
   "cell_type": "code",
   "execution_count": 18,
   "metadata": {},
   "outputs": [],
   "source": [
    "# iswap out of 3-wave"
   ]
  },
  {
   "cell_type": "code",
   "execution_count": null,
   "metadata": {},
   "outputs": [],
   "source": [
    "# evolve the system and keep track of the times \n",
    "# build a time frame for checking if an error occured "
   ]
  },
  {
   "cell_type": "code",
   "execution_count": 19,
   "metadata": {},
   "outputs": [],
   "source": [
    "# build the CZ gate "
   ]
  },
  {
   "cell_type": "code",
   "execution_count": null,
   "metadata": {},
   "outputs": [],
   "source": [
    "# implement the CZ gate"
   ]
  }
 ],
 "metadata": {
  "kernelspec": {
   "display_name": "venv",
   "language": "python",
   "name": "python3"
  },
  "language_info": {
   "codemirror_mode": {
    "name": "ipython",
    "version": 3
   },
   "file_extension": ".py",
   "mimetype": "text/x-python",
   "name": "python",
   "nbconvert_exporter": "python",
   "pygments_lexer": "ipython3",
   "version": "3.9.13"
  }
 },
 "nbformat": 4,
 "nbformat_minor": 2
}
