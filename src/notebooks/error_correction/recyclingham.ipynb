{
 "cells": [
  {
   "cell_type": "code",
   "execution_count": 12,
   "metadata": {},
   "outputs": [
    {
     "name": "stderr",
     "output_type": "stream",
     "text": [
      "c:\\Users\\girgi\\Desktop\\Github\\quantum_logical\\venv\\lib\\site-packages\\qutip\\solver\\options.py:16: FutureWarning: Dedicated options class are no longer needed, options should be passed as dict to solvers.\n",
      "  warnings.warn(\n"
     ]
    }
   ],
   "source": [
    "# run this same experiment again but instead of 2,0,0 -> 0,0,2 have 2,0,0 -> 0,1,1 this would be cool \n",
    "# declaring all dependancies    \n",
    "import qutip as qt\n",
    "import numpy as np\n",
    "from quantum_logical.pulsesim import QuantumSystem, Pulse\n",
    "from quantum_logical.pulsesim.mode import QubitMode, SNAILMode, CavityMode\n",
    "from quantum_logical.pulsesim.build_hamiltonian import Build_hamiltonian\n",
    "import matplotlib.pyplot as plt\n",
    "from qutip import Options\n",
    "from tqdm import tqdm_notebook as tqdm\n",
    "from progressbar import progressbar\n",
    "from multiprocessing.pool import ThreadPool, Pool\n",
    "import threading\n",
    "\n",
    "opts = Options(nsteps=1e6, atol=1e-8, rtol=1e-6)\n",
    "p_bar = qt.ui.TextProgressBar()  # None"
   ]
  },
  {
   "cell_type": "code",
   "execution_count": 13,
   "metadata": {},
   "outputs": [],
   "source": [
    "# adding all of the necessary elements to the full creation of the system \n",
    "qubit_dim = 2\n",
    "\n",
    "# frequencies \n",
    "w1_un = 4\n",
    "w2_un = 6\n",
    "w3_un = 4.6666666666666666\n",
    "ws_un = 5.6666666666666666\n",
    "\n",
    "# coupling strength coefficient \n",
    "g1s = 2 * np.pi * 0.05467\n",
    "g2s = 2 * np.pi * 0.0435\n",
    "g3s = 2 * np.pi * 0.04875\n",
    "\n",
    "# create array of the coefficients should be useful \n",
    "gs = [g1s, g2s, g3s]\n",
    "\n",
    "# unknown value as of now \n",
    "g3 = .1"
   ]
  },
  {
   "cell_type": "code",
   "execution_count": 14,
   "metadata": {},
   "outputs": [],
   "source": [
    "# creating the qubits and the hilbert space\n",
    "qubit1 = QubitMode(\n",
    "    mode_type=\"Qubit\", name=\"q1\", dim=qubit_dim, freq=w1_un, alpha=-0.161, T1=1e2, T2=5e1\n",
    ")\n",
    "qubit2 = QubitMode(\n",
    "    mode_type=\"Qubit\", name=\"q2\", dim=qubit_dim, freq=w2_un, alpha=-0.1275, T1=1e2, T2=5e1\n",
    ")\n",
    "qubit3 = QubitMode(\n",
    "    mode_type=\"Qubit\", name=\"q3\", dim=qubit_dim, freq=w3_un, alpha=-0.160, T1=1e2, T2=5e1\n",
    ")\n",
    "qubits = [qubit1, qubit2, qubit3]\n",
    "snail = SNAILMode(mode_type=\"Snail\", name=\"s\", freq=ws_un, g3=0.3, dim=10, T1=1e3, T2=5e2)\n",
    "_couplings = {\n",
    "    frozenset([qubit1, snail]): 2 * np.pi * 0.05467,\n",
    "    frozenset([qubit2, snail]): 2 * np.pi * 0.0435,\n",
    "    frozenset([qubit3, snail]): 2 * np.pi * 0.04875\n",
    "}\n",
    "\n",
    "qs = QuantumSystem(qubits + [snail], couplings=_couplings)\n",
    "\n",
    "system = []\n",
    "system.extend(qubits)\n",
    "system.extend([snail])"
   ]
  },
  {
   "cell_type": "code",
   "execution_count": 15,
   "metadata": {},
   "outputs": [],
   "source": [
    "# list of qubit coupling strengths that will be given\n",
    "g13 = g23 = g12 = .01\n",
    "gqs = [[qubit1.freq,g12,g13],[g12,qubit2.freq,g23],[g13,g23,qubit3.freq]]\n",
    "\n",
    "# creating the list of alphas that will be given to us \n",
    "a1 = a2 = a3 = .1\n",
    "alphas = [a1, a2, a3]"
   ]
  },
  {
   "cell_type": "code",
   "execution_count": 16,
   "metadata": {},
   "outputs": [],
   "source": [
    "# building the hammiltonian up to the pump term \n",
    "# creating the linear parts of the hamiltonian  \n",
    "# the qubit and snail separate terms\n",
    "H_no_interaction = [(i.freq / (2 * np.pi)) * (qs.modes_a_dag[i] * qs.modes_a[i]) for i in system]\n",
    "\n",
    "# creating the snail mixing with the qubits terms\n",
    "H_snail_qubits = [gs[qubits.index(i)] * (qs.modes_field[snail] * qs.modes_field[i]) for i in qubits]\n",
    "\n",
    "# adding the coupling terms between the qubits \n",
    "H_qubit_qubit = []\n",
    "\n",
    "for i in range(len(qubits)):\n",
    "    for j in range(len(qubits)):\n",
    "        if j > i:\n",
    "            H_qubit_qubit.append(gqs[i][j] * (qs.modes_field[qubits[i]] * qs.modes_field[qubits[j]]))\n",
    "\n",
    "# creating the nonlinear parts of the hamiltonian \n",
    "# adding the snail third order term first \n",
    "H_snail_third = [g3 * ((qs.modes_field[snail]) ** 3)]\n",
    "\n",
    "# add the qubit non-linearity \n",
    "H_qubit_fourth = [alphas[qubits.index(i)] * (qs.modes_field[i] ** 4) for i in qubits]"
   ]
  },
  {
   "cell_type": "code",
   "execution_count": 17,
   "metadata": {},
   "outputs": [],
   "source": [
    "H_total_no_time = []\n",
    "# adding the linear parts into the hamiltonian \n",
    "H_total_no_time.extend(H_no_interaction)\n",
    "H_total_no_time.extend(H_snail_qubits)\n",
    "H_total_no_time.extend(H_qubit_qubit)\n",
    "# adding the non-linear parts \n",
    "H_total_no_time.extend(H_snail_third)\n",
    "H_total_no_time.extend(H_qubit_fourth)"
   ]
  },
  {
   "cell_type": "code",
   "execution_count": 18,
   "metadata": {},
   "outputs": [],
   "source": [
    "H_no_time = sum(H_total_no_time)\n",
    "freq_list  = [qubit1.freq / (2 * np.pi), qubit2.freq / (2 * np.pi), qubit3.freq / (2 * np.pi), snail.freq / (2 * np.pi)] "
   ]
  },
  {
   "cell_type": "code",
   "execution_count": 19,
   "metadata": {},
   "outputs": [],
   "source": [
    "# Hamiltonian construction\n",
    "H_no_interaction1 = [freq_list[system.index(i)] * (qs.modes_a_dag[i] * qs.modes_a[i]) for i in system]\n",
    "H_qubit_snail1 = [gs[qubits.index(i)] * (qs.modes_field[snail] * qs.modes_field[i]) for i in qubits]\n",
    "H_qubit_qubit1 = [gqs[i][j] * (qs.modes_field[system[i]] * qs.modes_field[system[j]]) if j < i else 0 for i in range(3) for j in range(3)]\n",
    "# H_qubit_qubit = []\n",
    "\n",
    "# for i in range(len(qubits)):\n",
    "#     for j in range(len(qubits)):\n",
    "#         if j > i:\n",
    "#             H_qubit_qubit.append(gqq[i][j] * (qs.modes_field[qubits[i]] * qs.modes_field[qubits[j]]))\n",
    "\n",
    "H_snail_third1 = [g3 * (qs.modes_field[snail] ** 3)]\n",
    "H_qubit_fourth1 = [(alphas[qubits.index(i)]) * (qs.modes_field[i] ** 4) for i in qubits]\n",
    "\n",
    "H_total_no_time1 = []\n",
    "H_total_no_time1.extend(H_no_interaction1)\n",
    "H_total_no_time1.extend(H_qubit_snail1)\n",
    "H_total_no_time1.extend(H_qubit_qubit1)\n",
    "H_total_no_time1.extend(H_qubit_fourth1)\n",
    "H_total_no_time1.extend(H_snail_third1)\n",
    "\n",
    "H_no_time1= sum(H_total_no_time1)"
   ]
  },
  {
   "cell_type": "code",
   "execution_count": 20,
   "metadata": {},
   "outputs": [
    {
     "data": {
      "text/plain": [
       "True"
      ]
     },
     "execution_count": 20,
     "metadata": {},
     "output_type": "execute_result"
    }
   ],
   "source": [
    "H_no_time == H_no_time1"
   ]
  },
  {
   "cell_type": "code",
   "execution_count": null,
   "metadata": {},
   "outputs": [],
   "source": []
  }
 ],
 "metadata": {
  "kernelspec": {
   "display_name": "venv",
   "language": "python",
   "name": "python3"
  },
  "language_info": {
   "codemirror_mode": {
    "name": "ipython",
    "version": 3
   },
   "file_extension": ".py",
   "mimetype": "text/x-python",
   "name": "python",
   "nbconvert_exporter": "python",
   "pygments_lexer": "ipython3",
   "version": "3.9.13"
  }
 },
 "nbformat": 4,
 "nbformat_minor": 2
}
