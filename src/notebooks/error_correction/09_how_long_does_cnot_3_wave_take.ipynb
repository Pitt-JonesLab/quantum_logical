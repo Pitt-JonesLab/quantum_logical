{
 "cells": [
  {
   "cell_type": "code",
   "execution_count": 2,
   "metadata": {},
   "outputs": [],
   "source": [
    "# run this same experiment again but instead of 2,0,0 -> 0,0,2 have 2,0,0 -> 0,1,1 this would be cool \n",
    "# declaring all dependancies    \n",
    "import qutip as qt\n",
    "import numpy as np\n",
    "from quantum_logical.pulsesim import QuantumSystem, Pulse\n",
    "from quantum_logical.pulsesim.mode import QubitMode, SNAILMode, CavityMode\n",
    "from quantum_logical.pulsesim.build_hamiltonian import Build_hamiltonian\n",
    "import matplotlib.pyplot as plt\n",
    "from quantum_logical.channel import AmplitudeDamping, PhaseDamping\n",
    "from quantum_logical.trotter import TrotterGroup\n",
    "from quantum_logical.interaction import ConversionGainInteraction\n",
    "from qutip import Options\n",
    "from tqdm import tqdm\n",
    "from progressbar import progressbar\n",
    "from threading import Thread\n",
    "from multiprocessing.pool import Pool, ThreadPool\n",
    "from numpy.linalg import eig\n",
    "from quantum_logical.creating_operators import Creating_operators\n",
    "from quantum_logical.operators import selective_destroy\n",
    "\n",
    "# opts = Options(nsteps=1e6, atol=1e-8, rtol=1e-6)\n",
    "# p_bar = qt.ui.TextProgressBar()  # None\n",
    "opts = {\"nsteps\": 1e6, \"atol\": 1e-8, \"rtol\": 1e-6, \"progress_bar\": \"text\"}"
   ]
  },
  {
   "cell_type": "code",
   "execution_count": 3,
   "metadata": {},
   "outputs": [],
   "source": [
    "fund_ops_list = []\n",
    "H = Creating_operators(qubit_count=2, qubit_dim=3)\n",
    "fund_ops_list.append(H.create_ops_unconventional_annhilation(from_level=0, to_level=1))  # this is not necessary with the new addition for the operator \n",
    "fund_ops_list.append(H.create_ops_unconventional_annhilation(from_level=1, to_level=2))\n",
    "\n",
    "# # list of operators based on the fundamental single qubit operators \n",
    "# ops_list = []\n",
    "# ops_list.append(qt.tensor(fund_ops_list[0], fund_ops_list[1].dag()))\n",
    "# ops_list.append(qt.tensor(fund_ops_list[1], fund_ops_list[0].dag()))\n",
    "# ops_list.append(qt.tensor(fund_ops_list[1].dag(), fund_ops_list[0]))\n",
    "# ops_list.append(qt.tensor(fund_ops_list[0].dag(), fund_ops_list[1]))\n",
    "\n",
    "# list of operators based on the full dimension operators\n",
    "ops_list = []\n",
    "ops_list.append(H.creating_ops_full_dim(qubit1_from=1, qubit1_to=0, qubit2_from=1, qubit2_to=2))\n",
    "ops_list.append(H.creating_ops_full_dim(qubit1_from=2, qubit1_to=1, qubit2_from=0, qubit2_to=1))\n",
    "ops_list.append(H.creating_ops_full_dim(qubit1_from=1, qubit1_to=2, qubit2_from=1, qubit2_to=0))\n",
    "ops_list.append(H.creating_ops_full_dim(qubit1_from=0, qubit1_to=1, qubit2_from=2, qubit2_to=1))\n",
    "\n",
    "ops_list1 = []\n",
    "ops_list1.append(H.create_ops_unconventional_annhilation(from_level=1, to_level=0))\n",
    "ops_list1.append(H.create_ops_unconventional_annhilation(from_level=2, to_level=1))\n",
    "\n",
    "# this doesnt work yet but it is necessary for this to work\n",
    "# ops_list2 = []\n",
    "# ops_list1 = np.zeros((9,9), dtype=complex)\n",
    "# for i in range(len(ops_list)):\n",
    "#     for j in range(ops_list[i].shape[0]):\n",
    "#         for k in range(ops_list[i].shape[0]):\n",
    "#             ops_list1[j,k] = ops_list[i][j,k]\n",
    "#     ops_list2.append(ops_list1)\n",
    "\n",
    "# for i in range(len(ops_list2)):\n",
    "#     ops_list2[i] = qt.Qobj(ops_list2[i])\n",
    "\n",
    "# ops_list[0].shape[0]\n"
   ]
  },
  {
   "cell_type": "code",
   "execution_count": 4,
   "metadata": {},
   "outputs": [
    {
     "data": {
      "text/plain": [
       "True"
      ]
     },
     "execution_count": 4,
     "metadata": {},
     "output_type": "execute_result"
    }
   ],
   "source": [
    "selective_destroy(levels=3, from_level=1, to_level=0) == ops_list1[0]"
   ]
  },
  {
   "cell_type": "code",
   "execution_count": 5,
   "metadata": {},
   "outputs": [],
   "source": [
    "# put in the target cnot \n",
    "# check that these operations give a cnot\n",
    "H_new = ConversionGainInteraction(gg=np.pi / 4, gc= np.pi / 4, transmon_levels=3)\n",
    "U_cnot_no_time = H_new.construct_U(1.0)\n",
    "# H_mine = (np.pi / 4) * qt.tensor(ops_list1[0], ops_list1[0].dag()) + (np.pi / 4) * qt.tensor(ops_list1[0], ops_list1[0]) + (np.pi / 4) * qt.tensor(ops_list1[0], ops_list1[0].dag()).dag() + (np.pi / 4) * qt.tensor(ops_list1[0], ops_list1[0]).dag()\n",
    "# U_mine = H.propagator(H=H_mine, T=1)\n",
    "# U_mine"
   ]
  },
  {
   "cell_type": "code",
   "execution_count": 6,
   "metadata": {},
   "outputs": [
    {
     "data": {
      "text/latex": [
       "Quantum object: dims=[[3, 3], [3, 3]], shape=(9, 9), type='oper', dtype=Dense, isherm=False$$\\left(\\begin{array}{cc}0.707 & 0 & 0 & 0 & -0.707j & 0 & 0 & 0 & 0\\\\0 & 0.707 & 0 & -0.707j & 0 & 0 & 0 & 0 & 0\\\\0 & 0 & 1 & 0 & 0 & 0 & 0 & 0 & 0\\\\0 & -0.707j & 0 & 0.707 & 0 & 0 & 0 & 0 & 0\\\\-0.707j & 0 & 0 & 0 & 0.707 & 0 & 0 & 0 & 0\\\\0 & 0 & 0 & 0 & 0 & 1 & 0 & 0 & 0\\\\0 & 0 & 0 & 0 & 0 & 0 & 1 & 0 & 0\\\\0 & 0 & 0 & 0 & 0 & 0 & 0 & 1 & 0\\\\0 & 0 & 0 & 0 & 0 & 0 & 0 & 0 & 1\\end{array}\\right)$$"
      ],
      "text/plain": [
       "Quantum object: dims=[[3, 3], [3, 3]], shape=(9, 9), type='oper', dtype=Dense, isherm=False\n",
       "Qobj data =\n",
       "[[0.70710678+0.j         0.        +0.j         0.        +0.j\n",
       "  0.        +0.j         0.        -0.70710678j 0.        +0.j\n",
       "  0.        +0.j         0.        +0.j         0.        +0.j        ]\n",
       " [0.        +0.j         0.70710678+0.j         0.        +0.j\n",
       "  0.        -0.70710678j 0.        +0.j         0.        +0.j\n",
       "  0.        +0.j         0.        +0.j         0.        +0.j        ]\n",
       " [0.        +0.j         0.        +0.j         1.        +0.j\n",
       "  0.        +0.j         0.        +0.j         0.        +0.j\n",
       "  0.        +0.j         0.        +0.j         0.        +0.j        ]\n",
       " [0.        +0.j         0.        -0.70710678j 0.        +0.j\n",
       "  0.70710678+0.j         0.        +0.j         0.        +0.j\n",
       "  0.        +0.j         0.        +0.j         0.        +0.j        ]\n",
       " [0.        -0.70710678j 0.        +0.j         0.        +0.j\n",
       "  0.        +0.j         0.70710678+0.j         0.        +0.j\n",
       "  0.        +0.j         0.        +0.j         0.        +0.j        ]\n",
       " [0.        +0.j         0.        +0.j         0.        +0.j\n",
       "  0.        +0.j         0.        +0.j         1.        +0.j\n",
       "  0.        +0.j         0.        +0.j         0.        +0.j        ]\n",
       " [0.        +0.j         0.        +0.j         0.        +0.j\n",
       "  0.        +0.j         0.        +0.j         0.        +0.j\n",
       "  1.        +0.j         0.        +0.j         0.        +0.j        ]\n",
       " [0.        +0.j         0.        +0.j         0.        +0.j\n",
       "  0.        +0.j         0.        +0.j         0.        +0.j\n",
       "  0.        +0.j         1.        +0.j         0.        +0.j        ]\n",
       " [0.        +0.j         0.        +0.j         0.        +0.j\n",
       "  0.        +0.j         0.        +0.j         0.        +0.j\n",
       "  0.        +0.j         0.        +0.j         1.        +0.j        ]]"
      ]
     },
     "execution_count": 6,
     "metadata": {},
     "output_type": "execute_result"
    }
   ],
   "source": [
    "U_cnot_no_time"
   ]
  },
  {
   "cell_type": "code",
   "execution_count": 7,
   "metadata": {},
   "outputs": [],
   "source": [
    "# full hamiltonian with snail terms\n",
    "# H_no_time = "
   ]
  },
  {
   "cell_type": "code",
   "execution_count": 11,
   "metadata": {},
   "outputs": [
    {
     "ename": "SyntaxError",
     "evalue": "invalid syntax (253029997.py, line 35)",
     "output_type": "error",
     "traceback": [
      "\u001b[1;36m  Cell \u001b[1;32mIn[11], line 35\u001b[1;36m\u001b[0m\n\u001b[1;33m    H = [[qt.tensor(ops_list1[0], ops_list1[0].dag()), pulse1.drive], [qt.tensor(ops_list1[0], ops_list1[0]) pulse2.drive],\u001b[0m\n\u001b[1;37m                                                                                                             ^\u001b[0m\n\u001b[1;31mSyntaxError\u001b[0m\u001b[1;31m:\u001b[0m invalid syntax\n"
     ]
    }
   ],
   "source": [
    "# make the table of coefficients and then create the pulse object (smooth box is probably the best idea)\n",
    "gg_coeff = gc_coeff = np.linspace(0, 2 * np.pi, 10)\n",
    "time_coeff = np.linspace(10,100,10)\n",
    "coeffs = [(i, j, k) for i in gg_coeff for j in gc_coeff for k in time_coeff]\n",
    "# create the gain and conversion operators \n",
    "\n",
    "# def sim_task_gate(coeffs):\n",
    "#      gg, gc, time = coeffs\n",
    "\n",
    "#      tlist = np.linspace(0, time, 20)\n",
    "#      # build the pulse\n",
    "#      args = {\"shape\": Pulse.box, \"shape_params\": {\"t0\": time * .05, \"width\": time * .9}}\n",
    "#      pulse1 = Pulse(amp = gg)\n",
    "#      pulse2 = Pulse(amp = gc)\n",
    "\n",
    "#      H = [[qt.tensor(ops_list1[0], ops_list1[0].dag()), pulse1.drive], [qt.tensor(ops_list1[0], ops_list1[0]), pulse2.drive],\n",
    "#           [qt.tensor(ops_list1[0], ops_list1[0].dag()).dag(), pulse1.drive], [qt.tensor(ops_list1[0], ops_list1[0]).dag(), pulse2.drive]]\n",
    "\n",
    "#      U_prop_target = qt.propagator(H=H, t=tlist, args=args)\n",
    "\n",
    "#      fid = qt.process_fidelity(U_prop_target, U_cnot_no_time)\n",
    "\n",
    "#      return fid \n",
    "\n",
    "# results = qt.parallel.parallel_map(task=sim_task_gate, values=coeffs, progress_bar=True)\n",
    "fid = []\n",
    "\n",
    "for i in tqdm(coeffs):\n",
    "     tlist = np.linspace(0, i[2], 20)\n",
    "     # build the pulse\n",
    "     args = {\"shape\": Pulse.box, \"shape_params\": {\"t0\": i[2] * .05, \"width\": i[2] * .9}}\n",
    "     pulse1 = Pulse(omega=0, amp = i[1])\n",
    "     pulse2 = Pulse(omega=0, amp = i[0])\n",
    "\n",
    "     H = [[qt.tensor(ops_list1[0], ops_list1[0].dag()), pulse1.drive], [qt.tensor(ops_list1[0], ops_list1[0]), pulse2.drive],\n",
    "          [qt.tensor(ops_list1[0], ops_list1[0].dag()).dag(), pulse1.drive], [qt.tensor(ops_list1[0], ops_list1[0]).dag(), pulse2.drive]]\n",
    "\n",
    "     U_prop_target = qt.propagator(H=H, t=tlist, args=args)\n",
    "\n",
    "     fid.append(qt.average_gate_fidelity(U_prop_target, U_cnot_no_time))\n",
    "\n",
    "\n",
    "# how can fidelity be best measured between the propagators and make sure that you are not getting inappropriate values. \n",
    "# what is the frequency of the pulse?\n"
   ]
  },
  {
   "cell_type": "code",
   "execution_count": null,
   "metadata": {},
   "outputs": [],
   "source": [
    "# use the abbreviated hamiltonian \n",
    "H_abv = [qt.tensor(ops_list1[0], ops_list1[0].dag()), qt.tensor(ops_list1[0], ops_list1[0]),\n",
    "        qt.tensor(ops_list1[0], ops_list1[0].dag()).dag(), qt.tensor(ops_list1[0], ops_list1[0]).dag(),\n",
    "        qt.tensor(ops_list1[1], ops_list1[1].dag()), qt.tensor(ops_list1[1], ops_list1[1]),\n",
    "        qt.tensor(ops_list1[1], ops_list1[1].dag()).dag(), qt.tensor(ops_list1[1], ops_list1[1]).dag()]\n",
    "# this hamiltonian contains the conversion and gain terms that go from 1 to 0 and from 1 to 2\n",
    "# do the analysis as before and find how high of a fidelity you can get to get the results that give a matrix that makes sense"
   ]
  },
  {
   "cell_type": "code",
   "execution_count": 12,
   "metadata": {},
   "outputs": [
    {
     "name": "stderr",
     "output_type": "stream",
     "text": [
      "100%|██████████| 10000/10000 [07:18<00:00, 22.80it/s]\n"
     ]
    }
   ],
   "source": [
    "fid1 = []\n",
    "# time is set \n",
    "freq1 = freq2 = np.linspace(0, 4, 10)\n",
    "amp1 = amp2 = np.linspace(0, 4, 10)\n",
    "coeffs2 = [(i, j, k, l) for i in freq1 for j in freq2 for k in amp1 for l in amp2]\n",
    "full_time = 100\n",
    "tlist = np.linspace(0, full_time, 20)\n",
    "for i in tqdm(coeffs2):\n",
    "    #  tlist = np.linspace(0, i[2], 20)\n",
    "     # build the pulse\n",
    "     args = {\"shape\": Pulse.box, \"shape_params\": {\"t0\": full_time * .05, \"width\": full_time * .9}}\n",
    "     pulse1 = Pulse(omega=i[0], amp = i[2])\n",
    "     pulse2 = Pulse(omega=i[1], amp = i[3])\n",
    "\n",
    "     H = [[qt.tensor(ops_list1[0], ops_list1[0].dag()), pulse1.drive], [qt.tensor(ops_list1[0], ops_list1[0]), pulse2.drive],\n",
    "          [qt.tensor(ops_list1[0], ops_list1[0].dag()).dag(), pulse1.drive], [qt.tensor(ops_list1[0], ops_list1[0]).dag(), pulse2.drive]]\n",
    "\n",
    "     U_prop_target = qt.propagator(H=H, t=tlist, args=args)\n",
    "\n",
    "     fid1.append(qt.average_gate_fidelity(U_prop_target, U_cnot_no_time))"
   ]
  },
  {
   "cell_type": "code",
   "execution_count": 14,
   "metadata": {},
   "outputs": [
    {
     "data": {
      "text/plain": [
       "16.371501582626244"
      ]
     },
     "execution_count": 14,
     "metadata": {},
     "output_type": "execute_result"
    }
   ],
   "source": [
    "max(fid1)"
   ]
  },
  {
   "cell_type": "code",
   "execution_count": 9,
   "metadata": {},
   "outputs": [],
   "source": [
    "# use full hamiltonian and do not optimize over the time but instead do what you have done in the past and optimize over the frequency and the amplitude of the pulse and see if you get something that is plausible \n"
   ]
  },
  {
   "cell_type": "code",
   "execution_count": null,
   "metadata": {},
   "outputs": [],
   "source": [
    "# maybe the best way to find this fidelity is to see how it moves in the weyl chamber and compare that to what you need to find \n",
    "# ask evan if he has code for how things behave in the weyl chamber "
   ]
  }
 ],
 "metadata": {
  "kernelspec": {
   "display_name": "venv",
   "language": "python",
   "name": "python3"
  },
  "language_info": {
   "codemirror_mode": {
    "name": "ipython",
    "version": 3
   },
   "file_extension": ".py",
   "mimetype": "text/x-python",
   "name": "python",
   "nbconvert_exporter": "python",
   "pygments_lexer": "ipython3",
   "version": "3.9.13"
  }
 },
 "nbformat": 4,
 "nbformat_minor": 2
}
