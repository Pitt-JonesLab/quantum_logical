{
 "cells": [
  {
   "cell_type": "code",
   "execution_count": 1,
   "metadata": {},
   "outputs": [],
   "source": [
    "# run this same experiment again but instead of 2,0,0 -> 0,0,2 have 2,0,0 -> 0,1,1 this would be cool \n",
    "# declaring all dependancies    \n",
    "import qutip as qt\n",
    "import numpy as np\n",
    "from quantum_logical.pulsesim import QuantumSystem, Pulse\n",
    "from quantum_logical.pulsesim.mode import QubitMode, SNAILMode, CavityMode\n",
    "from quantum_logical.pulsesim.build_hamiltonian import Build_hamiltonian\n",
    "import matplotlib.pyplot as plt\n",
    "from quantum_logical.channel import AmplitudeDamping, PhaseDamping\n",
    "from quantum_logical.trotter import TrotterGroup\n",
    "from quantum_logical.interaction import ConversionGainInteraction\n",
    "from qutip import Options\n",
    "from tqdm import tqdm_notebook as tqdm\n",
    "from progressbar import progressbar\n",
    "from threading import Thread\n",
    "from multiprocessing.pool import Pool, ThreadPool\n",
    "from numpy.linalg import eig\n",
    "from quantum_logical.creating_operators import Creating_operators\n",
    "\n",
    "# opts = Options(nsteps=1e6, atol=1e-8, rtol=1e-6)\n",
    "# p_bar = qt.ui.TextProgressBar()  # None\n",
    "opts = {\"nsteps\": 1e6, \"atol\": 1e-8, \"rtol\": 1e-6, \"progress_bar\": \"text\"}"
   ]
  },
  {
   "cell_type": "code",
   "execution_count": 2,
   "metadata": {},
   "outputs": [],
   "source": [
    "fund_ops_list = []\n",
    "qubit_dim = 3\n",
    "H = Creating_operators(qubit_count=2, qubit_dim=qubit_dim)\n",
    "fund_ops_list.append(H.create_ops_unconventional_annhilation(from_level=0, to_level=1))  # this is not necessary with the new addition for the operator \n",
    "fund_ops_list.append(H.create_ops_unconventional_annhilation(from_level=1, to_level=2))\n",
    "\n",
    "# # list of operators based on the fundamental single qubit operators \n",
    "# ops_list = []\n",
    "# ops_list.append(qt.tensor(fund_ops_list[0], fund_ops_list[1].dag()))\n",
    "# ops_list.append(qt.tensor(fund_ops_list[1], fund_ops_list[0].dag()))\n",
    "# ops_list.append(qt.tensor(fund_ops_list[1].dag(), fund_ops_list[0]))\n",
    "# ops_list.append(qt.tensor(fund_ops_list[0].dag(), fund_ops_list[1]))\n",
    "\n",
    "# list of operators based on the full dimension operators\n",
    "ops_list = []\n",
    "ops_list.append(H.creating_ops_full_dim(qubit1_from=1, qubit1_to=0, qubit2_from=1, qubit2_to=2))\n",
    "ops_list.append(H.creating_ops_full_dim(qubit1_from=2, qubit1_to=1, qubit2_from=0, qubit2_to=1))\n",
    "ops_list.append(H.creating_ops_full_dim(qubit1_from=1, qubit1_to=2, qubit2_from=1, qubit2_to=0))\n",
    "ops_list.append(H.creating_ops_full_dim(qubit1_from=0, qubit1_to=1, qubit2_from=2, qubit2_to=1))\n",
    "\n",
    "# this doesnt work yet but it is necessary for this to work\n",
    "# ops_list2 = []\n",
    "# ops_list1 = np.zeros((9,9), dtype=complex)\n",
    "# for i in range(len(ops_list)):\n",
    "#     for j in range(ops_list[i].shape[0]):\n",
    "#         for k in range(ops_list[i].shape[0]):\n",
    "#             ops_list1[j,k] = ops_list[i][j,k]\n",
    "#     ops_list2.append(ops_list1)\n",
    "\n",
    "# for i in range(len(ops_list2)):\n",
    "#     ops_list2[i] = qt.Qobj(ops_list2[i])\n",
    "\n",
    "# ops_list[0].shape[0]"
   ]
  },
  {
   "cell_type": "code",
   "execution_count": 3,
   "metadata": {},
   "outputs": [],
   "source": [
    "qubit1_initial = qt.basis(qubit_dim, 2)\n",
    "qubit2_initial = qt.basis(qubit_dim, 0)\n",
    "\n",
    "initial_state = qt.tensor(qubit1_initial, qubit2_initial)"
   ]
  },
  {
   "cell_type": "code",
   "execution_count": 4,
   "metadata": {},
   "outputs": [
    {
     "data": {
      "text/latex": [
       "Quantum object: dims=[[3, 3], [1, 1]], shape=(9, 1), type='ket', dtype=Dense$$\\left(\\begin{array}{cc}0\\\\0\\\\0\\\\1\\\\0\\\\0\\\\0\\\\0\\\\0\\end{array}\\right)$$"
      ],
      "text/plain": [
       "Quantum object: dims=[[3, 3], [1, 1]], shape=(9, 1), type='ket', dtype=Dense\n",
       "Qobj data =\n",
       "[[0.]\n",
       " [0.]\n",
       " [0.]\n",
       " [1.]\n",
       " [0.]\n",
       " [0.]\n",
       " [0.]\n",
       " [0.]\n",
       " [0.]]"
      ]
     },
     "execution_count": 4,
     "metadata": {},
     "output_type": "execute_result"
    }
   ],
   "source": [
    "# taking from the f to the e state \n",
    "not_gate = H.not_gate(exchange_levels=[1,2])\n",
    "full_dim_not_gate = qt.tensor(not_gate, qt.qeye(qubit_dim))\n",
    "state_f_to_e = full_dim_not_gate * initial_state # this is now the state in the e basis \n",
    "state_f_to_e"
   ]
  },
  {
   "cell_type": "code",
   "execution_count": 5,
   "metadata": {},
   "outputs": [
    {
     "data": {
      "text/latex": [
       "Quantum object: dims=[[3, 3], [1, 1]], shape=(9, 1), type='ket', dtype=Dense$$\\left(\\begin{array}{cc}0\\\\-0.707j\\\\0\\\\0.707\\\\0\\\\0\\\\0\\\\0\\\\0\\end{array}\\right)$$"
      ],
      "text/plain": [
       "Quantum object: dims=[[3, 3], [1, 1]], shape=(9, 1), type='ket', dtype=Dense\n",
       "Qobj data =\n",
       "[[0.        +0.j        ]\n",
       " [0.        -0.70710678j]\n",
       " [0.        +0.j        ]\n",
       " [0.70710678+0.j        ]\n",
       " [0.        +0.j        ]\n",
       " [0.        +0.j        ]\n",
       " [0.        +0.j        ]\n",
       " [0.        +0.j        ]\n",
       " [0.        +0.j        ]]"
      ]
     },
     "execution_count": 5,
     "metadata": {},
     "output_type": "execute_result"
    }
   ],
   "source": [
    "# apply the cnot via evans method \n",
    "H_new = ConversionGainInteraction(gg= np.pi / 4, gc= np.pi / 4, transmon_levels= 3)\n",
    "U_cnot_gate = H_new.construct_U(1.0)\n",
    "new_state_after_cnot = U_cnot_gate * state_f_to_e\n",
    "new_state_after_cnot"
   ]
  },
  {
   "cell_type": "code",
   "execution_count": 6,
   "metadata": {},
   "outputs": [
    {
     "data": {
      "text/latex": [
       "Quantum object: dims=[[3, 3], [1, 1]], shape=(9, 1), type='ket', dtype=Dense$$\\left(\\begin{array}{cc}0\\\\-0.707j\\\\0\\\\0\\\\0\\\\0\\\\0.707\\\\0\\\\0\\end{array}\\right)$$"
      ],
      "text/plain": [
       "Quantum object: dims=[[3, 3], [1, 1]], shape=(9, 1), type='ket', dtype=Dense\n",
       "Qobj data =\n",
       "[[0.        +0.j        ]\n",
       " [0.        -0.70710678j]\n",
       " [0.        +0.j        ]\n",
       " [0.        +0.j        ]\n",
       " [0.        +0.j        ]\n",
       " [0.        +0.j        ]\n",
       " [0.70710678+0.j        ]\n",
       " [0.        +0.j        ]\n",
       " [0.        +0.j        ]]"
      ]
     },
     "execution_count": 6,
     "metadata": {},
     "output_type": "execute_result"
    }
   ],
   "source": [
    "# bringing the first qubit back to f\n",
    "# this does not seem right to me because why is it not in the right final state\n",
    "final_state_e_f = full_dim_not_gate * new_state_after_cnot\n",
    "final_state_e_f"
   ]
  },
  {
   "cell_type": "code",
   "execution_count": 7,
   "metadata": {},
   "outputs": [
    {
     "data": {
      "text/plain": [
       "(0.7071067811865476+0j)"
      ]
     },
     "execution_count": 7,
     "metadata": {},
     "output_type": "execute_result"
    }
   ],
   "source": [
    "#ideally the final state should be very similar to the first state but there seems to have been a phase pick up \n",
    "np.dot(initial_state.dag(), final_state_e_f)\n",
    "# this does not seem right"
   ]
  },
  {
   "cell_type": "code",
   "execution_count": null,
   "metadata": {},
   "outputs": [],
   "source": []
  }
 ],
 "metadata": {
  "kernelspec": {
   "display_name": "venv",
   "language": "python",
   "name": "python3"
  },
  "language_info": {
   "codemirror_mode": {
    "name": "ipython",
    "version": 3
   },
   "file_extension": ".py",
   "mimetype": "text/x-python",
   "name": "python",
   "nbconvert_exporter": "python",
   "pygments_lexer": "ipython3",
   "version": "3.9.13"
  }
 },
 "nbformat": 4,
 "nbformat_minor": 2
}
