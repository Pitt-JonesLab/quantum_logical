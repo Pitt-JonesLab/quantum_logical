{
 "cells": [
  {
   "cell_type": "code",
   "execution_count": 2,
   "metadata": {},
   "outputs": [
    {
     "name": "stderr",
     "output_type": "stream",
     "text": [
      "c:\\Users\\girgi\\Desktop\\Github\\quantum_logical\\venv\\lib\\site-packages\\qutip\\solver\\options.py:16: FutureWarning: Dedicated options class are no longer needed, options should be passed as dict to solvers.\n",
      "  warnings.warn(\n"
     ]
    }
   ],
   "source": [
    "# run this same experiment again but instead of 2,0,0 -> 0,0,2 have 2,0,0 -> 0,1,1 this would be cool \n",
    "# declaring all dependancies    \n",
    "import qutip as qt\n",
    "import numpy as np\n",
    "from quantum_logical.pulsesim import QuantumSystem, Pulse\n",
    "from quantum_logical.pulsesim.mode import QubitMode, SNAILMode, CavityMode\n",
    "from quantum_logical.pulsesim.build_hamiltonian import Build_hamiltonian\n",
    "import matplotlib.pyplot as plt\n",
    "from qutip import Options\n",
    "from tqdm import tqdm_notebook as tqdm\n",
    "from progressbar import progressbar\n",
    "import concurrent.futures\n",
    "\n",
    "opts = Options(nsteps=1e6, atol=1e-8, rtol=1e-6)\n",
    "p_bar = qt.ui.TextProgressBar()  # None"
   ]
  },
  {
   "cell_type": "code",
   "execution_count": 3,
   "metadata": {},
   "outputs": [],
   "source": [
    "# adding all of the necessary elements to the full creation of the system \n",
    "qubit_dim = 3\n",
    "\n",
    "# frequencies \n",
    "w1_un = 4\n",
    "w2_un = 6\n",
    "w3_un = 4.6666666666666666\n",
    "ws_un = 5.6666666666666666\n",
    "\n",
    "# coupling strength coefficient \n",
    "g1s = 2 * np.pi * 0.05467\n",
    "g2s = 2 * np.pi * 0.0435\n",
    "g3s = 2 * np.pi * 0.04875\n",
    "\n",
    "# create array of the coefficients should be useful \n",
    "gs = [g1s, g2s, g3s]\n",
    "\n",
    "# unknown value as of now \n",
    "g3 = .1"
   ]
  },
  {
   "cell_type": "code",
   "execution_count": 4,
   "metadata": {},
   "outputs": [],
   "source": [
    "# creating the qubits and the hilbert space\n",
    "qubit1 = QubitMode(\n",
    "    mode_type=\"Qubit\", name=\"q1\", dim=qubit_dim, freq=w1_un, alpha=-0.161, T1=1e2, T2=5e1\n",
    ")\n",
    "qubit2 = QubitMode(\n",
    "    mode_type=\"Qubit\", name=\"q2\", dim=qubit_dim, freq=w2_un, alpha=-0.1275, T1=1e2, T2=5e1\n",
    ")\n",
    "qubit3 = QubitMode(\n",
    "    mode_type=\"Qubit\", name=\"q3\", dim=qubit_dim, freq=w3_un, alpha=-0.160, T1=1e2, T2=5e1\n",
    ")\n",
    "qubits = [qubit1, qubit2, qubit3]\n",
    "snail = SNAILMode(mode_type=\"Snail\", name=\"s\", freq=ws_un, g3=0.3, dim=10, T1=1e3, T2=5e2)\n",
    "_couplings = {\n",
    "    frozenset([qubit1, snail]): 2 * np.pi * 0.05467,\n",
    "    frozenset([qubit2, snail]): 2 * np.pi * 0.0435,\n",
    "    frozenset([qubit3, snail]): 2 * np.pi * 0.04875\n",
    "}\n",
    "\n",
    "qs = QuantumSystem(qubits + [snail], couplings=_couplings)\n",
    "\n",
    "system = []\n",
    "system.extend(qubits)\n",
    "system.extend([snail])"
   ]
  },
  {
   "cell_type": "code",
   "execution_count": 5,
   "metadata": {},
   "outputs": [],
   "source": [
    "# list of qubit coupling strengths that will be given\n",
    "g13 = g23 = g12 = .01\n",
    "gqs = [[qubit1.freq,g12,g13],[g12,qubit2.freq,g23],[g13,g23,qubit3.freq]]\n",
    "\n",
    "# creating the list of alphas that will be given to us \n",
    "a1 = a2 = a3 = .1\n",
    "alphas = [a1, a2, a3]"
   ]
  },
  {
   "cell_type": "code",
   "execution_count": 6,
   "metadata": {},
   "outputs": [],
   "source": [
    "# building the hammiltonian up to the pump term \n",
    "# creating the linear parts of the hamiltonian  \n",
    "# the qubit and snail separate terms\n",
    "H_no_interaction = [(i.freq / (2 * np.pi)) * (qs.modes_a_dag[i] * qs.modes_a[i]) for i in system]\n",
    "\n",
    "# creating the snail mixing with the qubits terms\n",
    "H_snail_qubits = [gs[qubits.index(i)] * (qs.modes_field[snail] * qs.modes_field[i]) for i in qubits]\n",
    "\n",
    "# adding the coupling terms between the qubits \n",
    "H_qubit_qubit = []\n",
    "\n",
    "for i in range(len(qubits)):\n",
    "    for j in range(len(qubits)):\n",
    "        if j > i:\n",
    "            H_qubit_qubit.append(gqs[i][j] * (qs.modes_field[qubits[i]] * qs.modes_field[qubits[j]]))\n",
    "\n",
    "# creating the nonlinear parts of the hamiltonian \n",
    "# adding the snail third order term first \n",
    "H_snail_third = [g3 * ((qs.modes_field[snail]) ** 3)]\n",
    "\n",
    "# add the qubit non-linearity \n",
    "H_qubit_fourth = [alphas[qubits.index(i)] * (qs.modes_field[i] ** 4) for i in qubits]"
   ]
  },
  {
   "cell_type": "code",
   "execution_count": 7,
   "metadata": {},
   "outputs": [],
   "source": [
    "H_total_no_time = []\n",
    "# adding the linear parts into the hamiltonian \n",
    "H_total_no_time.extend(H_no_interaction)\n",
    "H_total_no_time.extend(H_snail_qubits)\n",
    "H_total_no_time.extend(H_qubit_qubit)\n",
    "# adding the non-linear parts \n",
    "H_total_no_time.extend(H_snail_third)\n",
    "H_total_no_time.extend(H_qubit_fourth)"
   ]
  },
  {
   "cell_type": "code",
   "execution_count": 8,
   "metadata": {},
   "outputs": [],
   "source": [
    "H_no_time = sum(H_total_no_time)"
   ]
  },
  {
   "cell_type": "code",
   "execution_count": 9,
   "metadata": {},
   "outputs": [],
   "source": [
    "# adding the time dependent terms \n",
    "# this might have to be done with a constant pulse first but it should be easy to implement the more complex ones \n",
    "\n",
    "H_time = (qs.modes_a[snail] * qs.modes_a[snail] + qs.modes_a_dag[snail] * qs.modes_a_dag[snail])\n",
    "\n",
    "# making a pulse for the function \n",
    "def w_t(a, b, t):\n",
    "    # return a * np.sin(b * t)\n",
    "    return a * np.sin(b * t)\n",
    "\n",
    "amp = 0.631578947368421\n",
    "freq = 0.6578947368421052 \n",
    "def wt(t, args = None):\n",
    "    return w_t(amp, freq, t)\n",
    "\n",
    "H = [H_no_time,[H_time, wt]]\n",
    "\n"
   ]
  },
  {
   "cell_type": "code",
   "execution_count": 10,
   "metadata": {},
   "outputs": [],
   "source": [
    "# create the intial state \n",
    "psi0 = qt.tensor(qt.basis(qubit_dim,2), qt.basis(qubit_dim,0), qt.basis(qubit_dim,0), qt.basis(snail.dim))\n",
    "rho0 = psi0 * psi0.dag()"
   ]
  },
  {
   "cell_type": "code",
   "execution_count": 11,
   "metadata": {},
   "outputs": [
    {
     "name": "stderr",
     "output_type": "stream",
     "text": [
      "c:\\Users\\girgi\\Desktop\\Github\\quantum_logical\\venv\\lib\\site-packages\\qutip\\solver\\solver_base.py:434: FutureWarning: \"progress_bar\" is now included in options:\n",
      " Use `options={\"progress_bar\": False / True / \"tqdm\" / \"enhanced\"}`\n",
      "  warnings.warn(\n"
     ]
    },
    {
     "name": "stdout",
     "output_type": "stream",
     "text": [
      "10.1%. Run time:   0.58s. Est. time left: 00:00:00:05\n",
      "20.2%. Run time:   1.29s. Est. time left: 00:00:00:05\n",
      "30.3%. Run time:   2.32s. Est. time left: 00:00:00:05\n",
      "40.4%. Run time:   3.33s. Est. time left: 00:00:00:04\n",
      "50.5%. Run time:   4.34s. Est. time left: 00:00:00:04\n",
      "60.6%. Run time:   5.36s. Est. time left: 00:00:00:03\n",
      "70.7%. Run time:   6.37s. Est. time left: 00:00:00:02\n",
      "80.8%. Run time:   7.43s. Est. time left: 00:00:00:01\n",
      "90.9%. Run time:   8.75s. Est. time left: 00:00:00:00\n",
      "100.0%. Run time:   9.91s. Est. time left: 00:00:00:00\n",
      "Total run time:   9.91s\n"
     ]
    }
   ],
   "source": [
    "# # run mesolve over the hamiltonian \n",
    "tlist = np.linspace(0,1000,100)\n",
    "result = qt.mesolve(H = H, rho0 = psi0, tlist = tlist, options= opts, progress_bar = True)"
   ]
  },
  {
   "cell_type": "code",
   "execution_count": 12,
   "metadata": {},
   "outputs": [
    {
     "name": "stderr",
     "output_type": "stream",
     "text": [
      "C:\\Users\\girgi\\AppData\\Local\\Temp\\ipykernel_21308\\1901212009.py:7: UserWarning: FigureCanvasAgg is non-interactive, and thus cannot be shown\n",
      "  fig.show()\n"
     ]
    },
    {
     "data": {
      "image/png": "[encoded data removed]",
      "text/plain": [
       "<Figure size 640x480 with 1 Axes>"
      ]
     },
     "metadata": {},
     "output_type": "display_data"
    }
   ],
   "source": [
    "fig, ax = plt.subplots()\n",
    "ax.plot(tlist, np.real(qt.expect(qs.modes_a_dag[qubit1]*qs.modes_a[qubit1], result.states)), 'r', linewidth = 2, label = \"qubit1\")\n",
    "ax.plot(tlist, np.real(qt.expect(qs.modes_a_dag[qubit2]*qs.modes_a[qubit2], result.states)), 'b', linewidth = 2, label = \"qubit2\")\n",
    "ax.plot(tlist, np.real(qt.expect(qs.modes_a_dag[qubit3]*qs.modes_a[qubit3], result.states)), 'g', linewidth = 2, label = \"qubit3\")\n",
    "# ax.plot(tlist, np.real(qt.expect(qs.modes_a_dag[snail]*qs.modes_a[snail], result.states)), 'y', linewidth = 2, label = \"snail\")\n",
    "ax.legend()\n",
    "fig.show()"
   ]
  },
  {
   "cell_type": "code",
   "execution_count": 13,
   "metadata": {},
   "outputs": [],
   "source": [
    "# creating the expected final state \n",
    "psif = qt.tensor(qt.basis(qubit_dim,0), qt.basis(qubit_dim,0), qt.basis(qubit_dim,2), qt.basis(snail.dim))\n",
    "rhof = psif * psif.dag()\n",
    "psif = qt.ptrace(psif, [0,1,2])"
   ]
  },
  {
   "cell_type": "code",
   "execution_count": 14,
   "metadata": {},
   "outputs": [
    {
     "data": {
      "text/plain": [
       "0.18939251591077047"
      ]
     },
     "execution_count": 14,
     "metadata": {},
     "output_type": "execute_result"
    }
   ],
   "source": [
    "qt.fidelity(psif, qt.ptrace(result.states[-1],[0,1,2]))"
   ]
  },
  {
   "cell_type": "code",
   "execution_count": 15,
   "metadata": {},
   "outputs": [],
   "source": [
    "# will optimize over the amplitude of the pulse and maybe frequency \n",
    "# creating the tuple of amps and frequencies \n",
    "amps = np.linspace(0, 4, 20)\n",
    "freqs = np.linspace(0, 2.5, 20)\n",
    "amps_freqs = [(i,j) for i in amps for j in freqs]\n",
    "\n",
    "def sim_task(amps_freqs):\n",
    "    amp ,freq = amps_freqs\n",
    "\n",
    "    def w_t(a, b, t):\n",
    "        return a * np.sin(b * t)\n",
    "\n",
    "    def wt(t, args = None):\n",
    "        return w_t(amp, freq, t)\n",
    "    \n",
    "    H_pump = [H_time, wt]\n",
    "\n",
    "    H_t = [H_no_time, H_pump]\n",
    "\n",
    "    res = qt.mesolve(H = H_t, rho0 = psi0, tlist = tlist, options= opts)\n",
    "\n",
    "    # add the fid calculation\n",
    "    fid = qt.fidelity(qt.ptrace(res.states[-1],[0,1,2]), psif)\n",
    "    print(\"hi\")\n",
    "\n",
    "    return amp, freq, fid\n"
   ]
  },
  {
   "cell_type": "code",
   "execution_count": 16,
   "metadata": {},
   "outputs": [],
   "source": [
    "# process the data \n",
    "fids = []\n",
    "freq_res = []\n",
    "amp_res = []\n",
    "\n",
    "\n",
    "# for i in range(len(results)):\n",
    "#     fids.append(results[i][2])\n",
    "#     amp_res.append(results[i][0])\n",
    "#     freq_res.append(results[i][1])\n",
    "\n",
    "# max(fids)"
   ]
  },
  {
   "cell_type": "code",
   "execution_count": 17,
   "metadata": {},
   "outputs": [],
   "source": [
    "# print(\"the amplitude and freq at the max are %s and %s \" %(amp_res[fids.index(max(fids))], freq_res[fids.index(max(fids))]))"
   ]
  },
  {
   "cell_type": "code",
   "execution_count": 18,
   "metadata": {},
   "outputs": [],
   "source": [
    "# # will have to run parallel threads in order to get around the parallel map function from qutip\n",
    "# if __name__ == \"__main__\":\n",
    "#     pool = Pool(processes=len(amps_freqs))\n",
    "#     pool.map(sim_task, amps_freqs)\n"
   ]
  },
  {
   "cell_type": "code",
   "execution_count": 19,
   "metadata": {},
   "outputs": [
    {
     "ename": "BrokenProcessPool",
     "evalue": "A child process terminated abruptly, the process pool is not usable anymore",
     "output_type": "error",
     "traceback": [
      "\u001b[1;31m---------------------------------------------------------------------------\u001b[0m",
      "\u001b[1;31mBrokenProcessPool\u001b[0m                         Traceback (most recent call last)",
      "Cell \u001b[1;32mIn[19], line 1\u001b[0m\n\u001b[1;32m----> 1\u001b[0m \u001b[43mqt\u001b[49m\u001b[38;5;241;43m.\u001b[39;49m\u001b[43mparallel\u001b[49m\u001b[38;5;241;43m.\u001b[39;49m\u001b[43mparallel_map\u001b[49m\u001b[43m(\u001b[49m\u001b[43msim_task\u001b[49m\u001b[43m,\u001b[49m\u001b[43m \u001b[49m\u001b[43mamps_freqs\u001b[49m\u001b[43m)\u001b[49m\n",
      "File \u001b[1;32mc:\\Users\\girgi\\Desktop\\Github\\quantum_logical\\venv\\lib\\site-packages\\qutip\\solver\\parallel.py:336\u001b[0m, in \u001b[0;36mparallel_map\u001b[1;34m(task, values, task_args, task_kwargs, reduce_func, map_kw, progress_bar, progress_bar_kwargs)\u001b[0m\n\u001b[0;32m    331\u001b[0m \u001b[38;5;28;01mdef\u001b[39;00m \u001b[38;5;21mshutdown_executor\u001b[39m(executor, _):\n\u001b[0;32m    332\u001b[0m     \u001b[38;5;66;03m# Since `ProcessPoolExecutor` leaves no other option,\u001b[39;00m\n\u001b[0;32m    333\u001b[0m     \u001b[38;5;66;03m# we wait for all worker processes to finish their current task\u001b[39;00m\n\u001b[0;32m    334\u001b[0m     executor\u001b[38;5;241m.\u001b[39mshutdown()\n\u001b[1;32m--> 336\u001b[0m \u001b[38;5;28;01mreturn\u001b[39;00m \u001b[43m_generic_pmap\u001b[49m\u001b[43m(\u001b[49m\n\u001b[0;32m    337\u001b[0m \u001b[43m    \u001b[49m\u001b[43mtask\u001b[49m\u001b[43m,\u001b[49m\u001b[43m \u001b[49m\u001b[43mvalues\u001b[49m\u001b[43m,\u001b[49m\u001b[43m \u001b[49m\u001b[43mtask_args\u001b[49m\u001b[43m,\u001b[49m\u001b[43m \u001b[49m\u001b[43mtask_kwargs\u001b[49m\u001b[43m,\u001b[49m\u001b[43m \u001b[49m\u001b[43mreduce_func\u001b[49m\u001b[43m,\u001b[49m\n\u001b[0;32m    338\u001b[0m \u001b[43m    \u001b[49m\u001b[43mmap_kw\u001b[49m\u001b[43m[\u001b[49m\u001b[38;5;124;43m'\u001b[39;49m\u001b[38;5;124;43mtimeout\u001b[39;49m\u001b[38;5;124;43m'\u001b[39;49m\u001b[43m]\u001b[49m\u001b[43m,\u001b[49m\u001b[43m \u001b[49m\u001b[43mmap_kw\u001b[49m\u001b[43m[\u001b[49m\u001b[38;5;124;43m'\u001b[39;49m\u001b[38;5;124;43mfail_fast\u001b[39;49m\u001b[38;5;124;43m'\u001b[39;49m\u001b[43m]\u001b[49m\u001b[43m,\u001b[49m\u001b[43m \u001b[49m\u001b[43mmap_kw\u001b[49m\u001b[43m[\u001b[49m\u001b[38;5;124;43m'\u001b[39;49m\u001b[38;5;124;43mnum_cpus\u001b[39;49m\u001b[38;5;124;43m'\u001b[39;49m\u001b[43m]\u001b[49m\u001b[43m,\u001b[49m\n\u001b[0;32m    339\u001b[0m \u001b[43m    \u001b[49m\u001b[43mprogress_bar\u001b[49m\u001b[43m,\u001b[49m\u001b[43m \u001b[49m\u001b[43mprogress_bar_kwargs\u001b[49m\u001b[43m,\u001b[49m\n\u001b[0;32m    340\u001b[0m \u001b[43m    \u001b[49m\u001b[43msetup_executor\u001b[49m\u001b[43m,\u001b[49m\u001b[43m \u001b[49m\u001b[43mextract_result\u001b[49m\u001b[43m,\u001b[49m\u001b[43m \u001b[49m\u001b[43mshutdown_executor\u001b[49m\n\u001b[0;32m    341\u001b[0m \u001b[43m\u001b[49m\u001b[43m)\u001b[49m\n",
      "File \u001b[1;32mc:\\Users\\girgi\\Desktop\\Github\\quantum_logical\\venv\\lib\\site-packages\\qutip\\solver\\parallel.py:231\u001b[0m, in \u001b[0;36m_generic_pmap\u001b[1;34m(task, values, task_args, task_kwargs, reduce_func, timeout, fail_fast, num_workers, progress_bar, progress_bar_kwargs, setup_executor, extract_result, shutdown_executor)\u001b[0m\n\u001b[0;32m    228\u001b[0m \u001b[38;5;28;01mwhile\u001b[39;00m \u001b[38;5;28mlen\u001b[39m(waiting) \u001b[38;5;241m<\u001b[39m num_workers \u001b[38;5;129;01mand\u001b[39;00m i \u001b[38;5;241m<\u001b[39m \u001b[38;5;28mlen\u001b[39m(values):\n\u001b[0;32m    229\u001b[0m     \u001b[38;5;66;03m# space and time available, add tasks\u001b[39;00m\n\u001b[0;32m    230\u001b[0m     value \u001b[38;5;241m=\u001b[39m values[i]\n\u001b[1;32m--> 231\u001b[0m     future \u001b[38;5;241m=\u001b[39m executor\u001b[38;5;241m.\u001b[39msubmit(\n\u001b[0;32m    232\u001b[0m         task, \u001b[38;5;241m*\u001b[39m((value,) \u001b[38;5;241m+\u001b[39m task_args), \u001b[38;5;241m*\u001b[39m\u001b[38;5;241m*\u001b[39mtask_kwargs,\n\u001b[0;32m    233\u001b[0m     )\n\u001b[0;32m    234\u001b[0m     \u001b[38;5;66;03m# small hack to avoid add_done_callback not supporting\u001b[39;00m\n\u001b[0;32m    235\u001b[0m     \u001b[38;5;66;03m# extra arguments and closures inside loops retaining\u001b[39;00m\n\u001b[0;32m    236\u001b[0m     \u001b[38;5;66;03m# a reference not a value:\u001b[39;00m\n\u001b[0;32m    237\u001b[0m     future\u001b[38;5;241m.\u001b[39m_i \u001b[38;5;241m=\u001b[39m i\n",
      "File \u001b[1;32mC:\\Program Files\\WindowsApps\\PythonSoftwareFoundation.Python.3.9_3.9.3568.0_x64__qbz5n2kfra8p0\\lib\\concurrent\\futures\\process.py:707\u001b[0m, in \u001b[0;36mProcessPoolExecutor.submit\u001b[1;34m(self, fn, *args, **kwargs)\u001b[0m\n\u001b[0;32m    705\u001b[0m \u001b[38;5;28;01mwith\u001b[39;00m \u001b[38;5;28mself\u001b[39m\u001b[38;5;241m.\u001b[39m_shutdown_lock:\n\u001b[0;32m    706\u001b[0m     \u001b[38;5;28;01mif\u001b[39;00m \u001b[38;5;28mself\u001b[39m\u001b[38;5;241m.\u001b[39m_broken:\n\u001b[1;32m--> 707\u001b[0m         \u001b[38;5;28;01mraise\u001b[39;00m BrokenProcessPool(\u001b[38;5;28mself\u001b[39m\u001b[38;5;241m.\u001b[39m_broken)\n\u001b[0;32m    708\u001b[0m     \u001b[38;5;28;01mif\u001b[39;00m \u001b[38;5;28mself\u001b[39m\u001b[38;5;241m.\u001b[39m_shutdown_thread:\n\u001b[0;32m    709\u001b[0m         \u001b[38;5;28;01mraise\u001b[39;00m \u001b[38;5;167;01mRuntimeError\u001b[39;00m(\u001b[38;5;124m'\u001b[39m\u001b[38;5;124mcannot schedule new futures after shutdown\u001b[39m\u001b[38;5;124m'\u001b[39m)\n",
      "\u001b[1;31mBrokenProcessPool\u001b[0m: A child process terminated abruptly, the process pool is not usable anymore"
     ]
    }
   ],
   "source": [
    "qt.parallel.parallel_map(sim_task, amps_freqs)"
   ]
  },
  {
   "cell_type": "code",
   "execution_count": null,
   "metadata": {},
   "outputs": [],
   "source": [
    "# why is this not working the way that i want it to "
   ]
  }
 ],
 "metadata": {
  "kernelspec": {
   "display_name": "venv",
   "language": "python",
   "name": "python3"
  },
  "language_info": {
   "codemirror_mode": {
    "name": "ipython",
    "version": 3
   },
   "file_extension": ".py",
   "mimetype": "text/x-python",
   "name": "python",
   "nbconvert_exporter": "python",
   "pygments_lexer": "ipython3",
   "version": "3.9.13"
  }
 },
 "nbformat": 4,
 "nbformat_minor": 2
}
