{
 "cells": [
  {
   "cell_type": "code",
<<<<<<< Updated upstream
   "execution_count": 42,
=======
   "execution_count": 1,
>>>>>>> Stashed changes
   "metadata": {},
   "outputs": [
    {
     "name": "stderr",
     "output_type": "stream",
     "text": [
<<<<<<< Updated upstream
      "c:\\Users\\girgi\\OneDrive\\Desktop\\Github\\quantum_logical\\venv\\lib\\site-packages\\qutip\\solver\\options.py:16: FutureWarning: Dedicated options class are no longer needed, options should be passed as dict to solvers.\n",
=======
      "c:\\Users\\girgi\\Desktop\\Github\\quantum_logical\\venv\\lib\\site-packages\\qutip\\solver\\options.py:16: FutureWarning: Dedicated options class are no longer needed, options should be passed as dict to solvers.\n",
>>>>>>> Stashed changes
      "  warnings.warn(\n"
     ]
    }
   ],
   "source": [
    "# declaring all dependancies    \n",
    "import qutip as qt\n",
    "import numpy as np\n",
    "from quantum_logical.pulsesim import QuantumSystem, Pulse\n",
    "from quantum_logical.pulsesim.mode import QubitMode, SNAILMode, CavityMode\n",
    "from quantum_logical.pulsesim.build_hamiltonian import Build_hamiltonian\n",
    "import matplotlib.pyplot as plt\n",
    "from qutip import Options\n",
    "from tqdm import tqdm_notebook as tqdm\n",
    "from progressbar import progressbar\n",
    "\n",
    "opts = Options(nsteps=1e5, atol=1e-8, rtol=1e-6, progress_bar=\"enhanced\")"
   ]
  },
  {
   "cell_type": "code",
<<<<<<< Updated upstream
   "execution_count": 43,
=======
   "execution_count": 254,
>>>>>>> Stashed changes
   "metadata": {},
   "outputs": [],
   "source": [
    "# adding all of the necessary elements to the full creation of the system \n",
    "qubit_dim = 2\n",
    "\n",
    "# frequencies \n",
    "w1_un = 4\n",
    "w2_un = 6\n",
    "w3_un = 4.6666666666666666\n",
    "ws_un = 5.6666666666666666\n",
    "\n",
    "# coupling strength coefficient \n",
    "g1s = 2 * np.pi * 0.05467\n",
    "g2s = 2 * np.pi * 0.0435\n",
    "g3s = 2 * np.pi * 0.04875\n",
    "\n",
    "# create array of the coefficients should be useful \n",
    "gs = [g1s, g2s, g3s]\n",
    "\n",
    "# unknown value as of now \n",
<<<<<<< Updated upstream
    "g3 = .4"
=======
    "g3 = .1"
>>>>>>> Stashed changes
   ]
  },
  {
   "cell_type": "code",
<<<<<<< Updated upstream
   "execution_count": 115,
=======
   "execution_count": 255,
>>>>>>> Stashed changes
   "metadata": {},
   "outputs": [],
   "source": [
    "# creating the qubits and the hilbert space\n",
    "qubit1 = QubitMode(\n",
    "    mode_type=\"Qubit\", name=\"q1\", dim=2, freq=w1_un, alpha=-0.161, T1=1e2, T2=5e1\n",
    ")\n",
    "qubit2 = QubitMode(\n",
    "    mode_type=\"Qubit\", name=\"q2\", dim=2, freq=w2_un, alpha=-0.1275, T1=1e2, T2=5e1\n",
    ")\n",
    "qubit3 = QubitMode(\n",
    "    mode_type=\"Qubit\", name=\"q3\", dim=2, freq=w3_un, alpha=-0.160, T1=1e2, T2=5e1\n",
    ")\n",
    "qubits = [qubit1, qubit2, qubit3]\n",
    "snail = SNAILMode(mode_type=\"Snail\", name=\"s\", freq=ws_un, g3=0.3, dim=10, T1=1e3, T2=5e2)\n",
    "_couplings = {\n",
    "    frozenset([qubit1, snail]): 2 * np.pi * 0.05467,\n",
    "    frozenset([qubit2, snail]): 2 * np.pi * 0.0435,\n",
    "    frozenset([qubit3, snail]): 2 * np.pi * 0.04875\n",
    "}\n",
    "\n",
    "qs = QuantumSystem(qubits + [snail], couplings=_couplings)\n",
    "\n",
    "system = []\n",
    "system.extend(qubits)\n",
    "system.extend([snail])\n"
   ]
  },
  {
   "cell_type": "code",
<<<<<<< Updated upstream
   "execution_count": 116,
=======
   "execution_count": 256,
>>>>>>> Stashed changes
   "metadata": {},
   "outputs": [],
   "source": [
    "# list of qubit coupling strengths that will be given\n",
<<<<<<< Updated upstream
    "g13 = g23 = g12 = .1\n",
    "gqs = [[qubit1.freq,g12,g13],[g12,qubit2.freq,g23],[g13,g23,qubit3.freq]]\n",
    "\n",
    "# creating the list of alphas that will be given to us \n",
    "a1 = a2 = a3 = .1\n",
=======
    "g13 = g23 = g12 = .01\n",
    "gqs = [[qubit1.freq / (2 * np.pi),g12,g13],[g12,qubit2.freq / (2 * np.pi),g23],[g13,g23,qubit3.freq / (2 * np.pi)]]\n",
    "\n",
    "# creating the list of alphas that will be given to us \n",
    "a1 = a2 = a3 = .001\n",
>>>>>>> Stashed changes
    "alphas = [a1, a2, a3]"
   ]
  },
  {
   "cell_type": "code",
<<<<<<< Updated upstream
   "execution_count": 117,
=======
   "execution_count": 257,
>>>>>>> Stashed changes
   "metadata": {},
   "outputs": [],
   "source": [
    "# building the hammiltonian up to the pump term \n",
    "# creating the linear parts of the hamiltonian  \n",
    "# the qubit and snail separate terms\n",
<<<<<<< Updated upstream
    "H_no_interaction = [i.freq * (qs.modes_a_dag[i] * qs.modes_a[i]) for i in system]\n",
    "\n",
    "# creating the snail mixing with the qubits terms\n",
    "H_snail_qubits = [gs[qubits.index(i)] * (qs.modes_field[snail] * qs.modes_field[i]) for i in qubits]\n",
=======
    "H_no_interaction = [(i.freq / (2 * np.pi)) * (qs.modes_a_dag[i] * qs.modes_a[i]) for i in system]\n",
    "\n",
    "# creating the snail mixing with the qubits terms\n",
    "H_snail_qubits = [gs[qubits.index(i)] * (qs.modes_a[snail] * qs.modes_a_dag[i] + qs.modes_a_dag[snail] * qs.modes_a[i]) for i in qubits]\n",
>>>>>>> Stashed changes
    "\n",
    "# adding the coupling terms between the qubits \n",
    "H_qubit_qubit = []\n",
    "\n",
    "for i in range(len(qubits)):\n",
    "    for j in range(len(qubits)):\n",
    "        if j > i:\n",
<<<<<<< Updated upstream
    "            H_qubit_qubit.append(gqs[i][j] * (qs.modes_field[qubits[i]] * qs.modes_field[qubits[j]]))\n",
    "\n",
    "# creating the nonlinear parts of the hamiltonian \n",
    "# adding the snail third order term first \n",
    "H_snail_third = [g3 * ((qs.modes_field[snail]) ** 3)]\n",
    "\n",
    "# add the qubit non-linearity \n",
    "H_qubit_fourth = [alphas[qubits.index(i)] * (qs.modes_field[i] ** 4) for i in qubits]\n"
=======
    "            H_qubit_qubit.append(gqs[i][j] * (qs.modes_a[qubits[i]] * qs.modes_a_dag[qubits[j]] + qs.modes_a_dag[qubits[i]] * qs.modes_a[qubits[j]]))\n",
    "\n",
    "# creating the nonlinear parts of the hamiltonian \n",
    "# adding the snail third order term first \n",
    "H_snail_third = [g3 * ((qs.modes_a_dag[snail] + qs.modes_a[snail]) ** 3)]\n",
    "\n",
    "# add the qubit non-linearity \n",
    "H_qubit_fourth = [alphas[qubits.index(i)] * ((qs.modes_a[i] + qs.modes_a_dag[i]) ** 4) for i in qubits]\n"
>>>>>>> Stashed changes
   ]
  },
  {
   "cell_type": "code",
<<<<<<< Updated upstream
   "execution_count": 122,
=======
   "execution_count": 258,
>>>>>>> Stashed changes
   "metadata": {},
   "outputs": [],
   "source": [
    "# creating the non-linear parts of the hamiltonian \n",
    "\n",
    "H_total_no_time = []\n",
    "# adding the linear parts into the hamiltonian \n",
    "H_total_no_time.extend(H_no_interaction)\n",
    "H_total_no_time.extend(H_snail_qubits)\n",
    "H_total_no_time.extend(H_qubit_qubit)\n",
    "# adding the non-linear parts \n",
    "H_total_no_time.extend(H_snail_third)\n",
    "H_total_no_time.extend(H_qubit_fourth)\n"
   ]
  },
  {
   "cell_type": "code",
<<<<<<< Updated upstream
   "execution_count": 123,
=======
   "execution_count": 259,
>>>>>>> Stashed changes
   "metadata": {},
   "outputs": [],
   "source": [
    "H_no_time = sum(H_total_no_time)"
   ]
  },
  {
   "cell_type": "code",
<<<<<<< Updated upstream
   "execution_count": 126,
=======
   "execution_count": 309,
>>>>>>> Stashed changes
   "metadata": {},
   "outputs": [],
   "source": [
    "# adding the time dependent terms \n",
    "# this might have to be done with a constant pulse first but it should be easy to implement the more complex ones \n",
    "\n",
<<<<<<< Updated upstream
    "H_time = (qs.modes_field[snail])\n",
=======
    "H_time = (qs.modes_a[snail] + qs.modes_a_dag[snail])\n",
>>>>>>> Stashed changes
    "\n",
    "# making a pulse for the function \n",
    "def w_t(a, b, t):\n",
    "    # return a * np.sin(b * t)\n",
<<<<<<< Updated upstream
    "    return a * np.exp(- b * (t **2))\n",
    "\n",
    "amp = 7.12\n",
    "freq = .25\n",
=======
    "    return a * b\n",
    "\n",
    "amp = 7\n",
    "freq = np.abs(qubit1.freq - qubit3.freq) / (2 * np.pi)\n",
>>>>>>> Stashed changes
    "def wt(t, args = None):\n",
    "    return w_t(amp, freq, t)\n",
    "\n",
    "H = [H_no_time,[H_time, wt]]\n",
    "\n"
   ]
  },
  {
   "cell_type": "code",
<<<<<<< Updated upstream
   "execution_count": 127,
=======
   "execution_count": 310,
>>>>>>> Stashed changes
   "metadata": {},
   "outputs": [],
   "source": [
    "# create the intial state \n",
    "psi0 = qt.tensor(qt.basis(qubit_dim,1), qt.basis(qubit_dim,0), qt.basis(qubit_dim,0), qt.basis(snail.dim))\n",
<<<<<<< Updated upstream
=======
    "# have to find the eigenstates of the hamiltonian in order to find the most fitting starting state\n",
>>>>>>> Stashed changes
    "rho0 = psi0 * psi0.dag()"
   ]
  },
  {
   "cell_type": "code",
<<<<<<< Updated upstream
   "execution_count": 133,
=======
   "execution_count": 311,
   "metadata": {},
   "outputs": [],
   "source": [
    "# finding the eigenstates of the hamiltonian before the pulse acts on it and that is the prepared state \n",
    "eigenvalues, eigenvectors = H_no_time.eigenstates()\n",
    "\n",
    "a = []\n",
    "for i in eigenvectors:\n",
    "    a.append(np.abs(psi0.dag() * i))\n",
    "\n",
    "max(a)\n",
    "\n",
    "# this is now my initial state that is based on the eigenstates of the hamiltonian \n",
    "psi0 = eigenvectors[a.index(max(a))]  \n",
    "\n"
   ]
  },
  {
   "cell_type": "code",
   "execution_count": 312,
>>>>>>> Stashed changes
   "metadata": {},
   "outputs": [
    {
     "name": "stdout",
     "output_type": "stream",
     "text": [
<<<<<<< Updated upstream
      " Total run time: 606.79s*] Elapsed 606.79s / Remaining 00:00:00:00\n"
=======
      " Total run time:   1.47s*] Elapsed 1.47s / Remaining 00:00:00:00\n"
>>>>>>> Stashed changes
     ]
    }
   ],
   "source": [
    "# run mesolve over the hamiltonian \n",
<<<<<<< Updated upstream
    "tlist = np.linspace(0,400,100)\n",
    "result = qt.mesolve(H = H, rho0 = rho0, tlist = tlist, options= opts)"
=======
    "tlist = np.linspace(0,960,200)\n",
    "result = qt.mesolve(H = H, rho0 = psi0, tlist = tlist, options= opts)"
>>>>>>> Stashed changes
   ]
  },
  {
   "cell_type": "code",
<<<<<<< Updated upstream
   "execution_count": 134,
=======
   "execution_count": 313,
   "metadata": {},
   "outputs": [],
   "source": [
    "# before comparing put the states in the eigenstate of the hamiltonian \n",
    "# this does not make any sense at all \n",
    "for j in range(len(result.states)):\n",
    "    a = []\n",
    "    for i in range(len(eigenvectors)):\n",
    "        a.append(np.abs(result.states[j].dag() * eigenvectors[i]))\n",
    "\n",
    "    result.states[j] = result.states[a.index(max(a))]\n"
   ]
  },
  {
   "cell_type": "code",
   "execution_count": 314,
>>>>>>> Stashed changes
   "metadata": {},
   "outputs": [
    {
     "name": "stderr",
     "output_type": "stream",
     "text": [
<<<<<<< Updated upstream
      "C:\\Users\\girgi\\AppData\\Local\\Temp\\ipykernel_20800\\1914721431.py:7: UserWarning: FigureCanvasAgg is non-interactive, and thus cannot be shown\n",
=======
      "C:\\Users\\girgi\\AppData\\Local\\Temp\\ipykernel_19432\\1571096429.py:7: UserWarning: FigureCanvasAgg is non-interactive, and thus cannot be shown\n",
>>>>>>> Stashed changes
      "  fig.show()\n"
     ]
    },
    {
     "data": {
<<<<<<< Updated upstream
      "image/png": "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",
=======
      "image/png": "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",
>>>>>>> Stashed changes
      "text/plain": [
       "<Figure size 640x480 with 1 Axes>"
      ]
     },
     "metadata": {},
     "output_type": "display_data"
    }
   ],
   "source": [
    "fig, ax = plt.subplots()\n",
<<<<<<< Updated upstream
    "ax.plot(tlist, np.real(qt.expect(qs.modes_a_dag[qubit1]*qs.modes_a[qubit1], result.states)), 'r', linewidth = 2, label = \"qubit1\")\n",
    "ax.plot(tlist, np.real(qt.expect(qs.modes_a_dag[qubit2]*qs.modes_a[qubit2], result.states)), 'b', linewidth = 2, label = \"qubit2\")\n",
    "ax.plot(tlist, np.real(qt.expect(qs.modes_a_dag[qubit3]*qs.modes_a[qubit3], result.states)), 'g', linewidth = 2, label = \"qubit3\")\n",
    "ax.plot(tlist, np.real(qt.expect(qs.modes_a_dag[snail]*qs.modes_a[snail], result.states)), 'y', linewidth = 2, label = \"snail\")\n",
=======
    "ax.plot(tlist, np.abs(qt.expect(qs.modes_a_dag[qubit1]*qs.modes_a[qubit1], result.states)), 'r', linewidth = 2, label = \"qubit1\")\n",
    "ax.plot(tlist, np.abs(qt.expect(qs.modes_a_dag[qubit2]*qs.modes_a[qubit2], result.states)), 'b', linewidth = 2, label = \"qubit2\")\n",
    "ax.plot(tlist, np.abs(qt.expect(qs.modes_a_dag[qubit3]*qs.modes_a[qubit3], result.states)), 'g', linewidth = 2, label = \"qubit3\")\n",
    "ax.plot(tlist, np.abs(qt.expect(qs.modes_a_dag[snail]*qs.modes_a[snail], result.states)), 'y', linewidth = 2, label = \"snail\")\n",
>>>>>>> Stashed changes
    "ax.legend()\n",
    "fig.show()"
   ]
  },
  {
   "cell_type": "code",
<<<<<<< Updated upstream
   "execution_count": 70,
   "metadata": {},
   "outputs": [],
   "source": [
    "# creating the expected final state \n",
    "psif = qt.tensor(qt.basis(qubit_dim,0), qt.basis(qubit_dim,0), qt.basis(qubit_dim,1), qt.basis(snail.dim))\n",
    "rhof = psif * psif.dag()"
   ]
  },
  {
   "cell_type": "code",
   "execution_count": 72,
=======
   "execution_count": 315,
>>>>>>> Stashed changes
   "metadata": {},
   "outputs": [
    {
     "data": {
      "text/plain": [
<<<<<<< Updated upstream
       "0.02577267856792654"
      ]
     },
     "execution_count": 72,
=======
       "[1.063888464891678,\n",
       " 1.1293047128193614,\n",
       " 1.1293047128193614,\n",
       " 1.1293047128193614,\n",
       " 1.1293047128193614,\n",
       " 1.0003087076525299,\n",
       " 1.079225975709171,\n",
       " 1.1293047128193614,\n",
       " 1.1293047128193614,\n",
       " 1.1293047128193614,\n",
       " 1.1293047128193614,\n",
       " 1.1293047128193614,\n",
       " 1.1293047128193614,\n",
       " 1.079225975709171,\n",
       " 1.1293047128193614,\n",
       " 1.063888464891678,\n",
       " 1.063888464891678,\n",
       " 1.1293047128193614,\n",
       " 1.1293047128193614,\n",
       " 1.07763037434912,\n",
       " 1.1293047128193614,\n",
       " 1.1293047128193614,\n",
       " 1.063888464891678,\n",
       " 1.079225975709171,\n",
       " 1.079225975709171,\n",
       " 1.1293047128193614,\n",
       " 1.1293047128193614,\n",
       " 1.1293047128193614,\n",
       " 1.1293047128193614,\n",
       " 1.1293047128193614,\n",
       " 1.1293047128193614,\n",
       " 1.1293047128193614,\n",
       " 1.1293047128193614,\n",
       " 1.1293047128193614,\n",
       " 1.1293047128193614,\n",
       " 1.1293047128193614,\n",
       " 1.1293047128193614,\n",
       " 1.1293047128193614,\n",
       " 1.1293047128193614,\n",
       " 1.0003087076525299,\n",
       " 1.1293047128193614,\n",
       " 1.1293047128193614,\n",
       " 1.1293047128193614,\n",
       " 1.1293047128193614,\n",
       " 1.1293047128193614,\n",
       " 1.063888464891678,\n",
       " 1.079225975709171,\n",
       " 1.063888464891678,\n",
       " 1.063888464891678,\n",
       " 1.1293047128193614,\n",
       " 1.1293047128193614,\n",
       " 1.1293047128193614,\n",
       " 1.1293047128193614,\n",
       " 1.063888464891678,\n",
       " 1.063888464891678,\n",
       " 1.1293047128193614,\n",
       " 1.063888464891678,\n",
       " 1.1293047128193614,\n",
       " 1.1293047128193614,\n",
       " 1.1293047128193614,\n",
       " 1.063888464891678,\n",
       " 1.1293047128193614,\n",
       " 1.063888464891678,\n",
       " 1.1293047128193614,\n",
       " 1.079225975709171,\n",
       " 1.063888464891678,\n",
       " 1.0003087076525299,\n",
       " 1.1293047128193614,\n",
       " 1.1293047128193614,\n",
       " 1.1293047128193614,\n",
       " 1.1293047128193614,\n",
       " 1.1293047128193614,\n",
       " 1.1293047128193614,\n",
       " 1.1293047128193614,\n",
       " 1.1293047128193614,\n",
       " 1.1293047128193614,\n",
       " 1.1293047128193614,\n",
       " 1.1293047128193614,\n",
       " 1.079225975709171,\n",
       " 1.063888464891678,\n",
       " 1.1293047128193614,\n",
       " 1.1293047128193614,\n",
       " 1.079225975709171,\n",
       " 1.063888464891678,\n",
       " 1.1293047128193614,\n",
       " 1.063888464891678,\n",
       " 1.1293047128193614,\n",
       " 1.1293047128193614,\n",
       " 1.1293047128193614,\n",
       " 1.1293047128193614,\n",
       " 1.1293047128193614,\n",
       " 1.1293047128193614,\n",
       " 1.063888464891678,\n",
       " 1.1293047128193614,\n",
       " 1.1293047128193614,\n",
       " 1.0003087076525299,\n",
       " 1.1293047128193614,\n",
       " 1.1293047128193614,\n",
       " 1.1293047128193614,\n",
       " 1.1293047128193614,\n",
       " 1.063888464891678,\n",
       " 1.1293047128193614,\n",
       " 1.1293047128193614,\n",
       " 1.1293047128193614,\n",
       " 1.1293047128193614,\n",
       " 1.1293047128193614,\n",
       " 1.0003087076525299,\n",
       " 1.079225975709171,\n",
       " 1.1293047128193614,\n",
       " 1.063888464891678,\n",
       " 1.1293047128193614,\n",
       " 1.1293047128193614,\n",
       " 1.1293047128193614,\n",
       " 1.1293047128193614,\n",
       " 1.1293047128193614,\n",
       " 1.1293047128193614,\n",
       " 1.1293047128193614,\n",
       " 1.063888464891678,\n",
       " 1.079225975709171,\n",
       " 1.1293047128193614,\n",
       " 1.1293047128193614,\n",
       " 1.063888464891678,\n",
       " 1.1293047128193614,\n",
       " 1.063888464891678,\n",
       " 1.1293047128193614,\n",
       " 1.1293047128193614,\n",
       " 1.1293047128193614,\n",
       " 1.1293047128193614,\n",
       " 1.1293047128193614,\n",
       " 1.063888464891678,\n",
       " 1.063888464891678,\n",
       " 1.1293047128193614,\n",
       " 1.079225975709171,\n",
       " 1.1293047128193614,\n",
       " 1.1293047128193614,\n",
       " 1.0003087076525299,\n",
       " 1.1293047128193614,\n",
       " 1.079225975709171,\n",
       " 1.1293047128193614,\n",
       " 1.079225975709171,\n",
       " 1.1293047128193614,\n",
       " 1.1293047128193614,\n",
       " 1.1293047128193614,\n",
       " 1.1293047128193614,\n",
       " 1.063888464891678,\n",
       " 1.1293047128193614,\n",
       " 1.063888464891678,\n",
       " 1.063888464891678,\n",
       " 1.1293047128193614,\n",
       " 1.0003087076525299,\n",
       " 1.1293047128193614,\n",
       " 1.1293047128193614,\n",
       " 1.063888464891678,\n",
       " 1.1293047128193614,\n",
       " 1.1293047128193614,\n",
       " 1.063888464891678,\n",
       " 1.1293047128193614,\n",
       " 1.1293047128193614,\n",
       " 1.1293047128193614,\n",
       " 1.063888464891678,\n",
       " 1.1293047128193614,\n",
       " 1.063888464891678,\n",
       " 1.1293047128193614,\n",
       " 1.1293047128193614,\n",
       " 1.1293047128193614,\n",
       " 1.1293047128193614,\n",
       " 1.1293047128193614,\n",
       " 1.1293047128193614,\n",
       " 1.1293047128193614,\n",
       " 1.079225975709171,\n",
       " 1.1293047128193614,\n",
       " 1.1293047128193614,\n",
       " 1.1293047128193614,\n",
       " 1.1293047128193614,\n",
       " 1.1293047128193614,\n",
       " 1.1293047128193614,\n",
       " 1.1293047128193614,\n",
       " 1.079225975709171,\n",
       " 1.063888464891678,\n",
       " 1.1293047128193614,\n",
       " 1.1293047128193614,\n",
       " 1.1293047128193614,\n",
       " 1.1293047128193614,\n",
       " 1.1293047128193614,\n",
       " 1.063888464891678,\n",
       " 1.1293047128193614,\n",
       " 1.063888464891678,\n",
       " 1.063888464891678,\n",
       " 1.079225975709171,\n",
       " 1.1293047128193614,\n",
       " 1.063888464891678,\n",
       " 1.079225975709171,\n",
       " 1.1293047128193614,\n",
       " 1.063888464891678,\n",
       " 1.1293047128193614,\n",
       " 1.1293047128193614,\n",
       " 1.0003087076525299,\n",
       " 1.1293047128193614,\n",
       " 1.079225975709171,\n",
       " 1.063888464891678]"
      ]
     },
     "execution_count": 315,
>>>>>>> Stashed changes
     "metadata": {},
     "output_type": "execute_result"
    }
   ],
   "source": [
<<<<<<< Updated upstream
    "qt.fidelity(psif, result.states[-1])"
=======
    "num = []\n",
    "for i in result.states:\n",
    "    num.append(np.abs(qt.expect(qs.modes_a_dag[qubit1]*qs.modes_a[qubit1], i)) + np.abs(qt.expect(qs.modes_a_dag[qubit2]*qs.modes_a[qubit2], i)) \n",
    "    + np.abs(qt.expect(qs.modes_a_dag[qubit3]*qs.modes_a[qubit3], i)))\n",
    "\n",
    "num"
>>>>>>> Stashed changes
   ]
  },
  {
   "cell_type": "code",
<<<<<<< Updated upstream
   "execution_count": 71,
=======
   "execution_count": 316,
   "metadata": {},
   "outputs": [],
   "source": [
    "# creating the expected final state \n",
    "psif = qt.tensor(qt.basis(qubit_dim,0), qt.basis(qubit_dim,0), qt.basis(qubit_dim,1), qt.basis(snail.dim))\n",
    "rhof = psif * psif.dag()\n",
    "\n",
    "# tracing out the bad parts since the snail may still be excited \n",
    "psif = qt.ptrace(psif,[0,1,2])"
   ]
  },
  {
   "cell_type": "code",
   "execution_count": 317,
   "metadata": {},
   "outputs": [
    {
     "data": {
      "text/plain": [
       "0.5518523944400107"
      ]
     },
     "execution_count": 317,
     "metadata": {},
     "output_type": "execute_result"
    }
   ],
   "source": [
    "final_state = qt.ptrace(result.states[-1], [0,1,2])\n",
    "qt.fidelity(psif, final_state)"
   ]
  },
  {
   "cell_type": "code",
   "execution_count": 14,
>>>>>>> Stashed changes
   "metadata": {},
   "outputs": [
    {
     "name": "stdout",
     "output_type": "stream",
     "text": [
<<<<<<< Updated upstream
      "10.0%. Run time:   0.47s. Est. time left: 00:00:00:04\n",
      "20.0%. Run time:   0.47s. Est. time left: 00:00:00:01\n",
      "30.0%. Run time:   0.47s. Est. time left: 00:00:00:01\n",
      "Total run time:   0.48s\n"
=======
      "10.0%. Run time:   0.50s. Est. time left: 00:00:00:04\n",
      "20.0%. Run time:   0.50s. Est. time left: 00:00:00:02\n",
      "30.0%. Run time:   0.50s. Est. time left: 00:00:00:01\n",
      "Total run time:   0.51s\n"
>>>>>>> Stashed changes
     ]
    },
    {
     "ename": "BrokenProcessPool",
     "evalue": "A process in the process pool was terminated abruptly while the future was running or pending.",
     "output_type": "error",
     "traceback": [
      "\u001b[1;31m---------------------------------------------------------------------------\u001b[0m",
      "\u001b[1;31mBrokenProcessPool\u001b[0m                         Traceback (most recent call last)",
<<<<<<< Updated upstream
      "Cell \u001b[1;32mIn[71], line 28\u001b[0m\n\u001b[0;32m     23\u001b[0m     fid \u001b[38;5;241m=\u001b[39m qt\u001b[38;5;241m.\u001b[39mfidelity(res\u001b[38;5;241m.\u001b[39mstates[\u001b[38;5;241m-\u001b[39m\u001b[38;5;241m1\u001b[39m], psif)\n\u001b[0;32m     25\u001b[0m     \u001b[38;5;28;01mreturn\u001b[39;00m fid\n\u001b[1;32m---> 28\u001b[0m results \u001b[38;5;241m=\u001b[39m \u001b[43mqt\u001b[49m\u001b[38;5;241;43m.\u001b[39;49m\u001b[43mparallel_map\u001b[49m\u001b[43m(\u001b[49m\u001b[43mtask\u001b[49m\u001b[43m \u001b[49m\u001b[38;5;241;43m=\u001b[39;49m\u001b[43m \u001b[49m\u001b[43msim_task\u001b[49m\u001b[43m,\u001b[49m\u001b[43m \u001b[49m\u001b[43mvalues\u001b[49m\u001b[43m \u001b[49m\u001b[38;5;241;43m=\u001b[39;49m\u001b[43m \u001b[49m\u001b[43mamps_freqs\u001b[49m\u001b[43m,\u001b[49m\u001b[43m \u001b[49m\u001b[43mprogress_bar\u001b[49m\u001b[38;5;241;43m=\u001b[39;49m\u001b[43m \u001b[49m\u001b[38;5;28;43;01mTrue\u001b[39;49;00m\u001b[43m)\u001b[49m\n",
      "File \u001b[1;32mc:\\Users\\girgi\\OneDrive\\Desktop\\Github\\quantum_logical\\venv\\lib\\site-packages\\qutip\\solver\\parallel.py:336\u001b[0m, in \u001b[0;36mparallel_map\u001b[1;34m(task, values, task_args, task_kwargs, reduce_func, map_kw, progress_bar, progress_bar_kwargs)\u001b[0m\n\u001b[0;32m    331\u001b[0m \u001b[38;5;28;01mdef\u001b[39;00m \u001b[38;5;21mshutdown_executor\u001b[39m(executor, _):\n\u001b[0;32m    332\u001b[0m     \u001b[38;5;66;03m# Since `ProcessPoolExecutor` leaves no other option,\u001b[39;00m\n\u001b[0;32m    333\u001b[0m     \u001b[38;5;66;03m# we wait for all worker processes to finish their current task\u001b[39;00m\n\u001b[0;32m    334\u001b[0m     executor\u001b[38;5;241m.\u001b[39mshutdown()\n\u001b[1;32m--> 336\u001b[0m \u001b[38;5;28;01mreturn\u001b[39;00m \u001b[43m_generic_pmap\u001b[49m\u001b[43m(\u001b[49m\n\u001b[0;32m    337\u001b[0m \u001b[43m    \u001b[49m\u001b[43mtask\u001b[49m\u001b[43m,\u001b[49m\u001b[43m \u001b[49m\u001b[43mvalues\u001b[49m\u001b[43m,\u001b[49m\u001b[43m \u001b[49m\u001b[43mtask_args\u001b[49m\u001b[43m,\u001b[49m\u001b[43m \u001b[49m\u001b[43mtask_kwargs\u001b[49m\u001b[43m,\u001b[49m\u001b[43m \u001b[49m\u001b[43mreduce_func\u001b[49m\u001b[43m,\u001b[49m\n\u001b[0;32m    338\u001b[0m \u001b[43m    \u001b[49m\u001b[43mmap_kw\u001b[49m\u001b[43m[\u001b[49m\u001b[38;5;124;43m'\u001b[39;49m\u001b[38;5;124;43mtimeout\u001b[39;49m\u001b[38;5;124;43m'\u001b[39;49m\u001b[43m]\u001b[49m\u001b[43m,\u001b[49m\u001b[43m \u001b[49m\u001b[43mmap_kw\u001b[49m\u001b[43m[\u001b[49m\u001b[38;5;124;43m'\u001b[39;49m\u001b[38;5;124;43mfail_fast\u001b[39;49m\u001b[38;5;124;43m'\u001b[39;49m\u001b[43m]\u001b[49m\u001b[43m,\u001b[49m\u001b[43m \u001b[49m\u001b[43mmap_kw\u001b[49m\u001b[43m[\u001b[49m\u001b[38;5;124;43m'\u001b[39;49m\u001b[38;5;124;43mnum_cpus\u001b[39;49m\u001b[38;5;124;43m'\u001b[39;49m\u001b[43m]\u001b[49m\u001b[43m,\u001b[49m\n\u001b[0;32m    339\u001b[0m \u001b[43m    \u001b[49m\u001b[43mprogress_bar\u001b[49m\u001b[43m,\u001b[49m\u001b[43m \u001b[49m\u001b[43mprogress_bar_kwargs\u001b[49m\u001b[43m,\u001b[49m\n\u001b[0;32m    340\u001b[0m \u001b[43m    \u001b[49m\u001b[43msetup_executor\u001b[49m\u001b[43m,\u001b[49m\u001b[43m \u001b[49m\u001b[43mextract_result\u001b[49m\u001b[43m,\u001b[49m\u001b[43m \u001b[49m\u001b[43mshutdown_executor\u001b[49m\n\u001b[0;32m    341\u001b[0m \u001b[43m\u001b[49m\u001b[43m)\u001b[49m\n",
      "File \u001b[1;32mc:\\Users\\girgi\\OneDrive\\Desktop\\Github\\quantum_logical\\venv\\lib\\site-packages\\qutip\\solver\\parallel.py:257\u001b[0m, in \u001b[0;36m_generic_pmap\u001b[1;34m(task, values, task_args, task_kwargs, reduce_func, timeout, fail_fast, num_workers, progress_bar, progress_bar_kwargs, setup_executor, extract_result, shutdown_executor)\u001b[0m\n\u001b[0;32m    255\u001b[0m progress_bar\u001b[38;5;241m.\u001b[39mfinished()\n\u001b[0;32m    256\u001b[0m \u001b[38;5;28;01mif\u001b[39;00m errors \u001b[38;5;129;01mand\u001b[39;00m fail_fast:\n\u001b[1;32m--> 257\u001b[0m     \u001b[38;5;28;01mraise\u001b[39;00m \u001b[38;5;28mlist\u001b[39m(errors\u001b[38;5;241m.\u001b[39mvalues())[\u001b[38;5;241m0\u001b[39m]\n\u001b[0;32m    258\u001b[0m \u001b[38;5;28;01melif\u001b[39;00m errors:\n\u001b[0;32m    259\u001b[0m     \u001b[38;5;28;01mraise\u001b[39;00m MapExceptions(\n\u001b[0;32m    260\u001b[0m         \u001b[38;5;124mf\u001b[39m\u001b[38;5;124m\"\u001b[39m\u001b[38;5;132;01m{\u001b[39;00m\u001b[38;5;28mlen\u001b[39m(errors)\u001b[38;5;132;01m}\u001b[39;00m\u001b[38;5;124m iterations failed in parallel_map\u001b[39m\u001b[38;5;124m\"\u001b[39m,\n\u001b[0;32m    261\u001b[0m         errors, results\n\u001b[0;32m    262\u001b[0m     )\n",
=======
      "Cell \u001b[1;32mIn[14], line 28\u001b[0m\n\u001b[0;32m     23\u001b[0m     fid \u001b[38;5;241m=\u001b[39m qt\u001b[38;5;241m.\u001b[39mfidelity(res\u001b[38;5;241m.\u001b[39mstates[\u001b[38;5;241m-\u001b[39m\u001b[38;5;241m1\u001b[39m], psif)\n\u001b[0;32m     25\u001b[0m     \u001b[38;5;28;01mreturn\u001b[39;00m fid\n\u001b[1;32m---> 28\u001b[0m results \u001b[38;5;241m=\u001b[39m \u001b[43mqt\u001b[49m\u001b[38;5;241;43m.\u001b[39;49m\u001b[43mparallel\u001b[49m\u001b[38;5;241;43m.\u001b[39;49m\u001b[43mparallel_map\u001b[49m\u001b[43m(\u001b[49m\u001b[43mtask\u001b[49m\u001b[43m \u001b[49m\u001b[38;5;241;43m=\u001b[39;49m\u001b[43m \u001b[49m\u001b[43msim_task\u001b[49m\u001b[43m,\u001b[49m\u001b[43m \u001b[49m\u001b[43mvalues\u001b[49m\u001b[43m \u001b[49m\u001b[38;5;241;43m=\u001b[39;49m\u001b[43m \u001b[49m\u001b[43mamps_freqs\u001b[49m\u001b[43m,\u001b[49m\u001b[43m \u001b[49m\u001b[43mprogress_bar\u001b[49m\u001b[38;5;241;43m=\u001b[39;49m\u001b[43m \u001b[49m\u001b[38;5;28;43;01mTrue\u001b[39;49;00m\u001b[43m)\u001b[49m\n",
      "File \u001b[1;32mc:\\Users\\girgi\\Desktop\\Github\\quantum_logical\\venv\\lib\\site-packages\\qutip\\solver\\parallel.py:336\u001b[0m, in \u001b[0;36mparallel_map\u001b[1;34m(task, values, task_args, task_kwargs, reduce_func, map_kw, progress_bar, progress_bar_kwargs)\u001b[0m\n\u001b[0;32m    331\u001b[0m \u001b[38;5;28;01mdef\u001b[39;00m \u001b[38;5;21mshutdown_executor\u001b[39m(executor, _):\n\u001b[0;32m    332\u001b[0m     \u001b[38;5;66;03m# Since `ProcessPoolExecutor` leaves no other option,\u001b[39;00m\n\u001b[0;32m    333\u001b[0m     \u001b[38;5;66;03m# we wait for all worker processes to finish their current task\u001b[39;00m\n\u001b[0;32m    334\u001b[0m     executor\u001b[38;5;241m.\u001b[39mshutdown()\n\u001b[1;32m--> 336\u001b[0m \u001b[38;5;28;01mreturn\u001b[39;00m \u001b[43m_generic_pmap\u001b[49m\u001b[43m(\u001b[49m\n\u001b[0;32m    337\u001b[0m \u001b[43m    \u001b[49m\u001b[43mtask\u001b[49m\u001b[43m,\u001b[49m\u001b[43m \u001b[49m\u001b[43mvalues\u001b[49m\u001b[43m,\u001b[49m\u001b[43m \u001b[49m\u001b[43mtask_args\u001b[49m\u001b[43m,\u001b[49m\u001b[43m \u001b[49m\u001b[43mtask_kwargs\u001b[49m\u001b[43m,\u001b[49m\u001b[43m \u001b[49m\u001b[43mreduce_func\u001b[49m\u001b[43m,\u001b[49m\n\u001b[0;32m    338\u001b[0m \u001b[43m    \u001b[49m\u001b[43mmap_kw\u001b[49m\u001b[43m[\u001b[49m\u001b[38;5;124;43m'\u001b[39;49m\u001b[38;5;124;43mtimeout\u001b[39;49m\u001b[38;5;124;43m'\u001b[39;49m\u001b[43m]\u001b[49m\u001b[43m,\u001b[49m\u001b[43m \u001b[49m\u001b[43mmap_kw\u001b[49m\u001b[43m[\u001b[49m\u001b[38;5;124;43m'\u001b[39;49m\u001b[38;5;124;43mfail_fast\u001b[39;49m\u001b[38;5;124;43m'\u001b[39;49m\u001b[43m]\u001b[49m\u001b[43m,\u001b[49m\u001b[43m \u001b[49m\u001b[43mmap_kw\u001b[49m\u001b[43m[\u001b[49m\u001b[38;5;124;43m'\u001b[39;49m\u001b[38;5;124;43mnum_cpus\u001b[39;49m\u001b[38;5;124;43m'\u001b[39;49m\u001b[43m]\u001b[49m\u001b[43m,\u001b[49m\n\u001b[0;32m    339\u001b[0m \u001b[43m    \u001b[49m\u001b[43mprogress_bar\u001b[49m\u001b[43m,\u001b[49m\u001b[43m \u001b[49m\u001b[43mprogress_bar_kwargs\u001b[49m\u001b[43m,\u001b[49m\n\u001b[0;32m    340\u001b[0m \u001b[43m    \u001b[49m\u001b[43msetup_executor\u001b[49m\u001b[43m,\u001b[49m\u001b[43m \u001b[49m\u001b[43mextract_result\u001b[49m\u001b[43m,\u001b[49m\u001b[43m \u001b[49m\u001b[43mshutdown_executor\u001b[49m\n\u001b[0;32m    341\u001b[0m \u001b[43m\u001b[49m\u001b[43m)\u001b[49m\n",
      "File \u001b[1;32mc:\\Users\\girgi\\Desktop\\Github\\quantum_logical\\venv\\lib\\site-packages\\qutip\\solver\\parallel.py:257\u001b[0m, in \u001b[0;36m_generic_pmap\u001b[1;34m(task, values, task_args, task_kwargs, reduce_func, timeout, fail_fast, num_workers, progress_bar, progress_bar_kwargs, setup_executor, extract_result, shutdown_executor)\u001b[0m\n\u001b[0;32m    255\u001b[0m progress_bar\u001b[38;5;241m.\u001b[39mfinished()\n\u001b[0;32m    256\u001b[0m \u001b[38;5;28;01mif\u001b[39;00m errors \u001b[38;5;129;01mand\u001b[39;00m fail_fast:\n\u001b[1;32m--> 257\u001b[0m     \u001b[38;5;28;01mraise\u001b[39;00m \u001b[38;5;28mlist\u001b[39m(errors\u001b[38;5;241m.\u001b[39mvalues())[\u001b[38;5;241m0\u001b[39m]\n\u001b[0;32m    258\u001b[0m \u001b[38;5;28;01melif\u001b[39;00m errors:\n\u001b[0;32m    259\u001b[0m     \u001b[38;5;28;01mraise\u001b[39;00m MapExceptions(\n\u001b[0;32m    260\u001b[0m         \u001b[38;5;124mf\u001b[39m\u001b[38;5;124m\"\u001b[39m\u001b[38;5;132;01m{\u001b[39;00m\u001b[38;5;28mlen\u001b[39m(errors)\u001b[38;5;132;01m}\u001b[39;00m\u001b[38;5;124m iterations failed in parallel_map\u001b[39m\u001b[38;5;124m\"\u001b[39m,\n\u001b[0;32m    261\u001b[0m         errors, results\n\u001b[0;32m    262\u001b[0m     )\n",
>>>>>>> Stashed changes
      "\u001b[1;31mBrokenProcessPool\u001b[0m: A process in the process pool was terminated abruptly while the future was running or pending."
     ]
    }
   ],
   "source": [
    "# will optimize over the amplitude of the pulse and maybe frequency \n",
    "# creating the tuple of amps and frequencies \n",
    "amps = np.linspace(0, 8, 10)\n",
    "freqs = np.linspace(0, 8, 10)\n",
    "amps_freqs = [(i,j) for i in amps for j in freqs]\n",
    "\n",
    "def sim_task(amps_freqs):\n",
    "    amp, freq = amps_freqs\n",
    "\n",
    "    def w_t(amp, freq, t):\n",
    "        return amp * np.sin(freq * t)\n",
    "\n",
    "    def wt(t, args = None):\n",
    "        return w_t(amp, freq, t)\n",
    "    \n",
    "    H_pump = [H_time, wt]\n",
    "\n",
    "    H_t = [H_no_time, H_pump]\n",
    "\n",
    "    res = qt.mesolve(H = H_t, rho0 = rho0, tlist = tlist, options= opts)\n",
    "\n",
    "    # add the fid calculation\n",
    "    fid = qt.fidelity(res.states[-1], psif)\n",
    "\n",
    "    return fid\n",
    "\n",
    "\n",
<<<<<<< Updated upstream
    "results = qt.parallel_map(task = sim_task, values = amps_freqs, progress_bar= True)\n"
=======
    "results = qt.parallel.parallel_map(task = sim_task, values = amps_freqs, progress_bar= True)\n"
>>>>>>> Stashed changes
   ]
  },
  {
   "cell_type": "code",
   "execution_count": null,
   "metadata": {},
   "outputs": [],
   "source": []
  }
 ],
 "metadata": {
  "kernelspec": {
   "display_name": "venv",
   "language": "python",
   "name": "python3"
  },
  "language_info": {
   "codemirror_mode": {
    "name": "ipython",
    "version": 3
   },
   "file_extension": ".py",
   "mimetype": "text/x-python",
   "name": "python",
   "nbconvert_exporter": "python",
   "pygments_lexer": "ipython3",
   "version": "3.9.13"
  }
 },
 "nbformat": 4,
 "nbformat_minor": 2
}
