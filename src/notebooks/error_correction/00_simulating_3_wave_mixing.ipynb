{
 "cells": [
  {
   "cell_type": "code",
   "execution_count": 4,
   "metadata": {},
   "outputs": [],
   "source": [
    "# declaring all dependancies    \n",
    "import qutip as qt\n",
    "import numpy as np\n",
    "from quantum_logical.pulsesim import QuantumSystem, Pulse\n",
    "from quantum_logical.pulsesim.mode import QubitMode, SNAILMode, CavityMode\n",
    "from quantum_logical.pulsesim.build_hamiltonian import Build_hamiltonian"
   ]
  },
  {
   "cell_type": "code",
   "execution_count": 37,
   "metadata": {},
   "outputs": [],
   "source": [
    "# adding all of the necessary elements to the full creation of the system \n",
    "qubit_dim = 2\n",
    "\n",
    "# frequencies \n",
    "w1_un = 4\n",
    "w2_un = 6\n",
    "w3_un = 4.6666666666666666\n",
    "ws_un = 5.6666666666666666\n",
    "\n",
    "# coupling strength coefficient \n",
    "g1s = 2 * np.pi * 0.05467\n",
    "g2s = 2 * np.pi * 0.0435\n",
    "g3s = 2 * np.pi * 0.04875\n",
    "\n",
    "# create array of the coefficients should be useful \n",
    "gs = [g1s, g2s, g3s]\n",
    "\n",
    "# unknown value as of now \n",
    "g3 = .4"
   ]
  },
  {
   "cell_type": "code",
   "execution_count": 30,
   "metadata": {},
   "outputs": [],
   "source": [
    "# creating the qubits and the hilbert space\n",
    "qubit1 = QubitMode(\n",
    "    mode_type=\"Qubit\", name=\"q1\", dim=2, freq=w1_un, alpha=-0.161, T1=1e2, T2=5e1\n",
    ")\n",
    "qubit2 = QubitMode(\n",
    "    mode_type=\"Qubit\", name=\"q2\", dim=2, freq=w2_un, alpha=-0.1275, T1=1e2, T2=5e1\n",
    ")\n",
    "qubit3 = QubitMode(\n",
    "    mode_type=\"Qubit\", name=\"q3\", dim=2, freq=w3_un, alpha=-0.160, T1=1e2, T2=5e1\n",
    ")\n",
    "qubits = [qubit1, qubit2, qubit3]\n",
    "snail = SNAILMode(mode_type=\"Snail\", name=\"s\", freq=ws_un, g3=0.3, dim=10, T1=1e3, T2=5e2)\n",
    "_couplings = {\n",
    "    frozenset([qubit1, snail]): 2 * np.pi * 0.05467,\n",
    "    frozenset([qubit2, snail]): 2 * np.pi * 0.0435,\n",
    "    frozenset([qubit3, snail]): 2 * np.pi * 0.04875\n",
    "}\n",
    "\n",
    "qs = QuantumSystem(qubits + [snail], couplings=_couplings)\n",
    "\n",
    "system = []\n",
    "system.extend(qubits)\n",
    "system.extend([snail])\n"
   ]
  },
  {
   "cell_type": "code",
   "execution_count": 35,
   "metadata": {},
   "outputs": [],
   "source": [
    "# creating the linear parts of the hamiltonian  \n",
    "# the qubit and snail separate terms\n",
    "H_no_interaction = [i.freq * qs.modes_a[i] * qs.modes_a_dag[i] for i in system]\n",
    "\n",
    "\n",
    "# creating the snail mixing with the qubits terms\n",
    "H_snail_qubits = [gs[qubits.index(i)] * (qs.modes_a[i] * qs.modes_a_dag[snail] + qs.modes_a[snail] * qs.modes_a_dag[i]) for i in qubits]"
   ]
  },
  {
   "cell_type": "code",
   "execution_count": 54,
   "metadata": {},
   "outputs": [],
   "source": [
    "# creating the non-linear parts of the hamiltonian \n",
    "# adding the snail third order term first \n",
    "H_snail_third = g3 * ((qs.modes_a[snail] + qs.modes_a_dag[snail]) ** 3)\n",
    "\n",
    "H_total_no_time = []\n",
    "H_total_no_time.append(H_no_interaction)\n",
    "H_total_no_time.append(H_snail_qubits)\n",
    "H_total_no_time.append(H_snail_third)"
   ]
  },
  {
   "cell_type": "code",
   "execution_count": 58,
   "metadata": {},
   "outputs": [],
   "source": [
    "# adding the time dependent terms \n",
    "# this might have to be done with a constant pulse first but it should be easy to implement the more complex ones \n",
    "pulse = 2\n",
    "\n",
    "H_time = (qs.modes_a[snail] + qs.modes_a_dag[snail])\n",
    "\n",
    "H = [H_total_no_time,[pulse, H_time]]\n"
   ]
  },
  {
   "cell_type": "code",
   "execution_count": 59,
   "metadata": {},
   "outputs": [],
   "source": [
    "# create the intial state \n",
    "psi0 = qt.tensor(qt.basis(qubit_dim,1), qt.basis(qubit_dim,0), qt.basis(qubit_dim,0), qt.basis(snail.dim))\n",
    "rho0 = psi0 * psi0.dag()"
   ]
  },
  {
   "cell_type": "code",
   "execution_count": 60,
   "metadata": {},
   "outputs": [
    {
     "ename": "ValueError",
     "evalue": "coefficient format not understood",
     "output_type": "error",
     "traceback": [
      "\u001b[1;31m---------------------------------------------------------------------------\u001b[0m",
      "\u001b[1;31mValueError\u001b[0m                                Traceback (most recent call last)",
      "Cell \u001b[1;32mIn[60], line 3\u001b[0m\n\u001b[0;32m      1\u001b[0m \u001b[38;5;66;03m# run mesolve over the hamiltonian \u001b[39;00m\n\u001b[0;32m      2\u001b[0m tlist \u001b[38;5;241m=\u001b[39m np\u001b[38;5;241m.\u001b[39mlinspace(\u001b[38;5;241m0\u001b[39m,\u001b[38;5;241m200\u001b[39m,\u001b[38;5;241m100\u001b[39m)\n\u001b[1;32m----> 3\u001b[0m result \u001b[38;5;241m=\u001b[39m \u001b[43mqt\u001b[49m\u001b[38;5;241;43m.\u001b[39;49m\u001b[43mmesolve\u001b[49m\u001b[43m(\u001b[49m\u001b[43mH\u001b[49m\u001b[38;5;241;43m=\u001b[39;49m\u001b[43m \u001b[49m\u001b[43mH\u001b[49m\u001b[43m,\u001b[49m\u001b[43m \u001b[49m\u001b[43mrho0\u001b[49m\u001b[43m \u001b[49m\u001b[38;5;241;43m=\u001b[39;49m\u001b[43m \u001b[49m\u001b[43mrho0\u001b[49m\u001b[43m,\u001b[49m\u001b[43m \u001b[49m\u001b[43mtlist\u001b[49m\u001b[43m \u001b[49m\u001b[38;5;241;43m=\u001b[39;49m\u001b[43m \u001b[49m\u001b[43mtlist\u001b[49m\u001b[43m)\u001b[49m\n",
      "File \u001b[1;32mc:\\Users\\girgi\\OneDrive\\Desktop\\Github\\quantum_logical\\venv\\lib\\site-packages\\qutip\\solver\\mesolve.py:131\u001b[0m, in \u001b[0;36mmesolve\u001b[1;34m(H, rho0, tlist, c_ops, e_ops, args, options, **kwargs)\u001b[0m\n\u001b[0;32m     20\u001b[0m \u001b[38;5;250m\u001b[39m\u001b[38;5;124;03m\"\"\"\u001b[39;00m\n\u001b[0;32m     21\u001b[0m \u001b[38;5;124;03mMaster equation evolution of a density matrix for a given Hamiltonian and\u001b[39;00m\n\u001b[0;32m     22\u001b[0m \u001b[38;5;124;03mset of collapse operators, or a Liouvillian.\u001b[39;00m\n\u001b[1;32m   (...)\u001b[0m\n\u001b[0;32m    128\u001b[0m \n\u001b[0;32m    129\u001b[0m \u001b[38;5;124;03m\"\"\"\u001b[39;00m\n\u001b[0;32m    130\u001b[0m options \u001b[38;5;241m=\u001b[39m _solver_deprecation(kwargs, options)\n\u001b[1;32m--> 131\u001b[0m H \u001b[38;5;241m=\u001b[39m \u001b[43mQobjEvo\u001b[49m\u001b[43m(\u001b[49m\u001b[43mH\u001b[49m\u001b[43m,\u001b[49m\u001b[43m \u001b[49m\u001b[43margs\u001b[49m\u001b[38;5;241;43m=\u001b[39;49m\u001b[43margs\u001b[49m\u001b[43m,\u001b[49m\u001b[43m \u001b[49m\u001b[43mtlist\u001b[49m\u001b[38;5;241;43m=\u001b[39;49m\u001b[43mtlist\u001b[49m\u001b[43m)\u001b[49m\n\u001b[0;32m    133\u001b[0m c_ops \u001b[38;5;241m=\u001b[39m c_ops \u001b[38;5;28;01mif\u001b[39;00m c_ops \u001b[38;5;129;01mis\u001b[39;00m \u001b[38;5;129;01mnot\u001b[39;00m \u001b[38;5;28;01mNone\u001b[39;00m \u001b[38;5;28;01melse\u001b[39;00m []\n\u001b[0;32m    134\u001b[0m \u001b[38;5;28;01mif\u001b[39;00m \u001b[38;5;129;01mnot\u001b[39;00m \u001b[38;5;28misinstance\u001b[39m(c_ops, (\u001b[38;5;28mlist\u001b[39m, \u001b[38;5;28mtuple\u001b[39m)):\n",
      "File \u001b[1;32mc:\\Users\\girgi\\OneDrive\\Desktop\\Github\\quantum_logical\\venv\\lib\\site-packages\\qutip\\core\\cy\\qobjevo.pyx:223\u001b[0m, in \u001b[0;36mqutip.core.cy.qobjevo.QobjEvo.__init__\u001b[1;34m()\u001b[0m\n",
      "File \u001b[1;32mc:\\Users\\girgi\\OneDrive\\Desktop\\Github\\quantum_logical\\venv\\lib\\site-packages\\qutip\\core\\cy\\qobjevo.pyx:272\u001b[0m, in \u001b[0;36mqutip.core.cy.qobjevo.QobjEvo._read_element\u001b[1;34m()\u001b[0m\n",
      "File \u001b[1;32mc:\\Users\\girgi\\OneDrive\\Desktop\\Github\\quantum_logical\\venv\\lib\\site-packages\\qutip\\core\\coefficient.py:183\u001b[0m, in \u001b[0;36mcoefficient\u001b[1;34m(base, tlist, args, args_ctypes, order, compile_opt, function_style, boundary_conditions, **kwargs)\u001b[0m\n\u001b[0;32m    181\u001b[0m     \u001b[38;5;28;01mreturn\u001b[39;00m op\n\u001b[0;32m    182\u001b[0m \u001b[38;5;28;01melse\u001b[39;00m:\n\u001b[1;32m--> 183\u001b[0m     \u001b[38;5;28;01mraise\u001b[39;00m \u001b[38;5;167;01mValueError\u001b[39;00m(\u001b[38;5;124m\"\u001b[39m\u001b[38;5;124mcoefficient format not understood\u001b[39m\u001b[38;5;124m\"\u001b[39m)\n",
      "\u001b[1;31mValueError\u001b[0m: coefficient format not understood"
     ]
    }
   ],
   "source": [
    "# run mesolve over the hamiltonian \n",
    "tlist = np.linspace(0,200,100)\n",
    "result = qt.mesolve(H= H, rho0 = rho0, tlist = tlist)"
   ]
  },
  {
   "cell_type": "code",
   "execution_count": null,
   "metadata": {},
   "outputs": [],
   "source": [
    "# will optimize over the amplitude of the pulse and maybe frequency "
   ]
  }
 ],
 "metadata": {
  "kernelspec": {
   "display_name": "venv",
   "language": "python",
   "name": "python3"
  },
  "language_info": {
   "codemirror_mode": {
    "name": "ipython",
    "version": 3
   },
   "file_extension": ".py",
   "mimetype": "text/x-python",
   "name": "python",
   "nbconvert_exporter": "python",
   "pygments_lexer": "ipython3",
   "version": "3.9.13"
  }
 },
 "nbformat": 4,
 "nbformat_minor": 2
}
