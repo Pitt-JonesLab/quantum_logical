{
 "cells": [
  {
   "cell_type": "code",
   "execution_count": 42,
   "metadata": {},
   "outputs": [
    {
     "name": "stderr",
     "output_type": "stream",
     "text": [
      "c:\\Users\\girgi\\OneDrive\\Desktop\\Github\\quantum_logical\\venv\\lib\\site-packages\\qutip\\solver\\options.py:16: FutureWarning: Dedicated options class are no longer needed, options should be passed as dict to solvers.\n",
      "  warnings.warn(\n"
     ]
    }
   ],
   "source": [
    "# declaring all dependancies    \n",
    "import qutip as qt\n",
    "import numpy as np\n",
    "from quantum_logical.pulsesim import QuantumSystem, Pulse\n",
    "from quantum_logical.pulsesim.mode import QubitMode, SNAILMode, CavityMode\n",
    "from quantum_logical.pulsesim.build_hamiltonian import Build_hamiltonian\n",
    "import matplotlib.pyplot as plt\n",
    "from qutip import Options\n",
    "from tqdm import tqdm_notebook as tqdm\n",
    "from progressbar import progressbar\n",
    "\n",
    "opts = Options(nsteps=1e5, atol=1e-8, rtol=1e-6, progress_bar=\"enhanced\")"
   ]
  },
  {
   "cell_type": "code",
   "execution_count": 43,
   "metadata": {},
   "outputs": [],
   "source": [
    "# adding all of the necessary elements to the full creation of the system \n",
    "qubit_dim = 2\n",
    "\n",
    "# frequencies \n",
    "w1_un = 4\n",
    "w2_un = 6\n",
    "w3_un = 4.6666666666666666\n",
    "ws_un = 5.6666666666666666\n",
    "\n",
    "# coupling strength coefficient \n",
    "g1s = 2 * np.pi * 0.05467\n",
    "g2s = 2 * np.pi * 0.0435\n",
    "g3s = 2 * np.pi * 0.04875\n",
    "\n",
    "# create array of the coefficients should be useful \n",
    "gs = [g1s, g2s, g3s]\n",
    "\n",
    "# unknown value as of now \n",
    "g3 = .4"
   ]
  },
  {
   "cell_type": "code",
   "execution_count": 115,
   "metadata": {},
   "outputs": [],
   "source": [
    "# creating the qubits and the hilbert space\n",
    "qubit1 = QubitMode(\n",
    "    mode_type=\"Qubit\", name=\"q1\", dim=2, freq=w1_un, alpha=-0.161, T1=1e2, T2=5e1\n",
    ")\n",
    "qubit2 = QubitMode(\n",
    "    mode_type=\"Qubit\", name=\"q2\", dim=2, freq=w2_un, alpha=-0.1275, T1=1e2, T2=5e1\n",
    ")\n",
    "qubit3 = QubitMode(\n",
    "    mode_type=\"Qubit\", name=\"q3\", dim=2, freq=w3_un, alpha=-0.160, T1=1e2, T2=5e1\n",
    ")\n",
    "qubits = [qubit1, qubit2, qubit3]\n",
    "snail = SNAILMode(mode_type=\"Snail\", name=\"s\", freq=ws_un, g3=0.3, dim=10, T1=1e3, T2=5e2)\n",
    "_couplings = {\n",
    "    frozenset([qubit1, snail]): 2 * np.pi * 0.05467,\n",
    "    frozenset([qubit2, snail]): 2 * np.pi * 0.0435,\n",
    "    frozenset([qubit3, snail]): 2 * np.pi * 0.04875\n",
    "}\n",
    "\n",
    "qs = QuantumSystem(qubits + [snail], couplings=_couplings)\n",
    "\n",
    "system = []\n",
    "system.extend(qubits)\n",
    "system.extend([snail])\n"
   ]
  },
  {
   "cell_type": "code",
   "execution_count": 116,
   "metadata": {},
   "outputs": [],
   "source": [
    "# list of qubit coupling strengths that will be given\n",
    "g13 = g23 = g12 = .1\n",
    "gqs = [[qubit1.freq,g12,g13],[g12,qubit2.freq,g23],[g13,g23,qubit3.freq]]\n",
    "\n",
    "# creating the list of alphas that will be given to us \n",
    "a1 = a2 = a3 = .1\n",
    "alphas = [a1, a2, a3]"
   ]
  },
  {
   "cell_type": "code",
   "execution_count": 117,
   "metadata": {},
   "outputs": [],
   "source": [
    "# building the hammiltonian up to the pump term \n",
    "# creating the linear parts of the hamiltonian  \n",
    "# the qubit and snail separate terms\n",
    "H_no_interaction = [i.freq * (qs.modes_a_dag[i] * qs.modes_a[i]) for i in system]\n",
    "\n",
    "# creating the snail mixing with the qubits terms\n",
    "H_snail_qubits = [gs[qubits.index(i)] * (qs.modes_field[snail] * qs.modes_field[i]) for i in qubits]\n",
    "\n",
    "# adding the coupling terms between the qubits \n",
    "H_qubit_qubit = []\n",
    "\n",
    "for i in range(len(qubits)):\n",
    "    for j in range(len(qubits)):\n",
    "        if j > i:\n",
    "            H_qubit_qubit.append(gqs[i][j] * (qs.modes_field[qubits[i]] * qs.modes_field[qubits[j]]))\n",
    "\n",
    "# creating the nonlinear parts of the hamiltonian \n",
    "# adding the snail third order term first \n",
    "H_snail_third = [g3 * ((qs.modes_field[snail]) ** 3)]\n",
    "\n",
    "# add the qubit non-linearity \n",
    "H_qubit_fourth = [alphas[qubits.index(i)] * (qs.modes_field[i] ** 4) for i in qubits]\n"
   ]
  },
  {
   "cell_type": "code",
   "execution_count": 122,
   "metadata": {},
   "outputs": [],
   "source": [
    "# creating the non-linear parts of the hamiltonian \n",
    "\n",
    "H_total_no_time = []\n",
    "# adding the linear parts into the hamiltonian \n",
    "H_total_no_time.extend(H_no_interaction)\n",
    "H_total_no_time.extend(H_snail_qubits)\n",
    "H_total_no_time.extend(H_qubit_qubit)\n",
    "# adding the non-linear parts \n",
    "H_total_no_time.extend(H_snail_third)\n",
    "H_total_no_time.extend(H_qubit_fourth)\n"
   ]
  },
  {
   "cell_type": "code",
   "execution_count": 123,
   "metadata": {},
   "outputs": [],
   "source": [
    "H_no_time = sum(H_total_no_time)"
   ]
  },
  {
   "cell_type": "code",
   "execution_count": 126,
   "metadata": {},
   "outputs": [],
   "source": [
    "# adding the time dependent terms \n",
    "# this might have to be done with a constant pulse first but it should be easy to implement the more complex ones \n",
    "\n",
    "H_time = (qs.modes_field[snail])\n",
    "\n",
    "# making a pulse for the function \n",
    "def w_t(a, b, t):\n",
    "    # return a * np.sin(b * t)\n",
    "    return a * np.exp(- b * (t **2))\n",
    "\n",
    "amp = 7.12\n",
    "freq = .25\n",
    "def wt(t, args = None):\n",
    "    return w_t(amp, freq, t)\n",
    "\n",
    "H = [H_no_time,[H_time, wt]]\n",
    "\n"
   ]
  },
  {
   "cell_type": "code",
   "execution_count": 127,
   "metadata": {},
   "outputs": [],
   "source": [
    "# create the intial state \n",
    "psi0 = qt.tensor(qt.basis(qubit_dim,1), qt.basis(qubit_dim,0), qt.basis(qubit_dim,0), qt.basis(snail.dim))\n",
    "rho0 = psi0 * psi0.dag()"
   ]
  },
  {
   "cell_type": "code",
   "execution_count": 133,
   "metadata": {},
   "outputs": [
    {
     "name": "stdout",
     "output_type": "stream",
     "text": [
      " Total run time: 606.79s*] Elapsed 606.79s / Remaining 00:00:00:00\n"
     ]
    }
   ],
   "source": [
    "# run mesolve over the hamiltonian \n",
    "tlist = np.linspace(0,400,100)\n",
    "result = qt.mesolve(H = H, rho0 = rho0, tlist = tlist, options= opts)"
   ]
  },
  {
   "cell_type": "code",
   "execution_count": 134,
   "metadata": {},
   "outputs": [
    {
     "name": "stderr",
     "output_type": "stream",
     "text": [
      "C:\\Users\\girgi\\AppData\\Local\\Temp\\ipykernel_20800\\1914721431.py:7: UserWarning: FigureCanvasAgg is non-interactive, and thus cannot be shown\n",
      "  fig.show()\n"
     ]
    },
    {
     "data": {
      "image/png": "[encoded data removed]",
      "text/plain": [
       "<Figure size 640x480 with 1 Axes>"
      ]
     },
     "metadata": {},
     "output_type": "display_data"
    }
   ],
   "source": [
    "fig, ax = plt.subplots()\n",
    "ax.plot(tlist, np.real(qt.expect(qs.modes_a_dag[qubit1]*qs.modes_a[qubit1], result.states)), 'r', linewidth = 2, label = \"qubit1\")\n",
    "ax.plot(tlist, np.real(qt.expect(qs.modes_a_dag[qubit2]*qs.modes_a[qubit2], result.states)), 'b', linewidth = 2, label = \"qubit2\")\n",
    "ax.plot(tlist, np.real(qt.expect(qs.modes_a_dag[qubit3]*qs.modes_a[qubit3], result.states)), 'g', linewidth = 2, label = \"qubit3\")\n",
    "ax.plot(tlist, np.real(qt.expect(qs.modes_a_dag[snail]*qs.modes_a[snail], result.states)), 'y', linewidth = 2, label = \"snail\")\n",
    "ax.legend()\n",
    "fig.show()"
   ]
  },
  {
   "cell_type": "code",
   "execution_count": 70,
   "metadata": {},
   "outputs": [],
   "source": [
    "# creating the expected final state \n",
    "psif = qt.tensor(qt.basis(qubit_dim,0), qt.basis(qubit_dim,0), qt.basis(qubit_dim,1), qt.basis(snail.dim))\n",
    "rhof = psif * psif.dag()"
   ]
  },
  {
   "cell_type": "code",
   "execution_count": 72,
   "metadata": {},
   "outputs": [
    {
     "data": {
      "text/plain": [
       "0.02577267856792654"
      ]
     },
     "execution_count": 72,
     "metadata": {},
     "output_type": "execute_result"
    }
   ],
   "source": [
    "qt.fidelity(psif, result.states[-1])"
   ]
  },
  {
   "cell_type": "code",
   "execution_count": 71,
   "metadata": {},
   "outputs": [
    {
     "name": "stdout",
     "output_type": "stream",
     "text": [
      "10.0%. Run time:   0.47s. Est. time left: 00:00:00:04\n",
      "20.0%. Run time:   0.47s. Est. time left: 00:00:00:01\n",
      "30.0%. Run time:   0.47s. Est. time left: 00:00:00:01\n",
      "Total run time:   0.48s\n"
     ]
    },
    {
     "ename": "BrokenProcessPool",
     "evalue": "A process in the process pool was terminated abruptly while the future was running or pending.",
     "output_type": "error",
     "traceback": [
      "\u001b[1;31m---------------------------------------------------------------------------\u001b[0m",
      "\u001b[1;31mBrokenProcessPool\u001b[0m                         Traceback (most recent call last)",
      "Cell \u001b[1;32mIn[71], line 28\u001b[0m\n\u001b[0;32m     23\u001b[0m     fid \u001b[38;5;241m=\u001b[39m qt\u001b[38;5;241m.\u001b[39mfidelity(res\u001b[38;5;241m.\u001b[39mstates[\u001b[38;5;241m-\u001b[39m\u001b[38;5;241m1\u001b[39m], psif)\n\u001b[0;32m     25\u001b[0m     \u001b[38;5;28;01mreturn\u001b[39;00m fid\n\u001b[1;32m---> 28\u001b[0m results \u001b[38;5;241m=\u001b[39m \u001b[43mqt\u001b[49m\u001b[38;5;241;43m.\u001b[39;49m\u001b[43mparallel_map\u001b[49m\u001b[43m(\u001b[49m\u001b[43mtask\u001b[49m\u001b[43m \u001b[49m\u001b[38;5;241;43m=\u001b[39;49m\u001b[43m \u001b[49m\u001b[43msim_task\u001b[49m\u001b[43m,\u001b[49m\u001b[43m \u001b[49m\u001b[43mvalues\u001b[49m\u001b[43m \u001b[49m\u001b[38;5;241;43m=\u001b[39;49m\u001b[43m \u001b[49m\u001b[43mamps_freqs\u001b[49m\u001b[43m,\u001b[49m\u001b[43m \u001b[49m\u001b[43mprogress_bar\u001b[49m\u001b[38;5;241;43m=\u001b[39;49m\u001b[43m \u001b[49m\u001b[38;5;28;43;01mTrue\u001b[39;49;00m\u001b[43m)\u001b[49m\n",
      "File \u001b[1;32mc:\\Users\\girgi\\OneDrive\\Desktop\\Github\\quantum_logical\\venv\\lib\\site-packages\\qutip\\solver\\parallel.py:336\u001b[0m, in \u001b[0;36mparallel_map\u001b[1;34m(task, values, task_args, task_kwargs, reduce_func, map_kw, progress_bar, progress_bar_kwargs)\u001b[0m\n\u001b[0;32m    331\u001b[0m \u001b[38;5;28;01mdef\u001b[39;00m \u001b[38;5;21mshutdown_executor\u001b[39m(executor, _):\n\u001b[0;32m    332\u001b[0m     \u001b[38;5;66;03m# Since `ProcessPoolExecutor` leaves no other option,\u001b[39;00m\n\u001b[0;32m    333\u001b[0m     \u001b[38;5;66;03m# we wait for all worker processes to finish their current task\u001b[39;00m\n\u001b[0;32m    334\u001b[0m     executor\u001b[38;5;241m.\u001b[39mshutdown()\n\u001b[1;32m--> 336\u001b[0m \u001b[38;5;28;01mreturn\u001b[39;00m \u001b[43m_generic_pmap\u001b[49m\u001b[43m(\u001b[49m\n\u001b[0;32m    337\u001b[0m \u001b[43m    \u001b[49m\u001b[43mtask\u001b[49m\u001b[43m,\u001b[49m\u001b[43m \u001b[49m\u001b[43mvalues\u001b[49m\u001b[43m,\u001b[49m\u001b[43m \u001b[49m\u001b[43mtask_args\u001b[49m\u001b[43m,\u001b[49m\u001b[43m \u001b[49m\u001b[43mtask_kwargs\u001b[49m\u001b[43m,\u001b[49m\u001b[43m \u001b[49m\u001b[43mreduce_func\u001b[49m\u001b[43m,\u001b[49m\n\u001b[0;32m    338\u001b[0m \u001b[43m    \u001b[49m\u001b[43mmap_kw\u001b[49m\u001b[43m[\u001b[49m\u001b[38;5;124;43m'\u001b[39;49m\u001b[38;5;124;43mtimeout\u001b[39;49m\u001b[38;5;124;43m'\u001b[39;49m\u001b[43m]\u001b[49m\u001b[43m,\u001b[49m\u001b[43m \u001b[49m\u001b[43mmap_kw\u001b[49m\u001b[43m[\u001b[49m\u001b[38;5;124;43m'\u001b[39;49m\u001b[38;5;124;43mfail_fast\u001b[39;49m\u001b[38;5;124;43m'\u001b[39;49m\u001b[43m]\u001b[49m\u001b[43m,\u001b[49m\u001b[43m \u001b[49m\u001b[43mmap_kw\u001b[49m\u001b[43m[\u001b[49m\u001b[38;5;124;43m'\u001b[39;49m\u001b[38;5;124;43mnum_cpus\u001b[39;49m\u001b[38;5;124;43m'\u001b[39;49m\u001b[43m]\u001b[49m\u001b[43m,\u001b[49m\n\u001b[0;32m    339\u001b[0m \u001b[43m    \u001b[49m\u001b[43mprogress_bar\u001b[49m\u001b[43m,\u001b[49m\u001b[43m \u001b[49m\u001b[43mprogress_bar_kwargs\u001b[49m\u001b[43m,\u001b[49m\n\u001b[0;32m    340\u001b[0m \u001b[43m    \u001b[49m\u001b[43msetup_executor\u001b[49m\u001b[43m,\u001b[49m\u001b[43m \u001b[49m\u001b[43mextract_result\u001b[49m\u001b[43m,\u001b[49m\u001b[43m \u001b[49m\u001b[43mshutdown_executor\u001b[49m\n\u001b[0;32m    341\u001b[0m \u001b[43m\u001b[49m\u001b[43m)\u001b[49m\n",
      "File \u001b[1;32mc:\\Users\\girgi\\OneDrive\\Desktop\\Github\\quantum_logical\\venv\\lib\\site-packages\\qutip\\solver\\parallel.py:257\u001b[0m, in \u001b[0;36m_generic_pmap\u001b[1;34m(task, values, task_args, task_kwargs, reduce_func, timeout, fail_fast, num_workers, progress_bar, progress_bar_kwargs, setup_executor, extract_result, shutdown_executor)\u001b[0m\n\u001b[0;32m    255\u001b[0m progress_bar\u001b[38;5;241m.\u001b[39mfinished()\n\u001b[0;32m    256\u001b[0m \u001b[38;5;28;01mif\u001b[39;00m errors \u001b[38;5;129;01mand\u001b[39;00m fail_fast:\n\u001b[1;32m--> 257\u001b[0m     \u001b[38;5;28;01mraise\u001b[39;00m \u001b[38;5;28mlist\u001b[39m(errors\u001b[38;5;241m.\u001b[39mvalues())[\u001b[38;5;241m0\u001b[39m]\n\u001b[0;32m    258\u001b[0m \u001b[38;5;28;01melif\u001b[39;00m errors:\n\u001b[0;32m    259\u001b[0m     \u001b[38;5;28;01mraise\u001b[39;00m MapExceptions(\n\u001b[0;32m    260\u001b[0m         \u001b[38;5;124mf\u001b[39m\u001b[38;5;124m\"\u001b[39m\u001b[38;5;132;01m{\u001b[39;00m\u001b[38;5;28mlen\u001b[39m(errors)\u001b[38;5;132;01m}\u001b[39;00m\u001b[38;5;124m iterations failed in parallel_map\u001b[39m\u001b[38;5;124m\"\u001b[39m,\n\u001b[0;32m    261\u001b[0m         errors, results\n\u001b[0;32m    262\u001b[0m     )\n",
      "\u001b[1;31mBrokenProcessPool\u001b[0m: A process in the process pool was terminated abruptly while the future was running or pending."
     ]
    }
   ],
   "source": [
    "# will optimize over the amplitude of the pulse and maybe frequency \n",
    "# creating the tuple of amps and frequencies \n",
    "amps = np.linspace(0, 8, 10)\n",
    "freqs = np.linspace(0, 8, 10)\n",
    "amps_freqs = [(i,j) for i in amps for j in freqs]\n",
    "\n",
    "def sim_task(amps_freqs):\n",
    "    amp, freq = amps_freqs\n",
    "\n",
    "    def w_t(amp, freq, t):\n",
    "        return amp * np.sin(freq * t)\n",
    "\n",
    "    def wt(t, args = None):\n",
    "        return w_t(amp, freq, t)\n",
    "    \n",
    "    H_pump = [H_time, wt]\n",
    "\n",
    "    H_t = [H_no_time, H_pump]\n",
    "\n",
    "    res = qt.mesolve(H = H_t, rho0 = rho0, tlist = tlist, options= opts)\n",
    "\n",
    "    # add the fid calculation\n",
    "    fid = qt.fidelity(res.states[-1], psif)\n",
    "\n",
    "    return fid\n",
    "\n",
    "\n",
    "results = qt.parallel_map(task = sim_task, values = amps_freqs, progress_bar= True)\n"
   ]
  },
  {
   "cell_type": "code",
   "execution_count": null,
   "metadata": {},
   "outputs": [],
   "source": []
  }
 ],
 "metadata": {
  "kernelspec": {
   "display_name": "venv",
   "language": "python",
   "name": "python3"
  },
  "language_info": {
   "codemirror_mode": {
    "name": "ipython",
    "version": 3
   },
   "file_extension": ".py",
   "mimetype": "text/x-python",
   "name": "python",
   "nbconvert_exporter": "python",
   "pygments_lexer": "ipython3",
   "version": "3.9.13"
  }
 },
 "nbformat": 4,
 "nbformat_minor": 2
}
