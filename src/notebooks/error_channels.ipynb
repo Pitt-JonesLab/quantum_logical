{
  "cells": [
    {
      "cell_type": "code",
      "execution_count": 5,
      "metadata": {},
      "outputs": [
        {
          "ename": "ModuleNotFoundError",
          "evalue": "No module named 'quantum_logical.error_channels'",
          "output_type": "error",
          "traceback": [
            "\u001b[0;31m---------------------------------------------------------------------------\u001b[0m",
            "\u001b[0;31mModuleNotFoundError\u001b[0m                       Traceback (most recent call last)",
            "\u001b[1;32m/home/evm9/quantum_logical/src/notebooks/error_channels.ipynb Cell 1\u001b[0m line \u001b[0;36m3\n\u001b[1;32m      <a href='vscode-notebook-cell://wsl%2Bubuntu/home/evm9/quantum_logical/src/notebooks/error_channels.ipynb#W0sdnNjb2RlLXJlbW90ZQ%3D%3D?line=0'>1</a>\u001b[0m \u001b[39m# experimenting with error channels\u001b[39;00m\n\u001b[1;32m      <a href='vscode-notebook-cell://wsl%2Bubuntu/home/evm9/quantum_logical/src/notebooks/error_channels.ipynb#W0sdnNjb2RlLXJlbW90ZQ%3D%3D?line=1'>2</a>\u001b[0m \u001b[39mimport\u001b[39;00m \u001b[39mnumpy\u001b[39;00m \u001b[39mas\u001b[39;00m \u001b[39mnp\u001b[39;00m\n\u001b[0;32m----> <a href='vscode-notebook-cell://wsl%2Bubuntu/home/evm9/quantum_logical/src/notebooks/error_channels.ipynb#W0sdnNjb2RlLXJlbW90ZQ%3D%3D?line=2'>3</a>\u001b[0m \u001b[39mfrom\u001b[39;00m \u001b[39mquantum_logical\u001b[39;00m\u001b[39m.\u001b[39;00m\u001b[39merror_channels\u001b[39;00m \u001b[39mimport\u001b[39;00m AmplitudeDamping, PhaseDampingS\n",
            "\u001b[0;31mModuleNotFoundError\u001b[0m: No module named 'quantum_logical.error_channels'"
          ]
        }
      ],
      "source": [
        "# experimenting with error channels\n",
        "import numpy as np\n",
        "from quantum_logical.error_channels import AmplitudeDamping, PhaseDampingS"
      ]
    },
    {
      "cell_type": "markdown",
      "metadata": {},
      "source": [
        "Operator-sum representation\n",
        "\n",
        "\\begin{align}\n",
        "\\epsilon(\\rho) = \\sum_i E_i \\rho E_i^\\dagger\n",
        "\\end{align}\n",
        "\n",
        "Creating a noisy-gate\n",
        "\n",
        "\\begin{align}\n",
        "U' = \\sum_i E_i U\n",
        "\\end{align}\n",
        "\n",
        "Amplitude damping\n",
        "\\begin{align}\n",
        "E_0 &= \\begin{pmatrix} 1 & 0 \\\\ 0 & \\sqrt{1-\\gamma} \\end{pmatrix} \\\\\n",
        "E_1 &= \\begin{pmatrix} 0 & \\sqrt{\\gamma} \\\\ 0 & 0 \\end{pmatrix}\n",
        "\\end{align}\n"
      ]
    },
    {
      "cell_type": "code",
      "execution_count": 201,
      "metadata": {},
      "outputs": [
        {
          "name": "stdout",
          "output_type": "stream",
          "text": [
            "Operator([[1.        +0.j, 0.15811388+0.j],\n",
            "          [0.        +0.j, 0.97467943+0.j]],\n",
            "         input_dims=(2,), output_dims=(2,))\n"
          ]
        }
      ],
      "source": [
        "# create a noisy CNOT\n",
        "from qiskit.circuit.library import HGate, CXGate, IGate\n",
        "from qutip import Qobj\n",
        "\n",
        "# create a noisy CNOT\n",
        "gamma = 0.05\n",
        "E0 = Qobj([[1, 0], [0, (1 - gamma) ** 0.5]])\n",
        "E1 = Qobj([[0, (gamma / 2) ** 0.5], [0, 0]])\n",
        "\n",
        "hadamard = HGate().to_matrix()\n",
        "id = IGate().to_matrix()\n",
        "cnot = CXGate().to_matrix()\n",
        "gate = id\n",
        "\n",
        "from qiskit.quantum_info import Operator\n",
        "\n",
        "noisy_gate = Operator(E0.full() @ gate + E1.full() @ gate)\n",
        "print(noisy_gate)\n",
        "\n",
        "from qiskit.quantum_info import Kraus\n",
        "\n",
        "kraus = Kraus(noisy_gate)"
      ]
    },
    {
      "cell_type": "code",
      "execution_count": 202,
      "metadata": {},
      "outputs": [],
      "source": [
        "# fidelity metrics\n",
        "from qiskit.quantum_info import Statevector, DensityMatrix\n",
        "\n",
        "psi = Statevector([0, 1])\n",
        "rho = DensityMatrix(psi)\n",
        "\n",
        "noisy_rho = kraus(rho)\n",
        "# normalize?\n",
        "\n",
        "# fid = state_fidelity(rho, noisy_rho)\n",
        "# print(f\"Fidelity of states: {fid}\")"
      ]
    },
    {
      "cell_type": "markdown",
      "metadata": {},
      "source": [
        "#### State Fidelity\n",
        "\n",
        "\\begin{align}\n",
        "F(\\rho_1, \\rho_2) = Tr[\\sqrt{\\sqrt{\\rho_1}\\rho_2\\sqrt{\\rho_1}}]^2\n",
        "\\end{align}\n",
        "\n",
        "If one of the states is a pure state this simplifies to\n",
        "$F(\\rho_1, \\rho_2) = \\langle\\psi_1|\\rho_2|\\psi_1\\rangle$, where\n",
        "$\\rho_1 = |\\psi_1\\rangle\\!\\langle\\psi_1|$.\n",
        "\n",
        "#### Process Fidelity\n",
        "\n",
        "\\begin{align}\n",
        "F*{\\text{pro}}(\\mathcal{E}, \\mathcal{F})\n",
        "= F(\\rho*{\\mathcal{E}}, \\rho\\_{\\mathcal{F}})\n",
        "\\end{align}\n",
        "\n",
        "#### Average gate fidelity\n",
        "\n",
        "\\begin{align}\n",
        "F*{\\text{ave}}(\\mathcal{E}, U)\n",
        "&= \\int d\\psi \\langle\\psi|U^\\dagger\n",
        "\\mathcal{E}(|\\psi\\rangle\\!\\langle\\psi|)U|\\psi\\rangle \\\\\n",
        "&= \\frac{d F*{\\text{pro}}(\\mathcal{E}, U) + 1}{d + 1}\n",
        "\\end{align}\n"
      ]
    },
    {
      "cell_type": "code",
      "execution_count": 203,
      "metadata": {},
      "outputs": [
        {
          "name": "stdout",
          "output_type": "stream",
          "text": [
            "Fidelity of states: 0.9743589743589741\n",
            "Gate Fidelity: 0.3361373497422164\n"
          ]
        }
      ],
      "source": [
        "# fidelity of states\n",
        "from qiskit.quantum_info import (\n",
        "    average_gate_fidelity,\n",
        "    process_fidelity,\n",
        "    gate_error,\n",
        "    diamond_norm,\n",
        "    state_fidelity,\n",
        "    purity,\n",
        "    concurrence,\n",
        "    entropy,\n",
        "    entanglement_of_formation,\n",
        "    mutual_information,\n",
        ")\n",
        "\n",
        "\n",
        "input_state = np.array([0.0 + 0j, 1.0 + 0j])\n",
        "input_state = input_state / np.linalg.norm(input_state)\n",
        "psi = Statevector(input_state)\n",
        "\n",
        "\n",
        "state0 = Statevector(gate @ psi.data)\n",
        "\n",
        "# need to renormalize since noisy_gate is not unitary\n",
        "state1 = noisy_gate @ psi.data\n",
        "norm = np.linalg.norm(state1)\n",
        "state1 = Statevector(state1 / norm)\n",
        "\n",
        "\n",
        "fid = state_fidelity(state0, state1)\n",
        "print(f\"Fidelity of states: {fid}\")\n",
        "# TODO find minimum fidelity of states\n",
        "# TODO find average fidelity of states\n",
        "# depends on psi = Statevector([alpha, beta])\n",
        "\n",
        "\n",
        "# gate fidelity\n",
        "fid = average_gate_fidelity(channel=noisy_gate, target=HGate())\n",
        "print(f\"Gate Fidelity: {fid}\")"
      ]
    },
    {
      "cell_type": "code",
      "execution_count": 204,
      "metadata": {},
      "outputs": [
        {
          "name": "stdout",
          "output_type": "stream",
          "text": [
            "Statevector([0.+0.j, 1.+0.j],\n",
            "            dims=(2,))\n"
          ]
        }
      ],
      "source": [
        "state0"
      ]
    },
    {
      "cell_type": "code",
      "execution_count": 205,
      "metadata": {},
      "outputs": [
        {
          "name": "stdout",
          "output_type": "stream",
          "text": [
            "Statevector([0.16012815+0.j, 0.98709623+0.j],\n",
            "            dims=(2,))\n"
          ]
        }
      ],
      "source": [
        "state1"
      ]
    },
    {
      "cell_type": "markdown",
      "metadata": {},
      "source": [
        "So the complexity I am thinking about is for these non-symmetric error channels, I can't talk about the fault rates for the gates without knowing the input state.\n",
        "\n",
        "For example, if I have an amplitude damping channel with input state $|0\\rangle$, then the fault rate is 0. During our circuits, we do not know input states to all gates, which makes it challenging to model the error correction process.\n"
      ]
    }
  ],
  "metadata": {
    "kernelspec": {
      "display_name": ".venv",
      "language": "python",
      "name": "python3"
    },
    "language_info": {
      "codemirror_mode": {
        "name": "ipython",
        "version": 3
      },
      "file_extension": ".py",
      "mimetype": "text/x-python",
      "name": "python",
      "nbconvert_exporter": "python",
      "pygments_lexer": "ipython3",
      "version": "3.9.16"
    },
    "orig_nbformat": 4
  },
  "nbformat": 4,
  "nbformat_minor": 2
}
