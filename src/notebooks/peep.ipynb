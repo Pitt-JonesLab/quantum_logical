{
 "cells": [
  {
   "cell_type": "code",
   "execution_count": 1,
   "metadata": {},
   "outputs": [],
   "source": [
    "# check if a code space protects against list of error channels\n",
    "# Let C be a quantum code, and let P be the projector onto C.\n",
    "# Suppose \\Epsilon is quantum operation with operation elements {E_i}.\n",
    "# A necessary and sufficient condition for the existence of\n",
    "# an error-correction operation R correcting \\Epsilon on C is that\n",
    "# P E^dag_i E_j P = \\alpha_{ij} P,\n",
    "# for some Hermitian matrix \\alpha of complex numbers."
   ]
  },
  {
   "cell_type": "code",
   "execution_count": 16,
   "metadata": {},
   "outputs": [
    {
     "name": "stdout",
     "output_type": "stream",
     "text": [
      "PEEP for E0 and E0:\n",
      "False\n",
      "PEEP for E0 and E1:\n",
      "False\n",
      "PEEP for E0 and E2:\n",
      "False\n",
      "PEEP for E0 and E3:\n",
      "False\n",
      "PEEP for E1 and E0:\n",
      "False\n",
      "PEEP for E1 and E1:\n",
      "False\n",
      "PEEP for E1 and E2:\n",
      "False\n",
      "PEEP for E1 and E3:\n",
      "False\n",
      "PEEP for E2 and E0:\n",
      "False\n",
      "PEEP for E2 and E1:\n",
      "False\n",
      "PEEP for E2 and E2:\n",
      "False\n",
      "PEEP for E2 and E3:\n",
      "False\n",
      "PEEP for E3 and E0:\n",
      "False\n",
      "PEEP for E3 and E1:\n",
      "False\n",
      "PEEP for E3 and E2:\n",
      "False\n",
      "PEEP for E3 and E3:\n",
      "False\n"
     ]
    }
   ],
   "source": [
    "# define error channels as photon loss and phase flip\n",
    "import numpy as np\n",
    "from qutip import *\n",
    "\n",
    "E = []\n",
    "\n",
    "# define photon loss channel\n",
    "# one 2 qubits, assume only one can be lost at a time\n",
    "# each photon loss channel has 2 Kraus operators\n",
    "# [[1, 0], [0, sqrt(1 - p)]] and [[0, sqrt(p)], [0, 0]]\n",
    "# where p is the probability of photon loss\n",
    "E.append(tensor(qeye(2), Qobj([[1, 0], [0, np.sqrt(1 - 0.1)]])))\n",
    "E.append(tensor(qeye(2), Qobj([[0, np.sqrt(0.1)], [0, 0]])))\n",
    "E.append(tensor(Qobj([[1, 0], [0, np.sqrt(1 - 0.1)]]), qeye(2)))\n",
    "E.append(tensor(Qobj([[0, np.sqrt(0.1)], [0, 0]]), qeye(2)))\n",
    "\n",
    "# use PEEP to check if dual rail qubit protects against photon loss]\n",
    "# define dual rail qubit\n",
    "logical0 = tensor(basis(2, 0), basis(2, 1))\n",
    "logical1 = tensor(basis(2, 1), basis(2, 0))\n",
    "\n",
    "# define projector onto dual rail qubit\n",
    "P = logical0 * logical0.dag() + logical1 * logical1.dag()\n",
    "\n",
    "# check if dual rail qubit protects against photon loss\n",
    "for i in range(len(E)):\n",
    "    for j in range(len(E)):\n",
    "        print(\"PEEP for E\" + str(i) + \" and E\" + str(j) + \":\")\n",
    "        print((P * E[i].dag() * E[j] * P).tr() == P.tr() * P)"
   ]
  }
 ],
 "metadata": {
  "kernelspec": {
   "display_name": ".venv",
   "language": "python",
   "name": "python3"
  },
  "language_info": {
   "codemirror_mode": {
    "name": "ipython",
    "version": 3
   },
   "file_extension": ".py",
   "mimetype": "text/x-python",
   "name": "python",
   "nbconvert_exporter": "python",
   "pygments_lexer": "ipython3",
   "version": "3.9.16"
  },
  "orig_nbformat": 4
 },
 "nbformat": 4,
 "nbformat_minor": 2
}
