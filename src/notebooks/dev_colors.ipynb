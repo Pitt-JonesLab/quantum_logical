{
  "cells": [
    {
      "cell_type": "code",
      "execution_count": 3,
      "metadata": {},
      "outputs": [],
      "source": [
        "from functools import reduce\n",
        "\n",
        "import matplotlib.pyplot as plt\n",
        "import numpy as np\n",
        "import qutip as qt\n",
        "from quantum_logical import Pulse, DressedQuantumSystem\n",
        "from quantum_logical.hamiltonian import QubitSNAILModule\n",
        "from quantum_logical.mode import QubitMode, SNAILMode\n",
        "from qutip import Options\n",
        "\n",
        "from tqdm import tqdm\n",
        "from scipy.optimize import minimize\n",
        "\n",
        "\n",
        "opts = {\"nsteps\": 1e6, \"atol\": 1e-8, \"rtol\": 1e-6}\n",
        "p_bar = qt.ui.TextProgressBar()  # None\n",
        "p_bar = None"
      ]
    },
    {
      "cell_type": "code",
      "execution_count": 4,
      "metadata": {},
      "outputs": [],
      "source": [
        "# Initial qubit frequencies and SNAIL frequency\n",
        "freqs = np.array([5.06167, 4.54944, 4.16829])  # q1, q2, q3 frequencies\n",
        "snail_freq = 4.27515  # SNAIL frequency"
      ]
    },
    {
      "cell_type": "code",
      "execution_count": 5,
      "metadata": {},
      "outputs": [],
      "source": [
        "qubit_dim = 2\n",
        "qubit1 = QubitMode(name=\"q1\", dim=qubit_dim, freq=freqs[0])\n",
        "qubit2 = QubitMode(name=\"q2\", dim=qubit_dim, freq=freqs[1])\n",
        "qubit3 = QubitMode(name=\"q3\", dim=qubit_dim, freq=freqs[2])\n",
        "qubits = [qubit1, qubit2, qubit3]\n",
        "snail = SNAILMode(name=\"s\", freq=snail_freq, g3=0.3, dim=10, T1=1e3, T2=5e2)\n",
        "\n",
        "# define couplings so hybridizations are all equal\n",
        "# g/delta = 0.1 for all qubits\n",
        "g2_0 = 0.1 * np.abs(snail.freq - qubit1.freq)\n",
        "g2_1 = 0.1 * np.abs(snail.freq - qubit2.freq)\n",
        "g2_2 = 0.1 * np.abs(snail.freq - qubit3.freq)\n",
        "_couplings = {\n",
        "    frozenset([qubit1, snail]): g2_0,\n",
        "    frozenset([qubit2, snail]): g2_1,\n",
        "    frozenset([qubit3, snail]): g2_2,\n",
        "}\n",
        "\n",
        "qs = DressedQuantumSystem(\n",
        "    qubits + [snail], couplings=_couplings, hamiltonian_cls=QubitSNAILModule\n",
        ")"
      ]
    },
    {
      "cell_type": "code",
      "execution_count": 6,
      "metadata": {},
      "outputs": [
        {
          "ename": "NameError",
          "evalue": "name 'optimize_gate_fidelity' is not defined",
          "output_type": "error",
          "traceback": [
            "\u001b[0;31m---------------------------------------------------------------------------\u001b[0m",
            "\u001b[0;31mNameError\u001b[0m                                 Traceback (most recent call last)",
            "Cell \u001b[0;32mIn[6], line 3\u001b[0m\n\u001b[1;32m      1\u001b[0m \u001b[38;5;66;03m# make a mock call to the fidelity optimizer\u001b[39;00m\n\u001b[0;32m----> 3\u001b[0m \u001b[43moptimize_gate_fidelity\u001b[49m(qs)\n",
            "\u001b[0;31mNameError\u001b[0m: name 'optimize_gate_fidelity' is not defined"
          ]
        }
      ],
      "source": [
        "# make a mock call to the fidelity optimizer\n",
        "\n",
        "optimize_gate_fidelity(qs)"
      ]
    },
    {
      "cell_type": "code",
      "execution_count": null,
      "metadata": {},
      "outputs": [],
      "source": []
    }
  ],
  "metadata": {
    "kernelspec": {
      "display_name": ".venv",
      "language": "python",
      "name": "python3"
    },
    "language_info": {
      "codemirror_mode": {
        "name": "ipython",
        "version": 3
      },
      "file_extension": ".py",
      "mimetype": "text/x-python",
      "name": "python",
      "nbconvert_exporter": "python",
      "pygments_lexer": "ipython3",
      "version": "3.11.4"
    }
  },
  "nbformat": 4,
  "nbformat_minor": 2
}
