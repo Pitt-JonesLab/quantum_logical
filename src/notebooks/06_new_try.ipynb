{
 "cells": [
  {
   "cell_type": "code",
   "execution_count": 1,
   "metadata": {},
   "outputs": [],
   "source": [
    "import numpy as np\n",
    "from quantum_logical.test_freq import Test_freq\n",
    "import matplotlib.pyplot as plt\n"
   ]
  },
  {
   "cell_type": "code",
   "execution_count": 2,
   "metadata": {},
   "outputs": [],
   "source": [
    "a = 5.06167\n",
    "c = 4.16829\n",
    "b = 4.54944\n",
    "s = 4.27515\n",
    "center = a - ((a - b) / 2)\n",
    "def get_array(a, b, c, s, option, divisions):\n",
    "    array = []\n",
    "    array.clear()\n",
    "    if option == 'scale center':\n",
    "        center_freq = a - ((a - c) / 2)\n",
    "        for i in range(divisions):\n",
    "            new_a = a - (i/(divisions - 1)) * (a - center_freq)\n",
    "            new_b = b + (i/(divisions - 1)) * np.abs(b - center_freq)\n",
    "            new_c = c + (i/(divisions - 1)) * np.abs(c - center_freq)\n",
    "            new_s = s + (i/(divisions - 1)) * np.abs(s - center_freq)\n",
    "            array.append([new_a, new_b, new_c, new_s])\n",
    "    elif option == 'snail scan':\n",
    "        snail = np.linspace(a, c, divisions)\n",
    "        for s in snail:\n",
    "            array.append([a, b, c, s])\n",
    "    elif option == 'ratio conservation':\n",
    "        das = a - s\n",
    "        dbs = b - s\n",
    "        dcs = c - s\n",
    "        per = np.linspace(0, 1, divisions)\n",
    "        for p in per:\n",
    "            a_new = (p * das) + s\n",
    "            b_new = (p * dbs) + s\n",
    "            c_new = (p * dcs) + s\n",
    "            array.append([a_new, b_new, c_new, s])\n",
    "    return array"
   ]
  },
  {
   "cell_type": "code",
   "execution_count": 3,
   "metadata": {},
   "outputs": [
    {
     "data": {
      "text/plain": [
       "[4.965950714285714, 4.563484285714286, 4.264009285714286, 4.347970714285714]"
      ]
     },
     "execution_count": 3,
     "metadata": {},
     "output_type": "execute_result"
    }
   ],
   "source": [
    "freqs = get_array(a = a, b = b, c = c, s = s, option='scale center', divisions=15)\n",
    "freqs[3]"
   ]
  },
  {
   "cell_type": "code",
   "execution_count": 4,
   "metadata": {},
   "outputs": [
    {
     "name": "stdout",
     "output_type": "stream",
     "text": [
      "Found overlap with eigenstate by 0.9954\n",
      "0.9995480284927253\n",
      "Found overlap with eigenstate by 0.9955\n",
      "0.9257098667189314\n",
      "Found overlap with eigenstate by 0.9955\n",
      "0.7816970903631654\n",
      "Found overlap with eigenstate by 0.9956\n",
      "0.5397267741471308\n",
      "Found overlap with eigenstate by 0.9957\n",
      "0.3491331252585921\n",
      "Found overlap with eigenstate by 0.9957\n",
      "0.11930819174886784\n",
      "Found overlap with eigenstate by 0.9958\n",
      "0.029946177433171912\n",
      "Found overlap with eigenstate by 0.9960\n",
      "0.0500370754765473\n",
      "Found overlap with eigenstate by 0.9961\n",
      "0.10107069918114651\n",
      "Found overlap with eigenstate by 0.9963\n",
      "0.17708308863981911\n",
      "Found overlap with eigenstate by 0.9966\n",
      "0.10078733522303325\n",
      "Found overlap with eigenstate by 0.9969\n",
      "0.2461529036356249\n",
      "Found overlap with eigenstate by 0.9975\n",
      "0.07666064609095148\n",
      "Found overlap with eigenstate by 0.9984\n",
      "0.013977130968542556\n"
     ]
    }
   ],
   "source": [
    "fids = []\n",
    "fids.clear()\n",
    "store = []\n",
    "for i in range(len(freqs) - 1):\n",
    "    res = Test_freq(freqs=freqs[i], store=store)\n",
    "    fids.append(res)"
   ]
  },
  {
   "cell_type": "code",
   "execution_count": 5,
   "metadata": {},
   "outputs": [
    {
     "data": {
      "text/plain": [
       "[0.0,\n",
       " 0.06381285714285712,\n",
       " 0.12762571428571423,\n",
       " 0.19143857142857146,\n",
       " 0.2552514285714287,\n",
       " 0.3190642857142858,\n",
       " 0.382877142857143,\n",
       " 0.4466900000000002,\n",
       " 0.5105028571428574,\n",
       " 0.5743157142857146,\n",
       " 0.6381285714285718,\n",
       " 0.7019414285714289,\n",
       " 0.7657542857142862,\n",
       " 0.8295671428571433]"
      ]
     },
     "execution_count": 5,
     "metadata": {},
     "output_type": "execute_result"
    }
   ],
   "source": [
    "# making the array of the jump toward middle coefficient \n",
    "sp = np.linspace(a-c, 0, 15)\n",
    "re = list(reversed(sp[1:15]))\n",
    "re"
   ]
  },
  {
   "cell_type": "code",
   "execution_count": 6,
   "metadata": {},
   "outputs": [
    {
     "data": {
      "text/plain": [
       "[<matplotlib.lines.Line2D at 0x1bc83a4e670>]"
      ]
     },
     "execution_count": 6,
     "metadata": {},
     "output_type": "execute_result"
    },
    {
     "data": {
      "image/png": "[encoded data removed]",
      "text/plain": [
       "<Figure size 640x480 with 1 Axes>"
      ]
     },
     "metadata": {},
     "output_type": "display_data"
    }
   ],
   "source": [
    "fig, ax = plt.subplots()\n",
    "# this so far is for the moving towards the center plot without the application of optimization\n",
    "ax.plot(re, store)"
   ]
  },
  {
   "cell_type": "code",
   "execution_count": 7,
   "metadata": {},
   "outputs": [
    {
     "data": {
      "text/plain": [
       "[[5.06167, 4.54944, 4.16829, 5.06167],\n",
       " [5.06167, 4.54944, 4.16829, 4.997857142857143],\n",
       " [5.06167, 4.54944, 4.16829, 4.934044285714286],\n",
       " [5.06167, 4.54944, 4.16829, 4.8702314285714285],\n",
       " [5.06167, 4.54944, 4.16829, 4.806418571428572],\n",
       " [5.06167, 4.54944, 4.16829, 4.742605714285714],\n",
       " [5.06167, 4.54944, 4.16829, 4.678792857142858],\n",
       " [5.06167, 4.54944, 4.16829, 4.61498],\n",
       " [5.06167, 4.54944, 4.16829, 4.5511671428571425],\n",
       " [5.06167, 4.54944, 4.16829, 4.487354285714286],\n",
       " [5.06167, 4.54944, 4.16829, 4.423541428571428],\n",
       " [5.06167, 4.54944, 4.16829, 4.359728571428572],\n",
       " [5.06167, 4.54944, 4.16829, 4.295915714285714],\n",
       " [5.06167, 4.54944, 4.16829, 4.232102857142857],\n",
       " [5.06167, 4.54944, 4.16829, 4.16829]]"
      ]
     },
     "execution_count": 7,
     "metadata": {},
     "output_type": "execute_result"
    }
   ],
   "source": [
    "freqs = get_array(a = a, b = b, c = c, s = s, option='snail scan', divisions=15)\n",
    "freqs"
   ]
  },
  {
   "cell_type": "code",
   "execution_count": 8,
   "metadata": {},
   "outputs": [
    {
     "name": "stdout",
     "output_type": "stream",
     "text": [
      "Found overlap with eigenstate by 0.9943\n",
      "0.031668061821305264\n",
      "Found overlap with eigenstate by 0.9943\n",
      "0.20960711493273887\n",
      "Found overlap with eigenstate by 0.9942\n",
      "0.4215073987325266\n",
      "Found overlap with eigenstate by 0.9941\n",
      "0.48338152315306776\n",
      "Found overlap with eigenstate by 0.9939\n",
      "0.5118767646169836\n",
      "Found overlap with eigenstate by 0.9935\n",
      "0.551357038733488\n",
      "Found overlap with eigenstate by 0.9927\n",
      "0.590029557487231\n",
      "Found overlap with eigenstate by 0.9886\n",
      "0.5531617033153834\n",
      "Found overlap with eigenstate by 0.9993\n",
      "0.060119030570741916\n",
      "Found overlap with eigenstate by 0.9969\n",
      "0.9023815369000029\n",
      "Found overlap with eigenstate by 0.9961\n",
      "0.9252831459742766\n",
      "Found overlap with eigenstate by 0.9957\n",
      "0.9573385624313451\n",
      "Found overlap with eigenstate by 0.9955\n",
      "0.9959576110341101\n",
      "Found overlap with eigenstate by 0.9953\n",
      "0.9591982856925457\n",
      "Found overlap with eigenstate by 0.9952\n",
      "0.48517051890693147\n"
     ]
    }
   ],
   "source": [
    "fids = []\n",
    "fids.clear()\n",
    "store = []\n",
    "store.clear()\n",
    "for i in range(len(freqs)):\n",
    "    res = Test_freq(freqs=freqs[i], store=store)\n",
    "    fids.append(res)"
   ]
  },
  {
   "cell_type": "code",
   "execution_count": 10,
   "metadata": {},
   "outputs": [
    {
     "data": {
      "text/plain": [
       "True"
      ]
     },
     "execution_count": 10,
     "metadata": {},
     "output_type": "execute_result"
    }
   ],
   "source": [
    "len(freqs) == len(fids)"
   ]
  },
  {
   "cell_type": "code",
   "execution_count": 13,
   "metadata": {},
   "outputs": [
    {
     "data": {
      "text/plain": [
       "[0.0,\n",
       " 63.81285714285756,\n",
       " 127.62571428571422,\n",
       " 191.43857142857178,\n",
       " 255.25142857142845,\n",
       " 319.06428571428603,\n",
       " 382.8771428571427,\n",
       " 446.6900000000003,\n",
       " 510.5028571428578,\n",
       " 574.3157142857145,\n",
       " 638.1285714285721,\n",
       " 701.9414285714287,\n",
       " 765.7542857142863,\n",
       " 829.5671428571429,\n",
       " 893.3800000000006]"
      ]
     },
     "execution_count": 13,
     "metadata": {},
     "output_type": "execute_result"
    }
   ],
   "source": [
    "# array of the snails motion\n",
    "new_loc = []\n",
    "new_loc.clear()\n",
    "for i in range(len(freqs)):\n",
    "    new_loc.append(np.abs(a - freqs[i][3]) * 1000)\n",
    "\n",
    "new_loc"
   ]
  },
  {
   "cell_type": "code",
   "execution_count": 14,
   "metadata": {},
   "outputs": [
    {
     "data": {
      "text/plain": [
       "Text(0.5, 1.0, 'location of the snail with respect to qubit 1')"
      ]
     },
     "execution_count": 14,
     "metadata": {},
     "output_type": "execute_result"
    },
    {
     "data": {
      "image/png": "[encoded data removed]",
      "text/plain": [
       "<Figure size 640x480 with 1 Axes>"
      ]
     },
     "metadata": {},
     "output_type": "display_data"
    }
   ],
   "source": [
    "fig, ax = plt.subplots()\n",
    "# this is the location of the snail \n",
    "# this is with no added detuning but that is not really necessary since this is kind of plain as day\n",
    "# this so far is for the moving towards the center plot without the application of optimization\n",
    "ax.plot(new_loc, store)\n",
    "ax.set_title(\"location of the snail with respect to qubit 1\")"
   ]
  },
  {
   "cell_type": "code",
   "execution_count": 15,
   "metadata": {},
   "outputs": [
    {
     "data": {
      "text/plain": [
       "[[4.27515, 4.27515, 4.27515, 4.27515],\n",
       " [4.33133, 4.294742142857142, 4.267517142857143, 4.27515],\n",
       " [4.38751, 4.314334285714286, 4.259884285714286, 4.27515],\n",
       " [4.44369, 4.333926428571429, 4.252251428571428, 4.27515],\n",
       " [4.4998700000000005, 4.353518571428571, 4.244618571428571, 4.27515],\n",
       " [4.55605, 4.373110714285714, 4.236985714285714, 4.27515],\n",
       " [4.61223, 4.392702857142857, 4.229352857142857, 4.27515],\n",
       " [4.66841, 4.412295, 4.2217199999999995, 4.27515],\n",
       " [4.72459, 4.431887142857143, 4.214087142857143, 4.27515],\n",
       " [4.78077, 4.451479285714285, 4.206454285714286, 4.27515],\n",
       " [4.83695, 4.471071428571428, 4.198821428571429, 4.27515],\n",
       " [4.89313, 4.490663571428572, 4.1911885714285715, 4.27515],\n",
       " [4.9493100000000005, 4.510255714285714, 4.183555714285714, 4.27515],\n",
       " [5.00549, 4.529847857142856, 4.175922857142857, 4.27515],\n",
       " [5.06167, 4.54944, 4.16829, 4.27515]]"
      ]
     },
     "execution_count": 15,
     "metadata": {},
     "output_type": "execute_result"
    }
   ],
   "source": [
    "freqs = get_array(a = a, b = b, c = c, s = s, option='ratio conservation', divisions=15)\n",
    "freqs"
   ]
  },
  {
   "cell_type": "code",
   "execution_count": 16,
   "metadata": {},
   "outputs": [
    {
     "name": "stdout",
     "output_type": "stream",
     "text": [
      "Found overlap with eigenstate by 0.9984\n",
      "0.00997346120784967\n",
      "Found overlap with eigenstate by 0.9975\n",
      "0.3159232911215493\n",
      "Found overlap with eigenstate by 0.9970\n",
      "0.09617837791218511\n",
      "Found overlap with eigenstate by 0.9966\n",
      "0.20578729747638302\n",
      "Found overlap with eigenstate by 0.9963\n",
      "0.2171511097845133\n",
      "Found overlap with eigenstate by 0.9961\n",
      "0.15009138406091838\n",
      "Found overlap with eigenstate by 0.9960\n",
      "0.029295305952842264\n",
      "Found overlap with eigenstate by 0.9958\n",
      "0.041967541200261776\n",
      "Found overlap with eigenstate by 0.9957\n",
      "0.13495007565605804\n",
      "Found overlap with eigenstate by 0.9956\n",
      "0.37406603895364393\n",
      "Found overlap with eigenstate by 0.9956\n",
      "0.56589973334036\n",
      "Found overlap with eigenstate by 0.9955\n",
      "0.7985552066273913\n",
      "Found overlap with eigenstate by 0.9954\n",
      "0.9319346408398937\n",
      "Found overlap with eigenstate by 0.9954\n",
      "0.9995480284927253\n"
     ]
    }
   ],
   "source": [
    "fids = []\n",
    "fids.clear()\n",
    "store = []\n",
    "store.clear()\n",
    "for i in range(1, len(freqs)):\n",
    "    res = Test_freq(freqs=freqs[i], store=store)\n",
    "    fids.append(res)"
   ]
  },
  {
   "cell_type": "code",
   "execution_count": 17,
   "metadata": {},
   "outputs": [
    {
     "data": {
      "text/plain": [
       "[0.02722499999999961,\n",
       " 0.05445000000000011,\n",
       " 0.08167500000000061,\n",
       " 0.10890000000000022,\n",
       " 0.13612499999999983,\n",
       " 0.16335000000000033,\n",
       " 0.19057500000000083,\n",
       " 0.21779999999999955,\n",
       " 0.24502499999999916,\n",
       " 0.27224999999999966,\n",
       " 0.29947500000000016,\n",
       " 0.32669999999999977,\n",
       " 0.3539249999999994,\n",
       " 0.3811499999999999]"
      ]
     },
     "execution_count": 17,
     "metadata": {},
     "output_type": "execute_result"
    }
   ],
   "source": [
    "x_space = []\n",
    "x_space.clear()\n",
    "for i in range(len(freqs)):\n",
    "    qubit1 = freqs[i][0]\n",
    "    qubit2 = freqs[i][1]\n",
    "    qubit3 = freqs[i][2]\n",
    "    qubit1_qubit2 = np.abs(qubit1 - qubit2)\n",
    "    qubit1_qubit3 = np.abs(qubit1 - qubit3)\n",
    "    qubit2_qubit3 = np.abs(qubit2 - qubit3)\n",
    "    if qubit1_qubit2 < qubit1_qubit3 and qubit1_qubit2 < qubit2_qubit3:\n",
    "        x_space.append(qubit1_qubit2)\n",
    "    elif qubit1_qubit3 < qubit1_qubit2 and qubit1_qubit3 < qubit2_qubit3:\n",
    "        x_space.append(qubit1_qubit3)\n",
    "    elif qubit2_qubit3 < qubit1_qubit2 and qubit2_qubit3 < qubit1_qubit3:\n",
    "        x_space.append(qubit2_qubit3)\n",
    "\n",
    "x_space"
   ]
  },
  {
   "cell_type": "code",
   "execution_count": 18,
   "metadata": {},
   "outputs": [
    {
     "data": {
      "text/plain": [
       "Text(0.5, 1.0, 'fidelity vs minimum separation between qubit-qubit gates')"
      ]
     },
     "execution_count": 18,
     "metadata": {},
     "output_type": "execute_result"
    },
    {
     "data": {
      "image/png": "[encoded data removed]",
      "text/plain": [
       "<Figure size 640x480 with 1 Axes>"
      ]
     },
     "metadata": {},
     "output_type": "display_data"
    }
   ],
   "source": [
    "fig, ax = plt.subplots()\n",
    "# this is the location of the snail \n",
    "# this is with no added detuning but that is not really necessary since this is kind of plain as day\n",
    "# this so far is for the moving towards the center plot without the application of optimization\n",
    "ax.plot(x_space, store)\n",
    "ax.set_title(\"fidelity vs minimum separation between qubit-qubit gates\")"
   ]
  },
  {
   "cell_type": "code",
   "execution_count": null,
   "metadata": {},
   "outputs": [],
   "source": []
  }
 ],
 "metadata": {
  "kernelspec": {
   "display_name": "venv",
   "language": "python",
   "name": "python3"
  },
  "language_info": {
   "codemirror_mode": {
    "name": "ipython",
    "version": 3
   },
   "file_extension": ".py",
   "mimetype": "text/x-python",
   "name": "python",
   "nbconvert_exporter": "python",
   "pygments_lexer": "ipython3",
   "version": "3.9.13"
  }
 },
 "nbformat": 4,
 "nbformat_minor": 2
}
