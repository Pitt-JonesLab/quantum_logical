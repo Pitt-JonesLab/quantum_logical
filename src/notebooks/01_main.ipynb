{
  "cells": [
    {
      "cell_type": "code",
      "execution_count": 67,
      "metadata": {},
      "outputs": [],
      "source": [
        "from quantum_logical.operators import selective_destroy\n",
        "from quantum_logical.interaction import ConversionGainInteraction\n",
        "from weylchamber import c1c2c3\n",
        "import numpy as np"
      ]
    },
    {
      "cell_type": "code",
      "execution_count": 68,
      "metadata": {},
      "outputs": [
        {
          "name": "stdout",
          "output_type": "stream",
          "text": [
            "Quantum object: dims = [[3], [3]], shape = (3, 3), type = oper, isherm = False\n",
            "Qobj data =\n",
            "[[0.         1.73205081 0.        ]\n",
            " [0.         0.         2.        ]\n",
            " [0.         0.         0.        ]]\n",
            "\n",
            "\n",
            "Quantum object: dims = [[3], [3]], shape = (3, 3), type = oper, isherm = False\n",
            "Qobj data =\n",
            "[[0. 0. 0.]\n",
            " [0. 0. 1.]\n",
            " [0. 0. 0.]]\n"
          ]
        }
      ],
      "source": [
        "# conventional ladder operator\n",
        "a = destroy(3, 2)\n",
        "print(a)\n",
        "\n",
        "print(\"\\n\")\n",
        "# selective ladder operator\n",
        "a = selective_destroy(3, 2, 1)\n",
        "print(a)"
      ]
    },
    {
      "cell_type": "code",
      "execution_count": 69,
      "metadata": {},
      "outputs": [
        {
          "name": "stdout",
          "output_type": "stream",
          "text": [
            "Quantum object: dims = [[2, 2], [2, 2]], shape = (4, 4), type = oper, isherm = False\n",
            "Qobj data =\n",
            "[[0.92387953+0.j         0.        +0.j         0.        +0.j\n",
            "  0.        -0.38268343j]\n",
            " [0.        +0.j         0.38268343+0.j         0.        -0.92387953j\n",
            "  0.        +0.j        ]\n",
            " [0.        +0.j         0.        -0.92387953j 0.38268343+0.j\n",
            "  0.        +0.j        ]\n",
            " [0.        -0.38268343j 0.        +0.j         0.        +0.j\n",
            "  0.92387953+0.j        ]]\n",
            "(0.5, 0.25, 0.0)\n"
          ]
        }
      ],
      "source": [
        "H = ConversionGainInteraction(3 * np.pi / 8, np.pi / 8)\n",
        "print(u := H.construct_U(1.0))\n",
        "print(c1c2c3(u.full()))"
      ]
    },
    {
      "cell_type": "code",
      "execution_count": 77,
      "metadata": {},
      "outputs": [
        {
          "name": "stdout",
          "output_type": "stream",
          "text": [
            "Quantum object: dims = [[3, 3], [3, 3]], shape = (9, 9), type = oper, isherm = False\n",
            "Qobj data =\n",
            "[[1.+0.j 0.+0.j 0.+0.j 0.+0.j 0.+0.j 0.+0.j 0.+0.j 0.+0.j 0.+0.j]\n",
            " [0.+0.j 1.+0.j 0.+0.j 0.+0.j 0.+0.j 0.+0.j 0.+0.j 0.+0.j 0.+0.j]\n",
            " [0.+0.j 0.+0.j 0.+0.j 0.+0.j 0.+0.j 0.+0.j 0.-1.j 0.+0.j 0.+0.j]\n",
            " [0.+0.j 0.+0.j 0.+0.j 1.+0.j 0.+0.j 0.+0.j 0.+0.j 0.+0.j 0.+0.j]\n",
            " [0.+0.j 0.+0.j 0.+0.j 0.+0.j 1.+0.j 0.+0.j 0.+0.j 0.+0.j 0.+0.j]\n",
            " [0.+0.j 0.+0.j 0.+0.j 0.+0.j 0.+0.j 1.+0.j 0.+0.j 0.+0.j 0.+0.j]\n",
            " [0.+0.j 0.+0.j 0.-1.j 0.+0.j 0.+0.j 0.+0.j 0.+0.j 0.+0.j 0.+0.j]\n",
            " [0.+0.j 0.+0.j 0.+0.j 0.+0.j 0.+0.j 0.+0.j 0.+0.j 1.+0.j 0.+0.j]\n",
            " [0.+0.j 0.+0.j 0.+0.j 0.+0.j 0.+0.j 0.+0.j 0.+0.j 0.+0.j 1.+0.j]]\n"
          ]
        }
      ],
      "source": [
        "from quantum_logical.interaction import ConversionGainFiveWave\n",
        "\n",
        "H = ConversionGainFiveWave(np.pi / 2, 0)\n",
        "print(u := H.construct_U(1.0))"
      ]
    }
  ],
  "metadata": {
    "kernelspec": {
      "display_name": ".venv",
      "language": "python",
      "name": "python3"
    },
    "language_info": {
      "codemirror_mode": {
        "name": "ipython",
        "version": 3
      },
      "file_extension": ".py",
      "mimetype": "text/x-python",
      "name": "python",
      "nbconvert_exporter": "python",
      "pygments_lexer": "ipython3",
      "version": "3.9.17"
    }
  },
  "nbformat": 4,
  "nbformat_minor": 2
}
