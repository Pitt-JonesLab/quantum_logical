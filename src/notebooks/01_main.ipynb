{
  "cells": [
    {
      "cell_type": "code",
      "execution_count": 1,
      "metadata": {},
      "outputs": [],
      "source": [
        "# main project demo goes here\n",
        "# custom Hamiltonian operators\n",
        "# this is because our ladder operators are not on every site in the Hilbert space\n",
        "# instead, we can specify which exact transition is being made\n",
        "from qutip import *\n",
        "from quantum_logical.qubitoperator import QubitOperator, Transition"
      ]
    },
    {
      "cell_type": "code",
      "execution_count": 8,
      "metadata": {},
      "outputs": [
        {
          "name": "stdout",
          "output_type": "stream",
          "text": [
            "Quantum object: dims = [[3], [3]], shape = (3, 3), type = oper, isherm = False\n",
            "Qobj data =\n",
            "[[0.         1.73205081 0.        ]\n",
            " [0.         0.         2.        ]\n",
            " [0.         0.         0.        ]]\n",
            "\n",
            "\n",
            "Quantum object: dims = [[3], [3]], shape = (3, 3), type = oper, isherm = False\n",
            "Qobj data =\n",
            "[[0. 0. 0.]\n",
            " [0. 0. 1.]\n",
            " [0. 0. 0.]]\n"
          ]
        }
      ],
      "source": [
        "# conventional lowering operator\n",
        "a = destroy(3, 2)\n",
        "print(a)\n",
        "\n",
        "print(\"\\n\")\n",
        "# custom lowering operator\n",
        "a = QubitOperator(\"a\", Transition.FE, 3).to_qutip()\n",
        "print(a)"
      ]
    },
    {
      "cell_type": "code",
      "execution_count": null,
      "metadata": {},
      "outputs": [],
      "source": []
    }
  ],
  "metadata": {
    "kernelspec": {
      "display_name": ".venv",
      "language": "python",
      "name": "python3"
    },
    "language_info": {
      "codemirror_mode": {
        "name": "ipython",
        "version": 3
      },
      "file_extension": ".py",
      "mimetype": "text/x-python",
      "name": "python",
      "nbconvert_exporter": "python",
      "pygments_lexer": "ipython3",
      "version": "3.9.16"
    }
  },
  "nbformat": 4,
  "nbformat_minor": 2
}
