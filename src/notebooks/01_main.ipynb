{
  "cells": [
    {
      "cell_type": "code",
      "execution_count": 87,
      "metadata": {},
      "outputs": [],
      "source": [
        "from quantum_logical.operators import selective_destroy\n",
        "from quantum_logical.interaction import ConversionGainInteraction\n",
        "from weylchamber import c1c2c3\n",
        "import numpy as np\n",
        "import qutip\n",
        "from quantum_logical.operators import reduce_to_two_qubit_subspace"
      ]
    },
    {
      "cell_type": "code",
      "execution_count": 88,
      "metadata": {},
      "outputs": [
        {
          "name": "stdout",
          "output_type": "stream",
          "text": [
            "Quantum object: dims = [[3], [3]], shape = (3, 3), type = oper, isherm = False\n",
            "Qobj data =\n",
            "[[0.         1.73205081 0.        ]\n",
            " [0.         0.         2.        ]\n",
            " [0.         0.         0.        ]]\n",
            "\n",
            "\n",
            "Quantum object: dims = [[3], [3]], shape = (3, 3), type = oper, isherm = False\n",
            "Qobj data =\n",
            "[[0. 0. 0.]\n",
            " [0. 0. 1.]\n",
            " [0. 0. 0.]]\n"
          ]
        }
      ],
      "source": [
        "# conventional ladder operator\n",
        "a = qutip.destroy(3, 2)\n",
        "print(a)\n",
        "\n",
        "print(\"\\n\")\n",
        "# selective ladder operator\n",
        "a = selective_destroy(3, 2, 1)\n",
        "print(a)"
      ]
    },
    {
      "cell_type": "code",
      "execution_count": 92,
      "metadata": {},
      "outputs": [
        {
          "name": "stdout",
          "output_type": "stream",
          "text": [
            "(0.5, 0.0, 0.0)\n"
          ]
        },
        {
          "data": {
            "text/latex": [
              "Quantum object: dims = [[3, 3], [3, 3]], shape = (9, 9), type = oper, isherm = False $ \\\\ \\left(\\begin{matrix}0.707 & 0.0 & 0.0 & 0.0 & -0.707j & 0.0 & 0.0 & 0.0 & 0.0\\\\0.0 & 0.707 & 0.0 & -0.707j & 0.0 & 0.0 & 0.0 & 0.0 & 0.0\\\\0.0 & 0.0 & 1.0 & 0.0 & 0.0 & 0.0 & 0.0 & 0.0 & 0.0\\\\0.0 & -0.707j & 0.0 & 0.707 & 0.0 & 0.0 & 0.0 & 0.0 & 0.0\\\\-0.707j & 0.0 & 0.0 & 0.0 & 0.707 & 0.0 & 0.0 & 0.0 & 0.0\\\\0.0 & 0.0 & 0.0 & 0.0 & 0.0 & 1.0 & 0.0 & 0.0 & 0.0\\\\0.0 & 0.0 & 0.0 & 0.0 & 0.0 & 0.0 & 1.0 & 0.0 & 0.0\\\\0.0 & 0.0 & 0.0 & 0.0 & 0.0 & 0.0 & 0.0 & 1.0 & 0.0\\\\0.0 & 0.0 & 0.0 & 0.0 & 0.0 & 0.0 & 0.0 & 0.0 & 1.0\\\\\\end{matrix}\\right)$"
            ],
            "text/plain": [
              "Quantum object: dims = [[3, 3], [3, 3]], shape = (9, 9), type = oper, isherm = False\n",
              "Qobj data =\n",
              "[[0.70710678+0.j         0.        +0.j         0.        +0.j\n",
              "  0.        +0.j         0.        -0.70710678j 0.        +0.j\n",
              "  0.        +0.j         0.        +0.j         0.        +0.j        ]\n",
              " [0.        +0.j         0.70710678+0.j         0.        +0.j\n",
              "  0.        -0.70710678j 0.        +0.j         0.        +0.j\n",
              "  0.        +0.j         0.        +0.j         0.        +0.j        ]\n",
              " [0.        +0.j         0.        +0.j         1.        +0.j\n",
              "  0.        +0.j         0.        +0.j         0.        +0.j\n",
              "  0.        +0.j         0.        +0.j         0.        +0.j        ]\n",
              " [0.        +0.j         0.        -0.70710678j 0.        +0.j\n",
              "  0.70710678+0.j         0.        +0.j         0.        +0.j\n",
              "  0.        +0.j         0.        +0.j         0.        +0.j        ]\n",
              " [0.        -0.70710678j 0.        +0.j         0.        +0.j\n",
              "  0.        +0.j         0.70710678+0.j         0.        +0.j\n",
              "  0.        +0.j         0.        +0.j         0.        +0.j        ]\n",
              " [0.        +0.j         0.        +0.j         0.        +0.j\n",
              "  0.        +0.j         0.        +0.j         1.        +0.j\n",
              "  0.        +0.j         0.        +0.j         0.        +0.j        ]\n",
              " [0.        +0.j         0.        +0.j         0.        +0.j\n",
              "  0.        +0.j         0.        +0.j         0.        +0.j\n",
              "  1.        +0.j         0.        +0.j         0.        +0.j        ]\n",
              " [0.        +0.j         0.        +0.j         0.        +0.j\n",
              "  0.        +0.j         0.        +0.j         0.        +0.j\n",
              "  0.        +0.j         1.        +0.j         0.        +0.j        ]\n",
              " [0.        +0.j         0.        +0.j         0.        +0.j\n",
              "  0.        +0.j         0.        +0.j         0.        +0.j\n",
              "  0.        +0.j         0.        +0.j         1.        +0.j        ]]"
            ]
          },
          "execution_count": 92,
          "metadata": {},
          "output_type": "execute_result"
        }
      ],
      "source": [
        "H = ConversionGainInteraction(np.pi / 4, np.pi / 4, transmon_levels=3)\n",
        "u = H.construct_U(1.0)\n",
        "\n",
        "# verify makes a CNOT_ge gate\n",
        "# convert to 2Q between g and e by removing indices connected to f\n",
        "reduced_u = reduce_to_two_qubit_subspace(u, [0, 1])\n",
        "print(c1c2c3(reduced_u))\n",
        "u"
      ]
    },
    {
      "cell_type": "code",
      "execution_count": 93,
      "metadata": {},
      "outputs": [
        {
          "name": "stdout",
          "output_type": "stream",
          "text": [
            "(0.5, 0.5, 0.0)\n"
          ]
        },
        {
          "data": {
            "text/latex": [
              "Quantum object: dims = [[3, 3], [3, 3]], shape = (9, 9), type = oper, isherm = False $ \\\\ \\left(\\begin{matrix}1.0 & 0.0 & 0.0 & 0.0 & 0.0 & 0.0 & 0.0 & 0.0 & 0.0\\\\0.0 & 1.0 & 0.0 & 0.0 & 0.0 & 0.0 & 0.0 & 0.0 & 0.0\\\\0.0 & 0.0 & 0.0 & 0.0 & 0.0 & 0.0 & -1.0j & 0.0 & 0.0\\\\0.0 & 0.0 & 0.0 & 1.0 & 0.0 & 0.0 & 0.0 & 0.0 & 0.0\\\\0.0 & 0.0 & 0.0 & 0.0 & 1.0 & 0.0 & 0.0 & 0.0 & 0.0\\\\0.0 & 0.0 & 0.0 & 0.0 & 0.0 & 1.0 & 0.0 & 0.0 & 0.0\\\\0.0 & 0.0 & -1.0j & 0.0 & 0.0 & 0.0 & 0.0 & 0.0 & 0.0\\\\0.0 & 0.0 & 0.0 & 0.0 & 0.0 & 0.0 & 0.0 & 1.0 & 0.0\\\\0.0 & 0.0 & 0.0 & 0.0 & 0.0 & 0.0 & 0.0 & 0.0 & 1.0\\\\\\end{matrix}\\right)$"
            ],
            "text/plain": [
              "Quantum object: dims = [[3, 3], [3, 3]], shape = (9, 9), type = oper, isherm = False\n",
              "Qobj data =\n",
              "[[1.+0.j 0.+0.j 0.+0.j 0.+0.j 0.+0.j 0.+0.j 0.+0.j 0.+0.j 0.+0.j]\n",
              " [0.+0.j 1.+0.j 0.+0.j 0.+0.j 0.+0.j 0.+0.j 0.+0.j 0.+0.j 0.+0.j]\n",
              " [0.+0.j 0.+0.j 0.+0.j 0.+0.j 0.+0.j 0.+0.j 0.-1.j 0.+0.j 0.+0.j]\n",
              " [0.+0.j 0.+0.j 0.+0.j 1.+0.j 0.+0.j 0.+0.j 0.+0.j 0.+0.j 0.+0.j]\n",
              " [0.+0.j 0.+0.j 0.+0.j 0.+0.j 1.+0.j 0.+0.j 0.+0.j 0.+0.j 0.+0.j]\n",
              " [0.+0.j 0.+0.j 0.+0.j 0.+0.j 0.+0.j 1.+0.j 0.+0.j 0.+0.j 0.+0.j]\n",
              " [0.+0.j 0.+0.j 0.-1.j 0.+0.j 0.+0.j 0.+0.j 0.+0.j 0.+0.j 0.+0.j]\n",
              " [0.+0.j 0.+0.j 0.+0.j 0.+0.j 0.+0.j 0.+0.j 0.+0.j 1.+0.j 0.+0.j]\n",
              " [0.+0.j 0.+0.j 0.+0.j 0.+0.j 0.+0.j 0.+0.j 0.+0.j 0.+0.j 1.+0.j]]"
            ]
          },
          "execution_count": 93,
          "metadata": {},
          "output_type": "execute_result"
        }
      ],
      "source": [
        "from quantum_logical.interaction import ConversionGainFiveWave\n",
        "\n",
        "H = ConversionGainFiveWave(np.pi / 2, 0)\n",
        "u = H.construct_U(1.0)\n",
        "\n",
        "# verify makes an iSWAP_gf gate\n",
        "# convert to 2Q between g and f by removing indexes connected to e\n",
        "reduced_u = reduce_to_two_qubit_subspace(u, [0, 2])\n",
        "print(c1c2c3(reduced_u))\n",
        "u"
      ]
    },
    {
      "cell_type": "code",
      "execution_count": 97,
      "metadata": {},
      "outputs": [
        {
          "name": "stdout",
          "output_type": "stream",
          "text": [
            "(0.5, 0.0, 0.0)\n"
          ]
        },
        {
          "data": {
            "text/latex": [
              "Quantum object: dims = [[3, 3], [3, 3]], shape = (9, 9), type = oper, isherm = False $ \\\\ \\left(\\begin{matrix}1.0 & 0.0 & 0.0 & 0.0 & 0.0 & 0.0 & 0.0 & 0.0 & 0.0\\\\0.0 & 1.0 & 0.0 & 0.0 & 0.0 & 0.0 & 0.0 & 0.0 & 0.0\\\\0.0 & 0.0 & 1.0 & 0.0 & 0.0 & 0.0 & 0.0 & 0.0 & 0.0\\\\0.0 & 0.0 & 0.0 & 1.0 & 0.0 & 0.0 & 0.0 & 0.0 & 0.0\\\\0.0 & 0.0 & 0.0 & 0.0 & 0.707 & 0.0 & 0.0 & 0.0 & -0.707j\\\\0.0 & 0.0 & 0.0 & 0.0 & 0.0 & 0.707 & 0.0 & -0.707j & 0.0\\\\0.0 & 0.0 & 0.0 & 0.0 & 0.0 & 0.0 & 1.0 & 0.0 & 0.0\\\\0.0 & 0.0 & 0.0 & 0.0 & 0.0 & -0.707j & 0.0 & 0.707 & 0.0\\\\0.0 & 0.0 & 0.0 & 0.0 & -0.707j & 0.0 & 0.0 & 0.0 & 0.707\\\\\\end{matrix}\\right)$"
            ],
            "text/plain": [
              "Quantum object: dims = [[3, 3], [3, 3]], shape = (9, 9), type = oper, isherm = False\n",
              "Qobj data =\n",
              "[[1.        +0.j         0.        +0.j         0.        +0.j\n",
              "  0.        +0.j         0.        +0.j         0.        +0.j\n",
              "  0.        +0.j         0.        +0.j         0.        +0.j        ]\n",
              " [0.        +0.j         1.        +0.j         0.        +0.j\n",
              "  0.        +0.j         0.        +0.j         0.        +0.j\n",
              "  0.        +0.j         0.        +0.j         0.        +0.j        ]\n",
              " [0.        +0.j         0.        +0.j         1.        +0.j\n",
              "  0.        +0.j         0.        +0.j         0.        +0.j\n",
              "  0.        +0.j         0.        +0.j         0.        +0.j        ]\n",
              " [0.        +0.j         0.        +0.j         0.        +0.j\n",
              "  1.        +0.j         0.        +0.j         0.        +0.j\n",
              "  0.        +0.j         0.        +0.j         0.        +0.j        ]\n",
              " [0.        +0.j         0.        +0.j         0.        +0.j\n",
              "  0.        +0.j         0.70710678+0.j         0.        +0.j\n",
              "  0.        +0.j         0.        +0.j         0.        -0.70710678j]\n",
              " [0.        +0.j         0.        +0.j         0.        +0.j\n",
              "  0.        +0.j         0.        +0.j         0.70710678+0.j\n",
              "  0.        +0.j         0.        -0.70710678j 0.        +0.j        ]\n",
              " [0.        +0.j         0.        +0.j         0.        +0.j\n",
              "  0.        +0.j         0.        +0.j         0.        +0.j\n",
              "  1.        +0.j         0.        +0.j         0.        +0.j        ]\n",
              " [0.        +0.j         0.        +0.j         0.        +0.j\n",
              "  0.        +0.j         0.        +0.j         0.        -0.70710678j\n",
              "  0.        +0.j         0.70710678+0.j         0.        +0.j        ]\n",
              " [0.        +0.j         0.        +0.j         0.        +0.j\n",
              "  0.        +0.j         0.        -0.70710678j 0.        +0.j\n",
              "  0.        +0.j         0.        +0.j         0.70710678+0.j        ]]"
            ]
          },
          "execution_count": 97,
          "metadata": {},
          "output_type": "execute_result"
        }
      ],
      "source": [
        "from quantum_logical.interaction import CNOT_FC_EF\n",
        "\n",
        "H = CNOT_FC_EF(np.pi / 4, np.pi / 4)\n",
        "u = H.construct_U(1.0)\n",
        "\n",
        "# verify makes an CNOT_ef gate\n",
        "# convert to 2Q between e and f by removing indexes connected to g\n",
        "reduced_u = reduce_to_two_qubit_subspace(u, [1, 2])\n",
        "print(c1c2c3(reduced_u))\n",
        "u"
      ]
    }
  ],
  "metadata": {
    "kernelspec": {
      "display_name": ".venv",
      "language": "python",
      "name": "python3"
    },
    "language_info": {
      "codemirror_mode": {
        "name": "ipython",
        "version": 3
      },
      "file_extension": ".py",
      "mimetype": "text/x-python",
      "name": "python",
      "nbconvert_exporter": "python",
      "pygments_lexer": "ipython3",
      "version": "3.9.17"
    }
  },
  "nbformat": 4,
  "nbformat_minor": 2
}
