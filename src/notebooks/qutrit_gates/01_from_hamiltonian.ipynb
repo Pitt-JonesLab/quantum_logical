{
  "cells": [
    {
      "cell_type": "code",
      "execution_count": 7,
      "metadata": {},
      "outputs": [],
      "source": [
        "from quantum_logical.operators import selective_destroy\n",
        "from quantum_logical.interaction import ConversionGainInteraction\n",
        "from weylchamber import c1c2c3\n",
        "import numpy as np\n",
        "import qutip\n",
        "from quantum_logical.operators import reduce_to_two_qubit_subspace\n",
        "from quantum_logical.operators import _qutrit_to_3coords"
      ]
    },
    {
      "cell_type": "code",
      "execution_count": 8,
      "metadata": {},
      "outputs": [
        {
          "name": "stdout",
          "output_type": "stream",
          "text": [
            "Quantum object: dims = [[3], [3]], shape = (3, 3), type = oper, isherm = False\n",
            "Qobj data =\n",
            "[[0.         1.73205081 0.        ]\n",
            " [0.         0.         2.        ]\n",
            " [0.         0.         0.        ]]\n",
            "\n",
            "\n",
            "Quantum object: dims = [[3], [3]], shape = (3, 3), type = oper, isherm = False\n",
            "Qobj data =\n",
            "[[0. 0. 0.]\n",
            " [0. 0. 1.]\n",
            " [0. 0. 0.]]\n"
          ]
        }
      ],
      "source": [
        "# conventional ladder operator\n",
        "a = qutip.destroy(3, 2)\n",
        "print(a)\n",
        "\n",
        "print(\"\\n\")\n",
        "# selective ladder operator\n",
        "a = selective_destroy(3, 2, 1)\n",
        "print(a)"
      ]
    },
    {
      "cell_type": "code",
      "execution_count": 9,
      "metadata": {},
      "outputs": [],
      "source": [
        "transmon_levels = 3\n",
        "a_ge = selective_destroy(transmon_levels, 1, 0)\n",
        "a_ef = selective_destroy(transmon_levels, 2, 1)\n",
        "a_gf = selective_destroy(transmon_levels, 2, 0)"
      ]
    },
    {
      "cell_type": "code",
      "execution_count": 10,
      "metadata": {},
      "outputs": [
        {
          "name": "stdout",
          "output_type": "stream",
          "text": [
            "(0.5, 0.0, 0.0)\n"
          ]
        },
        {
          "data": {
            "text/latex": [
              "Quantum object: dims = [[3, 3], [3, 3]], shape = (9, 9), type = oper, isherm = False $ \\\\ \\left(\\begin{matrix}0.707 & 0.0 & 0.0 & 0.0 & -0.707j & 0.0 & 0.0 & 0.0 & 0.0\\\\0.0 & 0.707 & 0.0 & -0.707j & 0.0 & 0.0 & 0.0 & 0.0 & 0.0\\\\0.0 & 0.0 & 1.0 & 0.0 & 0.0 & 0.0 & 0.0 & 0.0 & 0.0\\\\0.0 & -0.707j & 0.0 & 0.707 & 0.0 & 0.0 & 0.0 & 0.0 & 0.0\\\\-0.707j & 0.0 & 0.0 & 0.0 & 0.707 & 0.0 & 0.0 & 0.0 & 0.0\\\\0.0 & 0.0 & 0.0 & 0.0 & 0.0 & 1.0 & 0.0 & 0.0 & 0.0\\\\0.0 & 0.0 & 0.0 & 0.0 & 0.0 & 0.0 & 1.0 & 0.0 & 0.0\\\\0.0 & 0.0 & 0.0 & 0.0 & 0.0 & 0.0 & 0.0 & 1.0 & 0.0\\\\0.0 & 0.0 & 0.0 & 0.0 & 0.0 & 0.0 & 0.0 & 0.0 & 1.0\\\\\\end{matrix}\\right)$"
            ],
            "text/plain": [
              "Quantum object: dims = [[3, 3], [3, 3]], shape = (9, 9), type = oper, isherm = False\n",
              "Qobj data =\n",
              "[[0.70710678+0.j         0.        +0.j         0.        +0.j\n",
              "  0.        +0.j         0.        -0.70710678j 0.        +0.j\n",
              "  0.        +0.j         0.        +0.j         0.        +0.j        ]\n",
              " [0.        +0.j         0.70710678+0.j         0.        +0.j\n",
              "  0.        -0.70710678j 0.        +0.j         0.        +0.j\n",
              "  0.        +0.j         0.        +0.j         0.        +0.j        ]\n",
              " [0.        +0.j         0.        +0.j         1.        +0.j\n",
              "  0.        +0.j         0.        +0.j         0.        +0.j\n",
              "  0.        +0.j         0.        +0.j         0.        +0.j        ]\n",
              " [0.        +0.j         0.        -0.70710678j 0.        +0.j\n",
              "  0.70710678+0.j         0.        +0.j         0.        +0.j\n",
              "  0.        +0.j         0.        +0.j         0.        +0.j        ]\n",
              " [0.        -0.70710678j 0.        +0.j         0.        +0.j\n",
              "  0.        +0.j         0.70710678+0.j         0.        +0.j\n",
              "  0.        +0.j         0.        +0.j         0.        +0.j        ]\n",
              " [0.        +0.j         0.        +0.j         0.        +0.j\n",
              "  0.        +0.j         0.        +0.j         1.        +0.j\n",
              "  0.        +0.j         0.        +0.j         0.        +0.j        ]\n",
              " [0.        +0.j         0.        +0.j         0.        +0.j\n",
              "  0.        +0.j         0.        +0.j         0.        +0.j\n",
              "  1.        +0.j         0.        +0.j         0.        +0.j        ]\n",
              " [0.        +0.j         0.        +0.j         0.        +0.j\n",
              "  0.        +0.j         0.        +0.j         0.        +0.j\n",
              "  0.        +0.j         1.        +0.j         0.        +0.j        ]\n",
              " [0.        +0.j         0.        +0.j         0.        +0.j\n",
              "  0.        +0.j         0.        +0.j         0.        +0.j\n",
              "  0.        +0.j         0.        +0.j         1.        +0.j        ]]"
            ]
          },
          "execution_count": 10,
          "metadata": {},
          "output_type": "execute_result"
        }
      ],
      "source": [
        "H = ConversionGainInteraction(np.pi / 4, np.pi / 4, transmon_levels=3)\n",
        "u = H.construct_U(1.0)\n",
        "\n",
        "# verify makes a CNOT_ge gate\n",
        "# convert to 2Q between g and e by removing indices connected to f\n",
        "reduced_u = reduce_to_two_qubit_subspace(u, [0, 1])\n",
        "print(c1c2c3(reduced_u))\n",
        "u"
      ]
    },
    {
      "cell_type": "code",
      "execution_count": 11,
      "metadata": {},
      "outputs": [
        {
          "name": "stdout",
          "output_type": "stream",
          "text": [
            "(0.5, 0.5, 0.0)\n"
          ]
        },
        {
          "data": {
            "text/latex": [
              "Quantum object: dims = [[3, 3], [3, 3]], shape = (9, 9), type = oper, isherm = False $ \\\\ \\left(\\begin{matrix}1.0 & 0.0 & 0.0 & 0.0 & 0.0 & 0.0 & 0.0 & 0.0 & 0.0\\\\0.0 & 1.0 & 0.0 & 0.0 & 0.0 & 0.0 & 0.0 & 0.0 & 0.0\\\\0.0 & 0.0 & 0.0 & 0.0 & 0.0 & 0.0 & -1.0j & 0.0 & 0.0\\\\0.0 & 0.0 & 0.0 & 1.0 & 0.0 & 0.0 & 0.0 & 0.0 & 0.0\\\\0.0 & 0.0 & 0.0 & 0.0 & 1.0 & 0.0 & 0.0 & 0.0 & 0.0\\\\0.0 & 0.0 & 0.0 & 0.0 & 0.0 & 1.0 & 0.0 & 0.0 & 0.0\\\\0.0 & 0.0 & -1.0j & 0.0 & 0.0 & 0.0 & 0.0 & 0.0 & 0.0\\\\0.0 & 0.0 & 0.0 & 0.0 & 0.0 & 0.0 & 0.0 & 1.0 & 0.0\\\\0.0 & 0.0 & 0.0 & 0.0 & 0.0 & 0.0 & 0.0 & 0.0 & 1.0\\\\\\end{matrix}\\right)$"
            ],
            "text/plain": [
              "Quantum object: dims = [[3, 3], [3, 3]], shape = (9, 9), type = oper, isherm = False\n",
              "Qobj data =\n",
              "[[1.+0.j 0.+0.j 0.+0.j 0.+0.j 0.+0.j 0.+0.j 0.+0.j 0.+0.j 0.+0.j]\n",
              " [0.+0.j 1.+0.j 0.+0.j 0.+0.j 0.+0.j 0.+0.j 0.+0.j 0.+0.j 0.+0.j]\n",
              " [0.+0.j 0.+0.j 0.+0.j 0.+0.j 0.+0.j 0.+0.j 0.-1.j 0.+0.j 0.+0.j]\n",
              " [0.+0.j 0.+0.j 0.+0.j 1.+0.j 0.+0.j 0.+0.j 0.+0.j 0.+0.j 0.+0.j]\n",
              " [0.+0.j 0.+0.j 0.+0.j 0.+0.j 1.+0.j 0.+0.j 0.+0.j 0.+0.j 0.+0.j]\n",
              " [0.+0.j 0.+0.j 0.+0.j 0.+0.j 0.+0.j 1.+0.j 0.+0.j 0.+0.j 0.+0.j]\n",
              " [0.+0.j 0.+0.j 0.-1.j 0.+0.j 0.+0.j 0.+0.j 0.+0.j 0.+0.j 0.+0.j]\n",
              " [0.+0.j 0.+0.j 0.+0.j 0.+0.j 0.+0.j 0.+0.j 0.+0.j 1.+0.j 0.+0.j]\n",
              " [0.+0.j 0.+0.j 0.+0.j 0.+0.j 0.+0.j 0.+0.j 0.+0.j 0.+0.j 1.+0.j]]"
            ]
          },
          "execution_count": 11,
          "metadata": {},
          "output_type": "execute_result"
        }
      ],
      "source": [
        "from quantum_logical.interaction import ConversionGainFiveWave\n",
        "\n",
        "H = ConversionGainFiveWave(np.pi / 2, 0)\n",
        "u = H.construct_U(1.0)\n",
        "\n",
        "# verify makes an iSWAP_gf gate\n",
        "# convert to 2Q between g and f by removing indexes connected to e\n",
        "reduced_u = reduce_to_two_qubit_subspace(u, [0, 2])\n",
        "print(c1c2c3(reduced_u))\n",
        "u"
      ]
    },
    {
      "cell_type": "code",
      "execution_count": 12,
      "metadata": {},
      "outputs": [
        {
          "name": "stdout",
          "output_type": "stream",
          "text": [
            "(0.5, 0.0, 0.0)\n"
          ]
        },
        {
          "data": {
            "text/latex": [
              "Quantum object: dims = [[3, 3], [3, 3]], shape = (9, 9), type = oper, isherm = False $ \\\\ \\left(\\begin{matrix}1.0 & 0.0 & 0.0 & 0.0 & 0.0 & 0.0 & 0.0 & 0.0 & 0.0\\\\0.0 & 1.0 & 0.0 & 0.0 & 0.0 & 0.0 & 0.0 & 0.0 & 0.0\\\\0.0 & 0.0 & 1.0 & 0.0 & 0.0 & 0.0 & 0.0 & 0.0 & 0.0\\\\0.0 & 0.0 & 0.0 & 1.0 & 0.0 & 0.0 & 0.0 & 0.0 & 0.0\\\\0.0 & 0.0 & 0.0 & 0.0 & 0.707 & 0.0 & 0.0 & 0.0 & -0.707j\\\\0.0 & 0.0 & 0.0 & 0.0 & 0.0 & 0.707 & 0.0 & -0.707j & 0.0\\\\0.0 & 0.0 & 0.0 & 0.0 & 0.0 & 0.0 & 1.0 & 0.0 & 0.0\\\\0.0 & 0.0 & 0.0 & 0.0 & 0.0 & -0.707j & 0.0 & 0.707 & 0.0\\\\0.0 & 0.0 & 0.0 & 0.0 & -0.707j & 0.0 & 0.0 & 0.0 & 0.707\\\\\\end{matrix}\\right)$"
            ],
            "text/plain": [
              "Quantum object: dims = [[3, 3], [3, 3]], shape = (9, 9), type = oper, isherm = False\n",
              "Qobj data =\n",
              "[[1.        +0.j         0.        +0.j         0.        +0.j\n",
              "  0.        +0.j         0.        +0.j         0.        +0.j\n",
              "  0.        +0.j         0.        +0.j         0.        +0.j        ]\n",
              " [0.        +0.j         1.        +0.j         0.        +0.j\n",
              "  0.        +0.j         0.        +0.j         0.        +0.j\n",
              "  0.        +0.j         0.        +0.j         0.        +0.j        ]\n",
              " [0.        +0.j         0.        +0.j         1.        +0.j\n",
              "  0.        +0.j         0.        +0.j         0.        +0.j\n",
              "  0.        +0.j         0.        +0.j         0.        +0.j        ]\n",
              " [0.        +0.j         0.        +0.j         0.        +0.j\n",
              "  1.        +0.j         0.        +0.j         0.        +0.j\n",
              "  0.        +0.j         0.        +0.j         0.        +0.j        ]\n",
              " [0.        +0.j         0.        +0.j         0.        +0.j\n",
              "  0.        +0.j         0.70710678+0.j         0.        +0.j\n",
              "  0.        +0.j         0.        +0.j         0.        -0.70710678j]\n",
              " [0.        +0.j         0.        +0.j         0.        +0.j\n",
              "  0.        +0.j         0.        +0.j         0.70710678+0.j\n",
              "  0.        +0.j         0.        -0.70710678j 0.        +0.j        ]\n",
              " [0.        +0.j         0.        +0.j         0.        +0.j\n",
              "  0.        +0.j         0.        +0.j         0.        +0.j\n",
              "  1.        +0.j         0.        +0.j         0.        +0.j        ]\n",
              " [0.        +0.j         0.        +0.j         0.        +0.j\n",
              "  0.        +0.j         0.        +0.j         0.        -0.70710678j\n",
              "  0.        +0.j         0.70710678+0.j         0.        +0.j        ]\n",
              " [0.        +0.j         0.        +0.j         0.        +0.j\n",
              "  0.        +0.j         0.        -0.70710678j 0.        +0.j\n",
              "  0.        +0.j         0.        +0.j         0.70710678+0.j        ]]"
            ]
          },
          "execution_count": 12,
          "metadata": {},
          "output_type": "execute_result"
        }
      ],
      "source": [
        "from quantum_logical.interaction import CNOT_FC_EF\n",
        "\n",
        "H = CNOT_FC_EF(np.pi / 4, np.pi / 4)\n",
        "u = H.construct_U(1.0)\n",
        "\n",
        "# verify makes an CNOT_ef gate\n",
        "# convert to 2Q between e and f by removing indexes connected to g\n",
        "reduced_u = reduce_to_two_qubit_subspace(u, [1, 2])\n",
        "print(c1c2c3(reduced_u))\n",
        "u"
      ]
    },
    {
      "cell_type": "code",
      "execution_count": 38,
      "metadata": {},
      "outputs": [
        {
          "name": "stdout",
          "output_type": "stream",
          "text": [
            "(0.5, 0.0, 0.0) (0.5, 0.0, 0.0) (0.5, 0.5, 0.5)\n"
          ]
        },
        {
          "data": {
            "text/latex": [
              "Quantum object: dims = [[3, 3], [3, 3]], shape = (9, 9), type = oper, isherm = False $ \\\\ \\left(\\begin{matrix}1.000 & 0.0 & 0.0 & 0.0 & 0.0 & 0.0 & 0.0 & 0.0 & 0.0\\\\0.0 & 1.000 & 0.0 & 0.0 & 0.0 & 0.0 & 0.0 & 0.0 & 0.0\\\\0.0 & 0.0 & 1.234\\times10^{-10} & 0.0 & 1.571\\times10^{-05}j & 0.0 & -1.000 & 0.0 & 0.0\\\\0.0 & 0.0 & 0.0 & 1.000 & 0.0 & 0.0 & 0.0 & 0.0 & 0.0\\\\0.0 & 0.0 & 1.571\\times10^{-05}j & 0.0 & -1.000 & 0.0 & 1.571\\times10^{-05}j & 0.0 & 0.0\\\\0.0 & 0.0 & 0.0 & 0.0 & 0.0 & 1.000 & 0.0 & 0.0 & 0.0\\\\0.0 & 0.0 & -1.000 & 0.0 & 1.571\\times10^{-05}j & 0.0 & 1.234\\times10^{-10} & 0.0 & 0.0\\\\0.0 & 0.0 & 0.0 & 0.0 & 0.0 & 0.0 & 0.0 & 1.000 & 0.0\\\\0.0 & 0.0 & 0.0 & 0.0 & 0.0 & 0.0 & 0.0 & 0.0 & 1.000\\\\\\end{matrix}\\right)$"
            ],
            "text/plain": [
              "Quantum object: dims = [[3, 3], [3, 3]], shape = (9, 9), type = oper, isherm = False\n",
              "Qobj data =\n",
              "[[ 1.00000000e+00+0.00000000e+00j  0.00000000e+00+0.00000000e+00j\n",
              "   0.00000000e+00+0.00000000e+00j  0.00000000e+00+0.00000000e+00j\n",
              "   0.00000000e+00+0.00000000e+00j  0.00000000e+00+0.00000000e+00j\n",
              "   0.00000000e+00+0.00000000e+00j  0.00000000e+00+0.00000000e+00j\n",
              "   0.00000000e+00+0.00000000e+00j]\n",
              " [ 0.00000000e+00+0.00000000e+00j  1.00000000e+00+0.00000000e+00j\n",
              "   0.00000000e+00+0.00000000e+00j  0.00000000e+00+0.00000000e+00j\n",
              "   0.00000000e+00+0.00000000e+00j  0.00000000e+00+0.00000000e+00j\n",
              "   0.00000000e+00+0.00000000e+00j  0.00000000e+00+0.00000000e+00j\n",
              "   0.00000000e+00+0.00000000e+00j]\n",
              " [ 0.00000000e+00+0.00000000e+00j  0.00000000e+00+0.00000000e+00j\n",
              "   1.23370006e-10+0.00000000e+00j  0.00000000e+00+0.00000000e+00j\n",
              "   0.00000000e+00+1.57079633e-05j  0.00000000e+00+0.00000000e+00j\n",
              "  -1.00000000e+00+0.00000000e+00j  0.00000000e+00+0.00000000e+00j\n",
              "   0.00000000e+00+0.00000000e+00j]\n",
              " [ 0.00000000e+00+0.00000000e+00j  0.00000000e+00+0.00000000e+00j\n",
              "   0.00000000e+00+0.00000000e+00j  1.00000000e+00+0.00000000e+00j\n",
              "   0.00000000e+00+0.00000000e+00j  0.00000000e+00+0.00000000e+00j\n",
              "   0.00000000e+00+0.00000000e+00j  0.00000000e+00+0.00000000e+00j\n",
              "   0.00000000e+00+0.00000000e+00j]\n",
              " [ 0.00000000e+00+0.00000000e+00j  0.00000000e+00+0.00000000e+00j\n",
              "   0.00000000e+00+1.57079633e-05j  0.00000000e+00+0.00000000e+00j\n",
              "  -1.00000000e+00+0.00000000e+00j  0.00000000e+00+0.00000000e+00j\n",
              "   0.00000000e+00+1.57079633e-05j  0.00000000e+00+0.00000000e+00j\n",
              "   0.00000000e+00+0.00000000e+00j]\n",
              " [ 0.00000000e+00+0.00000000e+00j  0.00000000e+00+0.00000000e+00j\n",
              "   0.00000000e+00+0.00000000e+00j  0.00000000e+00+0.00000000e+00j\n",
              "   0.00000000e+00+0.00000000e+00j  1.00000000e+00+0.00000000e+00j\n",
              "   0.00000000e+00+0.00000000e+00j  0.00000000e+00+0.00000000e+00j\n",
              "   0.00000000e+00+0.00000000e+00j]\n",
              " [ 0.00000000e+00+0.00000000e+00j  0.00000000e+00+0.00000000e+00j\n",
              "  -1.00000000e+00+0.00000000e+00j  0.00000000e+00+0.00000000e+00j\n",
              "   0.00000000e+00+1.57079633e-05j  0.00000000e+00+0.00000000e+00j\n",
              "   1.23369993e-10+0.00000000e+00j  0.00000000e+00+0.00000000e+00j\n",
              "   0.00000000e+00+0.00000000e+00j]\n",
              " [ 0.00000000e+00+0.00000000e+00j  0.00000000e+00+0.00000000e+00j\n",
              "   0.00000000e+00+0.00000000e+00j  0.00000000e+00+0.00000000e+00j\n",
              "   0.00000000e+00+0.00000000e+00j  0.00000000e+00+0.00000000e+00j\n",
              "   0.00000000e+00+0.00000000e+00j  1.00000000e+00+0.00000000e+00j\n",
              "   0.00000000e+00+0.00000000e+00j]\n",
              " [ 0.00000000e+00+0.00000000e+00j  0.00000000e+00+0.00000000e+00j\n",
              "   0.00000000e+00+0.00000000e+00j  0.00000000e+00+0.00000000e+00j\n",
              "   0.00000000e+00+0.00000000e+00j  0.00000000e+00+0.00000000e+00j\n",
              "   0.00000000e+00+0.00000000e+00j  0.00000000e+00+0.00000000e+00j\n",
              "   1.00000000e+00+0.00000000e+00j]]"
            ]
          },
          "execution_count": 38,
          "metadata": {},
          "output_type": "execute_result"
        }
      ],
      "source": [
        "# werid property about using |fg> <-> |ee> and |gf> <-> |ee>\n",
        "# if put iSWAPs on both these, can find cancellation point where makes a SWAP_gf\n",
        "# this will be (I,I,I) for t < k/sqrt(2)\n",
        "# and (CX, CX, SWAP) for t >= k/sqrt(2)\n",
        "# appears to be periodic with period 2k\n",
        "# isn't that weird?\n",
        "\n",
        "eps = 1e-5\n",
        "phi_g, phi_c = 0.0, 0.0\n",
        "coefficients = [\n",
        "    np.pi / 2 * np.exp(1j * phi_c),\n",
        "    np.pi / 2 * np.exp(1j * phi_g),\n",
        "]\n",
        "\n",
        "operators = [\n",
        "    qutip.tensor(a_ef, a_ge.dag()),  # a_ef b_ge\u2020,\n",
        "    qutip.tensor(a_ge, a_ef.dag()),  # a_ge b_ef\u2020,\n",
        "]\n",
        "\n",
        "H = ConversionGainInteraction.from_coeff_ops_list(coefficients, operators)\n",
        "U_gef = H.construct_U(2 / np.sqrt(2) + eps)\n",
        "coords_ge, coords_ef, coords_gf = _qutrit_to_3coords(U_gef)\n",
        "print(coords_ge, coords_ef, coords_gf)\n",
        "U_gef"
      ]
    },
    {
      "cell_type": "code",
      "execution_count": 44,
      "metadata": {},
      "outputs": [
        {
          "data": {
            "image/png": "[encoded data removed]",
            "text/plain": [
              "<Figure size 400x300 with 1 Axes>"
            ]
          },
          "metadata": {},
          "output_type": "display_data"
        }
      ],
      "source": [
        "import numpy as np\n",
        "import matplotlib.pyplot as plt\n",
        "import qutip\n",
        "\n",
        "# Assume a_ef, a_ge are the annihilation operators for the two-level systems\n",
        "# and that ConversionGainInteraction and _qutrit_to_3coords are defined somewhere in your code.\n",
        "\n",
        "phi_g, phi_c = 0.0, 0.0\n",
        "k_values = np.linspace(\n",
        "    start=0, stop=4 * np.pi, num=100\n",
        ")  # Adjust as necessary for the desired range and resolution\n",
        "norms_ge = []\n",
        "norms_ef = []\n",
        "norms_gf = []\n",
        "\n",
        "for k in k_values:\n",
        "    coefficients = [\n",
        "        np.pi / 2 * np.exp(1j * phi_c),\n",
        "        np.pi / 2 * np.exp(1j * phi_g),\n",
        "    ]\n",
        "\n",
        "    operators = [\n",
        "        qutip.tensor(a_ef, a_ge.dag()),  # a_ef b_ge\u2020,\n",
        "        qutip.tensor(a_ge, a_ef.dag()),  # a_ge b_ef\u2020,\n",
        "    ]\n",
        "\n",
        "    H = ConversionGainInteraction.from_coeff_ops_list(coefficients, operators)\n",
        "    U_gef = H.construct_U(k / np.sqrt(2) + eps)\n",
        "    coords_ge, coords_ef, coords_gf = _qutrit_to_3coords(U_gef)\n",
        "\n",
        "    norms_ge.append(np.linalg.norm(coords_ge))\n",
        "    norms_ef.append(np.linalg.norm(coords_ef))\n",
        "    norms_gf.append(np.linalg.norm(coords_gf))\n",
        "\n",
        "# Now plot the norms for each coordinate\n",
        "plt.figure(figsize=(4, 3))\n",
        "\n",
        "plt.plot(k_values, norms_ge, \"-.\", label=\"GE\")\n",
        "plt.plot(k_values, norms_ef, \"-.\", label=\"EF\")\n",
        "plt.plot(k_values, norms_gf, \"-.\", label=\"GF\")\n",
        "\n",
        "plt.xlabel(\"k\")\n",
        "plt.ylabel(\"Norm of Coordinate Vectors\")\n",
        "plt.title(\"Norm of Qutrit Coordinates with k\")\n",
        "plt.legend()\n",
        "plt.grid(True)\n",
        "plt.show()"
      ]
    }
  ],
  "metadata": {
    "kernelspec": {
      "display_name": ".venv",
      "language": "python",
      "name": "python3"
    },
    "language_info": {
      "codemirror_mode": {
        "name": "ipython",
        "version": 3
      },
      "file_extension": ".py",
      "mimetype": "text/x-python",
      "name": "python",
      "nbconvert_exporter": "python",
      "pygments_lexer": "ipython3",
      "version": "3.9.17"
    }
  },
  "nbformat": 4,
  "nbformat_minor": 2
}
