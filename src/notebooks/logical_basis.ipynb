{
 "cells": [
  {
   "cell_type": "code",
   "execution_count": 6,
   "metadata": {},
   "outputs": [],
   "source": [
    "# logical change of basis\n",
    "# example: in dual-rail 1Q gates are created by 2Q interactions\n",
    "\n",
    "# |0>L = |01>, |1>L = |10>\n",
    "# |e1> = |00>, |e2> = |11>\n",
    "\n",
    "# Hadamard\n",
    "# as a density matrix, includes implicit error states stay in error states\n",
    "# H = 1/2 [|0><0|L + |0><1|L + |1><0|L - |1><1|L] (+ |e1><e1| + |e2><e2|)\n",
    "\n",
    "# becomes\n",
    "# = 1/2 [|01><01| + |01><10| + |10><01| - |10><10|] + |00><00| + |11><11|\n",
    "\n",
    "# as an operator\n",
    "# = [[1, 0, 0, 0], [0,1/sqrt(2),1/sqrt(2),0], [0,1/sqrt(2), -1/sqrt(2),0], [0,0,0,1]]\n",
    "\n",
    "# convert to weylchamber coordinate\n",
    "# -> (1/2, 1/4, 1/4)\n",
    "\n",
    "# repeat....\n",
    "# for some encoding, define some map between nQ -> (n+1)Q gates."
   ]
  },
  {
   "cell_type": "code",
   "execution_count": 11,
   "metadata": {},
   "outputs": [],
   "source": [
    "# ???\n",
    "# idea: multi-qubit gates formed by 2Q interactions, similar to multi-block\n",
    "# maybe a V gate is defined by 2 points at iSwap, Delta by 3 points at iSwap\n",
    "# gates can be defined by a vector of coordinates.\n",
    "# only works because there is no 3Q interaction, just multiple 2Q interactions at the same time"
   ]
  },
  {
   "cell_type": "code",
   "execution_count": 12,
   "metadata": {},
   "outputs": [],
   "source": [
    "# start by defining the codespace using qutip\n",
    "# |g+f, g+f>; |g-f, g-f> are the basis states\n",
    "from qutip import *\n",
    "import numpy as np\n",
    "\n",
    "t_levels = 3\n",
    "\n",
    "p_gf = (basis(t_levels, 0) + basis(t_levels, 2)).unit()\n",
    "m_gf = (basis(t_levels, 0) - basis(t_levels, 2)).unit()\n",
    "\n",
    "# tensor 2 qubits together to get logical qubit\n",
    "logical0 = tensor(p_gf, p_gf)\n",
    "logical1 = tensor(m_gf, m_gf)\n",
    "\n",
    "# verify that the basis states are orthogonal\n",
    "assert not logical0.overlap(logical1)"
   ]
  },
  {
   "cell_type": "code",
   "execution_count": 16,
   "metadata": {},
   "outputs": [
    {
     "data": {
      "text/latex": [
       "Quantum object: dims = [[3, 3], [1, 1]], shape = (9, 1), type = ket $ \\\\ \\left(\\begin{matrix}0.500\\\\0.0\\\\-0.500\\\\0.0\\\\0.0\\\\0.0\\\\-0.500\\\\0.0\\\\0.500\\\\\\end{matrix}\\right)$"
      ],
      "text/plain": [
       "Quantum object: dims = [[3, 3], [1, 1]], shape = (9, 1), type = ket\n",
       "Qobj data =\n",
       "[[ 0.5]\n",
       " [ 0. ]\n",
       " [-0.5]\n",
       " [ 0. ]\n",
       " [ 0. ]\n",
       " [ 0. ]\n",
       " [-0.5]\n",
       " [ 0. ]\n",
       " [ 0.5]]"
      ]
     },
     "execution_count": 16,
     "metadata": {},
     "output_type": "execute_result"
    }
   ],
   "source": [
    "logical1"
   ]
  },
  {
   "cell_type": "code",
   "execution_count": 4,
   "metadata": {},
   "outputs": [],
   "source": [
    "from qiskit.quantum_info import DensityMatrix"
   ]
  },
  {
   "cell_type": "code",
   "execution_count": 5,
   "metadata": {},
   "outputs": [
    {
     "name": "stdout",
     "output_type": "stream",
     "text": [
      "DensityMatrix([[0.5+0.j, 0.5+0.j],\n",
      "               [0.5+0.j, 0.5+0.j]],\n",
      "              dims=(2,))\n"
     ]
    }
   ],
   "source": [
    "from qiskit.circuit.library import HGate\n",
    "\n",
    "DensityMatrix(HGate())"
   ]
  },
  {
   "cell_type": "code",
   "execution_count": null,
   "metadata": {},
   "outputs": [],
   "source": []
  }
 ],
 "metadata": {
  "kernelspec": {
   "display_name": ".venv",
   "language": "python",
   "name": "python3"
  },
  "language_info": {
   "codemirror_mode": {
    "name": "ipython",
    "version": 3
   },
   "file_extension": ".py",
   "mimetype": "text/x-python",
   "name": "python",
   "nbconvert_exporter": "python",
   "pygments_lexer": "ipython3",
   "version": "3.9.16"
  },
  "orig_nbformat": 4
 },
 "nbformat": 4,
 "nbformat_minor": 2
}
