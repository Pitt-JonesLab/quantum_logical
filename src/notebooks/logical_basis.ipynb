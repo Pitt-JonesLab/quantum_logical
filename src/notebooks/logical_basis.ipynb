{
  "cells": [
    {
      "cell_type": "code",
      "execution_count": 1,
      "metadata": {},
      "outputs": [],
      "source": [
        "# logical change of basis\n",
        "# example: in dual-rail 1Q gates are created by 2Q interactions\n",
        "\n",
        "# |0>L = |01>, |1>L = |10>\n",
        "# |e1> = |00>, |e2> = |11>\n",
        "\n",
        "# Hadamard\n",
        "# as a density matrix, includes implicit error states stay in error states\n",
        "# H = 1/2 [|0><0|L + |0><1|L + |1><0|L - |1><1|L] (+ |e1><e1| + |e2><e2|)\n",
        "\n",
        "# becomes\n",
        "# = 1/2 [|01><01| + |01><10| + |10><01| - |10><10|] + |00><00| + |11><11|\n",
        "\n",
        "# as an operator\n",
        "# = [[1, 0, 0, 0], [0,1/sqrt(2),1/sqrt(2),0], [0,1/sqrt(2), -1/sqrt(2),0], [0,0,0,1]]\n",
        "\n",
        "# convert to weylchamber coordinate\n",
        "# -> (1/2, 1/4, 1/4)\n",
        "\n",
        "# repeat....\n",
        "# for some encoding, define some map between nQ -> (n+1)Q gates."
      ]
    },
    {
      "cell_type": "code",
      "execution_count": null,
      "metadata": {},
      "outputs": [],
      "source": [
        "# including error states\n",
        "# phase flips errors E = |-+><-+| + |+-><+-|\n",
        "# ancilla qubits (x, y) for distinguishing between the two types of errors\n",
        "\n",
        "# NOTE is this form of an Isometry valid?\n",
        "# idea is that it is simpler to leave out the error states until they are actually needed\n",
        "# basically, the no error flag qubit is implicit\n",
        "# U = |g+f, g+f><0| + |g-f, g-f><1| + |++x><+-| + |--y><-+|"
      ]
    },
    {
      "cell_type": "code",
      "execution_count": 72,
      "metadata": {},
      "outputs": [
        {
          "name": "stdout",
          "output_type": "stream",
          "text": [
            "(Quantum object: dims = [[2, 2], [1, 1]], shape = (4, 1), type = ket\n",
            "Qobj data =\n",
            "[[1.]\n",
            " [0.]\n",
            " [0.]\n",
            " [0.]],)\n"
          ]
        },
        {
          "data": {
            "text/latex": [
              "Quantum object: dims = [[2, 2, 2], [2, 2, 2]], shape = (8, 8), type = oper, isherm = False $ \\\\ \\left(\\begin{matrix}0.0 & 0.0 & 0.0 & 0.0 & 0.0 & 0.0 & 0.0 & 0.0\\\\0.0 & 0.0 & 0.0 & 0.0 & 0.0 & 0.0 & 0.0 & 0.0\\\\0.0 & 0.0 & 0.0 & 0.0 & 0.0 & 0.0 & 0.0 & 0.0\\\\0.0 & 0.0 & 0.0 & 0.0 & 0.0 & 0.0 & 0.0 & 0.0\\\\1.0 & 0.0 & 0.0 & 0.0 & 0.0 & 0.0 & 0.0 & 0.0\\\\0.0 & 0.0 & 0.0 & 0.0 & 0.0 & 0.0 & 0.0 & 0.0\\\\0.0 & 0.0 & 0.0 & 0.0 & 0.0 & 0.0 & 0.0 & 0.0\\\\0.0 & 0.0 & 0.0 & 0.0 & 0.0 & 0.0 & 0.0 & 0.0\\\\\\end{matrix}\\right)$"
            ],
            "text/plain": [
              "Quantum object: dims = [[2, 2, 2], [2, 2, 2]], shape = (8, 8), type = oper, isherm = False\n",
              "Qobj data =\n",
              "[[0. 0. 0. 0. 0. 0. 0. 0.]\n",
              " [0. 0. 0. 0. 0. 0. 0. 0.]\n",
              " [0. 0. 0. 0. 0. 0. 0. 0.]\n",
              " [0. 0. 0. 0. 0. 0. 0. 0.]\n",
              " [1. 0. 0. 0. 0. 0. 0. 0.]\n",
              " [0. 0. 0. 0. 0. 0. 0. 0.]\n",
              " [0. 0. 0. 0. 0. 0. 0. 0.]\n",
              " [0. 0. 0. 0. 0. 0. 0. 0.]]"
            ]
          },
          "execution_count": 72,
          "metadata": {},
          "output_type": "execute_result"
        }
      ],
      "source": [
        "from quantum_logical.basis import DualRail\n",
        "\n",
        "encoding = DualRail()\n",
        "encoding.ancilla[0].detection_operator"
      ]
    }
  ],
  "metadata": {
    "kernelspec": {
      "display_name": ".venv",
      "language": "python",
      "name": "python3"
    },
    "language_info": {
      "codemirror_mode": {
        "name": "ipython",
        "version": 3
      },
      "file_extension": ".py",
      "mimetype": "text/x-python",
      "name": "python",
      "nbconvert_exporter": "python",
      "pygments_lexer": "ipython3",
      "version": "3.9.17"
    },
    "orig_nbformat": 4
  },
  "nbformat": 4,
  "nbformat_minor": 2
}
