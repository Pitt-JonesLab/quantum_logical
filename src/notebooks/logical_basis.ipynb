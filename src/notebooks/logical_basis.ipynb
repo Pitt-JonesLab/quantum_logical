{
  "cells": [
    {
      "cell_type": "code",
      "execution_count": 89,
      "metadata": {},
      "outputs": [],
      "source": [
        "# including error states\n",
        "# phase flips errors E = |-+><-+| + |+-><+-|\n",
        "# ancilla qubits (x, y) for distinguishing between the two types of errors\n",
        "\n",
        "# NOTE is this form of an Isometry valid?\n",
        "# idea is that it is simpler to leave out the error states until they are actually needed\n",
        "# basically, the no error flag qubit is implicit\n",
        "# U = |g+f, g+f><0| + |g-f, g-f><1| + |++x><+-| + |--y><-+|"
      ]
    }
  ],
  "metadata": {
    "kernelspec": {
      "display_name": ".venv",
      "language": "python",
      "name": "python3"
    },
    "language_info": {
      "codemirror_mode": {
        "name": "ipython",
        "version": 3
      },
      "file_extension": ".py",
      "mimetype": "text/x-python",
      "name": "python",
      "nbconvert_exporter": "python",
      "pygments_lexer": "ipython3",
      "version": "3.9.17"
    },
    "orig_nbformat": 4
  },
  "nbformat": 4,
  "nbformat_minor": 2
}
