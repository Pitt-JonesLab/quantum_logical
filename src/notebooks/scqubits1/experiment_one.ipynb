{
 "cells": [
  {
   "cell_type": "code",
   "execution_count": 1,
   "metadata": {},
   "outputs": [],
   "source": [
    "import numpy as np \n",
    "import qutip as qt\n",
    "import matplotlib as plt\n",
    "from quantum_logical.pulsesim.mode import QubitMode\n",
    "from quantum_logical.scqubits.modes import Modes\n",
    "from quantum_logical.scqubits.hamiltonian import Hamiltonian\n",
    "from quantum_logical.scqubits.system import System"
   ]
  },
  {
   "cell_type": "code",
   "execution_count": 2,
   "metadata": {},
   "outputs": [],
   "source": [
    "#dimensionality of the cavity \n",
    "N = 10\n",
    "\n",
    "\n",
    "qubit1 = Modes(type='qubit',Ej = 3, Ec = 1)\n",
    "qubit1.mode_build\n",
    "\n",
    "qubit2 = Modes(type='qubit',Ej = 3, Ec = 1)\n",
    "qubit2.mode_build\n",
    "\n",
    "cavity = Modes(type='cavity', E_osc=3, dim = N)\n",
    "cavity.mode_build\n",
    "\n",
    "#creating a list of the modes\n",
    "qmmodes = [qubit1, qubit2, cavity]\n",
    "\n"
   ]
  },
  {
   "cell_type": "code",
   "execution_count": 3,
   "metadata": {},
   "outputs": [
    {
     "ename": "AttributeError",
     "evalue": "'Hamiltonian' object has no attribute 'type'",
     "output_type": "error",
     "traceback": [
      "\u001b[0;31m---------------------------------------------------------------------------\u001b[0m",
      "\u001b[0;31mAttributeError\u001b[0m                            Traceback (most recent call last)",
      "Cell \u001b[0;32mIn[3], line 7\u001b[0m\n\u001b[1;32m      3\u001b[0m hamiltonian\u001b[38;5;241m.\u001b[39mhilbertspace_build\n\u001b[1;32m      5\u001b[0m \u001b[38;5;66;03m#building the hamiltonian\u001b[39;00m\n\u001b[1;32m      6\u001b[0m \u001b[38;5;66;03m#static terms \u001b[39;00m\n\u001b[0;32m----> 7\u001b[0m \u001b[43mhamiltonian\u001b[49m\u001b[38;5;241;43m.\u001b[39;49m\u001b[43mstatic\u001b[49m\u001b[43m(\u001b[49m\u001b[43m)\u001b[49m\n",
      "File \u001b[0;32m~/Desktop/Quantum_logical_updated/quantum_logical/src/quantum_logical/scqubits/hamiltonian.py:22\u001b[0m, in \u001b[0;36mHamiltonian.static\u001b[0;34m(self)\u001b[0m\n\u001b[1;32m     20\u001b[0m \u001b[38;5;28mself\u001b[39m\u001b[38;5;241m.\u001b[39mH \u001b[38;5;241m=\u001b[39m \u001b[38;5;241m0\u001b[39m\n\u001b[1;32m     21\u001b[0m \u001b[38;5;28;01mfor\u001b[39;00m i \u001b[38;5;129;01min\u001b[39;00m \u001b[38;5;28mself\u001b[39m\u001b[38;5;241m.\u001b[39mmodes:\n\u001b[0;32m---> 22\u001b[0m     \u001b[38;5;28;01mif\u001b[39;00m(\u001b[38;5;28;43mself\u001b[39;49m\u001b[38;5;241;43m.\u001b[39;49m\u001b[43mtype\u001b[49m \u001b[38;5;241m==\u001b[39m \u001b[38;5;124m'\u001b[39m\u001b[38;5;124mqubit\u001b[39m\u001b[38;5;124m'\u001b[39m):\n\u001b[1;32m     23\u001b[0m         order[i] \u001b[38;5;241m=\u001b[39m \u001b[38;5;28mself\u001b[39m\u001b[38;5;241m.\u001b[39mEj \u001b[38;5;241m*\u001b[39m scq\u001b[38;5;241m.\u001b[39mTransmon\u001b[38;5;241m.\u001b[39mn_operator\n\u001b[1;32m     24\u001b[0m     \u001b[38;5;28;01mif\u001b[39;00m(\u001b[38;5;28mself\u001b[39m\u001b[38;5;241m.\u001b[39mtype \u001b[38;5;241m==\u001b[39m \u001b[38;5;124m'\u001b[39m\u001b[38;5;124mcavity\u001b[39m\u001b[38;5;124m'\u001b[39m \u001b[38;5;129;01mor\u001b[39;00m \u001b[38;5;28mself\u001b[39m\u001b[38;5;241m.\u001b[39mtype \u001b[38;5;241m==\u001b[39m \u001b[38;5;124m'\u001b[39m\u001b[38;5;124moscillator\u001b[39m\u001b[38;5;124m'\u001b[39m):\n",
      "\u001b[0;31mAttributeError\u001b[0m: 'Hamiltonian' object has no attribute 'type'"
     ]
    }
   ],
   "source": [
    "#sending the modes to make the hamiltonian \n",
    "hamiltonian = Hamiltonian(qmmodes)\n",
    "hamiltonian.hilbertspace_build\n",
    "\n",
    "#building the hamiltonian\n",
    "#static terms \n",
    "hamiltonian.static()\n"
   ]
  },
  {
   "cell_type": "code",
   "execution_count": null,
   "metadata": {},
   "outputs": [],
   "source": []
  }
 ],
 "metadata": {
  "kernelspec": {
   "display_name": "venv",
   "language": "python",
   "name": "python3"
  },
  "language_info": {
   "codemirror_mode": {
    "name": "ipython",
    "version": 3
   },
   "file_extension": ".py",
   "mimetype": "text/x-python",
   "name": "python",
   "nbconvert_exporter": "python",
   "pygments_lexer": "ipython3",
   "version": "3.9.12"
  }
 },
 "nbformat": 4,
 "nbformat_minor": 2
}
