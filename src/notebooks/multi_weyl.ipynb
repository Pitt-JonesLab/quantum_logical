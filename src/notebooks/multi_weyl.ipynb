{
 "cells": [
  {
   "cell_type": "code",
   "execution_count": 23,
   "metadata": {},
   "outputs": [],
   "source": [
    "# ???\n",
    "# idea: multi-qubit gates formed by 2Q interactions, similar to multi-block\n",
    "# maybe a V gate is defined by 2 points at iSwap, Delta by 3 points at iSwap\n",
    "# gates can be defined by a vector of coordinates.\n",
    "# only works because there is no 3Q interaction, just multiple 2Q interactions at the same time"
   ]
  },
  {
   "cell_type": "code",
   "execution_count": 24,
   "metadata": {},
   "outputs": [],
   "source": [
    "# TODO\n",
    "# given interaction sliders\n",
    "# update colored points,\n",
    "# update ouput final matrix"
   ]
  },
  {
   "cell_type": "code",
   "execution_count": 25,
   "metadata": {},
   "outputs": [],
   "source": [
    "from abc import ABC\n",
    "from ast import Pass\n",
    "from hashlib import sha1\n",
    "\n",
    "import numpy as np\n",
    "import qutip"
   ]
  },
  {
   "cell_type": "code",
   "execution_count": 26,
   "metadata": {},
   "outputs": [],
   "source": [
    "class QubitInteraction:\n",
    "    def __init__(self, gc, gg, phi_c=0.0, phi_g=0.0):\n",
    "        self.gc = gc\n",
    "        self.gg = gg\n",
    "        self.phi_c = phi_c\n",
    "        self.phi_g = phi_g\n",
    "\n",
    "    def construct_H(self, A, B):\n",
    "        H_c = (\n",
    "            np.exp(1j * self.phi_c) * A * B.dag()\n",
    "            + np.exp(-1j * self.phi_c) * A.dag() * B\n",
    "        )\n",
    "        H_g = (\n",
    "            np.exp(1j * self.phi_g) * A * B\n",
    "            + np.exp(-1j * self.phi_g) * A.dag() * B.dag()\n",
    "        )\n",
    "        return self.gc * H_c + self.gg * H_g"
   ]
  },
  {
   "cell_type": "code",
   "execution_count": 27,
   "metadata": {},
   "outputs": [],
   "source": [
    "class Hamiltonian(ABC):\n",
    "    def _construct_U_lambda(self):\n",
    "        return lambda t: (-1j * t * self.H).expm()\n",
    "\n",
    "\n",
    "class QubitSystem(Hamiltonian):\n",
    "    def __init__(self, qubit_interactions, num_qubits):\n",
    "        self.H = 0\n",
    "        self.num_qubits = num_qubits\n",
    "\n",
    "        for qubit_interaction, qubit_pair in qubit_interactions:\n",
    "            self.H += self.construct_interaction(qubit_interaction, qubit_pair)\n",
    "\n",
    "    def construct_interaction(self, qubit_interaction, qubit_pair):\n",
    "        a = qutip.operators.create(N=2)\n",
    "\n",
    "        operators = [qutip.operators.identity(2) for _ in range(self.num_qubits)]\n",
    "        operators[qubit_pair[0]] = a\n",
    "        A = qutip.tensor(*operators)\n",
    "\n",
    "        operators = [qutip.operators.identity(2) for _ in range(self.num_qubits)]\n",
    "        operators[qubit_pair[1]] = a\n",
    "        B = qutip.tensor(*operators)\n",
    "\n",
    "        H_int = qubit_interaction.construct_H(A, B)\n",
    "        return H_int"
   ]
  },
  {
   "cell_type": "code",
   "execution_count": 28,
   "metadata": {},
   "outputs": [],
   "source": [
    "interaction = QubitInteraction(np.pi / 2, 0)\n",
    "sys = QubitSystem([(interaction, (0, 1))], 2)"
   ]
  },
  {
   "cell_type": "code",
   "execution_count": 29,
   "metadata": {},
   "outputs": [
    {
     "data": {
      "text/latex": [
       "Quantum object: dims = [[2, 2], [2, 2]], shape = (4, 4), type = oper, isherm = True $ \\\\ \\left(\\begin{matrix}0.0 & 0.0 & 0.0 & 0.0\\\\0.0 & 0.0 & 1.571 & 0.0\\\\0.0 & 1.571 & 0.0 & 0.0\\\\0.0 & 0.0 & 0.0 & 0.0\\\\\\end{matrix}\\right)$"
      ],
      "text/plain": [
       "Quantum object: dims = [[2, 2], [2, 2]], shape = (4, 4), type = oper, isherm = True\n",
       "Qobj data =\n",
       "[[0.         0.         0.         0.        ]\n",
       " [0.         0.         1.57079633 0.        ]\n",
       " [0.         1.57079633 0.         0.        ]\n",
       " [0.         0.         0.         0.        ]]"
      ]
     },
     "execution_count": 29,
     "metadata": {},
     "output_type": "execute_result"
    }
   ],
   "source": [
    "sys.H"
   ]
  },
  {
   "cell_type": "code",
   "execution_count": 30,
   "metadata": {},
   "outputs": [
    {
     "data": {
      "text/latex": [
       "Quantum object: dims = [[2, 2], [2, 2]], shape = (4, 4), type = oper, isherm = False $ \\\\ \\left(\\begin{matrix}1.0 & 0.0 & 0.0 & 0.0\\\\0.0 & 0.0 & -1.0j & 0.0\\\\0.0 & -1.0j & 0.0 & 0.0\\\\0.0 & 0.0 & 0.0 & 1.0\\\\\\end{matrix}\\right)$"
      ],
      "text/plain": [
       "Quantum object: dims = [[2, 2], [2, 2]], shape = (4, 4), type = oper, isherm = False\n",
       "Qobj data =\n",
       "[[1.+0.j 0.+0.j 0.+0.j 0.+0.j]\n",
       " [0.+0.j 0.+0.j 0.-1.j 0.+0.j]\n",
       " [0.+0.j 0.-1.j 0.+0.j 0.+0.j]\n",
       " [0.+0.j 0.+0.j 0.+0.j 1.+0.j]]"
      ]
     },
     "execution_count": 30,
     "metadata": {},
     "output_type": "execute_result"
    }
   ],
   "source": [
    "sys._construct_U_lambda()(t=1.0)"
   ]
  },
  {
   "cell_type": "code",
   "execution_count": 31,
   "metadata": {},
   "outputs": [
    {
     "ename": "ModuleNotFoundError",
     "evalue": "No module named 'networkx'",
     "output_type": "error",
     "traceback": [
      "\u001b[0;31m---------------------------------------------------------------------------\u001b[0m",
      "\u001b[0;31mModuleNotFoundError\u001b[0m                       Traceback (most recent call last)",
      "Cell \u001b[0;32mIn[31], line 1\u001b[0m\n\u001b[0;32m----> 1\u001b[0m \u001b[39mimport\u001b[39;00m \u001b[39mnetworkx\u001b[39;00m \u001b[39mas\u001b[39;00m \u001b[39mnx\u001b[39;00m\n\u001b[1;32m      2\u001b[0m \u001b[39mimport\u001b[39;00m \u001b[39mmatplotlib\u001b[39;00m\u001b[39m.\u001b[39;00m\u001b[39mpyplot\u001b[39;00m \u001b[39mas\u001b[39;00m \u001b[39mplt\u001b[39;00m\n\u001b[1;32m      3\u001b[0m \u001b[39mfrom\u001b[39;00m \u001b[39mipywidgets\u001b[39;00m \u001b[39mimport\u001b[39;00m interact\n",
      "\u001b[0;31mModuleNotFoundError\u001b[0m: No module named 'networkx'"
     ]
    }
   ],
   "source": [
    "import networkx as nx\n",
    "import matplotlib.pyplot as plt\n",
    "from ipywidgets import interact\n",
    "\n",
    "\n",
    "class ConversionGainPhaseHamiltonian(Hamiltonian):\n",
    "    # ... Existing code ...\n",
    "\n",
    "    def draw_graph(self, interactions):\n",
    "        G = nx.Graph()\n",
    "\n",
    "        for (q1, q2), _ in interactions.items():\n",
    "            G.add_edge(q1, q2, weight=1)\n",
    "\n",
    "        pos = nx.spring_layout(G)  # positions for all nodes\n",
    "        nx.draw_networkx_nodes(G, pos, node_size=500)\n",
    "        nx.draw_networkx_edges(G, pos)\n",
    "        nx.draw_networkx_edge_labels(\n",
    "            G,\n",
    "            pos,\n",
    "            edge_labels={\n",
    "                (q1, q2): f\"{w['gc']} / {w['gg']}\"\n",
    "                for (q1, q2), w in interactions.items()\n",
    "            },\n",
    "        )\n",
    "        plt.show()\n",
    "\n",
    "    def create_sliders(self, interactions):\n",
    "        @interact\n",
    "        def interact_with_parameters(**kwargs):\n",
    "            for key, value in kwargs.items():\n",
    "                qubit_pair, param = key.split(\"_\")\n",
    "                interactions[qubit_pair][param] = value\n",
    "\n",
    "            self.draw_graph(interactions)\n",
    "            self.update_hamiltonian(interactions)\n",
    "\n",
    "    def update_hamiltonian(self, interactions):\n",
    "        # Update self.H with the new interactions\n",
    "        # Recompute the unitary and other dependent quantities\n",
    "        pass\n",
    "\n",
    "    def create_interactive_environment(self, interactions):\n",
    "        sliders = {\n",
    "            f\"{qubit_pair}_{param}\": (0, 10, 0.1)\n",
    "            for qubit_pair, params in interactions.items()\n",
    "            for param in params\n",
    "        }\n",
    "        self.create_sliders(sliders)"
   ]
  }
 ],
 "metadata": {
  "kernelspec": {
   "display_name": ".venv",
   "language": "python",
   "name": "python3"
  },
  "language_info": {
   "codemirror_mode": {
    "name": "ipython",
    "version": 3
   },
   "file_extension": ".py",
   "mimetype": "text/x-python",
   "name": "python",
   "nbconvert_exporter": "python",
   "pygments_lexer": "ipython3",
   "version": "3.9.17"
  },
  "orig_nbformat": 4
 },
 "nbformat": 4,
 "nbformat_minor": 2
}
