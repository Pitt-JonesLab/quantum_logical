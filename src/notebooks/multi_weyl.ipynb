{
 "cells": [
  {
   "cell_type": "code",
   "execution_count": null,
   "metadata": {},
   "outputs": [],
   "source": [
    "# ???\n",
    "# idea: multi-qubit gates formed by 2Q interactions, similar to multi-block\n",
    "# maybe a V gate is defined by 2 points at iSwap, Delta by 3 points at iSwap\n",
    "# gates can be defined by a vector of coordinates.\n",
    "# only works because there is no 3Q interaction, just multiple 2Q interactions at the same time"
   ]
  },
  {
   "cell_type": "code",
   "execution_count": null,
   "metadata": {},
   "outputs": [],
   "source": [
    "# TODO\n",
    "# given interaction sliders\n",
    "# update colored points,\n",
    "# update ouput final matrix"
   ]
  }
 ],
 "metadata": {
  "language_info": {
   "name": "python"
  },
  "orig_nbformat": 4
 },
 "nbformat": 4,
 "nbformat_minor": 2
}
