{
  "cells": [
    {
      "cell_type": "code",
      "execution_count": 200,
      "metadata": {},
      "outputs": [],
      "source": [
        "from qutip import sigmax, sigmay, destroy, tensor, qeye, sigmaz\n",
        "import numpy as np\n",
        "from weylchamber import c1c2c3\n",
        "import matplotlib.pyplot as plt\n",
        "\n",
        "a = tensor(destroy(2), qeye(2))\n",
        "b = tensor(qeye(2), destroy(2))\n",
        "xx = tensor(sigmax(), sigmax())\n",
        "yy = tensor(sigmay(), sigmay())\n",
        "zz = tensor(sigmaz(), sigmaz())\n",
        "iz = tensor(qeye(2), sigmaz())\n",
        "zi = tensor(sigmaz(), qeye(2))\n",
        "ix = tensor(qeye(2), sigmax())\n",
        "xi = tensor(sigmax(), qeye(2))\n",
        "\n",
        "# stark shift term, (1/2) * (qeye(2) + -1 * (sigmaz()))"
      ]
    },
    {
      "cell_type": "code",
      "execution_count": 201,
      "metadata": {},
      "outputs": [],
      "source": [
        "def H(c, g):\n",
        "    # Heff = 1 / 2 * (c + g) * xx + 1 / 2 * (c - g) * yy\n",
        "    # q1_stark_shift = c * np.pi / 2\n",
        "    # q2_stark_shift = c * np.pi / 2\n",
        "    # Heff += q1_stark_shift * (a.dag() * a)\n",
        "    # Heff += q2_stark_shift * (b.dag() * b)\n",
        "    # return Heff\n",
        "    return np.pi / 2 * (a.dag() * b + a * b.dag()) + (np.pi / 8 * ix) + (np.pi / 8 * xi)\n",
        "\n",
        "\n",
        "Heff = H(np.pi / 2, 0)"
      ]
    },
    {
      "cell_type": "code",
      "execution_count": 202,
      "metadata": {},
      "outputs": [],
      "source": [
        "def flow_c(t, c, g):\n",
        "    Heff = H(c, g)\n",
        "    Ueff = (-1j * Heff * t).expm()\n",
        "    c1, c2, c3 = c1c2c3(Ueff)\n",
        "    return c1, c2, c3\n",
        "\n",
        "\n",
        "def flow_g(t, c, g):\n",
        "    g1 = 1 / 4 * (np.cos(2 * c * t) + np.cos(2 * g * t)) ** 2\n",
        "    g2 = 1 + np.cos(2 * (c - g) * t) + np.cos(2 * (c + g) * t)\n",
        "    return g1, g2"
      ]
    },
    {
      "cell_type": "code",
      "execution_count": 203,
      "metadata": {},
      "outputs": [],
      "source": [
        "c_values = np.array([np.pi / 2])  # , np.pi / 4, 3 * np.pi / 8])\n",
        "g_values = np.array([0])  # , np.pi / 4, np.pi / 8])\n",
        "t_max = np.pi"
      ]
    },
    {
      "cell_type": "code",
      "execution_count": 204,
      "metadata": {},
      "outputs": [
        {
          "data": {
            "image/png": "[encoded data removed]",
            "text/plain": [
              "<Figure size 640x480 with 1 Axes>"
            ]
          },
          "metadata": {},
          "output_type": "display_data"
        }
      ],
      "source": [
        "# Set up the figure and axes\n",
        "fig, axes = plt.subplots(1, 1)\n",
        "\n",
        "for idx, (c, g) in enumerate(zip(c_values, g_values)):\n",
        "    ax = axes  # Get the correct subplot\n",
        "    t = np.linspace(0, t_max, 300)\n",
        "    c1_vals, c2_vals = [], []\n",
        "\n",
        "    for time in t:\n",
        "        c1, c2, c3 = flow_c(time, c, g)\n",
        "        # enforce symmetry\n",
        "        # c1 = 1 - c1 if c1 > 0.5 else c1\n",
        "        c1_vals.append(c1)\n",
        "        c2_vals.append(c2)\n",
        "\n",
        "    # Plot the flow for c1 vs c2\n",
        "    # ax.plot(c1_vals, c2_vals, color=\"black\", linewidth=1)\n",
        "    # color the flow based on time\n",
        "    ax.scatter(c1_vals, c2_vals, c=t, cmap=\"viridis\", s=1)\n",
        "\n",
        "    # Set titles and labels to match the example\n",
        "    ax.set_xlabel(r\"$c_1$\")\n",
        "    ax.set_ylabel(r\"$c_2$\")\n",
        "    ax.set_xlim([0, 1])\n",
        "    ax.set_ylim([0, 0.5])\n",
        "    ax.grid(True)\n",
        "    # set num ticks, 5 total on each axis\n",
        "    ax.set_xticks(np.linspace(0, 1, 5))\n",
        "    ax.set_yticks(np.linspace(0, 0.5, 5))\n",
        "\n",
        "    # set axes to be equal length\n",
        "    ax.set_aspect(\"equal\")\n",
        "\n",
        "# Final adjustments to the layout\n",
        "plt.tight_layout()\n",
        "plt.show()"
      ]
    },
    {
      "cell_type": "code",
      "execution_count": 205,
      "metadata": {},
      "outputs": [
        {
          "data": {
            "text/latex": [
              "Quantum object: dims=[[2, 2], [2, 2]], shape=(4, 4), type='oper', dtype=Dense, isherm=False$$\\left(\\begin{array}{cc}1 & 0 & 0 & 0\\\\0 & 0 & -1j & 0\\\\0 & -1j & 0 & 0\\\\0 & 0 & 0 & 1\\end{array}\\right)$$"
            ],
            "text/plain": [
              "Quantum object: dims=[[2, 2], [2, 2]], shape=(4, 4), type='oper', dtype=Dense, isherm=False\n",
              "Qobj data =\n",
              "[[1.+0.j 0.+0.j 0.+0.j 0.+0.j]\n",
              " [0.+0.j 0.+0.j 0.-1.j 0.+0.j]\n",
              " [0.+0.j 0.-1.j 0.+0.j 0.+0.j]\n",
              " [0.+0.j 0.+0.j 0.+0.j 1.+0.j]]"
            ]
          },
          "execution_count": 205,
          "metadata": {},
          "output_type": "execute_result"
        }
      ],
      "source": [
        "H = np.pi / 2 * (a.dag() * b + a * b.dag())\n",
        "U = (-1j * H).expm()\n",
        "U"
      ]
    },
    {
      "cell_type": "code",
      "execution_count": 206,
      "metadata": {},
      "outputs": [
        {
          "name": "stdout",
          "output_type": "stream",
          "text": [
            "(0.5, 0.46841569, 0.03158431)\n"
          ]
        },
        {
          "data": {
            "text/latex": [
              "Quantum object: dims=[[2, 2], [2, 2]], shape=(4, 4), type='oper', dtype=Dense, isherm=False$$\\left(\\begin{array}{cc}(0.881+0.067j) & (-0.224-0.224j) & (-0.224-0.224j) & (-0.119+0.067j)\\\\(-0.224-0.224j) & (-0.067+0.119j) & (-0.067-0.881j) & (-0.224-0.224j)\\\\(-0.224-0.224j) & (-0.067-0.881j) & (-0.067+0.119j) & (-0.224-0.224j)\\\\(-0.119+0.067j) & (-0.224-0.224j) & (-0.224-0.224j) & (0.881+0.067j)\\end{array}\\right)$$"
            ],
            "text/plain": [
              "Quantum object: dims=[[2, 2], [2, 2]], shape=(4, 4), type='oper', dtype=Dense, isherm=False\n",
              "Qobj data =\n",
              "[[ 0.88098804+0.06702143j -0.22400473-0.22400473j -0.22400473-0.22400473j\n",
              "  -0.11901196+0.06702143j]\n",
              " [-0.22400473-0.22400473j -0.06702143+0.11901196j -0.06702143-0.88098804j\n",
              "  -0.22400473-0.22400473j]\n",
              " [-0.22400473-0.22400473j -0.06702143-0.88098804j -0.06702143+0.11901196j\n",
              "  -0.22400473-0.22400473j]\n",
              " [-0.11901196+0.06702143j -0.22400473-0.22400473j -0.22400473-0.22400473j\n",
              "   0.88098804+0.06702143j]]"
            ]
          },
          "execution_count": 206,
          "metadata": {},
          "output_type": "execute_result"
        }
      ],
      "source": [
        "H = np.pi / 2 * (a.dag() * b + a * b.dag()) + (np.pi / 8 * iz) + (np.pi / 8 * zi)\n",
        "H = np.pi / 2 * (a.dag() * b + a * b.dag()) + (np.pi / 8 * ix) + (np.pi / 8 * xi)\n",
        "\n",
        "U = (-1j * H).expm()\n",
        "print(c1c2c3(U))\n",
        "U"
      ]
    },
    {
      "cell_type": "code",
      "execution_count": 230,
      "metadata": {},
      "outputs": [
        {
          "name": "stdout",
          "output_type": "stream",
          "text": [
            "(0.0, 0.0, 0.0)\n"
          ]
        },
        {
          "data": {
            "text/latex": [
              "Quantum object: dims=[[2, 2], [2, 2]], shape=(4, 4), type='oper', dtype=Dense, isherm=True$$\\left(\\begin{array}{cc}1 & 0 & 0 & 0\\\\0 & 1.031 & 0.253j & 0\\\\0 & -0.253j & 1.031 & 0\\\\0 & 0 & 0 & 1\\end{array}\\right)$$"
            ],
            "text/plain": [
              "Quantum object: dims=[[2, 2], [2, 2]], shape=(4, 4), type='oper', dtype=Dense, isherm=True\n",
              "Qobj data =\n",
              "[[1.       +0.j         0.       +0.j         0.       +0.j\n",
              "  0.       +0.j        ]\n",
              " [0.       +0.j         1.0314131+0.j         0.       +0.25261232j\n",
              "  0.       +0.j        ]\n",
              " [0.       +0.j         0.       -0.25261232j 1.0314131+0.j\n",
              "  0.       +0.j        ]\n",
              " [0.       +0.j         0.       +0.j         0.       +0.j\n",
              "  1.       +0.j        ]]"
            ]
          },
          "execution_count": 230,
          "metadata": {},
          "output_type": "execute_result"
        }
      ],
      "source": [
        "from qutip import commutator\n",
        "\n",
        "comm1 = (iz + 0.5 * zi) / 4\n",
        "comm2 = (xx + yy) / 2\n",
        "Uerr = (-1j * commutator(comm1, comm2)).expm()\n",
        "print(c1c2c3(Uerr))\n",
        "Uerr"
      ]
    }
  ],
  "metadata": {
    "kernelspec": {
      "display_name": ".venv",
      "language": "python",
      "name": "python3"
    },
    "language_info": {
      "codemirror_mode": {
        "name": "ipython",
        "version": 3
      },
      "file_extension": ".py",
      "mimetype": "text/x-python",
      "name": "python",
      "nbconvert_exporter": "python",
      "pygments_lexer": "ipython3",
      "version": "3.11.4"
    }
  },
  "nbformat": 4,
  "nbformat_minor": 2
}
