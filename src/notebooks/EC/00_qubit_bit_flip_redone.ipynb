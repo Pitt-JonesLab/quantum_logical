{
 "cells": [
  {
   "cell_type": "code",
   "execution_count": 1,
   "metadata": {},
   "outputs": [],
   "source": [
    "from qutip import *\n",
    "import qutip as qt\n",
    "import numpy as np\n",
    "import matplotlib.pyplot as plt\n",
    "from quantum_logical.channel import AmplitudeDamping, PhaseDamping\n",
    "from quantum_logical.trotter import TrotterGroup\n",
    "from tqdm import tqdm\n",
    "from quantum_logical.operators import selective_destroy\n",
    "from scipy.optimize import curve_fit"
   ]
  },
  {
   "attachments": {},
   "cell_type": "markdown",
   "metadata": {},
   "source": [
    "<p align=\"center\"><img src = \"https://i.sstatic.net/mbg8X.jpg\">"
   ]
  },
  {
   "cell_type": "code",
   "execution_count": 2,
   "metadata": {},
   "outputs": [],
   "source": [
    "# generating parameters and creating initial state\n",
    "T1 = 40000\n",
    "T2 = 20000\n",
    "N = 5\n",
    "dim = 2\n",
    "trotter_dt = .02\n",
    "psi0 = qt.tensor((qt.basis(dim, 1)).unit(), qt.basis(dim, 0), qt.basis(dim, 0), qt.basis(dim, 0), qt.basis(dim, 0))\n",
    "# psi0 = qt.basis(dim, 1)\n",
    "rho0 = psi0 * psi0.dag()\n",
    "amp_damp_channel = AmplitudeDamping(T1, num_qubits=N, hilbert_space_dim=dim)\n",
    "phase_damp_channel = PhaseDamping(T1, T2, num_qubits=N, hilbert_space_dim=dim)\n",
    "trotter = TrotterGroup(\n",
    "    continuous_operators=[amp_damp_channel, phase_damp_channel],\n",
    "    trotter_dt=trotter_dt,\n",
    ")\n",
    "\n",
    "\n",
    "# qt.Qobj(amp_damp_channel._create_single_qubit_operators(T1=1)[1])\n",
    "# identity = qt.qeye(dim ** N)"
   ]
  },
  {
   "cell_type": "code",
   "execution_count": 3,
   "metadata": {},
   "outputs": [
    {
     "name": "stderr",
     "output_type": "stream",
     "text": [
      "/var/folders/nc/8sqqbv456mdfx096ks86vy8m0000gn/T/ipykernel_31944/2987813776.py:2: DeprecationWarning: Importing functions/classes of the qip submodule directly from the namespace qutip is deprecated. Please import them from the submodule instead, e.g.\n",
      "from qutip.qip.operations import cnot\n",
      "from qutip.qip.circuit import QubitCircuit\n",
      "\n",
      "  cnot1 = qt.cnot(N=5, control=0, target=1)\n",
      "/var/folders/nc/8sqqbv456mdfx096ks86vy8m0000gn/T/ipykernel_31944/2987813776.py:3: DeprecationWarning: Importing functions/classes of the qip submodule directly from the namespace qutip is deprecated. Please import them from the submodule instead, e.g.\n",
      "from qutip.qip.operations import cnot\n",
      "from qutip.qip.circuit import QubitCircuit\n",
      "\n",
      "  cnot2 = qt.cnot(N=5, control=0, target=2)\n",
      "/var/folders/nc/8sqqbv456mdfx096ks86vy8m0000gn/T/ipykernel_31944/2987813776.py:5: DeprecationWarning: Importing functions/classes of the qip submodule directly from the namespace qutip is deprecated. Please import them from the submodule instead, e.g.\n",
      "from qutip.qip.operations import cnot\n",
      "from qutip.qip.circuit import QubitCircuit\n",
      "\n",
      "  cnot3 = qt.cnot(N=5, control=0, target=3)\n",
      "/var/folders/nc/8sqqbv456mdfx096ks86vy8m0000gn/T/ipykernel_31944/2987813776.py:6: DeprecationWarning: Importing functions/classes of the qip submodule directly from the namespace qutip is deprecated. Please import them from the submodule instead, e.g.\n",
      "from qutip.qip.operations import cnot\n",
      "from qutip.qip.circuit import QubitCircuit\n",
      "\n",
      "  cnot4 = qt.cnot(N=5, control=1, target=3)\n",
      "/var/folders/nc/8sqqbv456mdfx096ks86vy8m0000gn/T/ipykernel_31944/2987813776.py:8: DeprecationWarning: Importing functions/classes of the qip submodule directly from the namespace qutip is deprecated. Please import them from the submodule instead, e.g.\n",
      "from qutip.qip.operations import cnot\n",
      "from qutip.qip.circuit import QubitCircuit\n",
      "\n",
      "  cnot5 = qt.cnot(N=5, control=1, target=4)\n",
      "/var/folders/nc/8sqqbv456mdfx096ks86vy8m0000gn/T/ipykernel_31944/2987813776.py:9: DeprecationWarning: Importing functions/classes of the qip submodule directly from the namespace qutip is deprecated. Please import them from the submodule instead, e.g.\n",
      "from qutip.qip.operations import cnot\n",
      "from qutip.qip.circuit import QubitCircuit\n",
      "\n",
      "  cnot6 = qt.cnot(N=5, control=2, target=4)\n"
     ]
    }
   ],
   "source": [
    "# creating the set of cnots\n",
    "cnot1 = qt.cnot(N=5, control=0, target=1)\n",
    "cnot2 = qt.cnot(N=5, control=0, target=2)\n",
    "\n",
    "cnot3 = qt.cnot(N=5, control=0, target=3)\n",
    "cnot4 = qt.cnot(N=5, control=1, target=3)\n",
    "\n",
    "cnot5 = qt.cnot(N=5, control=1, target=4)\n",
    "cnot6 = qt.cnot(N=5, control=2, target=4)\n",
    "\n",
    "x_gate = qt.Qobj([[0, 1],[1, 0]])\n"
   ]
  },
  {
   "cell_type": "code",
   "execution_count": 4,
   "metadata": {},
   "outputs": [
    {
     "data": {
      "text/latex": [
       "Quantum object: dims = [[2, 2, 2], [2, 2, 2]], shape = (8, 8), type = oper, isherm = True $ \\\\ \\left(\\begin{matrix}0.0 & 0.0 & 0.0 & 0.0 & 0.0 & 0.0 & 0.0 & 0.0\\\\0.0 & 0.0 & 0.0 & 0.0 & 0.0 & 0.0 & 0.0 & 0.0\\\\0.0 & 0.0 & 0.0 & 0.0 & 0.0 & 0.0 & 0.0 & 0.0\\\\0.0 & 0.0 & 0.0 & 0.0 & 0.0 & 0.0 & 0.0 & 0.0\\\\0.0 & 0.0 & 0.0 & 0.0 & 0.0 & 0.0 & 0.0 & 0.0\\\\0.0 & 0.0 & 0.0 & 0.0 & 0.0 & 0.0 & 0.0 & 0.0\\\\0.0 & 0.0 & 0.0 & 0.0 & 0.0 & 0.0 & 0.0 & 0.0\\\\0.0 & 0.0 & 0.0 & 0.0 & 0.0 & 0.0 & 0.0 & 1.0\\\\\\end{matrix}\\right)$"
      ],
      "text/plain": [
       "Quantum object: dims = [[2, 2, 2], [2, 2, 2]], shape = (8, 8), type = oper, isherm = True\n",
       "Qobj data =\n",
       "[[0. 0. 0. 0. 0. 0. 0. 0.]\n",
       " [0. 0. 0. 0. 0. 0. 0. 0.]\n",
       " [0. 0. 0. 0. 0. 0. 0. 0.]\n",
       " [0. 0. 0. 0. 0. 0. 0. 0.]\n",
       " [0. 0. 0. 0. 0. 0. 0. 0.]\n",
       " [0. 0. 0. 0. 0. 0. 0. 0.]\n",
       " [0. 0. 0. 0. 0. 0. 0. 0.]\n",
       " [0. 0. 0. 0. 0. 0. 0. 1.]]"
      ]
     },
     "execution_count": 4,
     "metadata": {},
     "output_type": "execute_result"
    }
   ],
   "source": [
    "# creating the initial state and encoding it \n",
    "psi0 = qt.tensor(qt.basis(dim, 1), qt.basis(dim, 0), qt.basis(dim, 0), qt.basis(dim, 0), qt.basis(dim, 0))\n",
    "rho0 = psi0 * psi0.dag()\n",
    "rho_encoded = cnot2 * cnot1 * rho0 * cnot1.dag() * cnot2.dag()\n",
    "# trace out the ancillas to get the true result\n",
    "rho_encoded_traced = qt.ptrace(rho_encoded, [0, 1, 2])\n",
    "# the correct initial state has been prepared \n",
    "rho_encoded_traced "
   ]
  },
  {
   "cell_type": "code",
   "execution_count": 5,
   "metadata": {},
   "outputs": [],
   "source": [
    "# store the states and the fidelities that come out\n",
    "states = []\n",
    "fids = []"
   ]
  },
  {
   "cell_type": "code",
   "execution_count": 6,
   "metadata": {},
   "outputs": [],
   "source": [
    "# run the circuit \n",
    "initial_time = 10\n",
    "initial_state_relax = trotter.apply(rho_encoded, duration=initial_time, discrete_unitary=qt.qeye(dim ** N))\n",
    "states.extend(initial_state_relax)\n",
    "fids.append(qt.fidelity(qt.ptrace(initial_state_relax[-1], [0, 1, 2]), rho_encoded_traced))\n",
    "\n",
    "# now apply the cnots to the circuit \n",
    "cnot_gate_overall = cnot6 * cnot5 * cnot4 * cnot3\n",
    "\n",
    "syndrome_time = 40\n",
    "after_syndrome_extraction = trotter.apply(initial_state_relax[-1], duration= syndrome_time, discrete_unitary=cnot_gate_overall)\n",
    "states.extend(after_syndrome_extraction)\n",
    "fids.append(qt.fidelity(qt.ptrace(after_syndrome_extraction[-1], [0, 1, 2]), rho_encoded_traced))\n"
   ]
  },
  {
   "cell_type": "code",
   "execution_count": 7,
   "metadata": {},
   "outputs": [],
   "source": [
    "r00 = qt.tensor(qt.qeye(dim ** N))\n",
    "r01 = qt.Qobj((qt.tensor(qt.qeye(dim), x_gate, qt.qeye(dim ** 3))).full())\n",
    "r10 = qt.Qobj((qt.tensor(x_gate, qt.qeye(dim ** 4))).full())\n",
    "r11 = qt.Qobj((qt.tensor(qt.qeye(dim), qt.qeye(dim), x_gate, qt.qeye(dim ** 2))).full())"
   ]
  },
  {
   "cell_type": "code",
   "execution_count": 8,
   "metadata": {},
   "outputs": [],
   "source": [
    "# recovery algorithm\n",
    "correction_op = (r00 * qt.Qobj(qt.tensor(qt.qeye(dim), qt.qeye(dim), qt.qeye(dim), (qt.tensor(qt.basis(dim, 0), qt.basis(dim, 0)) * (qt.tensor(qt.basis(dim, 0), qt.basis(dim, 0))).dag())).full()) +\n",
    "                 r01 * qt.Qobj(qt.tensor(qt.qeye(dim), qt.qeye(dim), qt.qeye(dim), (qt.tensor(qt.basis(dim, 0), qt.basis(dim, 1)) * (qt.tensor(qt.basis(dim, 0), qt.basis(dim, 1))).dag())).full()) +\n",
    "                 r10 * qt.Qobj(qt.tensor(qt.qeye(dim), qt.qeye(dim), qt.qeye(dim), (qt.tensor(qt.basis(dim, 1), qt.basis(dim, 0)) * (qt.tensor(qt.basis(dim, 1), qt.basis(dim, 0))).dag())).full()) +\n",
    "                 r11 * qt.Qobj(qt.tensor(qt.qeye(dim), qt.qeye(dim), qt.qeye(dim), (qt.tensor(qt.basis(dim, 1), qt.basis(dim, 1)) * (qt.tensor(qt.basis(dim, 1), qt.basis(dim, 1))).dag())).full())\n",
    ")\n",
    "\n",
    "measurement_dur = .02\n",
    "# measurement = trotter.apply(final_state, duration=measurement_dur, discrete_unitary=qt.qeye(dim ** N))\n",
    "measurement = trotter.apply(after_syndrome_extraction[-1], duration=measurement_dur, discrete_unitary=correction_op)\n",
    "states.extend(measurement)\n",
    "fids.append(qt.fidelity(qt.ptrace(measurement[-1], [0, 1, 2]), rho_encoded_traced))"
   ]
  },
  {
   "cell_type": "code",
   "execution_count": 9,
   "metadata": {},
   "outputs": [],
   "source": [
    "# final relaxation cycle\n",
    "relaxation_time = 10\n",
    "relaxation = trotter.apply(measurement[-1], duration=relaxation_time, discrete_unitary=qt.qeye(dim ** N))\n",
    "states.extend(relaxation)\n",
    "fids.append(qt.fidelity(qt.ptrace(relaxation[-1], [0, 1, 2]), rho_encoded_traced))"
   ]
  },
  {
   "cell_type": "code",
   "execution_count": 10,
   "metadata": {},
   "outputs": [],
   "source": [
    "total_cirquit_duration = initial_time + syndrome_time + relaxation_time + measurement_dur\n",
    "time_list = np.linspace(0, total_cirquit_duration, len(states))"
   ]
  },
  {
   "cell_type": "code",
   "execution_count": 11,
   "metadata": {},
   "outputs": [],
   "source": [
    "# trace out the ancillas\n",
    "state_sim = []\n",
    "for i in range(len(states)):\n",
    "    state_sim.append(qt.ptrace(states[i], [0, 1, 2]))\n"
   ]
  },
  {
   "cell_type": "code",
   "execution_count": 12,
   "metadata": {},
   "outputs": [
    {
     "data": {
      "text/latex": [
       "Quantum object: dims = [[2, 2, 2], [2, 2, 2]], shape = (8, 8), type = oper, isherm = True $ \\\\ \\left(\\begin{matrix}0.0 & 0.0 & 0.0 & 0.0 & 0.0 & 0.0 & 0.0 & 0.0\\\\0.0 & 0.0 & 0.0 & 0.0 & 0.0 & 0.0 & 0.0 & 0.0\\\\0.0 & 0.0 & 0.0 & 0.0 & 0.0 & 0.0 & 0.0 & 0.0\\\\0.0 & 0.0 & 0.0 & 1.000\\times10^{-07} & 0.0 & 0.0 & 0.0 & 0.0\\\\0.0 & 0.0 & 0.0 & 0.0 & 0.0 & 0.0 & 0.0 & 0.0\\\\0.0 & 0.0 & 0.0 & 0.0 & 0.0 & 1.000\\times10^{-07} & 0.0 & 0.0\\\\0.0 & 0.0 & 0.0 & 0.0 & 0.0 & 0.0 & 1.000\\times10^{-07} & 0.0\\\\0.0 & 0.0 & 0.0 & 0.0 & 0.0 & 0.0 & 0.0 & 1.000\\\\\\end{matrix}\\right)$"
      ],
      "text/plain": [
       "Quantum object: dims = [[2, 2, 2], [2, 2, 2]], shape = (8, 8), type = oper, isherm = True\n",
       "Qobj data =\n",
       "[[0.0000000e+00 0.0000000e+00 0.0000000e+00 0.0000000e+00 0.0000000e+00\n",
       "  0.0000000e+00 0.0000000e+00 0.0000000e+00]\n",
       " [0.0000000e+00 0.0000000e+00 0.0000000e+00 0.0000000e+00 0.0000000e+00\n",
       "  0.0000000e+00 0.0000000e+00 0.0000000e+00]\n",
       " [0.0000000e+00 0.0000000e+00 0.0000000e+00 0.0000000e+00 0.0000000e+00\n",
       "  0.0000000e+00 0.0000000e+00 0.0000000e+00]\n",
       " [0.0000000e+00 0.0000000e+00 0.0000000e+00 9.9999975e-08 0.0000000e+00\n",
       "  0.0000000e+00 0.0000000e+00 0.0000000e+00]\n",
       " [0.0000000e+00 0.0000000e+00 0.0000000e+00 0.0000000e+00 0.0000000e+00\n",
       "  0.0000000e+00 0.0000000e+00 0.0000000e+00]\n",
       " [0.0000000e+00 0.0000000e+00 0.0000000e+00 0.0000000e+00 0.0000000e+00\n",
       "  9.9999975e-08 0.0000000e+00 0.0000000e+00]\n",
       " [0.0000000e+00 0.0000000e+00 0.0000000e+00 0.0000000e+00 0.0000000e+00\n",
       "  0.0000000e+00 9.9999975e-08 0.0000000e+00]\n",
       " [0.0000000e+00 0.0000000e+00 0.0000000e+00 0.0000000e+00 0.0000000e+00\n",
       "  0.0000000e+00 0.0000000e+00 9.9999970e-01]]"
      ]
     },
     "execution_count": 12,
     "metadata": {},
     "output_type": "execute_result"
    }
   ],
   "source": [
    "state_sim[0]"
   ]
  },
  {
   "cell_type": "code",
   "execution_count": 13,
   "metadata": {},
   "outputs": [
    {
     "data": {
      "image/png": "[encoded data removed]",
      "text/plain": [
       "<Figure size 640x480 with 1 Axes>"
      ]
     },
     "metadata": {},
     "output_type": "display_data"
    }
   ],
   "source": [
    "# plot\n",
    "fig, ax = plt.subplots()\n",
    "for i in range(dim ** 3):\n",
    "    datas = []\n",
    "    for j in range(len(states)):\n",
    "        # print(np.real(states[j][i, i]))\n",
    "        datas.append(np.real(state_sim[j][i, i]))  \n",
    "    ax.plot(time_list, datas)\n",
    "# datas = []\n",
    "# for i in range(len(states)- 12000):\n",
    "#     print(np.real(states[i][0, 0])) \n",
    "#     datas.append(np.real(states[i][0, 0]))\n",
    "\n",
    "# ax.plot(time_list[0:38032], datas)"
   ]
  },
  {
   "cell_type": "code",
   "execution_count": 14,
   "metadata": {},
   "outputs": [
    {
     "data": {
      "text/plain": [
       "[<matplotlib.lines.Line2D at 0x167987760>]"
      ]
     },
     "execution_count": 14,
     "metadata": {},
     "output_type": "execute_result"
    },
    {
     "data": {
      "image/png": "[encoded data removed]",
      "text/plain": [
       "<Figure size 640x480 with 1 Axes>"
      ]
     },
     "metadata": {},
     "output_type": "display_data"
    }
   ],
   "source": [
    "# label these plots with the states\n",
    "fig, ax = plt.subplots()\n",
    "datas = []\n",
    "for j in range(len(state_sim)):\n",
    "    # print(np.real(states[j][i, i]))\n",
    "    datas.append(np.real(state_sim[j][7, 7]))    \n",
    "ax.plot(time_list, datas)"
   ]
  },
  {
   "cell_type": "code",
   "execution_count": 15,
   "metadata": {},
   "outputs": [
    {
     "data": {
      "text/plain": [
       "[0.999925002819937, 0.9996250703412993, 0.9996999276597099, 0.9996249529842262]"
      ]
     },
     "execution_count": 15,
     "metadata": {},
     "output_type": "execute_result"
    }
   ],
   "source": [
    "fids"
   ]
  },
  {
   "attachments": {},
   "cell_type": "markdown",
   "metadata": {},
   "source": [
    "## The top of this confirms the qubit bit flip code <br />\n",
    "## give different setups and report that "
   ]
  },
  {
   "cell_type": "code",
   "execution_count": 16,
   "metadata": {},
   "outputs": [],
   "source": [
    "def stabilizer(initial_state, rho_encoded_original, time_list):\n",
    "    fid_list = []\n",
    "    state_list = []\n",
    "    \n",
    "\n",
    "    # initialization and syndrome detection\n",
    "    initial_time = time_list[0]\n",
    "    initial_state_relax = trotter.apply(initial_state, duration=initial_time, discrete_unitary=qt.qeye(dim ** N))\n",
    "    state_list.extend(initial_state_relax)\n",
    "    fid_list.append(qt.fidelity(qt.ptrace(initial_state_relax[-1], [0, 1, 2]), rho_encoded_original))\n",
    "\n",
    "    # now apply the cnots to the circuit \n",
    "    cnot_gate_overall = cnot6 * cnot5 * cnot4 * cnot3\n",
    "\n",
    "    syndrome_time = time_list[1]\n",
    "    after_syndrome_extraction = trotter.apply(initial_state_relax[-1], duration= syndrome_time, discrete_unitary=cnot_gate_overall)\n",
    "    state_list.extend(after_syndrome_extraction)\n",
    "    fid_list.append(qt.fidelity(qt.ptrace(after_syndrome_extraction[-1], [0, 1, 2]), rho_encoded_original))\n",
    "\n",
    "    # measurement and correction\n",
    "    # recovery gates \n",
    "    r00 = qt.tensor(qt.qeye(dim ** N))\n",
    "    r01 = qt.Qobj((qt.tensor(qt.qeye(dim), x_gate, qt.qeye(dim ** 3))).full())\n",
    "    r10 = qt.Qobj((qt.tensor(x_gate, qt.qeye(dim ** 4))).full())\n",
    "    r11 = qt.Qobj((qt.tensor(qt.qeye(dim), qt.qeye(dim), x_gate, qt.qeye(dim ** 2))).full())\n",
    "\n",
    "    \n",
    "    # recovery algorithm\n",
    "    correction_op = (r00 * qt.Qobj(qt.tensor(qt.qeye(dim), qt.qeye(dim), qt.qeye(dim), (qt.tensor(qt.basis(dim, 0), qt.basis(dim, 0)) * (qt.tensor(qt.basis(dim, 0), qt.basis(dim, 0))).dag())).full()) +\n",
    "                    r01 * qt.Qobj(qt.tensor(qt.qeye(dim), qt.qeye(dim), qt.qeye(dim), (qt.tensor(qt.basis(dim, 0), qt.basis(dim, 1)) * (qt.tensor(qt.basis(dim, 0), qt.basis(dim, 1))).dag())).full()) +\n",
    "                    r10 * qt.Qobj(qt.tensor(qt.qeye(dim), qt.qeye(dim), qt.qeye(dim), (qt.tensor(qt.basis(dim, 1), qt.basis(dim, 0)) * (qt.tensor(qt.basis(dim, 1), qt.basis(dim, 0))).dag())).full()) +\n",
    "                    r11 * qt.Qobj(qt.tensor(qt.qeye(dim), qt.qeye(dim), qt.qeye(dim), (qt.tensor(qt.basis(dim, 1), qt.basis(dim, 1)) * (qt.tensor(qt.basis(dim, 1), qt.basis(dim, 1))).dag())).full())\n",
    "    )\n",
    "\n",
    "    measurement_dur = time_list[2]\n",
    "    # measurement = trotter.apply(final_state, duration=measurement_dur, discrete_unitary=qt.qeye(dim ** N))\n",
    "    measurement = trotter.apply(after_syndrome_extraction[-1], duration=measurement_dur, discrete_unitary=correction_op)\n",
    "    state_list.extend(measurement)\n",
    "    fid_list.append(qt.fidelity(qt.ptrace(measurement[-1], [0, 1, 2]), rho_encoded_original))\n",
    "\n",
    "    # final relaxation of cycle \n",
    "    relaxation_time = time_list[3]\n",
    "    relaxation = trotter.apply(measurement[-1], duration=relaxation_time, discrete_unitary=qt.qeye(dim ** N))\n",
    "    state_list.extend(relaxation)\n",
    "    fid_list.append(qt.fidelity(qt.ptrace(relaxation[-1], [0, 1, 2]), rho_encoded_original))\n",
    "\n",
    "    return state_list, fid_list\n",
    "\n",
    "    "
   ]
  },
  {
   "cell_type": "code",
   "execution_count": 17,
   "metadata": {},
   "outputs": [],
   "source": [
    "time_list = [5, 40, .02, 5] # [initialize relaxation, syndrome detection, measurement and recovery, final relaxation]\n",
    "\n",
    "result_states = []\n",
    "result_fids = []\n",
    "\n",
    "# doing stabilizers for multiple iterations\n",
    "iterations = 300\n",
    "iter_list = [] # for graphing purposes \n",
    "\n",
    "# building the data\n",
    "for i in range(iterations):\n",
    "    iter_list.append(i)\n",
    "    a, b = stabilizer(initial_state=rho_encoded, rho_encoded_original=rho_encoded_traced, time_list=time_list)\n",
    "    result_states.extend(a)\n",
    "    result_fids.extend(b)\n",
    "    rho_encoded = result_states[-1]\n"
   ]
  },
  {
   "cell_type": "code",
   "execution_count": 18,
   "metadata": {},
   "outputs": [],
   "source": [
    "# create the list of time for the amount of iterations\n",
    "total_time = iterations * sum(time_list)\n",
    "\n",
    "time_plot = np.linspace(0, total_time, len(result_states))"
   ]
  },
  {
   "cell_type": "code",
   "execution_count": 19,
   "metadata": {},
   "outputs": [],
   "source": [
    "# analyze the data\n",
    "plotted_fids = []\n",
    "for i in range(int(len(result_fids) / 4)):\n",
    "    plotted_fids.append(result_fids[i * 4 + 3])    \n"
   ]
  },
  {
   "cell_type": "code",
   "execution_count": 20,
   "metadata": {},
   "outputs": [],
   "source": [
    "# trace out the ancillas\n",
    "state_sim = []\n",
    "for i in range(len(result_states)):\n",
    "    state_sim.append(qt.ptrace(result_states[i], [0, 1, 2]))"
   ]
  },
  {
   "cell_type": "code",
   "execution_count": 21,
   "metadata": {},
   "outputs": [
    {
     "name": "stdout",
     "output_type": "stream",
     "text": [
      "75773.5566924038\n"
     ]
    },
    {
     "data": {
      "image/png": "[encoded data removed]",
      "text/plain": [
       "<Figure size 640x480 with 1 Axes>"
      ]
     },
     "metadata": {},
     "output_type": "display_data"
    }
   ],
   "source": [
    "# plotting the data \n",
    "\n",
    "# state vs time \n",
    "fig, ax = plt.subplots()\n",
    "datas = []\n",
    "for j in range(len(state_sim)):\n",
    "    datas.append(np.real(state_sim[j][7, 7]))    \n",
    "ax.plot(time_plot, datas)\n",
    "\n",
    "# fitting the data\n",
    "def function_fit(t, b):\n",
    "    return np.exp(-t / b)\n",
    "\n",
    "parameters, covariance = curve_fit(function_fit, time_plot, datas)\n",
    "\n",
    "fit_func = function_fit(time_plot, parameters[0])\n",
    "ax.plot(time_plot, fit_func, color = \"black\", linestyle = \"-\", label = \"fitted line\")\n",
    "# plt.plot(time_idle, datas, color = \"orange\", marker = \".\", alpha = 0.01)\n",
    "\n",
    "\n",
    "T1_stabilizer = parameters[0]\n",
    "print(parameters[0]) \n",
    "\n",
    "# fit the data\n"
   ]
  },
  {
   "cell_type": "code",
   "execution_count": 22,
   "metadata": {},
   "outputs": [],
   "source": [
    "# creating the initial state and encoding it \n",
    "psi0 = qt.tensor(qt.basis(dim, 1), qt.basis(dim, 0), qt.basis(dim, 0), qt.basis(dim, 0), qt.basis(dim, 0))\n",
    "rho0 = psi0 * psi0.dag()\n",
    "rho_encoded = cnot2 * cnot1 * rho0 * cnot1.dag() * cnot2.dag()"
   ]
  },
  {
   "attachments": {},
   "cell_type": "markdown",
   "metadata": {},
   "source": [
    "comparing to idle decay"
   ]
  },
  {
   "cell_type": "code",
   "execution_count": 23,
   "metadata": {},
   "outputs": [],
   "source": [
    "ana_states = []\n",
    "ana_fids = []\n",
    "analysis_t1 = trotter.apply(rho_encoded, duration = 350, discrete_unitary=qt.qeye(dim ** N))\n",
    "ana_states.extend(analysis_t1)\n",
    "ana_fids.append(qt.fidelity(qt.ptrace(analysis_t1[-1], [0, 1, 2]), rho_encoded_traced))\n",
    "\n",
    "time_idle = np.linspace(0, 350, len(ana_states))\n",
    "\n",
    "# trace out the ancillas and then plot \n",
    "new_states_sim = []\n",
    "for i in range(len(ana_states)):\n",
    "    new_states_sim.append(qt.ptrace(ana_states[i], [0, 1, 2]))"
   ]
  },
  {
   "cell_type": "code",
   "execution_count": 24,
   "metadata": {},
   "outputs": [
    {
     "name": "stdout",
     "output_type": "stream",
     "text": [
      "66664.7637882379\n"
     ]
    },
    {
     "data": {
      "image/png": "[encoded data removed]",
      "text/plain": [
       "<Figure size 640x480 with 1 Axes>"
      ]
     },
     "metadata": {},
     "output_type": "display_data"
    }
   ],
   "source": [
    "# plot this new idle circuit \n",
    "fig, ax = plt.subplots()\n",
    "datas = []\n",
    "for j in range(len(new_states_sim)):\n",
    "    datas.append(np.real(new_states_sim[j][7, 7]))    \n",
    "ax.plot(time_idle, datas)\n",
    "\n",
    "\n",
    "# fitting the data\n",
    "\n",
    "parameters, covariance = curve_fit(function_fit, time_idle, datas)\n",
    "\n",
    "fit_func = function_fit(time_idle, parameters[0])\n",
    "ax.plot(time_idle, fit_func, color = \"black\", linestyle = \"-\", label = \"fitted line\")\n",
    "# plt.plot(time_idle, datas, color = \"orange\", marker = \".\", alpha = 0.01)\n",
    "\n",
    "\n",
    "T1_idle = parameters[0]\n",
    "print(parameters[0]) "
   ]
  },
  {
   "attachments": {},
   "cell_type": "markdown",
   "metadata": {},
   "source": [
    "back to the stabilizer form"
   ]
  },
  {
   "cell_type": "code",
   "execution_count": 25,
   "metadata": {},
   "outputs": [
    {
     "data": {
      "text/plain": [
       "1.1366357935820515"
      ]
     },
     "execution_count": 25,
     "metadata": {},
     "output_type": "execute_result"
    }
   ],
   "source": [
    "Beta = T1_stabilizer / T1_idle\n",
    "Beta"
   ]
  },
  {
   "cell_type": "code",
   "execution_count": 26,
   "metadata": {},
   "outputs": [
    {
     "data": {
      "text/plain": [
       "[<matplotlib.lines.Line2D at 0x6cad6fbe0>]"
      ]
     },
     "execution_count": 26,
     "metadata": {},
     "output_type": "execute_result"
    },
    {
     "data": {
      "image/png": "[encoded data removed]",
      "text/plain": [
       "<Figure size 640x480 with 1 Axes>"
      ]
     },
     "metadata": {},
     "output_type": "display_data"
    }
   ],
   "source": [
    "# fidelity vs iteraction (the final fidelity only)\n",
    "fig, ax = plt.subplots()\n",
    "ax.plot(iter_list, plotted_fids, marker = \".\")"
   ]
  },
  {
   "cell_type": "code",
   "execution_count": null,
   "metadata": {},
   "outputs": [],
   "source": []
  }
 ],
 "metadata": {
  "kernelspec": {
   "display_name": "venv",
   "language": "python",
   "name": "python3"
  },
  "language_info": {
   "codemirror_mode": {
    "name": "ipython",
    "version": 3
   },
   "file_extension": ".py",
   "mimetype": "text/x-python",
   "name": "python",
   "nbconvert_exporter": "python",
   "pygments_lexer": "ipython3",
   "version": "3.9.13"
  },
  "orig_nbformat": 4
 },
 "nbformat": 4,
 "nbformat_minor": 2
}
