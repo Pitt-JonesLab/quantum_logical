{
 "cells": [
  {
   "cell_type": "code",
   "execution_count": 1,
   "metadata": {},
   "outputs": [],
   "source": [
    "import qutip as qt\n",
    "import numpy as np\n",
    "import matplotlib.pyplot as plt\n",
    "from quantum_logical.channel import AmplitudeDamping, PhaseDamping\n",
    "from quantum_logical.trotter import TrotterGroup\n",
    "from tqdm import tqdm\n",
    "from quantum_logical.operators import selective_destroy\n",
    "from scipy.optimize import curve_fit"
   ]
  },
  {
   "cell_type": "markdown",
   "metadata": {},
   "source": [
    "<p align=\"center\"> Declaring the initilization parameters of the experiment"
   ]
  },
  {
   "cell_type": "code",
   "execution_count": 2,
   "metadata": {},
   "outputs": [],
   "source": [
    "# generating parameters and creating initial state\n",
    "T1 = 80\n",
    "T2 = 8\n",
    "N = 5\n",
    "dim = 2\n",
    "trotter_dt = .02\n",
    "psi0 = qt.tensor((2 * qt.basis(dim, 1)).unit(), qt.basis(dim, 0), qt.basis(dim, 0), qt.basis(dim, 0), qt.basis(dim, 0))\n",
    "# psi0 = qt.basis(dim, 1)\n",
    "rho0 = psi0 * psi0.dag()\n",
    "amp_damp_channel = AmplitudeDamping(T1, num_qubits=N, hilbert_space_dim=dim)\n",
    "phase_damp_channel = PhaseDamping(T1, T2, num_qubits=N, hilbert_space_dim=dim)\n",
    "trotter = TrotterGroup(\n",
    "    continuous_operators=[amp_damp_channel, phase_damp_channel],\n",
    "    trotter_dt=trotter_dt,\n",
    ")\n",
    "\n",
    "\n",
    "# qt.Qobj(amp_damp_channel._create_single_qubit_operators(T1=1)[1])\n",
    "# identity = qt.qeye(dim ** N)"
   ]
  },
  {
   "cell_type": "markdown",
   "metadata": {},
   "source": [
    "<p align=\"center\"> Create all of the required gates"
   ]
  },
  {
   "cell_type": "markdown",
   "metadata": {},
   "source": [
    "<p align=\"center\"><img src = \"https://i.sstatic.net/mbg8X.jpg\">"
   ]
  },
  {
   "cell_type": "code",
   "execution_count": 3,
   "metadata": {},
   "outputs": [],
   "source": [
    "cnot1 = qt.Qobj(qt.tensor(qt.Qobj([[1,0,0,0],[0,1,0,0],[0,0,0,1],[0,0,1,0]]), qt.qeye(dim), qt.qeye(dim), qt.qeye(dim)).full())\n",
    "cnot2 = qt.Qobj(qt.tensor(qt.qeye(dim), qt.Qobj([[1,0,0,0],[0,1,0,0],[0,0,0,1],[0,0,1,0]]), qt.qeye(dim), qt.qeye(dim)).full())\n",
    "\n",
    "# act with those above on the state before the error is allowed to propagate into the system \n",
    "# making the cnot can be more generalized(come back to this when time permits)\n",
    "# these cnots are not complete\n",
    "# these are for qubits \n",
    "matrix_cnot3 = np.zeros(shape=(dim ** 4, dim ** 4))\n",
    "for i in range(dim ** 4):\n",
    "    for j in range(dim ** 4):\n",
    "        if i == j and i != 8 and i != 9 and i != 10 and i != 11 and i != 12 and i != 13 and i != 14 and i != 15:\n",
    "            matrix_cnot3[i,j] = 1\n",
    "\n",
    "matrix_cnot3[8, 9] = matrix_cnot3[9, 8] = matrix_cnot3[10, 11] = matrix_cnot3[11, 10] = matrix_cnot3[12, 13] = matrix_cnot3[13, 12] = matrix_cnot3[14, 15] = matrix_cnot3[15, 14] = 1\n",
    "cnot3 = qt.Qobj(qt.tensor(qt.Qobj(matrix_cnot3), qt.qeye(dim)).full())\n",
    "\n",
    "matrix_cnot4 = np.zeros(shape=(dim ** 3, dim ** 3))\n",
    "for i in range(dim ** 3):\n",
    "    for j in range(dim ** 3):\n",
    "        if i == j and i != 4 and i != 5 and i != 6 and i != 7:\n",
    "            matrix_cnot4[i,j] = 1\n",
    "\n",
    "matrix_cnot4[4, 5] = matrix_cnot4[5, 4] = matrix_cnot4[6, 7] = matrix_cnot4[7, 6] = 1\n",
    "cnot4 = qt.Qobj(qt.tensor(qt.qeye(dim), qt.Qobj(matrix_cnot4), qt.qeye(dim)).full())\n",
    "\n",
    "matrix_cnot5 = np.zeros(shape=(dim ** 5, dim ** 5))\n",
    "for i in range(16):\n",
    "    for j in range(dim ** N):\n",
    "        if i == j:\n",
    "            matrix_cnot5[i, j] = 1\n",
    "\n",
    "matrix_cnot5[16, 17] = matrix_cnot5[17, 16] = matrix_cnot5[18, 19] = matrix_cnot5[19, 18] = matrix_cnot5[20, 21] = matrix_cnot5[21, 20] = matrix_cnot5[22, 23] = matrix_cnot5[23, 22] = 1\n",
    "matrix_cnot5[24, 25] = matrix_cnot5[25, 24] = matrix_cnot5[26, 27] = matrix_cnot5[27, 26] = matrix_cnot5[28, 29] = matrix_cnot5[29, 28] = matrix_cnot5[30, 31] = matrix_cnot5[31, 30] = 1\n",
    "\n",
    "cnot5 = qt.Qobj(matrix_cnot5)\n",
    "\n",
    "cnot6 = qt.Qobj(qt.tensor(qt.qeye(dim), qt.qeye(dim), qt.Qobj(matrix_cnot4)).full())\n",
    "\n",
    "# xgate\n",
    "x_gate = qt.Qobj([[0, 1],[1, 0]])"
   ]
  },
  {
   "cell_type": "markdown",
   "metadata": {},
   "source": [
    "<p align=\"center\">Encoding the initial state "
   ]
  },
  {
   "cell_type": "code",
   "execution_count": 4,
   "metadata": {},
   "outputs": [],
   "source": [
    "rho0 = qt.Qobj(rho0.full())\n",
    "rho_encoded = cnot2.dag() * cnot1.dag() * rho0 * cnot1 * cnot2"
   ]
  },
  {
   "cell_type": "markdown",
   "metadata": {},
   "source": [
    "<p align = \"center\">Applying the error channels"
   ]
  },
  {
   "cell_type": "code",
   "execution_count": 5,
   "metadata": {},
   "outputs": [],
   "source": [
    "gate_order = cnot6 * cnot5 * cnot4 * cnot3\n",
    "states = []\n",
    "error_states = trotter.apply(rho_encoded, duration=100, discrete_unitary=qt.qeye(dim ** N))\n",
    "states.extend(error_states)\n",
    "pre_measure_state = trotter.apply(rho_encoded, duration=140, discrete_unitary=gate_order)\n",
    "states.extend(pre_measure_state)\n",
    "\n",
    "\n",
    "final_state = pre_measure_state[-1]"
   ]
  },
  {
   "cell_type": "markdown",
   "metadata": {},
   "source": [
    "<p align = \"center\">Create the measurement operators"
   ]
  },
  {
   "cell_type": "code",
   "execution_count": 6,
   "metadata": {},
   "outputs": [],
   "source": [
    "projection_op = [qt.Qobj((qt.tensor(qt.qeye(dim), qt.qeye(dim), qt.qeye(dim), (qt.tensor(qt.basis(dim, 0), qt.basis(dim, 0)) * (qt.tensor(qt.basis(dim, 0), qt.basis(dim, 0))).dag()))).full()),\n",
    "                qt.Qobj((qt.tensor(qt.qeye(dim), qt.qeye(dim), qt.qeye(dim), (qt.tensor(qt.basis(dim, 1), qt.basis(dim, 0)) * (qt.tensor(qt.basis(dim, 1), qt.basis(dim, 0))).dag()))).full()), \n",
    "                qt.Qobj((qt.tensor(qt.qeye(dim), qt.qeye(dim), qt.qeye(dim), (qt.tensor(qt.basis(dim, 0), qt.basis(dim, 1)) * (qt.tensor(qt.basis(dim, 0), qt.basis(dim, 1))).dag()))).full()),\n",
    "                qt.Qobj((qt.tensor(qt.qeye(dim), qt.qeye(dim), qt.qeye(dim), (qt.tensor(qt.basis(dim, 1), qt.basis(dim, 1)) * (qt.tensor(qt.basis(dim, 1), qt.basis(dim, 1))).dag()))).full())\n",
    "]"
   ]
  },
  {
   "cell_type": "code",
   "execution_count": 7,
   "metadata": {},
   "outputs": [
    {
     "data": {
      "text/plain": [
       "7000"
      ]
     },
     "execution_count": 7,
     "metadata": {},
     "output_type": "execute_result"
    }
   ],
   "source": [
    "len(states)"
   ]
  },
  {
   "cell_type": "code",
   "execution_count": 8,
   "metadata": {},
   "outputs": [],
   "source": [
    "# rho_new = projection_op[0].dag() * final_state * projection_op[0] + projection_op[1].dag() * final_state * projection_op[1] + projection_op[2].dag() * final_state * projection_op[2] + projection_op[3].dag() * final_state * projection_op[3]\n",
    "rho_1 = qt.tensor(qt.qeye(dim ** N)).dag() * projection_op[0].dag() * final_state * projection_op[0] * qt.tensor(qt.qeye(dim ** N))\n",
    "rho_2 = qt.Qobj((qt.tensor(x_gate, qt.qeye(dim ** 4)).dag()).full()) * projection_op[1].dag() * final_state * projection_op[1] * qt.Qobj((qt.tensor(x_gate, qt.qeye(dim ** 4))).full())\n",
    "rho_3 = qt.Qobj((qt.tensor(qt.qeye(dim), x_gate, qt.qeye(dim ** 3)).dag()).full()) * projection_op[2].dag() * final_state * projection_op[2] * qt.Qobj((qt.tensor(qt.qeye(dim), x_gate, qt.qeye(dim ** 3))).full())\n",
    "rho_4 = qt.Qobj((qt.tensor(qt.qeye(dim), qt.qeye(dim), x_gate, qt.qeye(dim ** 2)).dag()).full()) * projection_op[3].dag() * final_state * projection_op[3] * qt.Qobj((qt.tensor(qt.qeye(dim), qt.qeye(dim), x_gate, qt.qeye(dim ** 2))).full())\n",
    "rho_new = rho_1 + rho_2 + rho_3 + rho_4\n",
    "# rho_new = rho_1\n",
    "states.append(rho_new)"
   ]
  },
  {
   "cell_type": "markdown",
   "metadata": {},
   "source": [
    "Need to implement the correction code because right now this makes no sense "
   ]
  },
  {
   "cell_type": "code",
   "execution_count": 9,
   "metadata": {},
   "outputs": [
    {
     "data": {
      "text/plain": [
       "7001"
      ]
     },
     "execution_count": 9,
     "metadata": {},
     "output_type": "execute_result"
    }
   ],
   "source": [
    "len(states)"
   ]
  },
  {
   "cell_type": "code",
   "execution_count": 10,
   "metadata": {},
   "outputs": [],
   "source": [
    "# add a relaxation period to see what it looks like \n",
    "relaxation = trotter.apply(rho_new, duration=800, discrete_unitary=qt.qeye(dim ** N))\n",
    "states.extend(relaxation)"
   ]
  },
  {
   "cell_type": "code",
   "execution_count": 11,
   "metadata": {},
   "outputs": [
    {
     "data": {
      "text/plain": [
       "47001"
      ]
     },
     "execution_count": 11,
     "metadata": {},
     "output_type": "execute_result"
    }
   ],
   "source": [
    "len(states)"
   ]
  },
  {
   "cell_type": "code",
   "execution_count": 12,
   "metadata": {},
   "outputs": [],
   "source": [
    "time_list = np.linspace(0, 1040, len(states))"
   ]
  },
  {
   "cell_type": "markdown",
   "metadata": {},
   "source": [
    "Find a way to plot this and talk to Evan about the results because right now this does not make much sense to me "
   ]
  },
  {
   "cell_type": "code",
   "execution_count": 13,
   "metadata": {},
   "outputs": [
    {
     "data": {
      "image/png": "[encoded data removed]",
      "text/plain": [
       "<Figure size 640x480 with 1 Axes>"
      ]
     },
     "metadata": {},
     "output_type": "display_data"
    }
   ],
   "source": [
    "# label these plots with the states\n",
    "fig, ax = plt.subplots()\n",
    "for i in range(dim ** N):\n",
    "    datas = []\n",
    "    for j in range(len(states)):\n",
    "        # print(np.real(states[j][i, i]))\n",
    "        datas.append(np.real(states[j][i][i]))    \n",
    "    ax.plot(time_list, datas)\n",
    "# datas = []\n",
    "# for i in range(len(states)- 12000):\n",
    "#     print(np.real(states[i][0, 0])) \n",
    "#     datas.append(np.real(states[i][0, 0]))\n",
    "\n",
    "# ax.plot(time_list[0:38032], datas)"
   ]
  },
  {
   "cell_type": "code",
   "execution_count": null,
   "metadata": {},
   "outputs": [],
   "source": []
  }
 ],
 "metadata": {
  "kernelspec": {
   "display_name": "venv",
   "language": "python",
   "name": "python3"
  },
  "language_info": {
   "codemirror_mode": {
    "name": "ipython",
    "version": 3
   },
   "file_extension": ".py",
   "mimetype": "text/x-python",
   "name": "python",
   "nbconvert_exporter": "python",
   "pygments_lexer": "ipython3",
   "version": "3.9.13"
  }
 },
 "nbformat": 4,
 "nbformat_minor": 2
}
