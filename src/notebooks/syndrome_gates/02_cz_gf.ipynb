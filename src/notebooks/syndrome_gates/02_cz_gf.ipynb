{
  "cells": [
    {
      "cell_type": "code",
      "execution_count": 14,
      "metadata": {},
      "outputs": [],
      "source": [
        "from quantum_logical.operators import selective_destroy\n",
        "from quantum_logical.interaction import ConversionGainInteraction\n",
        "from weylchamber import c1c2c3\n",
        "import numpy as np\n",
        "import qutip\n",
        "from qutip.operators import destroy"
      ]
    },
    {
      "cell_type": "code",
      "execution_count": 15,
      "metadata": {},
      "outputs": [
        {
          "data": {
            "text/latex": [
              "Quantum object: dims = [[3], [3]], shape = (3, 3), type = oper, isherm = True $ \\\\ \\left(\\begin{matrix}1.0 & 0.707 & 0.0\\\\0.707 & 1.0 & 0.707\\\\0.0 & 0.707 & 1.0\\\\\\end{matrix}\\right)$"
            ],
            "text/plain": [
              "Quantum object: dims = [[3], [3]], shape = (3, 3), type = oper, isherm = True\n",
              "Qobj data =\n",
              "[[1.         0.70710678 0.        ]\n",
              " [0.70710678 1.         0.70710678]\n",
              " [0.         0.70710678 1.        ]]"
            ]
          },
          "execution_count": 15,
          "metadata": {},
          "output_type": "execute_result"
        }
      ],
      "source": [
        "op = (\n",
        "    selective_destroy(levels=3, from_level=1, to_level=0)\n",
        "    + selective_destroy(3, 1, 0).dag()\n",
        "    + selective_destroy(3, 2, 1)\n",
        "    + selective_destroy(3, 2, 1).dag()\n",
        ")\n",
        "w = qutip.identity(3) + (1 / np.sqrt(2) * op)\n",
        "w"
      ]
    },
    {
      "cell_type": "code",
      "execution_count": 16,
      "metadata": {},
      "outputs": [
        {
          "data": {
            "text/latex": [
              "Quantum object: dims = [[3, 3], [3, 3]], shape = (9, 9), type = oper, isherm = True $ \\\\ \\left(\\begin{matrix}0.500 & 0.0 & 0.500 & 0.0 & 0.0 & 0.0 & 0.500 & 0.0 & -0.500\\\\0.0 & 1.000 & 0.0 & 0.0 & 0.0 & 0.0 & 0.0 & 0.0 & 0.0\\\\0.500 & 0.0 & 0.500 & 0.0 & 0.0 & 0.0 & -0.500 & 0.0 & 0.500\\\\0.0 & 0.0 & 0.0 & 1.0 & 0.0 & 0.0 & 0.0 & 0.0 & 0.0\\\\0.0 & 0.0 & 0.0 & 0.0 & 1.0 & 0.0 & 0.0 & 0.0 & 0.0\\\\0.0 & 0.0 & 0.0 & 0.0 & 0.0 & 1.000 & 0.0 & 0.0 & 0.0\\\\0.500 & 0.0 & -0.500 & 0.0 & 0.0 & 0.0 & 0.500 & 0.0 & 0.500\\\\0.0 & 0.0 & 0.0 & 0.0 & 0.0 & 0.0 & 0.0 & 1.0 & 0.0\\\\-0.500 & 0.0 & 0.500 & 0.0 & 0.0 & 0.0 & 0.500 & 0.0 & 0.500\\\\\\end{matrix}\\right)$"
            ],
            "text/plain": [
              "Quantum object: dims = [[3, 3], [3, 3]], shape = (9, 9), type = oper, isherm = True\n",
              "Qobj data =\n",
              "[[ 0.5  0.   0.5  0.   0.   0.   0.5  0.  -0.5]\n",
              " [ 0.   1.   0.   0.   0.   0.   0.   0.   0. ]\n",
              " [ 0.5  0.   0.5  0.   0.   0.  -0.5  0.   0.5]\n",
              " [ 0.   0.   0.   1.   0.   0.   0.   0.   0. ]\n",
              " [ 0.   0.   0.   0.   1.   0.   0.   0.   0. ]\n",
              " [ 0.   0.   0.   0.   0.   1.   0.   0.   0. ]\n",
              " [ 0.5  0.  -0.5  0.   0.   0.   0.5  0.   0.5]\n",
              " [ 0.   0.   0.   0.   0.   0.   0.   1.   0. ]\n",
              " [-0.5  0.   0.5  0.   0.   0.   0.5  0.   0.5]]"
            ]
          },
          "execution_count": 16,
          "metadata": {},
          "output_type": "execute_result"
        }
      ],
      "source": [
        "H = qutip.tensor(w, w)\n",
        "t = np.pi\n",
        "u = (-1j * H * t).expm()\n",
        "u"
      ]
    },
    {
      "cell_type": "code",
      "execution_count": 17,
      "metadata": {},
      "outputs": [
        {
          "name": "stdout",
          "output_type": "stream",
          "text": [
            "(0.5, 0.0, 0.0)\n"
          ]
        },
        {
          "data": {
            "text/latex": [
              "Quantum object: dims = [[3, 3], [3, 3]], shape = (9, 9), type = oper, isherm = True $ \\\\ \\left(\\begin{matrix}0.500 & 0.0 & 0.500 & 0.0 & 0.0 & 0.0 & 0.500 & 0.0 & -0.500\\\\0.0 & 1.000 & 0.0 & 0.0 & 0.0 & 0.0 & 0.0 & 0.0 & 0.0\\\\0.500 & 0.0 & 0.500 & 0.0 & 0.0 & 0.0 & -0.500 & 0.0 & 0.500\\\\0.0 & 0.0 & 0.0 & 1.0 & 0.0 & 0.0 & 0.0 & 0.0 & 0.0\\\\0.0 & 0.0 & 0.0 & 0.0 & 1.0 & 0.0 & 0.0 & 0.0 & 0.0\\\\0.0 & 0.0 & 0.0 & 0.0 & 0.0 & 1.000 & 0.0 & 0.0 & 0.0\\\\0.500 & 0.0 & -0.500 & 0.0 & 0.0 & 0.0 & 0.500 & 0.0 & 0.500\\\\0.0 & 0.0 & 0.0 & 0.0 & 0.0 & 0.0 & 0.0 & 1.0 & 0.0\\\\-0.500 & 0.0 & 0.500 & 0.0 & 0.0 & 0.0 & 0.500 & 0.0 & 0.500\\\\\\end{matrix}\\right)$"
            ],
            "text/plain": [
              "Quantum object: dims = [[3, 3], [3, 3]], shape = (9, 9), type = oper, isherm = True\n",
              "Qobj data =\n",
              "[[ 0.5  0.   0.5  0.   0.   0.   0.5  0.  -0.5]\n",
              " [ 0.   1.   0.   0.   0.   0.   0.   0.   0. ]\n",
              " [ 0.5  0.   0.5  0.   0.   0.  -0.5  0.   0.5]\n",
              " [ 0.   0.   0.   1.   0.   0.   0.   0.   0. ]\n",
              " [ 0.   0.   0.   0.   1.   0.   0.   0.   0. ]\n",
              " [ 0.   0.   0.   0.   0.   1.   0.   0.   0. ]\n",
              " [ 0.5  0.  -0.5  0.   0.   0.   0.5  0.   0.5]\n",
              " [ 0.   0.   0.   0.   0.   0.   0.   1.   0. ]\n",
              " [-0.5  0.   0.5  0.   0.   0.   0.5  0.   0.5]]"
            ]
          },
          "execution_count": 17,
          "metadata": {},
          "output_type": "execute_result"
        }
      ],
      "source": [
        "# verify makes an CZ_gf gate\n",
        "# convert to 2Q between g and f by removing indexes connected to e\n",
        "# (quick and dirty way to trace out e)\n",
        "indices = [0, 2, 6, 8]\n",
        "reduced_matrix = u[np.ix_(indices, indices)]\n",
        "print(c1c2c3(reduced_matrix))\n",
        "u"
      ]
    },
    {
      "cell_type": "code",
      "execution_count": 18,
      "metadata": {},
      "outputs": [
        {
          "data": {
            "text/plain": [
              "array([[ 0.5+0.j,  0.5+0.j,  0.5+0.j, -0.5+0.j],\n",
              "       [ 0.5+0.j,  0.5+0.j, -0.5+0.j,  0.5+0.j],\n",
              "       [ 0.5+0.j, -0.5+0.j,  0.5+0.j,  0.5+0.j],\n",
              "       [-0.5+0.j,  0.5+0.j,  0.5+0.j,  0.5+0.j]])"
            ]
          },
          "execution_count": 18,
          "metadata": {},
          "output_type": "execute_result"
        }
      ],
      "source": [
        "reduced_matrix"
      ]
    }
  ],
  "metadata": {
    "kernelspec": {
      "display_name": ".venv",
      "language": "python",
      "name": "python3"
    },
    "language_info": {
      "codemirror_mode": {
        "name": "ipython",
        "version": 3
      },
      "file_extension": ".py",
      "mimetype": "text/x-python",
      "name": "python",
      "nbconvert_exporter": "python",
      "pygments_lexer": "ipython3",
      "version": "3.9.17"
    }
  },
  "nbformat": 4,
  "nbformat_minor": 2
}
