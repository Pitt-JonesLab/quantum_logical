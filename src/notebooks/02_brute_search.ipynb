{
  "cells": [
    {
      "cell_type": "code",
      "execution_count": 1,
      "metadata": {},
      "outputs": [],
      "source": [
        "from quantum_logical.interaction import ConversionGainInteraction\n",
        "import numpy as np\n",
        "import itertools\n",
        "from qutip import tensor, destroy\n",
        "from quantum_logical.operators import (\n",
        "    selective_destroy,\n",
        "    reduce_to_two_qubit_subspace,\n",
        ")\n",
        "from weylchamber import c1c2c3"
      ]
    },
    {
      "cell_type": "code",
      "execution_count": 2,
      "metadata": {},
      "outputs": [],
      "source": [
        "transmon_levels = 3\n",
        "a_ge = selective_destroy(transmon_levels, 1, 0)\n",
        "a_ef = selective_destroy(transmon_levels, 2, 1)\n",
        "a_gf = selective_destroy(transmon_levels, 2, 0)\n",
        "\n",
        "# NOTE items such as a_gf are excluded\n",
        "# this would be a slower 5-wave mixing term\n",
        "operators = [\n",
        "    tensor(a_ge, a_ge),\n",
        "    tensor(a_ge, a_ge.dag()),\n",
        "    tensor(a_ef, a_ge),\n",
        "    tensor(a_ef, a_ge.dag()),\n",
        "    tensor(a_ge, a_ef),\n",
        "    tensor(a_ge, a_ef.dag()),\n",
        "    tensor(a_ef, a_ef),\n",
        "    tensor(a_ef, a_ef.dag()),\n",
        "]"
      ]
    },
    {
      "cell_type": "code",
      "execution_count": 3,
      "metadata": {},
      "outputs": [
        {
          "name": "stdout",
          "output_type": "stream",
          "text": [
            "[0.         0.39269908 0.78539816 1.17809725 1.57079633]\n"
          ]
        }
      ],
      "source": [
        "# Coefficients' discrete set, including zero\n",
        "coefficient_values = np.linspace(0, np.pi / 2, 5)\n",
        "print(coefficient_values)\n",
        "\n",
        "\n",
        "def generate_coefficient_operator_combinations(operators, coefficient_values):\n",
        "    \"\"\"\n",
        "    Generator that yields lists of coefficients to be paired with operators.\n",
        "\n",
        "    Parameters:\n",
        "    operators (list): List of operator terms.\n",
        "    coefficient_values (list): List of discrete coefficient values to consider, including zero.\n",
        "\n",
        "    Yields:\n",
        "    list, list: A list of coefficients and the list of corresponding operators.\n",
        "    \"\"\"\n",
        "    # Use itertools.product to generate all possible combinations of coefficients\n",
        "    for coeffs in itertools.product(coefficient_values, repeat=len(operators)):\n",
        "        # Filter out the all-zero combination if needed\n",
        "        if not all(c == 0 for c in coeffs):\n",
        "            yield (list(coeffs))"
      ]
    },
    {
      "cell_type": "code",
      "execution_count": 7,
      "metadata": {},
      "outputs": [
        {
          "name": "stdout",
          "output_type": "stream",
          "text": [
            "False\n",
            "(0.5, 0.0, 0.0)\n",
            "False\n",
            "(0.5, 0.35355339, 0.35355339)\n"
          ]
        },
        {
          "data": {
            "text/latex": [
              "Quantum object: dims = [[3, 3], [3, 3]], shape = (9, 9), type = oper, isherm = False $ \\\\ \\left(\\begin{matrix}0.599 & 0.0 & -0.401 & 0.0 & -0.398j & 0.0 & -0.401 & 0.0 & -0.401\\\\0.0 & 0.197 & 0.0 & -0.398j & 0.0 & -0.398j & 0.0 & -0.803 & 0.0\\\\-0.401 & 0.0 & 0.599 & 0.0 & -0.398j & 0.0 & -0.401 & 0.0 & -0.401\\\\0.0 & -0.398j & 0.0 & 0.197 & 0.0 & -0.803 & 0.0 & -0.398j & 0.0\\\\-0.398j & 0.0 & -0.398j & 0.0 & -0.606 & 0.0 & -0.398j & 0.0 & -0.398j\\\\0.0 & -0.398j & 0.0 & -0.803 & 0.0 & 0.197 & 0.0 & -0.398j & 0.0\\\\-0.401 & 0.0 & -0.401 & 0.0 & -0.398j & 0.0 & 0.599 & 0.0 & -0.401\\\\0.0 & -0.803 & 0.0 & -0.398j & 0.0 & -0.398j & 0.0 & 0.197 & 0.0\\\\-0.401 & 0.0 & -0.401 & 0.0 & -0.398j & 0.0 & -0.401 & 0.0 & 0.599\\\\\\end{matrix}\\right)$"
            ],
            "text/plain": [
              "Quantum object: dims = [[3, 3], [3, 3]], shape = (9, 9), type = oper, isherm = False\n",
              "Qobj data =\n",
              "[[ 0.59857503+0.j         0.        +0.j        -0.40142497+0.j\n",
              "   0.        +0.j         0.        -0.3978466j  0.        +0.j\n",
              "  -0.40142497+0.j         0.        +0.j        -0.40142497+0.j       ]\n",
              " [ 0.        +0.j         0.19715007+0.j         0.        +0.j\n",
              "   0.        -0.3978466j  0.        +0.j         0.        -0.3978466j\n",
              "   0.        +0.j        -0.80284993+0.j         0.        +0.j       ]\n",
              " [-0.40142497+0.j         0.        +0.j         0.59857503+0.j\n",
              "   0.        +0.j         0.        -0.3978466j  0.        +0.j\n",
              "  -0.40142497+0.j         0.        +0.j        -0.40142497+0.j       ]\n",
              " [ 0.        +0.j         0.        -0.3978466j  0.        +0.j\n",
              "   0.19715007+0.j         0.        +0.j        -0.80284993+0.j\n",
              "   0.        +0.j         0.        -0.3978466j  0.        +0.j       ]\n",
              " [ 0.        -0.3978466j  0.        +0.j         0.        -0.3978466j\n",
              "   0.        +0.j        -0.60569987+0.j         0.        +0.j\n",
              "   0.        -0.3978466j  0.        +0.j         0.        -0.3978466j]\n",
              " [ 0.        +0.j         0.        -0.3978466j  0.        +0.j\n",
              "  -0.80284993+0.j         0.        +0.j         0.19715007+0.j\n",
              "   0.        +0.j         0.        -0.3978466j  0.        +0.j       ]\n",
              " [-0.40142497+0.j         0.        +0.j        -0.40142497+0.j\n",
              "   0.        +0.j         0.        -0.3978466j  0.        +0.j\n",
              "   0.59857503+0.j         0.        +0.j        -0.40142497+0.j       ]\n",
              " [ 0.        +0.j        -0.80284993+0.j         0.        +0.j\n",
              "   0.        -0.3978466j  0.        +0.j         0.        -0.3978466j\n",
              "   0.        +0.j         0.19715007+0.j         0.        +0.j       ]\n",
              " [-0.40142497+0.j         0.        +0.j        -0.40142497+0.j\n",
              "   0.        +0.j         0.        -0.3978466j  0.        +0.j\n",
              "  -0.40142497+0.j         0.        +0.j         0.59857503+0.j       ]]"
            ]
          },
          "execution_count": 7,
          "metadata": {},
          "output_type": "execute_result"
        }
      ],
      "source": [
        "# Construct the Hamiltonian and corresponding unitary operator\n",
        "import qutip\n",
        "\n",
        "H = ConversionGainInteraction.from_coeff_ops_list(\n",
        "    1 / np.sqrt(2) * np.ones(8), operators\n",
        ")\n",
        "U = H.construct_U(t=np.pi / 2)\n",
        "\n",
        "\n",
        "u = reduce_to_two_qubit_subspace(U, [0, 2])\n",
        "print(u.isunitary)\n",
        "print(c1c2c3(u))\n",
        "U\n",
        "\n",
        "u = reduce_to_two_qubit_subspace(U, [0, 1])\n",
        "print(u.isunitary)\n",
        "print(c1c2c3(u))\n",
        "U\n",
        "\n",
        "\n",
        "u = reduce_to_two_qubit_subspace(U, [1, 2])\n",
        "print(u.isunitary)\n",
        "print(c1c2c3(u))\n",
        "U\n",
        "\n",
        "# from weylchamber import WeylChamber\n",
        "\n",
        "# w = WeylChamber()\n",
        "# w.scatter(*[0.79289322, 0.20710678, 0.0])\n",
        "# w.plot()from weylchamber import WeylChamber\n",
        "\n",
        "# w = WeylChamber()\n",
        "# w.scatter(*[0.79289322, 0.20710678, 0.0])\n",
        "# w.plot()\n",
        "\n",
        "# TODO revist!!!\n",
        "# this Hamiltonian is slightly different than the version in 02_cz_gf.ipynb\n",
        "# in that version, we add identity terms on single qubit drives, then tensor them together\n",
        "# which makes a difference\n",
        "# not on the [0,2] gate, but on the [0,1] and [1,2] gates\n",
        "# in other version these are identity\n",
        "# but in this version they are not....\n",
        "# I don't know which version is correct anymore :("
      ]
    },
    {
      "cell_type": "code",
      "execution_count": 92,
      "metadata": {},
      "outputs": [],
      "source": [
        "def is_valid_operator(U, target_subspace, identity_subspaces):\n",
        "    \"\"\"\n",
        "    Determine if operator U is valid based on subspace criteria.\n",
        "\n",
        "    Parameters:\n",
        "    U (qutip.Qobj): The operator to be validated.\n",
        "    target_subspace (list): The subspace where U should not be identity.\n",
        "    identity_subspaces (list of lists): Subspaces where U should be identity.\n",
        "\n",
        "    Returns:\n",
        "    bool: True if U is valid, False otherwise.\n",
        "    \"\"\"\n",
        "    # Check non-identity in the target subspace\n",
        "    reduced_target = reduce_to_two_qubit_subspace(U, target_subspace)\n",
        "    if not reduced_target.isunitary or np.allclose(c1c2c3(reduced_target), np.zeros(3)):\n",
        "        return False\n",
        "\n",
        "    # Check for identity in all other specified subspaces\n",
        "    for iso in identity_subspaces:\n",
        "        reduced_iso = reduce_to_two_qubit_subspace(U, iso)\n",
        "        if not reduced_iso.isunitary or not np.allclose(\n",
        "            c1c2c3(reduced_iso), np.zeros(3)\n",
        "        ):\n",
        "            return False\n",
        "\n",
        "    # All checks passed\n",
        "    return True\n",
        "\n",
        "\n",
        "# Iterate over coefficient-operator combinations\n",
        "for coeff_list in generate_coefficient_operator_combinations(\n",
        "    operators, coefficient_values\n",
        "):\n",
        "    # Construct the Hamiltonian and corresponding unitary operator\n",
        "    H = ConversionGainInteraction.from_coeff_ops_list(coeff_list, operators)\n",
        "    U = H.construct_U(t=np.pi)\n",
        "\n",
        "    # Validate the unitary operator against our criteria\n",
        "    if is_valid_operator(\n",
        "        U,\n",
        "        target_subspace=[0, 2],\n",
        "        identity_subspaces=[],  # , identity_subspaces=[[0, 1], [1, 2]]\n",
        "    ):\n",
        "        # Print information for valid operators only\n",
        "        # try:\n",
        "        coord = c1c2c3(reduce_to_two_qubit_subspace(U, [0, 2]))\n",
        "        print(coeff_list, coord)\n",
        "        # except (np.linalg.LinAlgError, ValueError):\n",
        "        #     continue"
      ]
    }
  ],
  "metadata": {
    "kernelspec": {
      "display_name": ".venv",
      "language": "python",
      "name": "python3"
    },
    "language_info": {
      "codemirror_mode": {
        "name": "ipython",
        "version": 3
      },
      "file_extension": ".py",
      "mimetype": "text/x-python",
      "name": "python",
      "nbconvert_exporter": "python",
      "pygments_lexer": "ipython3",
      "version": "3.9.17"
    }
  },
  "nbformat": 4,
  "nbformat_minor": 2
}
