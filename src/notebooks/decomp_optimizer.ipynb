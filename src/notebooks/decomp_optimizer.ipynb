{
  "cells": [
    {
      "cell_type": "code",
      "execution_count": 9,
      "metadata": {},
      "outputs": [],
      "source": [
        "from transpile_benchy.utilities.numerical_decomp import CircuitAnsatzDecomposer\n",
        "from quantum_logical.conversiongain import ConversionGainThreeWaveTogether\n",
        "import qutip as qt\n",
        "import numpy as np"
      ]
    },
    {
      "cell_type": "code",
      "execution_count": 10,
      "metadata": {},
      "outputs": [],
      "source": [
        "def transform_gate_to_qutrit(gate):\n",
        "    \"\"\"\n",
        "    Transforms a 1Q qubit gate into a 1Q qutrit gate using the gf_isometry.\n",
        "\n",
        "    Parameters:\n",
        "    - gate: A 1Q qubit gate represented as a qutip Qobj.\n",
        "\n",
        "    Returns:\n",
        "    - A qutip Qobj representing the transformed 1Q qutrit gate.\n",
        "    \"\"\"\n",
        "    # Define the isometry\n",
        "    gf_isometry = qt.Qobj([[1, 0], [0, 0], [0, 1]])\n",
        "\n",
        "    # Transform the gate using the isometry\n",
        "    transformed_gate = gf_isometry * gate * gf_isometry.dag()\n",
        "\n",
        "    return transformed_gate"
      ]
    },
    {
      "cell_type": "markdown",
      "metadata": {},
      "source": [
        "See below, we have this messy optimization problem, where we are looking for something that will enable us to do $|g+f\\rangle, |g-f\\rangle$ parity checks. Hopefully, we can find something that looks like a $CZ_{gf}$ gate, but it turns out that trying to do 2 $iSWAP$ gates between g-e and e-f makes a SWAP."
      ]
    },
    {
      "cell_type": "code",
      "execution_count": 11,
      "metadata": {},
      "outputs": [
        {
          "data": {
            "text/latex": [
              "Quantum object: dims = [[9], [9]], shape = (9, 9), type = oper, isherm = False $ \\\\ \\left(\\begin{matrix}-0.500 & 0.0 & 0.500 & 0.0 & 0.0 & 0.0 & -1.694\\times10^{-16} & 0.0 & 2.489\\times10^{-17}\\\\0.0 & 0.0 & 0.0 & 0.0 & 0.0 & 0.0 & 0.0 & 0.0 & 0.0\\\\-0.500j & 0.0 & 0.500j & 0.0 & 0.0 & 0.0 & 5.837\\times10^{-17} & 0.0 & 5.551\\times10^{-17}\\\\0.0 & 0.0 & 0.0 & 0.0 & 0.0 & 0.0 & 0.0 & 0.0 & 0.0\\\\0.0 & 0.0 & 0.0 & 0.0 & 0.0 & 0.0 & 0.0 & 0.0 & 0.0\\\\0.0 & 0.0 & 0.0 & 0.0 & 0.0 & 0.0 & 0.0 & 0.0 & 0.0\\\\1.110\\times10^{-16} & 0.0 & 0.0 & 0.0 & 0.0 & 0.0 & 0.500j & 0.0 & 0.500j\\\\0.0 & 0.0 & 0.0 & 0.0 & 0.0 & 0.0 & 0.0 & 0.0 & 0.0\\\\-1.051\\times10^{-17} & 0.0 & -1.560\\times10^{-16} & 0.0 & 0.0 & 0.0 & 0.500 & 0.0 & 0.500\\\\\\end{matrix}\\right)$"
            ],
            "text/plain": [
              "Quantum object: dims = [[9], [9]], shape = (9, 9), type = oper, isherm = False\n",
              "Qobj data =\n",
              "[[-5.00000000e-01+6.65283447e-17j  0.00000000e+00+0.00000000e+00j\n",
              "   5.00000000e-01-2.48949813e-17j  0.00000000e+00+0.00000000e+00j\n",
              "   0.00000000e+00+0.00000000e+00j  0.00000000e+00+0.00000000e+00j\n",
              "  -1.69394048e-16+8.61273212e-17j  0.00000000e+00+0.00000000e+00j\n",
              "   2.48949813e-17+8.32667268e-17j]\n",
              " [ 0.00000000e+00+0.00000000e+00j  0.00000000e+00+0.00000000e+00j\n",
              "   0.00000000e+00+0.00000000e+00j  0.00000000e+00+0.00000000e+00j\n",
              "   0.00000000e+00+0.00000000e+00j  0.00000000e+00+0.00000000e+00j\n",
              "   0.00000000e+00+0.00000000e+00j  0.00000000e+00+0.00000000e+00j\n",
              "   0.00000000e+00+0.00000000e+00j]\n",
              " [ 7.22495334e-17-5.00000000e-01j  0.00000000e+00+0.00000000e+00j\n",
              "  -1.27760685e-16+5.00000000e-01j  0.00000000e+00+0.00000000e+00j\n",
              "   0.00000000e+00+0.00000000e+00j  0.00000000e+00+0.00000000e+00j\n",
              "   5.83717456e-17-3.06161700e-17j  0.00000000e+00+0.00000000e+00j\n",
              "   5.55111512e-17+1.63672859e-16j]\n",
              " [ 0.00000000e+00+0.00000000e+00j  0.00000000e+00+0.00000000e+00j\n",
              "   0.00000000e+00+0.00000000e+00j  0.00000000e+00+0.00000000e+00j\n",
              "   0.00000000e+00+0.00000000e+00j  0.00000000e+00+0.00000000e+00j\n",
              "   0.00000000e+00+0.00000000e+00j  0.00000000e+00+0.00000000e+00j\n",
              "   0.00000000e+00+0.00000000e+00j]\n",
              " [ 0.00000000e+00+0.00000000e+00j  0.00000000e+00+0.00000000e+00j\n",
              "   0.00000000e+00+0.00000000e+00j  0.00000000e+00+0.00000000e+00j\n",
              "   0.00000000e+00+0.00000000e+00j  0.00000000e+00+0.00000000e+00j\n",
              "   0.00000000e+00+0.00000000e+00j  0.00000000e+00+0.00000000e+00j\n",
              "   0.00000000e+00+0.00000000e+00j]\n",
              " [ 0.00000000e+00+0.00000000e+00j  0.00000000e+00+0.00000000e+00j\n",
              "   0.00000000e+00+0.00000000e+00j  0.00000000e+00+0.00000000e+00j\n",
              "   0.00000000e+00+0.00000000e+00j  0.00000000e+00+0.00000000e+00j\n",
              "   0.00000000e+00+0.00000000e+00j  0.00000000e+00+0.00000000e+00j\n",
              "   0.00000000e+00+0.00000000e+00j]\n",
              " [ 1.11022302e-16-1.49292515e-16j  0.00000000e+00+0.00000000e+00j\n",
              "   0.00000000e+00-3.36315095e-18j  0.00000000e+00+0.00000000e+00j\n",
              "   0.00000000e+00+0.00000000e+00j  0.00000000e+00+0.00000000e+00j\n",
              "  -1.90925878e-16+5.00000000e-01j  0.00000000e+00+0.00000000e+00j\n",
              "   1.72409388e-17+5.00000000e-01j]\n",
              " [ 0.00000000e+00+0.00000000e+00j  0.00000000e+00+0.00000000e+00j\n",
              "   0.00000000e+00+0.00000000e+00j  0.00000000e+00+0.00000000e+00j\n",
              "   0.00000000e+00+0.00000000e+00j  0.00000000e+00+0.00000000e+00j\n",
              "   0.00000000e+00+0.00000000e+00j  0.00000000e+00+0.00000000e+00j\n",
              "   0.00000000e+00+0.00000000e+00j]\n",
              " [-1.05146369e-17+0.00000000e+00j  0.00000000e+00+0.00000000e+00j\n",
              "  -1.56018817e-16-2.77555756e-17j  0.00000000e+00+0.00000000e+00j\n",
              "   0.00000000e+00+0.00000000e+00j  0.00000000e+00+0.00000000e+00j\n",
              "   5.00000000e-01+1.35414727e-16j  0.00000000e+00+0.00000000e+00j\n",
              "   5.00000000e-01-1.00507666e-16j]]"
            ]
          },
          "execution_count": 11,
          "metadata": {},
          "output_type": "execute_result"
        }
      ],
      "source": [
        "from qiskit.circuit.library import UGate\n",
        "\n",
        "H = ConversionGainThreeWaveTogether(\n",
        "    gc=np.pi / 2,\n",
        "    # gg=np.pi / 4,\n",
        "    gg=0,\n",
        "    phi_c1=-0.5 * np.pi,\n",
        "    phi_c2=0 * np.pi,\n",
        "    transmon_levels=3,\n",
        ")\n",
        "U3 = H.unitary(t=np.sqrt(2) / 2.0)\n",
        "\n",
        "sqrt_iswap_gf = U3.full()\n",
        "candidate_operator = np.eye(9)\n",
        "u1 = transform_gate_to_qutrit(UGate(np.pi / 2, -np.pi / 2, 0).to_matrix())\n",
        "u2 = transform_gate_to_qutrit(UGate(np.pi / 2, np.pi / 2, np.pi / 2).to_matrix())\n",
        "u = np.kron(u1, u2)\n",
        "candidate_operator = u @ candidate_operator\n",
        "candidate_operator = sqrt_iswap_gf @ candidate_operator\n",
        "\n",
        "u1 = transform_gate_to_qutrit(UGate(np.pi, -np.pi / 2, np.pi / 2).to_matrix())\n",
        "u2 = transform_gate_to_qutrit(UGate(0, 0, np.pi).to_matrix())\n",
        "u = np.kron(u1, u2)\n",
        "candidate_operator = u @ candidate_operator\n",
        "candidate_operator = sqrt_iswap_gf @ candidate_operator\n",
        "\n",
        "u1 = transform_gate_to_qutrit(UGate(np.pi / 2, -np.pi / 2, -3 * np.pi / 2).to_matrix())\n",
        "u2 = transform_gate_to_qutrit(UGate(np.pi / 2, 0, -np.pi / 2).to_matrix())\n",
        "u = np.kron(u1, u2)\n",
        "candidate_operator = u @ candidate_operator\n",
        "\n",
        "U3_2Q = qt.Qobj(candidate_operator)\n",
        "U3_2Q"
      ]
    },
    {
      "cell_type": "markdown",
      "metadata": {},
      "source": [
        "Therefore, the idea is to put the above into my numerical decomposition tool. This might not work since there are too many parameters. But not sure what else to try and the moment.\n",
        "\n",
        "The annoying part is that Qiskit does not allow Qutrits - so we have to make a custom class to handle the ansatz, whereas in the class proper it uses a qiskit.QuantumCircuit object."
      ]
    },
    {
      "cell_type": "code",
      "execution_count": 12,
      "metadata": {},
      "outputs": [],
      "source": [
        "class QutritAnsatz:\n",
        "    def __init__(self, parameters=None, fixed_params=None):\n",
        "        self.parameters = parameters or []\n",
        "        self.fixed_params = fixed_params or {}\n",
        "        self.ansatz = self._construct_ansatz()\n",
        "\n",
        "    def _construct_ansatz(self):\n",
        "        # Use the parameters to construct the ansatz\n",
        "        # For the Hamiltonian, use self.parameters or self.fixed_params as needed\n",
        "        # ... [rest of your code]\n",
        "        U3_2Q = qt.Qobj(candidate_operator)\n",
        "        return U3_2Q\n",
        "\n",
        "    def assign_parameters(self, values):\n",
        "        # Bind values to the parameters.\n",
        "        # Ensure that fixed parameters are not modified.\n",
        "        for p, v in zip(self.parameters, values):\n",
        "            if p not in self.fixed_params:\n",
        "                # Update the parameter with the new value\n",
        "                pass  # Implement this\n",
        "\n",
        "    def append(self, gate, qubits):\n",
        "        # Implement this method to add a gate to the ansatz.\n",
        "        pass\n",
        "\n",
        "    def to_matrix(self):\n",
        "        return self.ansatz.full()\n",
        "\n",
        "    @property\n",
        "    def parameters(self):\n",
        "        return [p for p in self._parameters if p not in self.fixed_params]\n",
        "\n",
        "    @parameters.setter\n",
        "    def parameters(self, params):\n",
        "        self._parameters = params"
      ]
    }
  ],
  "metadata": {
    "kernelspec": {
      "display_name": ".venv",
      "language": "python",
      "name": "python3"
    },
    "language_info": {
      "codemirror_mode": {
        "name": "ipython",
        "version": 3
      },
      "file_extension": ".py",
      "mimetype": "text/x-python",
      "name": "python",
      "nbconvert_exporter": "python",
      "pygments_lexer": "ipython3",
      "version": "3.9.17"
    },
    "orig_nbformat": 4
  },
  "nbformat": 4,
  "nbformat_minor": 2
}
