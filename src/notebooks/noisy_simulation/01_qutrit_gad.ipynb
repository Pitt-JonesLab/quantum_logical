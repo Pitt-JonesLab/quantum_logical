{
  "cells": [
    {
      "cell_type": "code",
      "execution_count": 1,
      "metadata": {},
      "outputs": [],
      "source": [
        "# need error channels for qutrits\n",
        "# qiskit won't help, we need to define the matrices ourselves\n",
        "\n",
        "# reference:\n",
        "# [1] M. Grassl, L. Kong, Z. Wei, Z.-Q. Yin, and B. Zeng, \u201cQuantum Error-Correcting Codes for Qudit Amplitude Damping,\u201d IEEE Trans. Inform. Theory, vol. 64, no. 6, pp. 4674\u20134685, Jun. 2018, doi: 10.1109/TIT.2018.2790423.\n",
        "\n",
        "import numpy as np\n",
        "from qutip import Qobj, basis"
      ]
    },
    {
      "cell_type": "code",
      "execution_count": 2,
      "metadata": {},
      "outputs": [],
      "source": [
        "zero_ket = basis(3, 0)  # |0>\n",
        "one_ket = basis(3, 1)  # |1>\n",
        "two_ket = basis(3, 2)  # |2>\n",
        "\n",
        "tau = 0.1  # decay time\n",
        "k1, k2 = 1, 0.9  # coefficients? k1 != k2\n",
        "gamma_01 = 2 * k2 * tau\n",
        "gamma_02 = 2 * k1 * k2 * (tau) ** 2\n",
        "gamma_12 = 2 * k1 * tau\n",
        "\n",
        "# A01 = np.sqrt(gamma_01) |0><1|\n",
        "A_01 = np.sqrt(gamma_01) * zero_ket * one_ket.dag()\n",
        "\n",
        "# A02 = np.sqrt(gamma_02) |0><2|\n",
        "A_02 = np.sqrt(gamma_02) * zero_ket * two_ket.dag()\n",
        "\n",
        "# A12 = np.sqrt(gamma_12) |1><2|\n",
        "A_12 = np.sqrt(gamma_12) * one_ket * two_ket.dag()\n",
        "\n",
        "# A0 = |0><0| + np.sqrt(1-gamma_01)|1><1| + np.sqrt(1 - gamma_02 - gamma_12) |2><2|\n",
        "A_0 = (\n",
        "    zero_ket * zero_ket.dag()\n",
        "    + np.sqrt(1 - gamma_01) * one_ket * one_ket.dag()\n",
        "    + np.sqrt(1 - gamma_02 - gamma_12) * two_ket * two_ket.dag()\n",
        ")"
      ]
    },
    {
      "cell_type": "code",
      "execution_count": 3,
      "metadata": {},
      "outputs": [],
      "source": [
        "# E(rho) = \\sum_i A_i rho A_i^\\dagger"
      ]
    }
  ],
  "metadata": {
    "kernelspec": {
      "display_name": ".venv",
      "language": "python",
      "name": "python3"
    },
    "language_info": {
      "codemirror_mode": {
        "name": "ipython",
        "version": 3
      },
      "file_extension": ".py",
      "mimetype": "text/x-python",
      "name": "python",
      "nbconvert_exporter": "python",
      "pygments_lexer": "ipython3",
      "version": "3.9.17"
    }
  },
  "nbformat": 4,
  "nbformat_minor": 2
}
