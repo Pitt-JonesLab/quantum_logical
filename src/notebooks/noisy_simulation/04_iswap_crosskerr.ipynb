{
  "cells": [
    {
      "cell_type": "code",
      "execution_count": 25,
      "metadata": {},
      "outputs": [],
      "source": [
        "import numpy as np\n",
        "from quantum_logical.channel import AmplitudeDamping, PhaseDamping\n",
        "from quantum_logical.trotter import TrotterGroup\n",
        "from quantum_logical.interaction import ConversionGainInteraction\n",
        "from qutip import Qobj, basis, tensor\n",
        "from qutip.operators import sigmaz\n",
        "from qutip.metrics import fidelity\n",
        "import matplotlib.pyplot as plt\n",
        "import numpy as np\n",
        "from tqdm import tqdm\n",
        "from quantum_logical.channel import Channel\n",
        "from qutip import rand_dm"
      ]
    },
    {
      "cell_type": "code",
      "execution_count": 26,
      "metadata": {},
      "outputs": [
        {
          "data": {
            "text/latex": [
              "Quantum object: dims = [[4], [4]], shape = (4, 4), type = oper, isherm = True $ \\\\ \\left(\\begin{matrix}0.0 & 0.0 & 0.0 & 0.0\\\\0.0 & 0.0 & 0.0 & 0.0\\\\0.0 & 0.0 & 1.0 & 0.0\\\\0.0 & 0.0 & 0.0 & 0.0\\\\\\end{matrix}\\right)$"
            ],
            "text/plain": [
              "Quantum object: dims = [[4], [4]], shape = (4, 4), type = oper, isherm = True\n",
              "Qobj data =\n",
              "[[0. 0. 0. 0.]\n",
              " [0. 0. 0. 0.]\n",
              " [0. 0. 1. 0.]\n",
              " [0. 0. 0. 0.]]"
            ]
          },
          "execution_count": 26,
          "metadata": {},
          "output_type": "execute_result"
        }
      ],
      "source": [
        "one_rho = basis(2, 1) * basis(2, 1).dag()  # |1><1|\n",
        "initial_state = tensor([one_rho] * 2)\n",
        "\n",
        "# # |00> + |01>\n",
        "# initial_state = tensor([basis(2, 0), basis(2, 0)]) + tensor([basis(2, 0), basis(2, 1)])\n",
        "# initial_state = initial_state * initial_state.dag()\n",
        "\n",
        "# |10>\n",
        "initial_state = tensor([basis(2, 1), basis(2, 0)])\n",
        "initial_state = initial_state * initial_state.dag()\n",
        "\n",
        "initial_state /= initial_state.norm()\n",
        "initial_state = initial_state.full()\n",
        "initial_state = Qobj(initial_state)\n",
        "initial_state"
      ]
    },
    {
      "cell_type": "code",
      "execution_count": 27,
      "metadata": {},
      "outputs": [
        {
          "data": {
            "text/latex": [
              "Quantum object: dims = [[4], [4]], shape = (4, 4), type = oper, isherm = False $ \\\\ \\left(\\begin{matrix}1.0 & 0.0 & 0.0 & 0.0\\\\0.0 & 0.0 & -1.0j & 0.0\\\\0.0 & -1.0j & 0.0 & 0.0\\\\0.0 & 0.0 & 0.0 & 1.0\\\\\\end{matrix}\\right)$"
            ],
            "text/plain": [
              "Quantum object: dims = [[4], [4]], shape = (4, 4), type = oper, isherm = False\n",
              "Qobj data =\n",
              "[[1.+0.j 0.+0.j 0.+0.j 0.+0.j]\n",
              " [0.+0.j 0.+0.j 0.-1.j 0.+0.j]\n",
              " [0.+0.j 0.-1.j 0.+0.j 0.+0.j]\n",
              " [0.+0.j 0.+0.j 0.+0.j 1.+0.j]]"
            ]
          },
          "execution_count": 27,
          "metadata": {},
          "output_type": "execute_result"
        }
      ],
      "source": [
        "gc, gg = np.pi / 2, 0\n",
        "trotter_dt = 0.1\n",
        "duration = 1.0\n",
        "H = ConversionGainInteraction(gc, gg)\n",
        "iswap = H.construct_U(t=duration)\n",
        "iswap = Qobj(iswap, dims=[[4], [4]])\n",
        "iswap"
      ]
    },
    {
      "cell_type": "code",
      "execution_count": 28,
      "metadata": {},
      "outputs": [
        {
          "data": {
            "text/latex": [
              "Quantum object: dims = [[4], [4]], shape = (4, 4), type = oper, isherm = True $ \\\\ \\left(\\begin{matrix}0.0 & 0.0 & 0.0 & 0.0\\\\0.0 & 1.0 & 0.0 & 0.0\\\\0.0 & 0.0 & 0.0 & 0.0\\\\0.0 & 0.0 & 0.0 & 0.0\\\\\\end{matrix}\\right)$"
            ],
            "text/plain": [
              "Quantum object: dims = [[4], [4]], shape = (4, 4), type = oper, isherm = True\n",
              "Qobj data =\n",
              "[[0. 0. 0. 0.]\n",
              " [0. 1. 0. 0.]\n",
              " [0. 0. 0. 0.]\n",
              " [0. 0. 0. 0.]]"
            ]
          },
          "execution_count": 28,
          "metadata": {},
          "output_type": "execute_result"
        }
      ],
      "source": [
        "expected_state = iswap * Qobj(initial_state, dims=iswap.dims) * iswap.dag()\n",
        "expected_state = Qobj(expected_state, dims=initial_state.dims)\n",
        "expected_state"
      ]
    },
    {
      "cell_type": "code",
      "execution_count": 29,
      "metadata": {},
      "outputs": [],
      "source": [
        "class ZZ(Channel):\n",
        "    def __init__(self, chi, num_qubits=2):\n",
        "        \"\"\"\n",
        "        Initialize with a given T2 dephasing time and number of qubits.\n",
        "        \"\"\"\n",
        "        self.chi = chi\n",
        "        self.num_qubits = num_qubits\n",
        "        super().__init__(dims=2**num_qubits)\n",
        "\n",
        "    # NOTE, override this method from the super class, because we don't want to\n",
        "    # be able to extend this to multiple qubits. Definition is hardcoded for 2.\n",
        "    def _init_kraus_operators(self):\n",
        "        \"\"\"\n",
        "        Initialize and extend Kraus operators to multiple qubits.\n",
        "        \"\"\"\n",
        "        self._E = self._create_single_qubit_operators()\n",
        "        self._E = [np.array(E, dtype=complex) for E in self._E]\n",
        "        self._verify_completeness()\n",
        "        return self._E\n",
        "\n",
        "    def _create_single_qubit_operators(self):\n",
        "        \"\"\"\n",
        "        Create single-qubit Kraus operators for phase damping.\n",
        "        \"\"\"\n",
        "        _zz = tensor([sigmaz()] * self.num_qubits)\n",
        "        return [(-1j * self.chi * _zz * np.pi / 2 * self._trotter_dt).expm()]"
      ]
    },
    {
      "cell_type": "code",
      "execution_count": 30,
      "metadata": {},
      "outputs": [],
      "source": [
        "T1, T2 = 1.0, 1.0\n",
        "amp_damp_channel = AmplitudeDamping(T1, num_qubits=2)\n",
        "phase_damp_channel = PhaseDamping(T2, num_qubits=2)\n",
        "\n",
        "\n",
        "def multi_qubit_experiment(\n",
        "    rho_initial, delay, chi, unitary, trotter_step_size=trotter_dt\n",
        "):\n",
        "    \"\"\"Testing tradeoffs between fast iSWAP with strong cross-Kerr (ZZ)\"\"\"\n",
        "\n",
        "    zz_channel = ZZ(chi, num_qubits=2)\n",
        "\n",
        "    trotter = TrotterGroup(\n",
        "        continuous_operators=[amp_damp_channel, phase_damp_channel, zz_channel],\n",
        "        trotter_dt=trotter_step_size,\n",
        "    )\n",
        "\n",
        "    rho_final = trotter.apply(rho_initial, delay, discrete_unitary=unitary)\n",
        "\n",
        "    if unitary is None:\n",
        "        rho_expected = rho_initial\n",
        "    else:\n",
        "        rho_expected = unitary * rho_initial * unitary.dag()\n",
        "\n",
        "    # Calculate the fidelity\n",
        "    fid = fidelity(rho_expected, rho_final)\n",
        "    return rho_final, fid"
      ]
    },
    {
      "cell_type": "code",
      "execution_count": 31,
      "metadata": {},
      "outputs": [
        {
          "name": "stdout",
          "output_type": "stream",
          "text": [
            "1.0\n"
          ]
        },
        {
          "data": {
            "text/latex": [
              "Quantum object: dims = [[4], [4]], shape = (4, 4), type = oper, isherm = True $ \\\\ \\left(\\begin{matrix}0.0 & 0.0 & 0.0 & 0.0\\\\0.0 & 1.0 & 0.0 & 0.0\\\\0.0 & 0.0 & 0.0 & 0.0\\\\0.0 & 0.0 & 0.0 & 0.0\\\\\\end{matrix}\\right)$"
            ],
            "text/plain": [
              "Quantum object: dims = [[4], [4]], shape = (4, 4), type = oper, isherm = True\n",
              "Qobj data =\n",
              "[[0. 0. 0. 0.]\n",
              " [0. 1. 0. 0.]\n",
              " [0. 0. 0. 0.]\n",
              " [0. 0. 0. 0.]]"
            ]
          },
          "execution_count": 31,
          "metadata": {},
          "output_type": "execute_result"
        }
      ],
      "source": [
        "new_state, fid = multi_qubit_experiment(\n",
        "    initial_state, delay=0.0, chi=0.0, unitary=iswap\n",
        ")\n",
        "print(fid)\n",
        "new_state"
      ]
    },
    {
      "cell_type": "code",
      "execution_count": 32,
      "metadata": {},
      "outputs": [
        {
          "name": "stderr",
          "output_type": "stream",
          "text": [
            "  0%|          | 0/20 [00:00<?, ?it/s]"
          ]
        },
        {
          "name": "stderr",
          "output_type": "stream",
          "text": [
            "100%|██████████| 20/20 [04:08<00:00, 12.45s/it]\n"
          ]
        },
        {
          "data": {
            "image/png": "[encoded data removed]",
            "text/plain": [
              "<Figure size 640x480 with 2 Axes>"
            ]
          },
          "metadata": {},
          "output_type": "display_data"
        }
      ],
      "source": [
        "# define the range of delay and chi values\n",
        "delay_range = np.linspace(0, 1, 20)\n",
        "chi_range = np.linspace(0, 1, 20)\n",
        "N = 100  # random initial states\n",
        "\n",
        "# initialize the fidelity array\n",
        "fidelity_array = np.zeros((len(delay_range), len(chi_range)))\n",
        "\n",
        "# iterate over the delay and chi values\n",
        "for i, delay in enumerate(tqdm(delay_range)):\n",
        "    for j, chi in enumerate(chi_range):\n",
        "        # initialize the fidelity sum\n",
        "        fid_sum = 0\n",
        "\n",
        "        # average over N=1000 random initial states\n",
        "        for k in range(N):\n",
        "            # generate a random initial state\n",
        "            rho_initial = rand_dm(4)\n",
        "\n",
        "            # run the experiment and add the fidelity to the sum\n",
        "            _, fid = multi_qubit_experiment(rho_initial, delay, chi, unitary=iswap)\n",
        "            fid_sum += fid\n",
        "\n",
        "        # calculate the average fidelity and store it in the fidelity array\n",
        "        fidelity_array[i, j] = fid_sum / N\n",
        "\n",
        "# plot the fidelity array as a 2D heatmap\n",
        "plt.imshow(fidelity_array, origin=\"lower\", extent=[0, 1, 0, 1], cmap=\"viridis\")\n",
        "plt.xlabel(\"Chi\")\n",
        "plt.ylabel(\"Delay\")\n",
        "plt.colorbar()\n",
        "plt.show()"
      ]
    }
  ],
  "metadata": {
    "kernelspec": {
      "display_name": ".venv",
      "language": "python",
      "name": "python3"
    },
    "language_info": {
      "codemirror_mode": {
        "name": "ipython",
        "version": 3
      },
      "file_extension": ".py",
      "mimetype": "text/x-python",
      "name": "python",
      "nbconvert_exporter": "python",
      "pygments_lexer": "ipython3",
      "version": "3.9.17"
    }
  },
  "nbformat": 4,
  "nbformat_minor": 2
}
