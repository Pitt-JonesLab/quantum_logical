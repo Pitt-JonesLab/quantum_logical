{
  "cells": [
    {
      "cell_type": "code",
      "execution_count": 4,
      "metadata": {},
      "outputs": [],
      "source": [
        "import numpy as np\n",
        "from quantum_logical.error_channel import ErrorChannel\n",
        "from quantum_logical.interaction import ConversionGainInteraction\n",
        "from qutip import Qobj, basis, tensor\n",
        "from qutip.operators import sigmaz\n",
        "from qutip.metrics import fidelity\n",
        "import matplotlib.pyplot as plt\n",
        "import numpy as np\n",
        "from qutip import rand_ket, fidelity\n",
        "from tqdm import tqdm"
      ]
    },
    {
      "cell_type": "code",
      "execution_count": 5,
      "metadata": {},
      "outputs": [
        {
          "data": {
            "text/latex": [
              "Quantum object: dims = [[4], [4]], shape = (4, 4), type = oper, isherm = True $ \\\\ \\left(\\begin{matrix}0.0 & 0.0 & 0.0 & 0.0\\\\0.0 & 0.0 & 0.0 & 0.0\\\\0.0 & 0.0 & 1.0 & 0.0\\\\0.0 & 0.0 & 0.0 & 0.0\\\\\\end{matrix}\\right)$"
            ],
            "text/plain": [
              "Quantum object: dims = [[4], [4]], shape = (4, 4), type = oper, isherm = True\n",
              "Qobj data =\n",
              "[[0. 0. 0. 0.]\n",
              " [0. 0. 0. 0.]\n",
              " [0. 0. 1. 0.]\n",
              " [0. 0. 0. 0.]]"
            ]
          },
          "execution_count": 5,
          "metadata": {},
          "output_type": "execute_result"
        }
      ],
      "source": [
        "one_rho = basis(2, 1) * basis(2, 1).dag()  # |1><1|\n",
        "initial_state = tensor([one_rho] * 2)\n",
        "\n",
        "# # |00> + |01>\n",
        "# initial_state = tensor([basis(2, 0), basis(2, 0)]) + tensor([basis(2, 0), basis(2, 1)])\n",
        "# initial_state = initial_state * initial_state.dag()\n",
        "\n",
        "# |10>\n",
        "initial_state = tensor([basis(2, 1), basis(2, 0)])\n",
        "initial_state = initial_state * initial_state.dag()\n",
        "\n",
        "initial_state /= initial_state.norm()\n",
        "initial_state = initial_state.full()\n",
        "initial_state = Qobj(initial_state)\n",
        "initial_state"
      ]
    },
    {
      "cell_type": "code",
      "execution_count": 6,
      "metadata": {},
      "outputs": [
        {
          "data": {
            "text/latex": [
              "Quantum object: dims = [[2, 2], [2, 2]], shape = (4, 4), type = oper, isherm = False $ \\\\ \\left(\\begin{matrix}1.0 & 0.0 & 0.0 & 0.0\\\\0.0 & 0.0 & -1.0j & 0.0\\\\0.0 & -1.0j & 0.0 & 0.0\\\\0.0 & 0.0 & 0.0 & 1.0\\\\\\end{matrix}\\right)$"
            ],
            "text/plain": [
              "Quantum object: dims = [[2, 2], [2, 2]], shape = (4, 4), type = oper, isherm = False\n",
              "Qobj data =\n",
              "[[1.+0.j 0.+0.j 0.+0.j 0.+0.j]\n",
              " [0.+0.j 0.+0.j 0.-1.j 0.+0.j]\n",
              " [0.+0.j 0.-1.j 0.+0.j 0.+0.j]\n",
              " [0.+0.j 0.+0.j 0.+0.j 1.+0.j]]"
            ]
          },
          "execution_count": 6,
          "metadata": {},
          "output_type": "execute_result"
        }
      ],
      "source": [
        "gc, gg = np.pi / 2, 0\n",
        "trotter_dt = 0.1\n",
        "duration = 1.0\n",
        "H = ConversionGainInteraction(gc, gg)\n",
        "iswap = H.construct_U(t=duration)\n",
        "iswap"
      ]
    },
    {
      "cell_type": "code",
      "execution_count": 7,
      "metadata": {},
      "outputs": [
        {
          "data": {
            "text/latex": [
              "Quantum object: dims = [[4], [4]], shape = (4, 4), type = oper, isherm = True $ \\\\ \\left(\\begin{matrix}0.0 & 0.0 & 0.0 & 0.0\\\\0.0 & 1.0 & 0.0 & 0.0\\\\0.0 & 0.0 & 0.0 & 0.0\\\\0.0 & 0.0 & 0.0 & 0.0\\\\\\end{matrix}\\right)$"
            ],
            "text/plain": [
              "Quantum object: dims = [[4], [4]], shape = (4, 4), type = oper, isherm = True\n",
              "Qobj data =\n",
              "[[0. 0. 0. 0.]\n",
              " [0. 1. 0. 0.]\n",
              " [0. 0. 0. 0.]\n",
              " [0. 0. 0. 0.]]"
            ]
          },
          "execution_count": 7,
          "metadata": {},
          "output_type": "execute_result"
        }
      ],
      "source": [
        "expected_state = iswap * Qobj(initial_state, dims=iswap.dims) * iswap.dag()\n",
        "expected_state = Qobj(expected_state, dims=initial_state.dims)\n",
        "expected_state"
      ]
    },
    {
      "cell_type": "code",
      "execution_count": 8,
      "metadata": {},
      "outputs": [
        {
          "data": {
            "text/latex": [
              "Quantum object: dims = [[4], [4]], shape = (4, 4), type = oper, isherm = True $ \\\\ \\left(\\begin{matrix}0.0 & 0.0 & 0.0 & 0.0\\\\0.0 & 1.0 & 0.0 & 0.0\\\\0.0 & 0.0 & 0.0 & 0.0\\\\0.0 & 0.0 & 0.0 & 0.0\\\\\\end{matrix}\\right)$"
            ],
            "text/plain": [
              "Quantum object: dims = [[4], [4]], shape = (4, 4), type = oper, isherm = True\n",
              "Qobj data =\n",
              "[[0. 0. 0. 0.]\n",
              " [0. 1. 0. 0.]\n",
              " [0. 0. 0. 0.]\n",
              " [0. 0. 0. 0.]]"
            ]
          },
          "execution_count": 8,
          "metadata": {},
          "output_type": "execute_result"
        }
      ],
      "source": [
        "class MultiQubitErrorChannel(ErrorChannel):\n",
        "    \"\"\"A class for error channels that can be applied to multi-qubit systems.\"\"\"\n",
        "\n",
        "    def __init__(self, chi, trotter_dt):\n",
        "        \"\"\"\n",
        "        Initializes with given arrays of T1 and T2 times for each qubit, and a trotter step size.\n",
        "        \"\"\"\n",
        "        self.N = 2\n",
        "        self.chi = chi\n",
        "        self.num_qubits = 2\n",
        "        dims = 2**self.num_qubits\n",
        "        self.trotter_dt = trotter_dt\n",
        "        super().__init__(trotter_dt, dims)\n",
        "\n",
        "    def _init_kraus_operators(self):\n",
        "        \"\"\"\n",
        "        Creates the multi-qubit Kraus operators for the error channels.\n",
        "        \"\"\"\n",
        "        zz = tensor(sigmaz(), sigmaz())\n",
        "        return [(-1j * self.chi * zz * np.pi / 2 * self.trotter_dt).expm()]\n",
        "\n",
        "\n",
        "noise_channel = MultiQubitErrorChannel(chi=0, trotter_dt=1.0)\n",
        "new_state = noise_channel.apply_error_channel(\n",
        "    initial_state, duration, unitary=iswap, use_rust=False\n",
        ")\n",
        "new_state"
      ]
    },
    {
      "cell_type": "code",
      "execution_count": 9,
      "metadata": {},
      "outputs": [
        {
          "data": {
            "text/plain": [
              "1.0"
            ]
          },
          "execution_count": 9,
          "metadata": {},
          "output_type": "execute_result"
        }
      ],
      "source": [
        "fidelity(new_state, expected_state)"
      ]
    },
    {
      "cell_type": "code",
      "execution_count": 10,
      "metadata": {},
      "outputs": [
        {
          "data": {
            "text/latex": [
              "Quantum object: dims = [[4], [4]], shape = (4, 4), type = oper, isherm = True $ \\\\ \\left(\\begin{matrix}0.0 & 0.0 & 0.0 & 0.0\\\\0.0 & 0.0 & 0.0 & 0.0\\\\0.0 & 0.0 & 1.0 & 0.0\\\\0.0 & 0.0 & 0.0 & 0.0\\\\\\end{matrix}\\right)$"
            ],
            "text/plain": [
              "Quantum object: dims = [[4], [4]], shape = (4, 4), type = oper, isherm = True\n",
              "Qobj data =\n",
              "[[0. 0. 0. 0.]\n",
              " [0. 0. 0. 0.]\n",
              " [0. 0. 1. 0.]\n",
              " [0. 0. 0. 0.]]"
            ]
          },
          "execution_count": 10,
          "metadata": {},
          "output_type": "execute_result"
        }
      ],
      "source": [
        "initial_state"
      ]
    },
    {
      "cell_type": "code",
      "execution_count": 11,
      "metadata": {},
      "outputs": [
        {
          "name": "stderr",
          "output_type": "stream",
          "text": [
            "20it [00:27,  1.39s/it]\n"
          ]
        },
        {
          "data": {
            "image/png": "[encoded data removed]",
            "text/plain": [
              "<Figure size 400x400 with 1 Axes>"
            ]
          },
          "metadata": {},
          "output_type": "display_data"
        }
      ],
      "source": [
        "# Parameters\n",
        "num_random_states = 1000  # Number of random states for Monte Carlo sampling\n",
        "chi_values = np.linspace(0, 1, 20)  # Varying chi\n",
        "average_fidelities = np.zeros(len(chi_values))\n",
        "\n",
        "for i, chi in tqdm(enumerate(chi_values)):\n",
        "    total_fidelity = 0\n",
        "    noise_channel = MultiQubitErrorChannel(chi, trotter_dt)\n",
        "\n",
        "    for _ in range(num_random_states):\n",
        "        # Generate a random initial state\n",
        "        random_initial_state = rand_ket(2**2)  # Adjust for the correct dimension\n",
        "        random_initial_state = random_initial_state * random_initial_state.dag()\n",
        "\n",
        "        # Apply the quantum operation\n",
        "        new_state = noise_channel.apply_error_channel(\n",
        "            random_initial_state, duration, unitary=iswap, use_rust=False\n",
        "        )\n",
        "\n",
        "        # Compute the expected state\n",
        "        expected_state = (\n",
        "            iswap * Qobj(random_initial_state, dims=iswap.dims) * iswap.dag()\n",
        "        )\n",
        "        expected_state = Qobj(expected_state, dims=random_initial_state.dims)\n",
        "\n",
        "        # Calculate and accumulate fidelity\n",
        "        total_fidelity += fidelity(new_state, expected_state)\n",
        "\n",
        "    # Compute the average fidelity\n",
        "    average_fidelities[i] = total_fidelity / num_random_states\n",
        "\n",
        "# Plotting the results\n",
        "plt.figure(figsize=(4, 4))\n",
        "plt.plot(chi_values, average_fidelities, \"o-\")\n",
        "plt.xlabel(\"Cross-Kerr Strength (chi)\")\n",
        "plt.ylabel(\"Average Fidelity\")\n",
        "plt.title(\"Average Fidelity of Output State in 2D Parameter Space\")\n",
        "plt.show()"
      ]
    }
  ],
  "metadata": {
    "kernelspec": {
      "display_name": ".venv",
      "language": "python",
      "name": "python3"
    },
    "language_info": {
      "codemirror_mode": {
        "name": "ipython",
        "version": 3
      },
      "file_extension": ".py",
      "mimetype": "text/x-python",
      "name": "python",
      "nbconvert_exporter": "python",
      "pygments_lexer": "ipython3",
      "version": "3.9.17"
    }
  },
  "nbformat": 4,
  "nbformat_minor": 2
}
