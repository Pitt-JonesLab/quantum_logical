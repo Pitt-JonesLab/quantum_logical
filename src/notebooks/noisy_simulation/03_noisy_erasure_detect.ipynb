{
  "cells": [
    {
      "cell_type": "code",
      "execution_count": null,
      "metadata": {},
      "outputs": [],
      "source": [
        "# set up a qutrit in the codespace\n",
        "# |psi> = 1/sqrt(2) * [|g> + |f>]\n",
        "\n",
        "# evolve the state using our channels\n",
        "\n",
        "# apply an iSwap_ee to an ancilla,\n",
        "# measure the ancilla,\n",
        "# classically conditioned re-encoding (if we measure a |e>)"
      ]
    }
  ],
  "metadata": {
    "language_info": {
      "name": "python"
    }
  },
  "nbformat": 4,
  "nbformat_minor": 2
}
