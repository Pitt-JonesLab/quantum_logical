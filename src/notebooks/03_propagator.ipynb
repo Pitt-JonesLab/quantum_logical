{
  "cells": [
    {
      "cell_type": "code",
      "execution_count": null,
      "metadata": {},
      "outputs": [],
      "source": [
        "from functools import reduce\n",
        "\n",
        "import matplotlib.pyplot as plt\n",
        "import numpy as np\n",
        "import qutip as qt\n",
        "from quantum_logical import Pulse, DressedQuantumSystem\n",
        "from quantum_logical.hamiltonian import QubitSNAILModule\n",
        "from quantum_logical.mode import QubitMode, SNAILMode\n",
        "from qutip import Options\n",
        "\n",
        "from tqdm import tqdm\n",
        "from scipy.optimize import minimize\n",
        "import scienceplots\n",
        "\n",
        "\n",
        "opts = {\"nsteps\": 1e6, \"atol\": 1e-9, \"rtol\": 1e-7}  # , \"progress_bar\": \"text\"}"
      ]
    },
    {
      "cell_type": "code",
      "execution_count": null,
      "metadata": {},
      "outputs": [],
      "source": [
        "# Initial qubit frequencies and SNAIL frequency\n",
        "freqs = np.array([5.06167, 4.54944, 4.16829])  # q1, q2, q3 frequencies\n",
        "snail_freq = 4.27515  # SNAIL frequency\n",
        "\n",
        "# freqs, snail_freq = ([4.0, 6.0, 4.665925514174542], 5.667593107281823)"
      ]
    },
    {
      "cell_type": "code",
      "execution_count": null,
      "metadata": {},
      "outputs": [],
      "source": [
        "qubit_dim = 2\n",
        "qubit1 = QubitMode(name=\"q1\", dim=qubit_dim, freq=freqs[0])\n",
        "qubit2 = QubitMode(name=\"q2\", dim=qubit_dim, freq=freqs[1])\n",
        "qubit3 = QubitMode(name=\"q3\", dim=qubit_dim, freq=freqs[2])\n",
        "qubits = [qubit1, qubit2, qubit3]\n",
        "snail = SNAILMode(name=\"s\", freq=snail_freq, g3=0.3, dim=10, T1=1e3, T2=5e2)\n",
        "\n",
        "# define couplings so hybridizations are all equal\n",
        "# g/delta = 0.1 for all qubits\n",
        "g2_0 = 0.1 * np.abs(snail.freq - qubit1.freq)\n",
        "g2_1 = 0.1 * np.abs(snail.freq - qubit2.freq)\n",
        "g2_2 = 0.1 * np.abs(snail.freq - qubit3.freq)\n",
        "_couplings = {\n",
        "    frozenset([qubit1, snail]): g2_0,\n",
        "    frozenset([qubit2, snail]): g2_1,\n",
        "    frozenset([qubit3, snail]): g2_2,\n",
        "}\n",
        "\n",
        "qs = DressedQuantumSystem(\n",
        "    qubits + [snail], couplings=_couplings, hamiltonian_cls=QubitSNAILModule\n",
        ")"
      ]
    },
    {
      "cell_type": "code",
      "execution_count": null,
      "metadata": {},
      "outputs": [],
      "source": [
        "# (undressed) expectation operators\n",
        "e_ops = [qs.modes_num[m] for m in qs.modes]\n",
        "\n",
        "# collapse operators\n",
        "c_ops = []\n",
        "# for mode in qs.modes:\n",
        "#    c_ops.append(mode.collapse_operators(qs))"
      ]
    },
    {
      "cell_type": "code",
      "execution_count": null,
      "metadata": {},
      "outputs": [],
      "source": [
        "# create an initial state\n",
        "# |0> \\otimes |1> \\otimes |0> \\otimes |0>\n",
        "psi0 = qs.prepare_approx_state([(qubit2, 1)])\n",
        "rho0 = psi0 * psi0.dag()"
      ]
    },
    {
      "cell_type": "code",
      "execution_count": null,
      "metadata": {},
      "outputs": [],
      "source": [
        "# FIXME, main downside here is that we correctly want to define the action of\n",
        "# the ancillae qubits as identity; but the action of the SNAIL should be undefined.\n",
        "# This is because the action on SNAIL definitely won't be identity, but physically\n",
        "# since SNAIL has short lifetime we know it will decay reliably to the ground state.\n",
        "# However, our simulation doesn't necessarily include SNAIL loss channels. Therefore,\n",
        "# the ideal action should be defined over the qubits only- not the SNAIL.\n",
        "\n",
        "from qutip_qip.operations import iswap\n",
        "\n",
        "desired_U = iswap()  # The iSWAP gate for a 2-qubit system\n",
        "\n",
        "# Create isometries for qubit 1 and qubit 2 to extend the {g, e} subspace action to the full qubit space\n",
        "identity_isometry = (\n",
        "    qt.basis(qubit_dim, 0) * qt.basis(2, 0).dag()\n",
        "    + qt.basis(qubit_dim, 1) * qt.basis(2, 1).dag()\n",
        ")\n",
        "identity_isometry = qt.tensor(identity_isometry, identity_isometry)\n",
        "\n",
        "# Apply the isometry to extend the gate action to the complete system\n",
        "extended_q1_q2 = identity_isometry * desired_U * identity_isometry.dag()\n",
        "\n",
        "# Tensor with identity matrices for the remaining qubits and the SNAIL mode\n",
        "# Skip the first two qubits as they're already included\n",
        "# Skip the last index as it's the SNAIL mode\n",
        "for mode in qs.modes[2:-1]:\n",
        "    extended_q1_q2 = qt.tensor(extended_q1_q2, qt.qeye(mode.dim))\n",
        "\n",
        "# The extended_iswap_q1_q2 now acts as the desired iSWAP gate on {g, e} of qubits 1 and 2, and as identity on the rest\n",
        "desired_U = extended_q1_q2\n",
        "\n",
        "# act on qubit space only\n",
        "qubit_rho0 = rho0.ptrace(range(len(qubits)))\n",
        "expected_qubit_rho = qt.Qobj(desired_U * qubit_rho0 * desired_U.dag())"
      ]
    },
    {
      "cell_type": "code",
      "execution_count": null,
      "metadata": {},
      "outputs": [],
      "source": [
        "width_d = 300  # ns\n",
        "off_d = 20\n",
        "# args = {\"shape\": Pulse.box, \"shape_params\": {\"t0\": off_d, \"width\": width_d}}\n",
        "args = {\"shape\": Pulse.smoothbox, \"shape_params\": {\"t0\": off_d, \"width\": width_d}}\n",
        "full_time = np.linspace(0, width_d + 2 * off_d, 500)\n",
        "wp = np.abs(qubit1.freq - qubit2.freq)\n",
        "pulse = Pulse(omega=wp, amp=6.5)\n",
        "\n",
        "# Plot the Gaussian pulse shape\n",
        "Pulse.plot_pulse([(pulse, args)], full_time)"
      ]
    },
    {
      "cell_type": "code",
      "execution_count": null,
      "metadata": {},
      "outputs": [],
      "source": [
        "# single period Pulse\n",
        "wp = np.abs(qubit1.freq - qubit2.freq)\n",
        "T = 2 * np.pi / wp\n",
        "period_time = np.linspace(0, T, 250)  # a single period of the pulse\n",
        "args = {\"shape\": Pulse.constant}\n",
        "pulse = Pulse(omega=wp, amp=6.5)\n",
        "Pulse.plot_pulse([(pulse, args)], period_time)"
      ]
    },
    {
      "cell_type": "code",
      "execution_count": null,
      "metadata": {},
      "outputs": [],
      "source": [
        "def mesolve_task(omega_amp_tuple):\n",
        "    omega, amp = omega_amp_tuple\n",
        "    pulse = Pulse(omega=omega, amp=amp)\n",
        "    args = {\"shape\": Pulse.smoothbox, \"shape_params\": {\"t0\": off_d, \"width\": width_d}}\n",
        "    H_pump = qs.hamiltonian.driven_term(snail_mode=snail)\n",
        "    H = [qs.hamiltonian.H0, [H_pump, pulse.drive]]\n",
        "    result = qt.mesolve(H, psi0, full_time, c_ops, options=opts, args=args)\n",
        "    return [(t, state) for t, state in zip(result.times, result.states)]\n",
        "\n",
        "\n",
        "def _construct_propagator(omega_amp_tuple):\n",
        "    omega, amp = omega_amp_tuple\n",
        "    T = 2 * np.pi / omega\n",
        "    pulse = Pulse(omega=omega, amp=amp)\n",
        "    H_pump = qs.hamiltonian.driven_term(snail_mode=snail)\n",
        "    H = [qs.hamiltonian.H0, [H_pump, pulse.drive]]\n",
        "    U_t = qt.propagator(H, T, c_ops, args=args, options=opts)\n",
        "\n",
        "    # off pump\n",
        "    pulse_off = Pulse(omega=omega, amp=0)\n",
        "    H_off = [qs.hamiltonian.H0, [H_pump, pulse_off.drive]]\n",
        "    U_off = qt.propagator(H_off, off_d, c_ops, args=args, options=opts)\n",
        "    return U_t, U_off\n",
        "\n",
        "\n",
        "def _construct_full_propagator(omega_amp_tuple):\n",
        "    # create total time evolution operator\n",
        "    omega, amp = omega_amp_tuple\n",
        "    T = 2 * np.pi / omega\n",
        "    U_t, U_off = _construct_propagator(omega_amp_tuple)\n",
        "    n_periods = int(width_d / T)\n",
        "    U_total = U_off * (U_t**n_periods) * U_off\n",
        "    return U_total, full_time[-1]\n",
        "\n",
        "\n",
        "def propagator_task(omega_amp_tuple) -> qt.Qobj:\n",
        "    omega, amp = omega_amp_tuple\n",
        "    T = 2 * np.pi / omega\n",
        "    n_periods = int(width_d / T)\n",
        "    U_t, U_off = _construct_propagator((omega, amp))\n",
        "    states = [rho0]\n",
        "    times = [0]\n",
        "\n",
        "    # initial off pulse\n",
        "    rho_tt = qt.Qobj(U_off * rho0 * U_off.dag())\n",
        "    states.append(rho_tt)\n",
        "    times.append(off_d)\n",
        "\n",
        "    for _ in range(n_periods):\n",
        "        rho_tt = qt.Qobj(U_t * rho_tt * U_t.dag())\n",
        "        states.append(rho_tt)\n",
        "        times.append(times[-1] + T)\n",
        "\n",
        "    # final off pulse\n",
        "    rho_tt = qt.Qobj(U_off * rho_tt * U_off.dag())\n",
        "    states.append(rho_tt)\n",
        "    times.append(times[-1] + off_d)\n",
        "\n",
        "    return [(t, state) for t, state in zip(times, states)]\n",
        "\n",
        "\n",
        "def plot_expected_occupations(result_obj):\n",
        "    # Prepare plot\n",
        "    plt.figure(figsize=(6, 6))\n",
        "\n",
        "    times = [t for t, _ in result_obj]\n",
        "\n",
        "    # Collect data for all modes\n",
        "    for mode in qs.modes_num:\n",
        "        populations = [\n",
        "            np.abs(qt.expect(qs.modes_num[mode], state)) for _, state in result_obj\n",
        "        ]\n",
        "        # Plot each mode's population over time\n",
        "        plt.plot(times, populations, label=mode.name, marker=\"o\")\n",
        "\n",
        "    # Setting plot labels and title\n",
        "    plt.xlabel(\"Time (ns)\")\n",
        "    plt.ylabel(\"Expected Population\")\n",
        "    plt.title(\"Expected Population of Modes Over Time\")\n",
        "    plt.legend()\n",
        "    plt.grid(True)\n",
        "\n",
        "    # Show plot\n",
        "    plt.show()\n",
        "\n",
        "\n",
        "# final state fidelity\n",
        "def extract_state_fidelity(result_obj):\n",
        "    final_state = result_obj[-1][1]\n",
        "    qubit_rhof = final_state.ptrace(range(len(qubits)))\n",
        "    return qt.fidelity(qubit_rhof, expected_qubit_rho)"
      ]
    },
    {
      "cell_type": "code",
      "execution_count": null,
      "metadata": {},
      "outputs": [],
      "source": [
        "me_result = mesolve_task((wp + 0.0535, 14.15))\n",
        "plot_expected_occupations(me_result)\n",
        "extract_state_fidelity(me_result)"
      ]
    },
    {
      "cell_type": "code",
      "execution_count": null,
      "metadata": {},
      "outputs": [],
      "source": [
        "def reduced_mesolve_task(omega_amp_tuple):\n",
        "    omega, amp = omega_amp_tuple\n",
        "    pulse = Pulse(omega=omega, amp=amp)\n",
        "    args = {\"shape\": Pulse.smoothbox, \"shape_params\": {\"t0\": off_d, \"width\": width_d}}\n",
        "    H_pump = qs.hamiltonian.driven_term(snail_mode=snail)\n",
        "    H = [qs.hamiltonian.H0, [H_pump, pulse.drive]]\n",
        "    result = qt.mesolve(H, psi0, full_time, c_ops, options=opts, args=args)\n",
        "    return result.states[-1]\n",
        "\n",
        "\n",
        "amp_list = np.linspace(0, 25, 10)\n",
        "detuning_list = np.linspace(5, 10, 25)  # Mhz\n",
        "# convert detuning to rad/ns\n",
        "omega_list = wp + (detuning_list * 2 * np.pi / 1000)\n",
        "omega_amp_tuples = [(w, a) for w in omega_list for a in amp_list]\n",
        "\n",
        "parallel_me_results = qt.parallel_map(\n",
        "    reduced_mesolve_task, omega_amp_tuples, progress_bar=\"text\"\n",
        ")\n",
        "\n",
        "fidelity_list = []\n",
        "for state in parallel_me_results:\n",
        "    final_state = state.ptrace(range(len(qubits)))\n",
        "    fidelity = qt.fidelity(final_state, expected_qubit_rho)\n",
        "    fidelity_list.append(fidelity)"
      ]
    },
    {
      "cell_type": "code",
      "execution_count": 60,
      "metadata": {},
      "outputs": [
        {
          "data": {
            "image/png": "[encoded data removed]",
            "text/plain": [
              "<Figure size 600x600 with 2 Axes>"
            ]
          },
          "metadata": {},
          "output_type": "display_data"
        }
      ],
      "source": [
        "# Transform fidelity_list to a 2D array\n",
        "fidelity_array = np.array(fidelity_list).reshape(len(omega_list), len(amp_list))\n",
        "\n",
        "# Use plt.style.context for the 'ipynb' style\n",
        "with plt.style.context([]):\n",
        "    fig, ax = plt.subplots(figsize=(6, 6))  # Adjust figure size for better aesthetics\n",
        "\n",
        "    # Plot the 2D color plot\n",
        "    cax = ax.imshow(\n",
        "        fidelity_array,\n",
        "        extent=(amp_list[0], amp_list[-1], detuning_list[0], detuning_list[-1]),\n",
        "        aspect=\"auto\",\n",
        "        origin=\"lower\",\n",
        "        cmap=\"viridis\",\n",
        "    )\n",
        "\n",
        "    # Add a color bar\n",
        "    cbar = fig.colorbar(cax)\n",
        "    cbar.set_label(\"Fidelity\")\n",
        "\n",
        "    # Set axis labels\n",
        "    ax.set_xlabel(\"Detuning (MHz)\")\n",
        "    ax.set_ylabel(\"Amplitude\")\n",
        "\n",
        "    # Set title\n",
        "    ax.set_title(\"Fidelity of iSWAP gate\")\n",
        "    # Display the plot\n",
        "    plt.show()"
      ]
    },
    {
      "cell_type": "code",
      "execution_count": 59,
      "metadata": {},
      "outputs": [
        {
          "name": "stdout",
          "output_type": "stream",
          "text": [
            "Maximum Fidelity: 0.9995480336939736\n",
            "Corresponding Detuning (MHz): 8.333333333333334\n",
            "Corresponding Amplitude: 13.88888888888889\n"
          ]
        }
      ],
      "source": [
        "# Step 1: Find the index of the maximum fidelity value\n",
        "max_fidelity_index = np.argmax(fidelity_array)\n",
        "\n",
        "# Step 2: Convert the flat index to a pair of indices for detuning and amplitude\n",
        "omega_index, amp_index = np.unravel_index(max_fidelity_index, fidelity_array.shape)\n",
        "\n",
        "# Step 3: Retrieve the corresponding detuning and amplitude values\n",
        "max_detuning = detuning_list[omega_index]\n",
        "max_amplitude = amp_list[amp_index]\n",
        "max_fidelity = fidelity_array[omega_index, amp_index]\n",
        "\n",
        "# Print the results\n",
        "print(f\"Maximum Fidelity: {max_fidelity}\")\n",
        "print(f\"Corresponding Detuning (MHz): {max_detuning}\")\n",
        "print(f\"Corresponding Amplitude: {max_amplitude}\")"
      ]
    },
    {
      "cell_type": "code",
      "execution_count": null,
      "metadata": {},
      "outputs": [],
      "source": [
        "prop_result = propagator_task((wp + 0.0535, 14.15))\n",
        "plot_expected_occupations(prop_result)\n",
        "extract_state_fidelity(prop_result)"
      ]
    },
    {
      "cell_type": "code",
      "execution_count": null,
      "metadata": {},
      "outputs": [],
      "source": [
        "U_tot, duration = _construct_full_propagator((wp + 0.0535, 14.15))\n",
        "# define fidelity using the unitary with SNAIL mode removed\n",
        "qubit_desired_U = desired_U.ptrace(range(len(qubits)))\n",
        "qubit_U_tot = U_tot.ptrace(range(len(qubits)))\n",
        "qt.average_gate_fidelity(qubit_U_tot, target=qubit_desired_U)"
      ]
    },
    {
      "cell_type": "code",
      "execution_count": null,
      "metadata": {},
      "outputs": [],
      "source": [
        "qubit_U_tot.isunitary"
      ]
    },
    {
      "cell_type": "code",
      "execution_count": null,
      "metadata": {},
      "outputs": [],
      "source": [
        "prop_result = propagator_task((wp + 0.0535, 14.15))\n",
        "plot_expected_occupations(prop_result)\n",
        "extract_state_fidelity(prop_result)"
      ]
    }
  ],
  "metadata": {
    "kernelspec": {
      "display_name": ".venv",
      "language": "python",
      "name": "python3"
    },
    "language_info": {
      "codemirror_mode": {
        "name": "ipython",
        "version": 3
      },
      "file_extension": ".py",
      "mimetype": "text/x-python",
      "name": "python",
      "nbconvert_exporter": "python",
      "pygments_lexer": "ipython3",
      "version": "3.11.9"
    }
  },
  "nbformat": 4,
  "nbformat_minor": 2
}
