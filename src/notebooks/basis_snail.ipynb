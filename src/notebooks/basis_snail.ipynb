{
  "cells": [
    {
      "cell_type": "code",
      "execution_count": 21,
      "metadata": {},
      "outputs": [],
      "source": [
        "# naively implementing CNOT on dual-rail\n",
        "from qutip import tensor, basis, Qobj\n",
        "import numpy as np\n",
        "from quantum_logical.basis import SNAILConcatWithAncilla\n",
        "from quantum_logical.unitary_util import ImplicitUnitaryGate\n",
        "from qiskit.circuit.library import HGate, CXGate, iSwapGate\n",
        "from qiskit import QuantumCircuit\n",
        "from weylchamber import c1c2c3\n",
        "from qiskit.quantum_info import Operator\n",
        "from qiskit import transpile"
      ]
    },
    {
      "cell_type": "markdown",
      "metadata": {},
      "source": [
        "Load the dualrail encoding and convert HGate and CNOT gate into logical gates\n"
      ]
    },
    {
      "cell_type": "code",
      "execution_count": 22,
      "metadata": {},
      "outputs": [
        {
          "name": "stdout",
          "output_type": "stream",
          "text": [
            "[[1.+0.j 0.+0.j]\n",
            " [0.+0.j 1.+0.j]\n",
            " [0.+0.j 0.+0.j]]\n"
          ]
        }
      ],
      "source": [
        "# U = |g><0| + |e><1|\n",
        "# transform computational into qutrit computational\n",
        "op_ge = (basis(3, 0) * basis(2, 0).dag() + basis(3, 1) * basis(2, 1).dag()).full()\n",
        "print(op_ge)"
      ]
    },
    {
      "cell_type": "code",
      "execution_count": 23,
      "metadata": {},
      "outputs": [
        {
          "name": "stdout",
          "output_type": "stream",
          "text": [
            "[[0.+0.j 0.+0.j]\n",
            " [1.+0.j 0.+0.j]\n",
            " [0.+0.j 1.+0.j]]\n"
          ]
        }
      ],
      "source": [
        "# U = |e><0| + |f><1|\n",
        "# transform computational into qutrit computational\n",
        "op_ef = (basis(3, 1) * basis(2, 0).dag() + basis(3, 2) * basis(2, 1).dag()).full()\n",
        "print(op_ef)"
      ]
    },
    {
      "cell_type": "code",
      "execution_count": 24,
      "metadata": {},
      "outputs": [
        {
          "name": "stdout",
          "output_type": "stream",
          "text": [
            "[[1.+0.j 0.+0.j]\n",
            " [0.+0.j 0.+0.j]\n",
            " [0.+0.j 1.+0.j]]\n"
          ]
        }
      ],
      "source": [
        "# U = |g><0| + |f><1|\n",
        "# transform Qiskit computational into gf transmon basis\n",
        "op_gf = (basis(3, 0) * basis(2, 0).dag() + basis(3, 2) * basis(2, 1).dag()).full()\n",
        "print(op_gf)"
      ]
    },
    {
      "cell_type": "code",
      "execution_count": 25,
      "metadata": {},
      "outputs": [],
      "source": [
        "encoding = SNAILConcatWithAncilla()\n",
        "# U = |+++><0| + |---><1|\n",
        "op = encoding.logical_basis.transform_operator.full()\n",
        "# print(op)"
      ]
    },
    {
      "cell_type": "code",
      "execution_count": 7,
      "metadata": {},
      "outputs": [
        {
          "name": "stdout",
          "output_type": "stream",
          "text": [
            "[[ 0.125+0.j  0.125+0.j  0.125+0.j  0.125+0.j]\n",
            " [ 0.   +0.j  0.   +0.j  0.   +0.j  0.   +0.j]\n",
            " [ 0.125+0.j -0.125+0.j  0.125+0.j -0.125+0.j]\n",
            " ...\n",
            " [ 0.125+0.j  0.125+0.j -0.125+0.j -0.125+0.j]\n",
            " [ 0.   +0.j  0.   +0.j -0.   +0.j -0.   +0.j]\n",
            " [ 0.125+0.j -0.125+0.j -0.125+0.j  0.125-0.j]]\n"
          ]
        }
      ],
      "source": [
        "# for 2 qubits\n",
        "# U = |++++++><00| + |+++---><01| + |---+++><10| + |---><11|\n",
        "print(np.kron(op, op))"
      ]
    },
    {
      "cell_type": "code",
      "execution_count": 8,
      "metadata": {},
      "outputs": [],
      "source": [
        "# A' = U @ A @ U^dag\n",
        "new_op = op @ HGate().to_matrix() @ op.conj().T\n",
        "# logical_h = ImplicitUnitaryGate(new_op) #qudit breaks UnitaryGate\n",
        "logical_h = ImplicitUnitaryGate.create_unitary_from_implicit_operator(new_op)\n",
        "# print(logical_h)"
      ]
    },
    {
      "cell_type": "code",
      "execution_count": 9,
      "metadata": {},
      "outputs": [
        {
          "name": "stdout",
          "output_type": "stream",
          "text": [
            "[[ 1.00000000e+00  0.00000000e+00 -3.08148791e-33 ... -3.08148791e-33\n",
            "   0.00000000e+00  3.08148791e-33]\n",
            " [ 0.00000000e+00  1.00000000e+00  0.00000000e+00 ...  0.00000000e+00\n",
            "   0.00000000e+00  0.00000000e+00]\n",
            " [-3.08148791e-33  0.00000000e+00  1.00000000e+00 ...  3.08148791e-33\n",
            "   0.00000000e+00 -3.08148791e-33]\n",
            " ...\n",
            " [ 3.08148791e-33  0.00000000e+00 -3.08148791e-33 ...  9.37500000e-01\n",
            "   0.00000000e+00  6.25000000e-02]\n",
            " [ 0.00000000e+00  0.00000000e+00  0.00000000e+00 ...  0.00000000e+00\n",
            "   1.00000000e+00  0.00000000e+00]\n",
            " [-3.08148791e-33  0.00000000e+00  3.08148791e-33 ...  6.25000000e-02\n",
            "   0.00000000e+00  9.37500000e-01]]\n"
          ]
        }
      ],
      "source": [
        "# A' = U @ A @ U^dag\n",
        "new_op = np.kron(op, op) @ CXGate().to_matrix() @ np.kron(op, op).conj().T\n",
        "logical_cnot = ImplicitUnitaryGate.create_unitary_from_implicit_operator(new_op)\n",
        "print(np.real(logical_cnot))"
      ]
    },
    {
      "cell_type": "code",
      "execution_count": 10,
      "metadata": {},
      "outputs": [
        {
          "data": {
            "image/png": "[encoded data removed]",
            "text/plain": [
              "<Figure size 287.496x535.111 with 1 Axes>"
            ]
          },
          "metadata": {},
          "output_type": "display_data"
        }
      ],
      "source": [
        "# explore basis gates in the encoding\n",
        "# gates in the circuit will be applied to the gf transmon basis\n",
        "N = 6\n",
        "\n",
        "tensor_op = op_gf\n",
        "for _ in range(N - 1):\n",
        "    tensor_op = np.kron(op_gf, tensor_op)\n",
        "\n",
        "qc = QuantumCircuit(6)\n",
        "# YOUR GATE HERE\n",
        "# qc.iswap(2,3)\n",
        "qc.append(iSwapGate().power(1 / 2), [2, 4])\n",
        "# qc.append(iSwapGate().power(1 / 8), [1, 4])\n",
        "# qc.append(iSwapGate().power(1 / 8), [0, 3])\n",
        "display(qc.draw(\"mpl\"))\n",
        "\n",
        "# what does this gate do on the encoding?\n",
        "cz_op = Operator(qc).data\n",
        "\n",
        "# first need to transform into gf basis\n",
        "cz_op_gf = tensor_op @ cz_op @ tensor_op.conj().T"
      ]
    },
    {
      "cell_type": "code",
      "execution_count": 58,
      "metadata": {},
      "outputs": [
        {
          "name": "stdout",
          "output_type": "stream",
          "text": [
            "[[ 1.00000000e+00+3.53553391e-01j -6.16297582e-33+5.95262989e-19j\n",
            "   2.77555756e-17+0.00000000e+00j  6.16297582e-33+0.00000000e+00j]\n",
            " [-6.16297582e-33-5.95262989e-19j  1.00000000e+00-3.53553391e-01j\n",
            "   6.16297582e-33+0.00000000e+00j  2.77555756e-17+0.00000000e+00j]\n",
            " [ 2.77555756e-17+0.00000000e+00j  6.16297582e-33+0.00000000e+00j\n",
            "   1.00000000e+00-3.53553391e-01j -6.16297582e-33-5.95262989e-19j]\n",
            " [ 6.16297582e-33+0.00000000e+00j  2.77555756e-17+0.00000000e+00j\n",
            "  -6.16297582e-33+5.95262989e-19j  1.00000000e+00+3.53553391e-01j]]\n",
            "(0.2163469, 0.0, 0.0)\n"
          ]
        }
      ],
      "source": [
        "# A = U^dag @ A' @ U\n",
        "new_op = np.kron(op, op).conj().T @ cz_op_gf @ np.kron(op, op)\n",
        "logical_cnot = ImplicitUnitaryGate.create_unitary_from_implicit_operator(new_op)\n",
        "print(logical_cnot)\n",
        "\n",
        "# inspect the resulting logical 2Q gate\n",
        "print(c1c2c3(logical_cnot))"
      ]
    },
    {
      "cell_type": "code",
      "execution_count": 42,
      "metadata": {},
      "outputs": [],
      "source": [
        "# I am not sure the following example works because an iswap between ge composed with an iswap between ef\n",
        "# I find it reduces to an identity gate on the erasure encoding\n",
        "\n",
        "\n",
        "def apply_gate_to_qutrits(gate, qutrit_positions, N):\n",
        "    \"\"\"\n",
        "    Apply a specified gate to specified qutrits in a larger qutrit register.\n",
        "\n",
        "    Parameters:\n",
        "    - gate: The gate to be applied, as a matrix.\n",
        "    - qutrit_positions: A list of the qutrits on which the gate should be applied.\n",
        "    - N: The total number of qutrits in the system.\n",
        "\n",
        "    Returns:\n",
        "    - The resulting operation for the entire system.\n",
        "    \"\"\"\n",
        "    # Start with an identity operation for the full system\n",
        "    full_operation = np.eye(3**N, dtype=complex)\n",
        "\n",
        "    # For simplicity, let's handle the 2-qutrit case first\n",
        "    if len(qutrit_positions) == 2:\n",
        "        # Compute the indices in the full operation matrix\n",
        "        # where the gate should be inserted\n",
        "        for i in range(3):\n",
        "            for j in range(3):\n",
        "                row = 3 * qutrit_positions[0] + i\n",
        "                col = 3 * qutrit_positions[1] + j\n",
        "                full_operation[row, col] = gate[i, j]\n",
        "                # /tmp/ipykernel_343/1787588528.py:24: ComplexWarning: Casting complex values to real discards the imaginary part\n",
        "\n",
        "    # TODO: Handle cases where len(qutrit_positions) > 2, if necessary\n",
        "\n",
        "    return full_operation"
      ]
    },
    {
      "cell_type": "code",
      "execution_count": 64,
      "metadata": {},
      "outputs": [
        {
          "name": "stdout",
          "output_type": "stream",
          "text": [
            "iswap_ge @ iswap_ef\n",
            "[[1.+0.j 0.+0.j 0.+0.j 0.+0.j 0.+0.j 0.+0.j 0.+0.j 0.+0.j 0.+0.j]\n",
            " [0.+0.j 0.+0.j 0.+0.j 0.+1.j 0.+0.j 0.+0.j 0.+0.j 0.+0.j 0.+0.j]\n",
            " [0.+0.j 0.+0.j 1.+0.j 0.+0.j 0.+0.j 0.+0.j 0.+0.j 0.+0.j 0.+0.j]\n",
            " [0.+0.j 0.+1.j 0.+0.j 0.+0.j 0.+0.j 0.+0.j 0.+0.j 0.+0.j 0.+0.j]\n",
            " [0.+0.j 0.+0.j 0.+0.j 0.+0.j 1.+0.j 0.+0.j 0.+0.j 0.+0.j 0.+0.j]\n",
            " [0.+0.j 0.+0.j 0.+0.j 0.+0.j 0.+0.j 0.+0.j 0.+0.j 0.+1.j 0.+0.j]\n",
            " [0.+0.j 0.+0.j 0.+0.j 0.+0.j 0.+0.j 0.+0.j 1.+0.j 0.+0.j 0.+0.j]\n",
            " [0.+0.j 0.+0.j 0.+0.j 0.+0.j 0.+0.j 0.+1.j 0.+0.j 0.+0.j 0.+0.j]\n",
            " [0.+0.j 0.+0.j 0.+0.j 0.+0.j 0.+0.j 0.+0.j 0.+0.j 0.+0.j 1.+0.j]]\n",
            "(729, 729)\n",
            "project back to computational basis\n",
            "[[ 1.00000000e+00+0.j -6.16297582e-33+0.j  1.38777878e-17+0.j\n",
            "   6.16297582e-33+0.j]\n",
            " [-6.16297582e-33+0.j  1.00000000e+00+0.j  6.16297582e-33+0.j\n",
            "   1.38777878e-17+0.j]\n",
            " [ 1.38777878e-17+0.j  6.16297582e-33+0.j  1.00000000e+00+0.j\n",
            "  -6.16297582e-33+0.j]\n",
            " [ 6.16297582e-33+0.j  1.38777878e-17+0.j -6.16297582e-33+0.j\n",
            "   1.00000000e+00+0.j]]\n",
            "(0.0, 0.0, 0.0)\n"
          ]
        }
      ],
      "source": [
        "iswap_ge = (\n",
        "    np.kron(op_ge, op_ge) @ iSwapGate().to_matrix() @ np.kron(op_ge, op_ge).conj().T\n",
        ")\n",
        "iswap_ge = ImplicitUnitaryGate.create_unitary_from_implicit_operator(iswap_ge)\n",
        "iswap_ef = (\n",
        "    np.kron(op_ef, op_ef) @ iSwapGate().to_matrix() @ np.kron(op_ef, op_ef).conj().T\n",
        ")\n",
        "iswap_ef = ImplicitUnitaryGate.create_unitary_from_implicit_operator(iswap_ef)\n",
        "\n",
        "# compose the two gates\n",
        "iswap_ge_ef = iswap_ef @ iswap_ge\n",
        "\n",
        "print(\"iswap_ge @ iswap_ef\")\n",
        "print(iswap_ge_ef)\n",
        "\n",
        "# Apply iswap_ge_ef to qutrits 2 and 3 of a 6-qutrit system\n",
        "resulting_gate = apply_gate_to_qutrits(iswap_ge_ef, [0, 5], 6)\n",
        "print(resulting_gate.shape)\n",
        "\n",
        "# convert back to computational\n",
        "print(\"project back to computational basis\")\n",
        "new_op = np.kron(op, op).conj().T @ resulting_gate @ np.kron(op, op)\n",
        "print(new_op)\n",
        "\n",
        "# inspect the resulting logical 2Q gate\n",
        "print(c1c2c3(new_op))"
      ]
    },
    {
      "cell_type": "markdown",
      "metadata": {},
      "source": [
        "Current speculative basis gate is 5 wave, medium murky.\n",
        "Definitely in the Hamiltonian, but not ideal since expensive (and speed limits)\n",
        "\n",
        "Issue is likely will be slower, so we don't know if it will buy us an advantage.\n",
        "Needs to buy advantage in gate counts if will be a slower basis.\n",
        "\n",
        "In order to not have 5 wave, advice is to not be afraid of leaving the code space.\n",
        "Is fine as long as error rates\n",
        "\n",
        "# alternative mechansim:\n",
        "\n",
        "|fg> to |ee>, then |ee> to |gf> (two-step process consisting of 3 wave gates)\n",
        "See fig1: https://arxiv.org/pdf/2302.06707.pdf\n",
        "\n",
        "# XXX my notation of ladder operators should be same as how Mingkang does it\n",
        "\n",
        "my operators are implicitly truncated, but a is really infinite Hilbert space\n",
        "so a is really a_ge, etc\n",
        "\n",
        "# refactor code, so operators are the H instead of the U\n",
        "\n",
        "use U=e^-iHt\n",
        "\n",
        "# TODO adding the phase terms to the operators\n"
      ]
    }
  ],
  "metadata": {
    "kernelspec": {
      "display_name": ".venv",
      "language": "python",
      "name": "python3"
    },
    "language_info": {
      "codemirror_mode": {
        "name": "ipython",
        "version": 3
      },
      "file_extension": ".py",
      "mimetype": "text/x-python",
      "name": "python",
      "nbconvert_exporter": "python",
      "pygments_lexer": "ipython3",
      "version": "3.9.17"
    },
    "orig_nbformat": 4
  },
  "nbformat": 4,
  "nbformat_minor": 2
}
