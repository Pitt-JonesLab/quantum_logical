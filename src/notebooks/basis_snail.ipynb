{
 "cells": [
  {
   "cell_type": "code",
   "execution_count": 8,
   "metadata": {},
   "outputs": [],
   "source": [
    "# naively implementing CNOT on dual-rail\n",
    "from qutip import tensor, basis, Qobj\n",
    "import numpy as np\n",
    "from quantum_logical.basis import SNAILConcatWithAncilla\n",
    "from quantum_logical.unitary_util import ImplicitUnitaryGate\n",
    "from qiskit.circuit.library import HGate, CXGate, iSwapGate\n",
    "from qiskit import QuantumCircuit\n",
    "from weylchamber import c1c2c3\n",
    "from qiskit.quantum_info import Operator\n",
    "from qiskit import transpile"
   ]
  },
  {
   "cell_type": "markdown",
   "metadata": {},
   "source": [
    "Load the dualrail encoding and convert HGate and CNOT gate into logical gates\n"
   ]
  },
  {
   "cell_type": "code",
   "execution_count": 66,
   "metadata": {},
   "outputs": [
    {
     "name": "stdout",
     "output_type": "stream",
     "text": [
      "[[1.+0.j 0.+0.j]\n",
      " [0.+0.j 0.+0.j]\n",
      " [0.+0.j 1.+0.j]]\n"
     ]
    }
   ],
   "source": [
    "# U = |g><0| + |f><1|\n",
    "# transform Qiskit computational into gf transmon basis\n",
    "op_gf = (basis(3, 0) * basis(2, 0).dag() + basis(3, 2) * basis(2, 1).dag()).full()\n",
    "print(op)"
   ]
  },
  {
   "cell_type": "code",
   "execution_count": 80,
   "metadata": {},
   "outputs": [],
   "source": [
    "encoding = SNAILConcatWithAncilla()\n",
    "# U = |+++><0| + |---><1|\n",
    "op = encoding.logical_basis.transform_operator.full()\n",
    "# print(op)"
   ]
  },
  {
   "cell_type": "code",
   "execution_count": 78,
   "metadata": {},
   "outputs": [
    {
     "name": "stdout",
     "output_type": "stream",
     "text": [
      "[[ 0.125+0.j  0.125+0.j  0.125+0.j  0.125+0.j]\n",
      " [ 0.   +0.j  0.   +0.j  0.   +0.j  0.   +0.j]\n",
      " [ 0.125+0.j -0.125+0.j  0.125+0.j -0.125+0.j]\n",
      " ...\n",
      " [ 0.125+0.j  0.125+0.j -0.125+0.j -0.125+0.j]\n",
      " [ 0.   +0.j  0.   +0.j -0.   +0.j -0.   +0.j]\n",
      " [ 0.125+0.j -0.125+0.j -0.125+0.j  0.125-0.j]]\n"
     ]
    }
   ],
   "source": [
    "# for 2 qubits\n",
    "# U = |++++++><00| + |+++---><01| + |---+++><10| + |---><11|\n",
    "print(np.kron(op, op))"
   ]
  },
  {
   "cell_type": "code",
   "execution_count": 83,
   "metadata": {},
   "outputs": [],
   "source": [
    "# A' = U @ A @ U^dag\n",
    "new_op = op @ HGate().to_matrix() @ op.conj().T\n",
    "# logical_h = ImplicitUnitaryGate(new_op) #qudit breaks UnitaryGate\n",
    "logical_h = ImplicitUnitaryGate.create_unitary_from_implicit_operator(new_op)\n",
    "# print(logical_h)"
   ]
  },
  {
   "cell_type": "code",
   "execution_count": 84,
   "metadata": {},
   "outputs": [
    {
     "name": "stdout",
     "output_type": "stream",
     "text": [
      "[[ 1.00000000e+00  0.00000000e+00 -3.08148791e-33 ... -3.08148791e-33\n",
      "   0.00000000e+00  3.08148791e-33]\n",
      " [ 0.00000000e+00  1.00000000e+00  0.00000000e+00 ...  0.00000000e+00\n",
      "   0.00000000e+00  0.00000000e+00]\n",
      " [-3.08148791e-33  0.00000000e+00  1.00000000e+00 ...  3.08148791e-33\n",
      "   0.00000000e+00 -3.08148791e-33]\n",
      " ...\n",
      " [ 3.08148791e-33  0.00000000e+00 -3.08148791e-33 ...  9.37500000e-01\n",
      "   0.00000000e+00  6.25000000e-02]\n",
      " [ 0.00000000e+00  0.00000000e+00  0.00000000e+00 ...  0.00000000e+00\n",
      "   1.00000000e+00  0.00000000e+00]\n",
      " [-3.08148791e-33  0.00000000e+00  3.08148791e-33 ...  6.25000000e-02\n",
      "   0.00000000e+00  9.37500000e-01]]\n"
     ]
    }
   ],
   "source": [
    "# A' = U @ A @ U^dag\n",
    "new_op = np.kron(op, op) @ CXGate().to_matrix() @ np.kron(op, op).conj().T\n",
    "logical_cnot = ImplicitUnitaryGate.create_unitary_from_implicit_operator(new_op)\n",
    "print(np.real(logical_cnot))"
   ]
  },
  {
   "cell_type": "code",
   "execution_count": 112,
   "metadata": {},
   "outputs": [
    {
     "data": {
      "image/png": "[encoded data removed]",
      "text/plain": [
       "<Figure size 287.496x535.111 with 1 Axes>"
      ]
     },
     "metadata": {},
     "output_type": "display_data"
    }
   ],
   "source": [
    "# explore basis gates in the encoding\n",
    "# gates in the circuit will be applied to the gf transmon basis\n",
    "N = 6\n",
    "\n",
    "tensor_op = op_gf\n",
    "for _ in range(N - 1):\n",
    "    tensor_op = np.kron(op_gf, tensor_op)\n",
    "\n",
    "qc = QuantumCircuit(6)\n",
    "# YOUR GATE HERE\n",
    "# qc.iswap(2,3)\n",
    "qc.append(iSwapGate().power(1 / 2), [2, 3])\n",
    "display(qc.draw(\"mpl\"))\n",
    "\n",
    "# what does this gate do on the encoding?\n",
    "cz_op = Operator(qc).data\n",
    "\n",
    "# first need to transform into gf basis\n",
    "cz_op_gf = tensor_op @ cz_op @ tensor_op.conj().T"
   ]
  },
  {
   "cell_type": "code",
   "execution_count": 113,
   "metadata": {},
   "outputs": [
    {
     "name": "stdout",
     "output_type": "stream",
     "text": [
      "[[ 1.00000000e+00 -6.16297582e-33 -1.38777878e-17  5.95262989e-19]\n",
      " [-6.16297582e-33  1.00000000e+00  5.95262989e-19 -1.38777878e-17]\n",
      " [-1.38777878e-17  5.95262989e-19  1.00000000e+00 -6.16297582e-33]\n",
      " [ 5.95262989e-19 -1.38777878e-17 -6.16297582e-33  1.00000000e+00]]\n",
      "(0.2163469, 0.0, 0.0)\n"
     ]
    }
   ],
   "source": [
    "# A = U^dag @ A' @ U\n",
    "new_op = np.kron(op, op).conj().T @ cz_op_gf @ np.kron(op, op)\n",
    "logical_cnot = ImplicitUnitaryGate.create_unitary_from_implicit_operator(new_op)\n",
    "print(np.real(logical_cnot))\n",
    "\n",
    "# looks like we built a much cheaper CNOT :)\n",
    "print(c1c2c3(logical_cnot))"
   ]
  }
 ],
 "metadata": {
  "kernelspec": {
   "display_name": ".venv",
   "language": "python",
   "name": "python3"
  },
  "language_info": {
   "codemirror_mode": {
    "name": "ipython",
    "version": 3
   },
   "file_extension": ".py",
   "mimetype": "text/x-python",
   "name": "python",
   "nbconvert_exporter": "python",
   "pygments_lexer": "ipython3",
   "version": "3.9.17"
  },
  "orig_nbformat": 4
 },
 "nbformat": 4,
 "nbformat_minor": 2
}
