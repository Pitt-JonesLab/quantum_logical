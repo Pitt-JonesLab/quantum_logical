{
 "cells": [
  {
   "cell_type": "code",
   "execution_count": 362,
   "metadata": {},
   "outputs": [],
   "source": [
    "import numpy as np\n",
    "import qutip as qt\n",
    "\n",
    "import numpy as np\n",
    "from qutip import Options\n",
    "import qutip as qt\n",
    "from qutip import ket2dm\n",
    "from quantum_logical.pulsesim import QuantumSystem, Pulse\n",
    "from quantum_logical.pulsesim.mode import QubitMode, SNAILMode, CavityMode\n",
    "import matplotlib.pyplot as plt\n",
    "from itertools import product\n",
    "from tqdm.notebook import tqdm\n",
    "import cmath\n",
    "from scipy.optimize import curve_fit"
   ]
  },
  {
   "cell_type": "code",
   "execution_count": 429,
   "metadata": {},
   "outputs": [],
   "source": [
    "max_fid = []\n",
    "lambda_power = []"
   ]
  },
  {
   "cell_type": "code",
   "execution_count": 430,
   "metadata": {},
   "outputs": [],
   "source": [
    "# build the four qubit system\n",
    "qubit_dim = 2\n",
    "\n",
    "w1_un = 4\n",
    "w2_un = 6\n",
    "w3_un = 4.000001\n",
    "w4_un = 5.999999\n",
    "ws_un = 6 - (1 / 3) * (1 / 2)\n",
    "\n",
    "\n",
    "qubit1 = QubitMode(\n",
    "    name=\"q1\", dim=2, freq=w1_un, alpha=-0.161, T1=1e2, T2=5e1\n",
    ")\n",
    "qubit2 = QubitMode(\n",
    "    name=\"q2\", dim=2, freq=w2_un, alpha=-0.1275, T1=1e2, T2=5e1\n",
    ")\n",
    "qubit3 = QubitMode(\n",
    "    name=\"q3\", dim=2, freq=w3_un, alpha=-0.160, T1=1e2, T2=5e1\n",
    ")\n",
    "qubit4 = QubitMode(\n",
    "    name=\"q4\", dim=2, freq=w4_un, alpha=-0.159, T1=1e2, T2=5e1\n",
    ")\n",
    "qubits = [qubit1, qubit2, qubit3, qubit4]\n",
    "snail = SNAILMode(name=\"s\", freq=ws_un, g3=0.3, dim=10, T1=1e3, T2=5e2)\n",
    "_couplings = {\n",
    "    frozenset([qubit1, snail]): 2 * np.pi * 0.05467,\n",
    "    frozenset([qubit2, snail]): 2 * np.pi * 0.0435,\n",
    "    frozenset([qubit3, snail]): 2 * np.pi * 0.04875,\n",
    "}\n",
    "\n",
    "qs = QuantumSystem(qubits + [snail], couplings=_couplings)"
   ]
  },
  {
   "cell_type": "code",
   "execution_count": 431,
   "metadata": {},
   "outputs": [],
   "source": [
    "# important multipliers and hamiltonian prefactors \n",
    "l1 = l2 = l3 = .1\n",
    "\n",
    "w1 = qubit1.freq / (2 * np.pi) \n",
    "w2 = qubit2.freq / (2 * np.pi) \n",
    "w3 = qubit3.freq / (2 * np.pi)  \n",
    "w4 = qubit4.freq / (2 * np.pi) \n",
    "ws = snail.freq / (2 * np.pi)\n",
    "\n",
    "# time over which to optimize\n",
    "T = 100\n",
    "\n",
    "#pump(drive) frequency\n",
    "# wp = w1 - w2\n",
    "wp = w2 - w1"
   ]
  },
  {
   "cell_type": "code",
   "execution_count": 432,
   "metadata": {},
   "outputs": [],
   "source": [
    "# unchanged terms of hamiltonian\n",
    "H_no_time = 6*(l1**2)*(qs.modes_a[qubit1]*qs.modes_a_dag[qubit2] + qs.modes_a[qubit2]*qs.modes_a_dag[qubit1])\n",
    "\n",
    "#terms that come from the gate that is desired that do not go to one\n",
    "qubit1_qubit2_adj_H = 6*(l1**2)*qs.modes_a[qubit1]*qs.modes_a_dag[qubit2]\n",
    "qubit1_adj_qubit2_H = 6*(l1**2)*qs.modes_a[qubit2]*qs.modes_a_dag[qubit1]\n",
    "\n",
    "H_main_qubits = [\n",
    "H_no_time,\n",
    "qubit1_qubit2_adj_H,\n",
    "qubit1_adj_qubit2_H\n",
    "]\n"
   ]
  },
  {
   "cell_type": "code",
   "execution_count": 433,
   "metadata": {},
   "outputs": [],
   "source": [
    "# cell that will determine over which lambda power to evaluate\n",
    "\n",
    "qubit3_qubit2_adj_H = qs.modes_a[qubit3]*qs.modes_a_dag[qubit2]\n",
    "qubit3_adj_qubit2_H = qs.modes_a[qubit2]*qs.modes_a_dag[qubit3]\n",
    "qubit4_qubit2_adj_H = qs.modes_a[qubit4]*qs.modes_a_dag[qubit2]\n",
    "qubit4_adj_qubit2_H = qs.modes_a[qubit2]*qs.modes_a_dag[qubit4]\n",
    "qubit3_qubit1_adj_H = qs.modes_a[qubit3]*qs.modes_a_dag[qubit1]\n",
    "qubit3_adj_qubit1_H = qs.modes_a[qubit1]*qs.modes_a_dag[qubit3]\n",
    "qubit4_qubit1_adj_H = qs.modes_a[qubit4]*qs.modes_a_dag[qubit1]\n",
    "qubit4_adj_qubit1_H = qs.modes_a[qubit1]*qs.modes_a_dag[qubit4]\n",
    "\n",
    "H_added = [\n",
    "qubit3_qubit2_adj_H,\n",
    "qubit3_adj_qubit2_H,\n",
    "qubit4_qubit2_adj_H,\n",
    "qubit4_adj_qubit2_H,\n",
    "qubit3_qubit1_adj_H,\n",
    "qubit3_adj_qubit1_H,\n",
    "qubit4_qubit1_adj_H,\n",
    "qubit4_adj_qubit1_H\n",
    "]\n"
   ]
  },
  {
   "cell_type": "code",
   "execution_count": 462,
   "metadata": {},
   "outputs": [],
   "source": [
    "H_modified = []\n",
    "def choose_lambda(choice):\n",
    "    for i in range(len(H_added)):\n",
    "        if(choice == 2):\n",
    "            H_modified.append(6 * (l1**2) * H_added[i])\n",
    "        elif(choice == 3):\n",
    "            H_modified.append(6 * (l1**3) * H_added[i])\n",
    "        elif(choice == 4):\n",
    "            H_modified.append(6 * (l1**4) * H_added[i])\n",
    "        elif(choice == 5):\n",
    "            H_modified.append(6 * (l1**5) * H_added[i])\n",
    "        elif(choice == 6):\n",
    "            H_modified.append(6 * (l1**6) * H_added[i])\n",
    "\n",
    "    return H_modified\n",
    "\n",
    "\n",
    "# combine all of the hamiltonian terms into one list\n",
    "H_total = []\n",
    "H_total.extend(H_main_qubits)\n",
    "# call in the function \n",
    "choice = 6\n",
    "H_mod = choose_lambda(choice)\n",
    "lambda_power.append(choice)\n",
    "H_total.extend(H_mod)"
   ]
  },
  {
   "cell_type": "code",
   "execution_count": 463,
   "metadata": {},
   "outputs": [],
   "source": [
    "# build the pulses for the unitary \n",
    "def int_func(w1,w2,wp,t):\n",
    "    a=((np.exp(-1j*(w1-w2+wp)*t))/(-1j*(w1-w2+wp)) - (1/(-1j*(w1-w2+wp))))\n",
    "    return a\n",
    "\n",
    "def int_func_conj_wp(w1,w2,wp,t):\n",
    "     a = ((np.exp(-1j*(w1-w2-wp)*t))/(-1j*(w1-w2-wp)) - (1/(-1j*(w1-w2-wp))))\n",
    "     return a\n",
    "\n",
    "def int_func_conj(w1,w2,wp,t):\n",
    "    a = ((np.exp(1j*(w1-w2+wp)*t))/(1j*(w1-w2+wp)) - (1/(1j*(w1-w2+wp))))\n",
    "    return a \n",
    "\n",
    "def int_func_conj_wp_conj(w1,w2,wp,t):\n",
    "    a = ((np.exp(1j*(w1-w2-wp)*t))/(1j*(w1-w2-wp)) - (1/(1j*(w1-w2-wp))))\n",
    "    return a\n",
    "\n",
    "T = 100\n",
    "\n",
    "qubit1_qubit2_adj_val = int_func_conj_wp(w1,w2,wp,T)\n",
    "qubit1_adj_qubit2_val = int_func_conj_wp_conj(w1,w2,wp,T)\n",
    "qubit1_qubit3_adj_val = int_func(w1,w3,wp,T) + int_func_conj_wp(w1,w3,wp,T)\n",
    "qubit2_qubit3_adj_val = int_func(w2,w3,wp,T) + int_func_conj_wp(w2,w3,wp,T)\n",
    "qubit1_adj_qubit3_val = int_func(w3,w1,wp,T) + int_func_conj_wp(w3,w1,wp,T)\n",
    "qubit2_adj_qubit3_val = int_func(w3,w2,wp,T) + int_func_conj_wp(w3,w2,wp,T)\n",
    "qubit1_qubit4_adj_val = int_func(w1,w4,wp,T) + int_func_conj_wp(w1,w4,wp,T)\n",
    "qubit2_qubit4_adj_val = int_func(w2,w4,wp,T) + int_func_conj_wp(w2,w4,wp,T)\n",
    "qubit1_adj_qubit4_val = int_func(w4,w1,wp,T) + int_func_conj_wp(w4,w1,wp,T)\n",
    "qubit2_adj_qubit4_val = int_func(w4,w2,wp,T) + int_func_conj_wp(w4,w2,wp,T)\n",
    "\n",
    "# building the time_multiplier list \n",
    "T_mult = [\n",
    "T,\n",
    "qubit1_qubit2_adj_val,\n",
    "qubit1_adj_qubit2_val,\n",
    "qubit2_adj_qubit3_val,\n",
    "qubit2_qubit3_adj_val,\n",
    "qubit2_adj_qubit4_val,\n",
    "qubit2_qubit4_adj_val,\n",
    "qubit1_adj_qubit3_val,\n",
    "qubit1_qubit3_adj_val,\n",
    "qubit1_adj_qubit4_val,\n",
    "qubit1_qubit4_adj_val\n",
    "]"
   ]
  },
  {
   "cell_type": "code",
   "execution_count": 464,
   "metadata": {},
   "outputs": [],
   "source": [
    "# determine the amount of modules in the system \n",
    "# takes care of the hamiltonian terms and the pulse terms \n",
    "def mod_amount(count):\n",
    "    H_tot = []\n",
    "    ts = []\n",
    "    ts.append(T_mult[0])\n",
    "    ts.append(T_mult[1])\n",
    "    ts.append(T_mult[2])\n",
    "    H_tot.extend(H_main_qubits)\n",
    "    for j in range(count):\n",
    "        for i in range(3,len(H_total)):\n",
    "            H_tot.append(H_total[i])\n",
    "            ts.append(T_mult[i])\n",
    "\n",
    "    return [H_tot, ts]\n",
    "\n",
    "res = mod_amount(1)"
   ]
  },
  {
   "cell_type": "code",
   "execution_count": 465,
   "metadata": {},
   "outputs": [],
   "source": [
    "# extract out the hamiltonian and the time multiplier from the mod count results \n",
    "multiplier_times = res[1]\n",
    "H = res[0]"
   ]
  },
  {
   "cell_type": "code",
   "execution_count": 466,
   "metadata": {},
   "outputs": [],
   "source": [
    "# build the desired unitary \n",
    "# U_targ = U = qt.tensor(qt.qip.operations.iswap(N=2),qt.qeye(2),qt.identity(cavity.dim))\n",
    "desired_U = qt.qip.operations.iswap()  # The iSWAP gate for a 2-qubit system\n",
    "\n",
    "# Create isometries for qubit 1 and qubit 2 to extend the {g, e} subspace action to the full qubit space\n",
    "identity_isometry = (\n",
    "    qt.basis(qubit_dim, 0) * qt.basis(2, 0).dag()\n",
    "    + qt.basis(qubit_dim, 1) * qt.basis(2, 1).dag()\n",
    ")\n",
    "identity_isometry = qt.tensor(identity_isometry, identity_isometry)\n",
    "\n",
    "# Apply the isometry to extend the gate action\n",
    "extended_q1_q2 = identity_isometry * desired_U * identity_isometry.dag()\n",
    "\n",
    "# Tensor with identity matrices for the remaining qubits and the SNAIL mode\n",
    "for mode in qs.modes[2:]:  # Skip the first two qubits as they're already included\n",
    "    extended_q1_q2 = qt.tensor(extended_q1_q2, qt.qeye(mode.dim))\n",
    "\n",
    "# The extended_iswap_q1_q2 now acts as the desired iSWAP gate on {g, e} of qubits 1 and 2, and as identity on the rest\n",
    "desired_U = extended_q1_q2"
   ]
  },
  {
   "cell_type": "code",
   "execution_count": 467,
   "metadata": {},
   "outputs": [],
   "source": [
    "# build the designed unitary\n",
    "# run the fidelity analysis over the expected gate \n",
    "amps = np.linspace(0,8,100)\n",
    "results = []\n",
    "fids = []\n",
    "\n",
    "for i in amps:\n",
    "    eta = ((2 * wp) / ((wp**2) - (ws**2))) * i\n",
    "    Z = []\n",
    "    for j in range(len(H)):\n",
    "        \n",
    "        Z.append(eta * H[j] * multiplier_times[j])\n",
    "\n",
    "    w = sum(Z)\n",
    "    U_propagator = (-1j * w).expm()\n",
    "\n",
    "    #calculate the fidelity\n",
    "    fid = np.abs(qt.average_gate_fidelity(desired_U, U_propagator))\n",
    "    results.append([i,fid])\n",
    "    fids.append(fid)\n"
   ]
  },
  {
   "cell_type": "code",
   "execution_count": 468,
   "metadata": {},
   "outputs": [
    {
     "data": {
      "text/plain": [
       "0.9997064884877738"
      ]
     },
     "execution_count": 468,
     "metadata": {},
     "output_type": "execute_result"
    }
   ],
   "source": [
    "# extract the highest fidelity observed \n",
    "max_fid.append(max(fids))\n",
    "max(fids)"
   ]
  },
  {
   "cell_type": "code",
   "execution_count": 470,
   "metadata": {},
   "outputs": [
    {
     "data": {
      "text/plain": [
       "Text(0, 0.5, 'max fidelity achieved')"
      ]
     },
     "execution_count": 470,
     "metadata": {},
     "output_type": "execute_result"
    },
    {
     "data": {
      "image/png": "[encoded data removed]",
      "text/plain": [
       "<Figure size 640x480 with 1 Axes>"
      ]
     },
     "metadata": {},
     "output_type": "display_data"
    }
   ],
   "source": [
    "# plot of max fidelity vs power of lambda\n",
    "fig, ax = plt.subplots()\n",
    "ax.plot(lambda_power,max_fid)\n",
    "ax.set_title(\"Fidelity vs closeness(one modules)\")\n",
    "ax.set_xlabel(\"power of lambda\")\n",
    "ax.set_ylabel(\"max fidelity achieved\")\n"
   ]
  },
  {
   "cell_type": "code",
   "execution_count": null,
   "metadata": {},
   "outputs": [],
   "source": []
  }
 ],
 "metadata": {
  "kernelspec": {
   "display_name": "venv",
   "language": "python",
   "name": "python3"
  },
  "language_info": {
   "codemirror_mode": {
    "name": "ipython",
    "version": 3
   },
   "file_extension": ".py",
   "mimetype": "text/x-python",
   "name": "python",
   "nbconvert_exporter": "python",
   "pygments_lexer": "ipython3",
   "version": "3.9.12"
  }
 },
 "nbformat": 4,
 "nbformat_minor": 2
}
