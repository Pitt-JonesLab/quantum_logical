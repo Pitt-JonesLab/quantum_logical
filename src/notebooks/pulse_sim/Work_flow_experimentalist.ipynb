{
 "cells": [
  {
   "cell_type": "markdown",
   "metadata": {},
   "source": [
    "Start the workflow program \n",
    "1. Create the list of inputs (time is very closely related to the g2 max that will be given here)\n",
    "2. Create the lowering and raising operators for the qubits and the hilbert space\n",
    "3. Build the set of operator combinations (All terms will have a different coefficient)\n",
    "4. Impliment the ability to have multiple copies of a gate \n",
    "5. Run the simulation with qubits being varied and then average over the first extra qubit then do the same thing but holding that extra qubit at the best point\n",
    "6. Give the list of relevant outputs (the topology that this was made for and the set of frequencies that can be used to create the system for an experimentalist)"
   ]
  },
  {
   "cell_type": "code",
   "execution_count": 1,
   "metadata": {},
   "outputs": [],
   "source": [
    "import numpy as np\n",
    "import qutip as qt\n",
    "import h5py \n",
    "from quantum_logical.pulsesim import QuantumSystem, Pulse\n",
    "from quantum_logical.pulsesim.mode import QubitMode, SNAILMode, CavityMode\n",
    "from quantum_logical.pulsesim.build_hamiltonian import Build_hamiltonian\n",
    "import matplotlib.pyplot as plt\n",
    "from itertools import product\n",
    "from quantum_logical.work_flow import Work_flow\n",
    "from quantum_logical.Work_flow_general import Work_flow1\n",
    "from tqdm import tqdm"
   ]
  },
  {
   "cell_type": "code",
   "execution_count": 2,
   "metadata": {},
   "outputs": [
    {
     "data": {
      "text/plain": [
       "QuantumSystem([QubitMode(name=q1, freq=4.0 GHz, dim=2), QubitMode(name=q2, freq=2.0 GHz, dim=2), QubitMode(name=q3, freq=2.5 GHz, dim=2), QubitMode(name=q4, freq=3.0 GHz, dim=2), SNAILMode(name=s, freq=29.321531433504735 GHz, dim=10)])"
      ]
     },
     "execution_count": 2,
     "metadata": {},
     "output_type": "execute_result"
    }
   ],
   "source": [
    "dim = 2\n",
    "Qubit_modes = []\n",
    "freq_list = [4,2,2.5,3]\n",
    "for i in range(len(freq_list)):\n",
    "            Qubit_modes.append(QubitMode(mode_type = \"Qubit\",\n",
    "            name=f\"q{i + 1}\", dim=dim, freq=freq_list[i], alpha=-0.161, T1=1e2, T2=5e1\n",
    "        ))\n",
    "        \n",
    "\n",
    "ws = Qubit_modes[0].freq + ((Qubit_modes[0].freq - Qubit_modes[1].freq) / 3)\n",
    "\n",
    "snail = SNAILMode(mode_type = \"Snail\", name=\"s\", freq=ws, g3=0.3, dim=10, T1=1e3, T2=5e2)\n",
    "_couplings = {\n",
    "    frozenset([Qubit_modes[0], snail]): 2 * np.pi * 0.05467,\n",
    "    frozenset([Qubit_modes[1], snail]): 2 * np.pi * 0.0435,\n",
    "    frozenset([Qubit_modes[2], snail]): 2 * np.pi * 0.04875,\n",
    "}\n",
    "\n",
    "qs = QuantumSystem(Qubit_modes + [snail], couplings=_couplings)\n",
    "qs\n"
   ]
  },
  {
   "cell_type": "code",
   "execution_count": 3,
   "metadata": {},
   "outputs": [],
   "source": [
    "# inputs \n",
    "# all frequencies will be given in GHz\n",
    "Lambda = .1 # try to make this constant for all of the qubit-snail connections\n",
    "# lambda is made from the strength of the connection between two objects divided by the separation of those two object's frequencies (lambda_as = g_as / w_a - w_s)\n",
    "time_iswap = 100 # this is nanoseconds\n",
    "# g2_max = \n",
    "qubit_1_freq = 4\n",
    "Freq_range = 2\n",
    "Target_fid = .999\n",
    "# Report topology target as a number of how many qubits surround one SNAIL \n",
    "Topology_target = 4 # total number of qubits in the system"
   ]
  },
  {
   "cell_type": "code",
   "execution_count": 4,
   "metadata": {},
   "outputs": [],
   "source": [
    "# it makes sense that the first two qubits are the ones that are being driven because otherwise this becomes complex on the iswap side"
   ]
  },
  {
   "cell_type": "code",
   "execution_count": 5,
   "metadata": {},
   "outputs": [],
   "source": [
    "# frequencies declared\n",
    "w1_un = 4\n",
    "w2_un = w1_un + Freq_range\n",
    "\n",
    "resolution = 10\n",
    "\n",
    "# creating a list of qubit frequency for the new qubits \n",
    "freq_list = []\n",
    "for i in range(Topology_target - 2):\n",
    "    freq_list.append(np.linspace(w1_un + .00000000001, w2_un - .00000000001, resolution))\n",
    "\n",
    "comb_list_freq = list(product(freq_list[0], freq_list[1]))"
   ]
  },
  {
   "cell_type": "code",
   "execution_count": 6,
   "metadata": {},
   "outputs": [],
   "source": [
    "# # the values passed in via the pumped_qubits term is not taking into account array ordering it starts at 1 not 0 \n",
    "# a = Work_flow(num_qubits=4, lamb=Lambda, freq_list=[4.0, 6.0, comb_list_freq[1][0], comb_list_freq[1][1]], pumped_qubits=[1, 2]) \n",
    "# a.calibrator()"
   ]
  },
  {
   "cell_type": "markdown",
   "metadata": {},
   "source": [
    "The code that is written is now generalized and should be fully functional \n",
    "The only thing now is to gather the data and analyze it which may involve another function but then spit out the results in a 3d plot frequency 1 and frequency 2 and fidelity"
   ]
  },
  {
   "cell_type": "code",
   "execution_count": 7,
   "metadata": {},
   "outputs": [],
   "source": [
    "# calibrating the gate\n",
    "c = Work_flow1(num_qubits=4, lamb=Lambda, pumped_qubits=[1, 2])\n",
    "f, eta = c.calibrator(freq_list=[4.0, 6.0, comb_list_freq[1][0], comb_list_freq[1][1]])"
   ]
  },
  {
   "cell_type": "code",
   "execution_count": 8,
   "metadata": {},
   "outputs": [],
   "source": [
    "# comb_list_freq[241]\n",
    "# need to debug the code for the if statement in the cells below "
   ]
  },
  {
   "cell_type": "code",
   "execution_count": 9,
   "metadata": {},
   "outputs": [],
   "source": [
    "# result arrays \n",
    "fidelities_lam_pow_2 = []\n",
    "frequency_list_lam_pow_2 = []\n",
    "alt_iswap_fid2 = []\n",
    "alt_iswap_fid3 = []\n",
    "alt_iswap_fid = []"
   ]
  },
  {
   "cell_type": "markdown",
   "metadata": {},
   "source": [
    "you might be able to keep the part that is commented out as long as you make sure that the qubit frequencies never overlap or else this will break down"
   ]
  },
  {
   "cell_type": "code",
   "execution_count": 10,
   "metadata": {},
   "outputs": [
    {
     "name": "stderr",
     "output_type": "stream",
     "text": [
      "100%|██████████| 100/100 [03:38<00:00,  2.19s/it]\n"
     ]
    }
   ],
   "source": [
    "# incase this cell is run again without running the rest of the code \n",
    "# the fix to this might be the fact that if qubit freq 2 is larger than one then flip order which should make allow this to work \n",
    "fidelities_lam_pow_2.clear()\n",
    "frequency_list_lam_pow_2.clear()\n",
    "for i in tqdm(comb_list_freq):\n",
    "    freqs_lam_2, fids_lamb_2 = c.work_experiment1(eta=eta, lambda_pow=6, spectator_gate_count=1, freq_values=[4.0, 6.0, i[0], i[1]])\n",
    "    fidelities_lam_pow_2.append(fids_lamb_2)\n",
    "    frequency_list_lam_pow_2.append(freqs_lam_2[2:4])\n",
    "    freq1 = i[0]\n",
    "    freq2 = i[1]\n",
    "    diff = np.abs(freq1 - freq2)\n",
    "    # if diff > .499 and freq1 > freq2:\n",
    "    #     alt_iswap_fid.append(c.alt_iswap(lambda_pow=2, spectator_gate_count=1, freq_values=[freq1, freq2, 4.0, 6.0], amp_max=30))\n",
    "    # elif diff > .499 and freq2 > freq1:\n",
    "    #     alt_iswap_fid.append(c.alt_iswap(lambda_pow=2, spectator_gate_count=1, freq_values=[freq2, freq1, 4.0, 6.0], amp_max=30))\n",
    "    # else:\n",
    "    #     alt_iswap_fid.append(0)\n",
    "    if diff > .3:\n",
    "        alt_iswap_fid.append(c.alt_iswap(lambda_pow=6, spectator_gate_count=1, freq_values=[freq1, freq2, 4.0, 6.0], amp_max=30))\n",
    "        # alt_iswap_fid2.append(c.alt_iswap(lambda_pow=2, spectator_gate_count=1, freq_values=[4.0, freq1, freq2, 6.0], amp_max=30))\n",
    "    else:\n",
    "        alt_iswap_fid.append(0)\n",
    "    #     # alt_iswap_fid2.append(0)\n"
   ]
  },
  {
   "cell_type": "code",
   "execution_count": 11,
   "metadata": {},
   "outputs": [],
   "source": [
    "total_fid = []"
   ]
  },
  {
   "cell_type": "code",
   "execution_count": 12,
   "metadata": {},
   "outputs": [],
   "source": [
    "for i in range(len(fidelities_lam_pow_2)):\n",
    "    average = (fidelities_lam_pow_2[i] + alt_iswap_fid[i]) / 2    \n",
    "    total_fid.append(average)\n",
    "\n",
    "\n",
    "# total_fid"
   ]
  },
  {
   "cell_type": "code",
   "execution_count": 13,
   "metadata": {},
   "outputs": [],
   "source": [
    "# with h5py.file(\"data_work_flow.hdf5\", \"w\") as f:\n",
    "#     data = f.create_dataset(\"alt_iswap_fid\", alt_iswap_fid)\n",
    "#     data1 = f.create_dataset(\"fidelities_lam_pow_2\", fidelities_lam_pow_2)\n",
    "#     data2 = f.create_dataset(\"frequency_list_lam_pow_2\", frequency_list_lam_pow_2)\n",
    "\n",
    "# with h5py.file(\"data_work_flow.hdf5\" , \"r\") as f:\n",
    "#     alt_fid = f[\"alt_iswap_fid\"][()]\n",
    "#     fid_lam_2 = f[\"fidelities_lam_pow_2\"][()]\n",
    "#     freq_lam_2 = f[\"frequency_list_lam_pow_2\"][()]\n",
    "               "
   ]
  },
  {
   "cell_type": "code",
   "execution_count": 14,
   "metadata": {},
   "outputs": [],
   "source": [
    "# managing the data(creating the x and y coordinates)\n",
    "# x = []\n",
    "# y = []\n",
    "# for i in frequency_list_lam_pow_2:\n",
    "#     x.append(i[0])\n",
    "#     y.append(i[1])\n",
    "\n",
    "x = np.linspace(w1_un + .00000000001, w2_un - .00000000001, resolution)\n",
    "y = np.linspace(w1_un + .00000000001, w2_un - .00000000001, resolution)\n",
    "\n",
    "fidelities = np.zeros((resolution, resolution))\n",
    "\n",
    "for i in range(resolution):\n",
    "    for j in range(resolution):\n",
    "        fidelities[i, j] = total_fid[j + (i * j)]\n",
    "\n"
   ]
  },
  {
   "cell_type": "code",
   "execution_count": 15,
   "metadata": {},
   "outputs": [],
   "source": [
    "# the plot below is fine but it can not tell the full story if you want a spectrum of frequencies\n",
    "# this can be simplified alot but need to know if it is viable to undercut the process and instead build on what we have\n",
    "# dont yet know if evan will tell me if there are more terms to take into account \n",
    "\n",
    "\n",
    "# for every pairing of qubit 3 and 4 do a step to see the highest possible fidelity of the other iswap and report the average fidelity of the gate in order to get a better value\n",
    "# that makes more sense when plotting below \n",
    "\n"
   ]
  },
  {
   "cell_type": "code",
   "execution_count": 20,
   "metadata": {},
   "outputs": [
    {
     "data": {
      "text/plain": [
       "<matplotlib.colorbar.Colorbar at 0x2b3ba4edfd0>"
      ]
     },
     "execution_count": 20,
     "metadata": {},
     "output_type": "execute_result"
    },
    {
     "data": {
      "image/png": "[encoded data removed]",
      "text/plain": [
       "<Figure size 640x480 with 2 Axes>"
      ]
     },
     "metadata": {},
     "output_type": "display_data"
    }
   ],
   "source": [
    "# plotting the data \n",
    "fig, ax = plt.subplots()\n",
    "\n",
    "ticks = np.linspace(.999, 1, 6)\n",
    "levels = np.linspace(.999, 1, 30) \n",
    "\n",
    "CS = ax.contourf(x, y, fidelities, cmap=\"viridis\", levels=levels)\n",
    "ax.set_aspect('equal')\n",
    "ax.set_xlabel('Qubit 3 frequency')\n",
    "ax.set_ylabel('Qubit 4 frequency')\n",
    "\n",
    "fig.colorbar(CS, format=\"%.3f\", ticks=ticks)"
   ]
  },
  {
   "cell_type": "code",
   "execution_count": 17,
   "metadata": {},
   "outputs": [],
   "source": [
    "# this experiment above is incomplete unless more gates are simulated\n",
    "# otherwise you know only the restrictions on the qubits relative to only one of the gates"
   ]
  }
 ],
 "metadata": {
  "kernelspec": {
   "display_name": "venv",
   "language": "python",
   "name": "python3"
  },
  "language_info": {
   "codemirror_mode": {
    "name": "ipython",
    "version": 3
   },
   "file_extension": ".py",
   "mimetype": "text/x-python",
   "name": "python",
   "nbconvert_exporter": "python",
   "pygments_lexer": "ipython3",
   "version": "3.9.13"
  }
 },
 "nbformat": 4,
 "nbformat_minor": 2
}
