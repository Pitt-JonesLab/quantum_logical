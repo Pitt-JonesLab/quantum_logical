{
 "cells": [
  {
   "cell_type": "code",
   "execution_count": 1,
   "metadata": {},
   "outputs": [],
   "source": [
    "import numpy as np\n",
    "from qutip import Options, ket2dm\n",
    "import qutip as qt\n",
    "from quantum_logical.pulsesim import QuantumSystem, Pulse\n",
    "from quantum_logical.pulsesim.mode import QubitMode, SNAILMode, CavityMode\n",
    "from quantum_logical.pulsesim.build_hamiltonian import Build_hamiltonian\n",
    "from quantum_logical.pulsesim.time_functions import Time_functions\n",
    "import matplotlib.pyplot as plt\n",
    "from itertools import product\n",
    "from tqdm.notebook import tqdm\n",
    "import cmath\n",
    "from scipy.optimize import curve_fit\n",
    "import plotly.graph_objects as go"
   ]
  },
  {
   "cell_type": "code",
   "execution_count": 2,
   "metadata": {},
   "outputs": [],
   "source": [
    "# build the four qubit system\n",
    "qubit_dim = 2\n",
    "\n",
    "w1_un = 4\n",
    "w2_un = 6\n",
    "w3_un = 4.63\n",
    "w4_un = 5.6666666666666\n",
    "ws_un = 6 - (1 / 3) * (1/2)\n",
    "\n",
    "\n",
    "qubit1 = QubitMode(\n",
    "    mode_type=\"Qubit\", name=\"q1\", dim=2, freq=w1_un, alpha=-0.161, T1=1e2, T2=5e1\n",
    ")\n",
    "qubit2 = QubitMode(\n",
    "    mode_type=\"Qubit\", name=\"q2\", dim=2, freq=w2_un, alpha=-0.1275, T1=1e2, T2=5e1\n",
    ")\n",
    "qubit3 = QubitMode(\n",
    "    mode_type=\"Qubit\", name=\"q3\", dim=2, freq=w3_un, alpha=-0.160, T1=1e2, T2=5e1\n",
    ")\n",
    "qubit4 = QubitMode(\n",
    "    mode_type=\"Qubit\", name=\"q4\", dim=2, freq=w4_un, alpha=-0.159, T1=1e2, T2=5e1\n",
    ")\n",
    "qubits = [qubit1, qubit2, qubit3, qubit4]\n",
    "snail = SNAILMode(mode_type=\"Snail\", name=\"s\", freq=ws_un, g3=0.3, dim=10, T1=1e3, T2=5e2)\n",
    "_couplings = {\n",
    "    frozenset([qubit1, snail]): 2 * np.pi * 0.05467,\n",
    "    frozenset([qubit2, snail]): 2 * np.pi * 0.0435,\n",
    "    frozenset([qubit3, snail]): 2 * np.pi * 0.04875,\n",
    "    frozenset([qubit4, snail]): 2 * np.pi * 0.05\n",
    "}\n",
    "\n",
    "qs = QuantumSystem(qubits + [snail], couplings=_couplings)"
   ]
  },
  {
   "cell_type": "code",
   "execution_count": 3,
   "metadata": {},
   "outputs": [],
   "source": [
    "w1 = qubit1.freq / (2 * np.pi) \n",
    "w2 = qubit2.freq / (2 * np.pi) \n",
    "w3 = qubit3.freq / (2 * np.pi)  \n",
    "w4 = qubit4.freq / (2 * np.pi) \n",
    "# ws = snail.freq / (2 * np.pi)\n",
    "wp = np.abs(w2 - w1)"
   ]
  },
  {
   "cell_type": "code",
   "execution_count": 4,
   "metadata": {},
   "outputs": [],
   "source": [
    "# creating the hamiltonian \n",
    "# define the coefficients that are to be passed in \n",
    "l1 = .1\n",
    "H = Build_hamiltonian(l1, qs, qubit1, qubit2, qubit3, qubit4)\n",
    "H_main_qubits = H.build_drive_hamiltonian()\n",
    "H_added = H.build_added()\n",
    "\n",
    "# this builds the total hamiltonian \n",
    "for i in range(len(H_added)):\n",
    "    H_added[i] = 6*(l1**2) * H_added[i]\n",
    "    H_main_qubits.append(H_added[i])\n",
    "\n",
    "# for the sake of naming this unnecessary next step was done :)\n",
    "H_total = H_main_qubits"
   ]
  },
  {
   "cell_type": "code",
   "execution_count": 5,
   "metadata": {},
   "outputs": [],
   "source": [
    "# building the time functions \n",
    "Ts = Time_functions(w1,w2,w3,w4,wp)\n",
    "T_mult = Ts.functions()"
   ]
  },
  {
   "cell_type": "code",
   "execution_count": 6,
   "metadata": {},
   "outputs": [],
   "source": [
    "# build the desired unitary \n",
    "# U_targ = U = qt.tensor(qt.qip.operations.iswap(N=2),qt.qeye(2),qt.identity(cavity.dim))\n",
    "desired_U = qt.qip.operations.iswap()  # The iSWAP gate for a 2-qubit system\n",
    "\n",
    "# Create isometries for qubit 1 and qubit 2 to extend the {g, e} subspace action to the full qubit space\n",
    "identity_isometry = (\n",
    "    qt.basis(qubit_dim, 0) * qt.basis(2, 0).dag()\n",
    "    + qt.basis(qubit_dim, 1) * qt.basis(2, 1).dag()\n",
    ")\n",
    "identity_isometry = qt.tensor(identity_isometry, identity_isometry)\n",
    "\n",
    "# Apply the isometry to extend the gate action\n",
    "extended_q1_q2 = identity_isometry * desired_U * identity_isometry.dag()\n",
    "\n",
    "# Tensor with identity matrices for the remaining qubits and the SNAIL mode\n",
    "for mode in qs.modes[2:]:  # Skip the first two qubits as they're already included\n",
    "    extended_q1_q2 = qt.tensor(extended_q1_q2, qt.qeye(mode.dim))\n",
    "\n",
    "# The extended_iswap_q1_q2 now acts as the desired iSWAP gate on {g, e} of qubits 1 and 2, and as identity on the rest\n",
    "desired_U = extended_q1_q2"
   ]
  },
  {
   "cell_type": "code",
   "execution_count": 7,
   "metadata": {},
   "outputs": [],
   "source": [
    "# creating the propagator \n",
    "results = []\n",
    "fids = []\n",
    "division_in_eta = 50\n",
    "freq_ws = np.linspace(4,6,division_in_eta)\n",
    "amps = np.linspace(0,8,division_in_eta)\n",
    "amps_freqs = [(i,j) for i in freq_ws for j in amps]\n",
    "# eta is basically just the value of the constant pulse that is being supplied to the system \n",
    "# every term in the hamiltonian has the exact same eta multiplier this is why the method below works \n",
    "for i in range(division_in_eta):\n",
    "    Z = []\n",
    "    eta = ((2 * wp) / ((wp**2) - (amps_freqs[i][0]**2))) * amps_freqs[i][1]\n",
    "    for j in range(len(H_total)):\n",
    "        \n",
    "        Z.append(eta * H_total[j] * T_mult[j])\n",
    "\n",
    "    w = sum(Z)\n",
    "    U_propagator = (-1j * w).expm()\n",
    "\n",
    "    fid = np.abs(qt.average_gate_fidelity(desired_U, U_propagator))\n",
    "    results.append([eta,fid])\n",
    "    fids.append(fid)"
   ]
  },
  {
   "cell_type": "code",
   "execution_count": 8,
   "metadata": {},
   "outputs": [
    {
     "data": {
      "text/plain": [
       "[-0.27210884353741494, 0.9953426857107589]"
      ]
     },
     "execution_count": 8,
     "metadata": {},
     "output_type": "execute_result"
    }
   ],
   "source": [
    "# run over the data acquired from the step above to find the best amplitude range\n",
    "# this is the location max by index\n",
    "results[np.argmax(fids)]"
   ]
  },
  {
   "cell_type": "code",
   "execution_count": 9,
   "metadata": {},
   "outputs": [
    {
     "data": {
      "text/plain": [
       "0.9948141692388495"
      ]
     },
     "execution_count": 9,
     "metadata": {},
     "output_type": "execute_result"
    }
   ],
   "source": [
    "Z = []\n",
    "eta = -0.27210884353741494\n",
    "for j in range(len(H_total)):\n",
    "    \n",
    "    Ts = Time_functions(w1,w2,4.66666666666,5.6666666666,wp)\n",
    "    T_mult = Ts.functions()\n",
    "\n",
    "    Z.append(eta * H_total[j] * T_mult[j])\n",
    "\n",
    "w = sum(Z)\n",
    "U_propagator = (-1j * w).expm()\n",
    "\n",
    "np.abs(qt.average_gate_fidelity(desired_U, U_propagator))"
   ]
  },
  {
   "cell_type": "code",
   "execution_count": 10,
   "metadata": {},
   "outputs": [
    {
     "data": {
      "text/plain": [
       "0.9948141692388495"
      ]
     },
     "execution_count": 10,
     "metadata": {},
     "output_type": "execute_result"
    }
   ],
   "source": [
    "# test to see if all of them give the same fidelity which confirms if the hamiltonian and time building functions are working properly \n",
    "# this is a completely useless cell\n",
    "eta = -0.27210884353741494\n",
    "w3 = 4.66666666666\n",
    "w4 = 5.6666666666\n",
    "\n",
    "H_no_time = 6*(l1**2)*(qs.modes_a[qubit1]*qs.modes_a_dag[qubit2] + qs.modes_a[qubit2]*qs.modes_a_dag[qubit1])\n",
    "\n",
    "#terms that come from the gate that is desired that do not go to one\n",
    "qubit1_qubit2_adj_H = 6*(l1**2)*qs.modes_a[qubit1]*qs.modes_a_dag[qubit2]\n",
    "qubit1_adj_qubit2_H = 6*(l1**2)*qs.modes_a[qubit2]*qs.modes_a_dag[qubit1]\n",
    "\n",
    "H_main_qubits = [\n",
    "H_no_time,\n",
    "qubit1_qubit2_adj_H,\n",
    "qubit1_adj_qubit2_H\n",
    "]\n",
    "\n",
    "qubit3_qubit2_adj_H = 6*(l1**2)*qs.modes_a[qubit3]*qs.modes_a_dag[qubit2]\n",
    "qubit3_adj_qubit2_H = 6*(l1**2)*qs.modes_a[qubit2]*qs.modes_a_dag[qubit3]\n",
    "qubit4_qubit2_adj_H = 6*(l1**2)*qs.modes_a[qubit4]*qs.modes_a_dag[qubit2]\n",
    "qubit4_adj_qubit2_H = 6*(l1**2)*qs.modes_a[qubit2]*qs.modes_a_dag[qubit4]\n",
    "qubit3_qubit1_adj_H = 6*(l1**2)*qs.modes_a[qubit3]*qs.modes_a_dag[qubit1]\n",
    "qubit3_adj_qubit1_H = 6*(l1**2)*qs.modes_a[qubit1]*qs.modes_a_dag[qubit3]\n",
    "qubit4_qubit1_adj_H = 6*(l1**2)*qs.modes_a[qubit4]*qs.modes_a_dag[qubit1]\n",
    "qubit4_adj_qubit1_H = 6*(l1**2)*qs.modes_a[qubit1]*qs.modes_a_dag[qubit4]\n",
    "qubit4_adj_qubit3_H = 6*(l1**2)*qs.modes_a[qubit3]*qs.modes_a_dag[qubit4]\n",
    "qubit4_qubit3_adj_H = 6*(l1**2)*qs.modes_a[qubit4]*qs.modes_a_dag[qubit3]\n",
    "\n",
    "H_added = [\n",
    "qubit3_qubit2_adj_H,\n",
    "qubit3_adj_qubit2_H,\n",
    "qubit4_qubit2_adj_H,\n",
    "qubit4_adj_qubit2_H,\n",
    "qubit3_qubit1_adj_H,\n",
    "qubit3_adj_qubit1_H,\n",
    "qubit4_qubit1_adj_H,\n",
    "qubit4_adj_qubit1_H,\n",
    "qubit4_adj_qubit3_H,\n",
    "qubit4_qubit3_adj_H\n",
    "]\n",
    "for i in range(len(H_added)):\n",
    "    H_main_qubits.append(H_added[i])\n",
    "\n",
    "\n",
    "def int_func(w1,w2,wp,t):\n",
    "    a=((np.exp(-1j*(w1-w2+wp)*t))/(-1j*(w1-w2+wp)) - (1/(-1j*(w1-w2+wp))))\n",
    "    return a\n",
    "\n",
    "def int_func_conj_wp(w1,w2,wp,t):\n",
    "    a = ((np.exp(-1j*(w1-w2-wp)*t))/(-1j*(w1-w2-wp)) - (1/(-1j*(w1-w2-wp))))\n",
    "    return a\n",
    "\n",
    "def int_func_conj(w1,w2,wp,t):\n",
    "    a = ((np.exp(1j*(w1-w2+wp)*t))/(1j*(w1-w2+wp)) - (1/(1j*(w1-w2+wp))))\n",
    "    return a \n",
    "\n",
    "def int_func_conj_wp_conj(w1,w2,wp,t):\n",
    "    a = ((np.exp(1j*(w1-w2-wp)*t))/(1j*(w1-w2-wp)) - (1/(1j*(w1-w2-wp))))\n",
    "    return a\n",
    "\n",
    "\n",
    "T = 100\n",
    "\n",
    "qubit1_qubit2_adj_val = int_func_conj_wp(w1,w2,wp,T)\n",
    "qubit1_adj_qubit2_val = int_func_conj_wp_conj(w1,w2,wp,T)\n",
    "qubit1_qubit3_adj_val = int_func(w1,w3,wp,T) + int_func_conj_wp(w1,w3,wp,T)\n",
    "qubit2_qubit3_adj_val = int_func(w2,w3,wp,T) + int_func_conj_wp(w2,w3,wp,T)\n",
    "qubit1_adj_qubit3_val = int_func(w3,w1,wp,T) + int_func_conj_wp(w3,w1,wp,T)\n",
    "qubit2_adj_qubit3_val = int_func(w3,w2,wp,T) + int_func_conj_wp(w3,w2,wp,T)\n",
    "qubit1_qubit4_adj_val = int_func(w1,w4,wp,T) + int_func_conj_wp(w1,w4,wp,T)\n",
    "qubit2_qubit4_adj_val = int_func(w2,w4,wp,T) + int_func_conj_wp(w2,w4,wp,T)\n",
    "qubit1_adj_qubit4_val = int_func(w4,w1,wp,T) + int_func_conj_wp(w4,w1,wp,T)\n",
    "qubit2_adj_qubit4_val = int_func(w4,w2,wp,T) + int_func_conj_wp(w4,w2,wp,T)\n",
    "qubit3_qubit4_adj_val = int_func(w3,w4,wp,T) + int_func_conj_wp(w3,w4,wp,T)\n",
    "qubit3_adj_qubit4_val = int_func(w4,w3,wp,T) + int_func_conj_wp(w4,w3,wp,T)\n",
    "\n",
    "# building the time_multiplier list \n",
    "T_multi = [\n",
    "T,\n",
    "qubit1_qubit2_adj_val,\n",
    "qubit1_adj_qubit2_val,\n",
    "qubit2_adj_qubit3_val,\n",
    "qubit2_qubit3_adj_val,\n",
    "qubit2_adj_qubit4_val,\n",
    "qubit2_qubit4_adj_val,\n",
    "qubit1_adj_qubit3_val,\n",
    "qubit1_qubit3_adj_val,\n",
    "qubit1_adj_qubit4_val,\n",
    "qubit1_qubit4_adj_val,\n",
    "qubit3_qubit4_adj_val,\n",
    "qubit3_adj_qubit4_val\n",
    "]\n",
    "Z = []\n",
    "for j in range(len(H_total)):\n",
    "    \n",
    "    # Ts = Time_functions(w1,w2,4.66666666666,5.6666666666,wp)\n",
    "    # T_multi = Ts.functions()\n",
    "\n",
    "    Z.append(eta * H_total[j] * T_multi[j])\n",
    "\n",
    "w = sum(Z)\n",
    "U_propagator = (-1j * w).expm()\n",
    "\n",
    "np.abs(qt.average_gate_fidelity(desired_U, U_propagator))"
   ]
  },
  {
   "cell_type": "code",
   "execution_count": 11,
   "metadata": {},
   "outputs": [
    {
     "data": {
      "text/plain": [
       "True"
      ]
     },
     "execution_count": 11,
     "metadata": {},
     "output_type": "execute_result"
    }
   ],
   "source": [
    "T_mult == T_multi"
   ]
  },
  {
   "cell_type": "code",
   "execution_count": 12,
   "metadata": {},
   "outputs": [],
   "source": [
    "# now that the area of max amplitude was found now you have to find the two points for the frequency of the other qubits \n",
    "fid_freqs_scan = []\n",
    "freq_w3 = np.linspace(4.0000000000001,5.99999999999999,division_in_eta)\n",
    "freq_w4 = np.linspace(4.0000000000001,5.99999999999999,division_in_eta)\n",
    "freq_w3_w4 = [(i,j) for i in freq_w3 for j in freq_w4]\n",
    "result_scan = []\n",
    "\n",
    "eta = -0.2606516290726817\n",
    "for i in range(len(freq_w3_w4)):\n",
    "    Z = []\n",
    "    for j in range(len(H_total)):\n",
    "        \n",
    "        Ts = Time_functions(w1,w2,freq_w3_w4[i][0],freq_w3_w4[i][1],wp)\n",
    "        T_multi = Ts.functions()\n",
    "\n",
    "        Z.append(eta * H_total[j] * T_multi[j])\n",
    "\n",
    "    w = sum(Z)\n",
    "    U_propagator = (-1j * w).expm()\n",
    "\n",
    "    fid = np.abs(qt.average_gate_fidelity(desired_U, U_propagator))\n",
    "    result_scan.append([freq_w3_w4[i][0], freq_w3_w4[i][1], fid])\n",
    "    fid_freqs_scan.append(fid)"
   ]
  },
  {
   "cell_type": "code",
   "execution_count": 13,
   "metadata": {},
   "outputs": [
    {
     "data": {
      "text/plain": [
       "<matplotlib.colorbar.Colorbar at 0x2c477f2fe80>"
      ]
     },
     "execution_count": 13,
     "metadata": {},
     "output_type": "execute_result"
    },
    {
     "data": {
      "image/png": "[encoded data removed]",
      "text/plain": [
       "<Figure size 640x480 with 2 Axes>"
      ]
     },
     "metadata": {},
     "output_type": "display_data"
    }
   ],
   "source": [
    "# the above works all you need is a plot for it \n",
    "# make a way to plot this by creating a rectangular layout of frequencies with fidelity being the third dimensional result(contour plot)\n",
    "\n",
    "grid = np.zeros([len(freq_w3),len(freq_w4)])\n",
    "\n",
    "for i in range(len(freq_w3)):\n",
    "    for j in range(len(freq_w4)):\n",
    "        grid[i][j] = fid_freqs_scan[(i * len(freq_w3)) + j]\n",
    "\n",
    "\n",
    "# creating the mesh grid of the x,y values \n",
    "[xx, yy] = np.meshgrid(freq_w3,freq_w4)\n",
    "\n",
    "\n",
    "# create the plot with the values populated in the matrix above\n",
    "fig, axs = plt.subplots(1,1)\n",
    "axs.contourf(xx, yy, grid)\n",
    "axs=plt.gca()\n",
    "PCM = axs.get_children()[0]\n",
    "fig.colorbar(PCM)"
   ]
  },
  {
   "cell_type": "code",
   "execution_count": 14,
   "metadata": {},
   "outputs": [],
   "source": [
    "# for this to be as complete as this same experiment has to be carried out when the drive is between the other qubits and not just qubit 1 and 2 it will give the true limitation of the \n",
    "# system\n",
    "# note see how this impacts the setup of the desired unitary but this will be kind of difficult\n",
    "# once this is carried on all of the possible iswaps in the system then one can keep superimosing those plots on top of eachother(add all of the fidelities at a given frequency point \n",
    "# together and then divide by the amount of gates. this will give the average fidelity of all possible iswap gate setups and this should yield the best result for the delta analysis)"
   ]
  }
 ],
 "metadata": {
  "kernelspec": {
   "display_name": "venv",
   "language": "python",
   "name": "python3"
  },
  "language_info": {
   "codemirror_mode": {
    "name": "ipython",
    "version": 3
   },
   "file_extension": ".py",
   "mimetype": "text/x-python",
   "name": "python",
   "nbconvert_exporter": "python",
   "pygments_lexer": "ipython3",
   "version": "3.9.13"
  }
 },
 "nbformat": 4,
 "nbformat_minor": 2
}
