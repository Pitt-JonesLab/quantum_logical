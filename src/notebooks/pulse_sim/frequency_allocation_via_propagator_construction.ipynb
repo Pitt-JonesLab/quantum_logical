{
 "cells": [
  {
   "cell_type": "code",
   "execution_count": 306,
   "metadata": {},
   "outputs": [],
   "source": [
    "import numpy as np\n",
    "import qutip as qt\n",
    "\n",
    "import numpy as np\n",
    "from qutip import Options\n",
    "import qutip as qt\n",
    "from qutip import ket2dm\n",
    "from quantum_logical.pulsesim import QuantumSystem, Pulse\n",
    "from quantum_logical.pulsesim.mode import QubitMode, SNAILMode, CavityMode\n",
    "import matplotlib.pyplot as plt\n",
    "from itertools import product\n",
    "from tqdm.notebook import tqdm\n",
    "import cmath"
   ]
  },
  {
   "cell_type": "code",
   "execution_count": 435,
   "metadata": {},
   "outputs": [],
   "source": [
    "qubit_dim = 2\n",
    "\n",
    "w1_un = 4\n",
    "w2_un = 6\n",
    "w3_un = 4.2\n",
    "ws_un = 5.6666666666666666\n",
    "\n",
    "\n",
    "qubit1 = QubitMode(\n",
    "    name=\"q1\", dim=2, freq=w1_un, alpha=-0.161, T1=1e2, T2=5e1\n",
    ")\n",
    "qubit2 = QubitMode(\n",
    "    name=\"q2\", dim=2, freq=w2_un, alpha=-0.1275, T1=1e2, T2=5e1\n",
    ")\n",
    "qubit3 = QubitMode(\n",
    "    name=\"q3\", dim=2, freq=w3_un, alpha=-0.160, T1=1e2, T2=5e1\n",
    ")\n",
    "qubits = [qubit1, qubit2, qubit3]\n",
    "snail = SNAILMode(name=\"s\", freq=ws_un, g3=0.3, dim=10, T1=1e3, T2=5e2)\n",
    "_couplings = {\n",
    "    frozenset([qubit1, snail]): 2 * np.pi * 0.05467,\n",
    "    frozenset([qubit2, snail]): 2 * np.pi * 0.0435,\n",
    "    frozenset([qubit3, snail]): 2 * np.pi * 0.04875,\n",
    "}\n",
    "\n",
    "qs = QuantumSystem(qubits + [snail], couplings=_couplings)"
   ]
  },
  {
   "cell_type": "code",
   "execution_count": 436,
   "metadata": {},
   "outputs": [],
   "source": [
    "# simulating the non time-dependent terms along with the snail qubit terms\n",
    "#declare all the elements needed for the hamiltonian \n",
    "\n",
    "all_freq = [w1_un,w2_un,w3_un]\n",
    "\n",
    "g1 = .1 * np.abs(ws_un - w1_un)\n",
    "g2 = .1 * np.abs(ws_un - w2_un)\n",
    "g3 = .1 * np.abs(ws_un - w3_un)\n",
    "\n",
    "#snail dimensions\n",
    "sd = 1\n",
    "\n",
    "\n",
    "#all of the following coefficients are the same \n",
    "l1 = g1/np.abs(ws_un-w1_un)\n",
    "l2 = g2/np.abs(ws_un-w2_un)\n",
    "l3 = g3/np.abs(ws_un-w3_un)\n",
    "\n",
    "# w1 = w1_un + (g1/(w1_un-ws_un))*g1\n",
    "# w2 = w2_un + (g2/(w2_un-ws_un))*g2\n",
    "# w3 = w3_un + (g3/(w3_un-ws_un))*g3\n",
    "# ws = ws_un + (g2/(ws_un-w2_un))*g2 + (g3/(ws_un-w3_un))*g3 + (g1/(ws_un-w1_un))*g1\n",
    "\n",
    "w1 = w1_un \n",
    "w2 = w2_un \n",
    "w3 = w3_un \n",
    "ws = ws_un \n",
    "\n",
    "T = 100\n",
    "\n",
    "\n",
    "#pump frequency \n",
    "wp = w1-w2\n",
    "\n",
    "# Amp = 7\n",
    "# eta = np.pi/(12*(10**-9))* Amp\n",
    "eta = 1\n",
    "\n",
    "#time independent hamiltonian \n",
    "# H_no_time = 6*(l1**2)*eta*(qt.tensor(qubit1.a,qubit2.a_dag,qt.qeye(2),qt.qeye(sd)) + qt.tensor(qubit1.a_dag,qubit2.a,qt.qeye(2),qt.qeye(sd)))\n",
    "H_no_time = 6*(l1**2)*eta*(qs.modes_a[qubit1]*qs.modes_a_dag[qubit2] + qs.modes_a[qubit2]*qs.modes_a_dag[qubit1])\n",
    "\n",
    "#create the individual time dependent hamiltonian(operators only)\n",
    "\n",
    "# try the operators that evan has \n",
    "qubit1_qubit2_adj_H = 6*(l1**2)*eta*qs.modes_a[qubit1]*qs.modes_a_dag[qubit2]\n",
    "qubit1_adj_qubit2_H = 6*(l1**2)*eta*qs.modes_a[qubit2]*qs.modes_a_dag[qubit1]\n",
    "snail_qubit1_H = 6*(l1)*eta*qs.modes_a[snail]*qs.modes_a_dag[qubit1]\n",
    "snail_qubit3_H = 6*(l1)*eta*qs.modes_a[snail]*qs.modes_a_dag[qubit3]\n",
    "snail_adj_qubit1_H = 6*(l1)*eta*qs.modes_a[qubit1]*qs.modes_a_dag[snail]\n",
    "snail_ajd_qubit3_H = 6*(l1)*eta*qs.modes_a[qubit3]*qs.modes_a_dag[snail]\n",
    "\n",
    "#added for extra analysis \n",
    "snail_qubit2_H = 6*(l1**2)*eta*qs.modes_a[snail]*qs.modes_a_dag[qubit2]\n",
    "snail_ajd_qubit2_H = 6*(l1**2)*eta*qs.modes_a[qubit2]*qs.modes_a_dag[snail]\n",
    "\n",
    "#create the time coefficients of all of these hamiltonian parts \n",
    "#write in the evaluated functions and find the values before multiplying to a matrix\n",
    "def int_func(w1,w2,wp,t):\n",
    "    a=((np.exp(-1j*(w1-w2+wp)*t))/(-1j*(w1-w2+wp)) - (1/(-1j*(w1-w2+wp))))\n",
    "    return a\n",
    "\n",
    "def int_func_conj_wp(w1,w2,wp,t):\n",
    "     a = ((np.exp(-1j*(w1-w2-wp)*t))/(-1j*(w1-w2-wp)) - (1/(-1j*(w1-w2-wp))))\n",
    "     return a\n",
    "\n",
    "def int_func_conj(w1,w2,wp,t):\n",
    "    a = ((np.exp(1j*(w1-w2+wp)*t))/(1j*(w1-w2+wp)) - (1/(1j*(w1-w2+wp))))\n",
    "    return a \n",
    "\n",
    "def int_func_conj_wp_conj(w1,w2,wp,t):\n",
    "    a = ((np.exp(1j*(w1-w2-wp)*t))/(1j*(w1-w2-wp)) - (1/(1j*(w1-w2-wp))))\n",
    "    return a\n",
    "\n",
    "\n",
    "qubit1_qubit2_adj_val = int_func(w1,w2,wp,T)\n",
    "qubit1_adj_qubit2_val = int_func_conj(w1,w2,wp,T)\n",
    "snail_qubit1_val = int_func(ws,w1,wp,T) + int_func_conj_wp(ws,w1,wp,T)\n",
    "snail_qubit3_val = int_func(ws,w3,wp,T) + int_func_conj_wp(ws,w3,wp,T)\n",
    "snail_adj_qubit1_val = int_func(w1,ws,wp,T) + int_func_conj_wp(w1,ws,wp,T)\n",
    "snail_ajd_qubit3_val = int_func(w3,ws,wp,T) + int_func_conj_wp(w3,ws,wp,T)\n",
    "\n",
    "#added for specific analysis \n",
    "snail_qubit2_val = int_func(ws,w2,wp,T) + int_func_conj_wp(ws,w2,wp,T)\n",
    "snail_ajd_qubit2_val = int_func(w2,ws,wp,T) + int_func_conj_wp(w2,ws,wp,T)\n",
    "\n",
    "\n",
    "# creation of the hamiltonian based on the integrals and the operators\n",
    "\n",
    "H = [H_no_time, qubit1_qubit2_adj_H, qubit1_adj_qubit2_H, snail_qubit1_H, snail_qubit3_H, snail_adj_qubit1_H, snail_ajd_qubit3_H,\n",
    "     snail_qubit2_H, snail_ajd_qubit2_H]\n",
    "time_multiplier = [T, qubit1_qubit2_adj_val, qubit1_adj_qubit2_val, snail_qubit1_val, snail_qubit3_val, snail_adj_qubit1_val, \n",
    "                   snail_ajd_qubit3_val, snail_qubit2_val, snail_ajd_qubit2_val]\n",
    "\n",
    "\n",
    "#W = H*T part of the exponential\n",
    "\n",
    "W = []\n",
    "for i in range(len(H)):\n",
    "    W.append(H[i] * time_multiplier[i])\n",
    "\n",
    "W = W[0] + W[1] + W[2] + W[3] + W[4] + W[5] + W[6] + W[7] + W[8]\n",
    "\n",
    "\n",
    "U_propagator = (-1j * W).expm()\n",
    "\n"
   ]
  },
  {
   "cell_type": "code",
   "execution_count": 437,
   "metadata": {},
   "outputs": [],
   "source": [
    "# creating the initial state\n",
    "psi0 = qs.prepare_tensor_fock_state([(qubit2, 1)])\n",
    "rho0 = qt.ket2dm(psi0)"
   ]
  },
  {
   "cell_type": "code",
   "execution_count": 438,
   "metadata": {},
   "outputs": [],
   "source": [
    "# #create the target iswap gate\n",
    "# U_targ = U = qt.tensor(qt.qip.operations.iswap(N=2),qt.qeye(2),qt.identity(cavity.dim))\n",
    "desired_U = qt.qip.operations.iswap()  # The iSWAP gate for a 2-qubit system\n",
    "\n",
    "# Create isometries for qubit 1 and qubit 2 to extend the {g, e} subspace action to the full qubit space\n",
    "identity_isometry = (\n",
    "    qt.basis(qubit_dim, 0) * qt.basis(2, 0).dag()\n",
    "    + qt.basis(qubit_dim, 1) * qt.basis(2, 1).dag()\n",
    ")\n",
    "identity_isometry = qt.tensor(identity_isometry, identity_isometry)\n",
    "\n",
    "# Apply the isometry to extend the gate action\n",
    "extended_q1_q2 = identity_isometry * desired_U * identity_isometry.dag()\n",
    "\n",
    "# Tensor with identity matrices for the remaining qubits and the SNAIL mode\n",
    "for mode in qs.modes[2:]:  # Skip the first two qubits as they're already included\n",
    "    extended_q1_q2 = qt.tensor(extended_q1_q2, qt.qeye(mode.dim))\n",
    "\n",
    "# The extended_iswap_q1_q2 now acts as the desired iSWAP gate on {g, e} of qubits 1 and 2, and as identity on the rest\n",
    "desired_U = extended_q1_q2\n",
    "\n",
    "\n",
    "expected_rho = qt.Qobj(desired_U * rho0 * desired_U.dag())"
   ]
  },
  {
   "cell_type": "code",
   "execution_count": 439,
   "metadata": {},
   "outputs": [
    {
     "data": {
      "text/plain": [
       "0.06887993589774115"
      ]
     },
     "execution_count": 439,
     "metadata": {},
     "output_type": "execute_result"
    }
   ],
   "source": [
    "np.abs(qt.average_gate_fidelity(desired_U, U_propagator))"
   ]
  },
  {
   "cell_type": "code",
   "execution_count": 440,
   "metadata": {},
   "outputs": [],
   "source": [
    "#optimize over the amplitude to find the highest fidelity \n",
    "amps = np.linspace(0,8,1000)\n",
    "fid = []\n",
    "Z=[]\n",
    "\n",
    "for i in amps:\n",
    "    for j in range(len(H)):\n",
    "        Z.append(i * H[j] * time_multiplier[j])\n",
    "\n",
    "    W = Z[0] + Z[1] + Z[2] + Z[3] + Z[4] + Z[5] + Z[6] + Z[7] + Z[8]\n",
    "\n",
    "    U_propagator = (-1j * W).expm()\n",
    "\n",
    "    #calculate the fidelity\n",
    "    fid.append(np.abs(qt.average_gate_fidelity(desired_U, U_propagator)))\n",
    "\n",
    "    #clearing the list for the next iteration\n",
    "    Z.clear()"
   ]
  },
  {
   "cell_type": "code",
   "execution_count": 441,
   "metadata": {},
   "outputs": [
    {
     "name": "stdout",
     "output_type": "stream",
     "text": [
      "The max fidelity is = 0.25925925925925924 and the amplitude is = 0.0\n"
     ]
    }
   ],
   "source": [
    "#finding the max fidelity that was found \n",
    "max_fid = 0.0\n",
    "for i in range(len(fid)):\n",
    "    if max_fid < fid[i]:\n",
    "        max_fid = fid[i]\n",
    "        location = i\n",
    "\n",
    "amplitude = location*(8/1000)\n",
    "print(\"The max fidelity is = %s and the amplitude is = %s\" % (max_fid, amplitude))"
   ]
  },
  {
   "cell_type": "code",
   "execution_count": 442,
   "metadata": {},
   "outputs": [],
   "source": [
    "#declare all the elements needed for the hamiltonian that contains only the qubits \n",
    "eta = 1\n",
    "# try the operators that evan has \n",
    "qubit1_qubit2_adj_H = 6*(l1**2)*eta*qs.modes_a[qubit1]*qs.modes_a_dag[qubit2]\n",
    "qubit1_adj_qubit2_H = 6*(l1**2)*eta*qs.modes_a[qubit2]*qs.modes_a_dag[qubit1]\n",
    "qubit1_qubit3_adj_H = 6*(l1**2)*eta*qs.modes_a[qubit1]*qs.modes_a_dag[qubit3]\n",
    "qubit2_qubit3_adj_H = 6*(l1**2)*eta*qs.modes_a[qubit2]*qs.modes_a_dag[qubit3]\n",
    "qubit1_adj_qubit3_H = 6*(l1**2)*eta*qs.modes_a[qubit3]*qs.modes_a_dag[qubit1]\n",
    "qubit2_adj_qubit3_H = 6*(l1**2)*eta*qs.modes_a[qubit3]*qs.modes_a_dag[qubit2]\n",
    "\n",
    "\n",
    "#create the time coefficients of all of these hamiltonian parts \n",
    "#write in the evaluated functions and find the values before multiplying to a matrix\n",
    "def int_func(w1,w2,wp,t):\n",
    "    a=((np.exp(-1j*(w1-w2+wp)*t))/(-1j*(w1-w2+wp)) - (1/(-1j*(w1-w2+wp))))\n",
    "    return a\n",
    "\n",
    "def int_func_conj_wp(w1,w2,wp,t):\n",
    "     a = ((np.exp(-1j*(w1-w2-wp)*t))/(-1j*(w1-w2-wp)) - (1/(-1j*(w1-w2-wp))))\n",
    "     return a\n",
    "\n",
    "def int_func_conj(w1,w2,wp,t):\n",
    "    a = ((np.exp(1j*(w1-w2+wp)*t))/(1j*(w1-w2+wp)) - (1/(1j*(w1-w2+wp))))\n",
    "    return a \n",
    "\n",
    "def int_func_conj_wp_conj(w1,w2,wp,t):\n",
    "    a = ((np.exp(1j*(w1-w2-wp)*t))/(1j*(w1-w2-wp)) - (1/(1j*(w1-w2-wp))))\n",
    "    return a\n",
    "\n",
    "T = 100\n",
    "\n",
    "qubit1_qubit2_adj_val = int_func(w1,w2,wp,T)\n",
    "qubit1_adj_qubit2_val = int_func_conj(w1,w2,wp,T)\n",
    "qubit1_qubit3_adj_val = int_func(w1,w3,wp,T) + int_func_conj_wp(w1,w3,wp,T)\n",
    "qubit2_qubit3_adj_val = int_func(w2,w3,wp,T) + int_func_conj_wp(w2,w3,wp,T)\n",
    "qubit1_adj_qubit3_val = int_func(w3,w1,wp,T) + int_func_conj_wp(w3,w1,wp,T)\n",
    "qubit2_adj_qubit3_val = int_func(w3,w2,wp,T) + int_func_conj_wp(w3,w2,wp,T)\n",
    "\n",
    "# creating the hamiltonian matrix and the time multiplier\n",
    "H = [H_no_time, qubit1_qubit2_adj_H, qubit1_adj_qubit2_H, qubit1_qubit3_adj_H, qubit2_qubit3_adj_H, qubit1_adj_qubit3_H, qubit2_adj_qubit3_H]\n",
    "time_multiplier = [T, qubit1_qubit2_adj_val, qubit1_adj_qubit2_val, qubit1_qubit3_adj_val, qubit2_qubit3_adj_val, qubit1_adj_qubit3_val, qubit2_adj_qubit3_val]\n",
    "\n",
    "\n",
    "#W = H*T part of the exponential\n",
    "\n",
    "W = []\n",
    "for i in range(len(H)):\n",
    "    W.append(7.072 * H[i] * time_multiplier[i])\n",
    "\n",
    "W = W[0] + W[1] + W[2] + W[3] + W[4] + W[5] + W[6]\n",
    "\n",
    "\n",
    "U_propagator = (-1j * W).expm()"
   ]
  },
  {
   "cell_type": "code",
   "execution_count": 443,
   "metadata": {},
   "outputs": [
    {
     "data": {
      "text/plain": [
       "0.9967489177704347"
      ]
     },
     "execution_count": 443,
     "metadata": {},
     "output_type": "execute_result"
    }
   ],
   "source": [
    "np.abs(qt.average_gate_fidelity(desired_U, U_propagator))"
   ]
  },
  {
   "cell_type": "code",
   "execution_count": 444,
   "metadata": {},
   "outputs": [],
   "source": [
    "#optimize over the amplitude to find the highest fidelity for H3\n",
    "amps = np.linspace(0,8,1000)\n",
    "fid = []\n",
    "Z=[]\n",
    "\n",
    "for i in amps:\n",
    "    for j in range(len(H)):\n",
    "        Z.append(i * H[j] * time_multiplier[j])\n",
    "\n",
    "    P = Z[0] + Z[1] + Z[2] + Z[3] + Z[4] + Z[5] + Z[6]\n",
    "\n",
    "    U_propagator = (-1j * P).expm()\n",
    "\n",
    "    #calculate the fidelity\n",
    "    fid.append(np.abs(qt.average_gate_fidelity(desired_U, U_propagator)))\n",
    "\n",
    "    #clearing the list for the next iteration\n",
    "    Z.clear()"
   ]
  },
  {
   "cell_type": "code",
   "execution_count": 445,
   "metadata": {},
   "outputs": [
    {
     "name": "stdout",
     "output_type": "stream",
     "text": [
      "The max fidelity is = 0.9971975832280756 and the amplitude is = 1.832\n"
     ]
    }
   ],
   "source": [
    "#finding the max fidelity that was found \n",
    "max_fid = 0.0\n",
    "for i in range(len(fid)):\n",
    "    if max_fid < fid[i]:\n",
    "        max_fid = fid[i]\n",
    "        location = i\n",
    "\n",
    "amplitude = location * (8 / 1000)\n",
    "print(\"The max fidelity is = %s and the amplitude is = %s\" % (max_fid, amplitude))"
   ]
  },
  {
   "cell_type": "code",
   "execution_count": 455,
   "metadata": {},
   "outputs": [],
   "source": [
    "#optimizing over the amplitude and the frequencies \n",
    "amps = np.linspace(0,8,400)\n",
    "freq = np.linspace(5.5,5.999999999,100)\n",
    "amps_freq = [(i,j) for i in freq for j in amps]\n",
    "results = []\n",
    "\n",
    "#run the for loop that will evaluate all of the fidelities \n",
    "for i in range(len(amps_freq)):\n",
    "    for j in range(len(H)):\n",
    "        \n",
    "        qubit1_qubit2_adj_val = int_func(w1,w2,wp,T)\n",
    "        qubit1_adj_qubit2_val = int_func_conj(w1,w2,wp,T)\n",
    "        qubit1_qubit3_adj_val = int_func(w1,amps_freq[i][0],wp,T) + int_func_conj_wp(w1,amps_freq[i][0],wp,T)\n",
    "        qubit2_qubit3_adj_val = int_func(w2,amps_freq[i][0],wp,T) + int_func_conj_wp(w2,amps_freq[i][0],wp,T)\n",
    "        qubit1_adj_qubit3_val = int_func(amps_freq[i][0],w1,wp,T) + int_func_conj_wp(amps_freq[i][0],w1,wp,T)\n",
    "        qubit2_adj_qubit3_val = int_func(amps_freq[i][0],w2,wp,T) + int_func_conj_wp(amps_freq[i][0],w2,wp,T)\n",
    "\n",
    "        time_multiplier = [T, qubit1_qubit2_adj_val, qubit1_adj_qubit2_val, qubit1_qubit3_adj_val, qubit2_qubit3_adj_val, qubit1_adj_qubit3_val, qubit2_adj_qubit3_val]\n",
    "\n",
    "        Z.append(amps_freq[i][1] * H[j] * time_multiplier[j])\n",
    "\n",
    "    W = Z[0] + Z[1] + Z[2] + Z[3] + Z[4] + Z[5] + Z[6]\n",
    "\n",
    "    U_propagator = (-1j * W).expm()\n",
    "\n",
    "    #calculate the fidelity\n",
    "    fid = np.abs(qt.average_gate_fidelity(desired_U, U_propagator))\n",
    "    results.append([amps_freq[i][0],amps_freq[i][1],fid])\n",
    "\n",
    "    #clearing the list for the next iteration\n",
    "    Z.clear()\n"
   ]
  },
  {
   "cell_type": "code",
   "execution_count": 456,
   "metadata": {},
   "outputs": [],
   "source": [
    "#take the results from the cell above and find what max fidelity at a set frequency is \n",
    "#don't really care about the amplitude but needed to sweep over it \n",
    "freqs = []\n",
    "fids = []\n",
    "\n",
    "for i in range(len(freq)):\n",
    "    max_fid_freq = 0.0   \n",
    "    for j in range(len(amps)):\n",
    "        # want the max fidelity from each frequency \n",
    "        if max_fid_freq < results[(400 * i) + j][2]:\n",
    "            max_fid_freq = results[(400 * i) + j][2]\n",
    "    #making the set of frequencies and the max fid achieved at said frequency\n",
    "    freqs.append(results[(400 * i) + j][0])\n",
    "    fids.append(max_fid_freq)   \n",
    "\n"
   ]
  },
  {
   "cell_type": "code",
   "execution_count": 457,
   "metadata": {},
   "outputs": [
    {
     "data": {
      "text/plain": [
       "Text(0, 0.5, 'Fidelity')"
      ]
     },
     "execution_count": 457,
     "metadata": {},
     "output_type": "execute_result"
    },
    {
     "data": {
      "image/png": "[encoded data removed]",
      "text/plain": [
       "<Figure size 640x480 with 1 Axes>"
      ]
     },
     "metadata": {},
     "output_type": "display_data"
    }
   ],
   "source": [
    "plt.plot(freqs,fids)\n",
    "plt.xlabel(\"Separation of q3\")\n",
    "plt.ylabel(\"Fidelity\")"
   ]
  },
  {
   "cell_type": "code",
   "execution_count": 355,
   "metadata": {},
   "outputs": [],
   "source": [
    "# simulating the whole hamiltonian \n",
    "# declare all the elements needed for the hamiltonian that contains only the qubits \n",
    "\n",
    "\n",
    "# try the operators that evan has \n",
    "qubit1_qubit2_adj_H = 6*(l1**2)*eta*qs.modes_a[qubit1]*qs.modes_a_dag[qubit2]\n",
    "qubit1_adj_qubit2_H = 6*(l1**2)*eta*qs.modes_a[qubit2]*qs.modes_a_dag[qubit1]\n",
    "qubit1_qubit3_adj_H = 6*(l1**2)*eta*qs.modes_a[qubit1]*qs.modes_a_dag[qubit3]\n",
    "qubit2_qubit3_adj_H = 6*(l1**2)*eta*qs.modes_a[qubit2]*qs.modes_a_dag[qubit3]\n",
    "qubit1_adj_qubit3_H = 6*(l1**2)*eta*qs.modes_a[qubit3]*qs.modes_a_dag[qubit1]\n",
    "qubit2_adj_qubit3_H = 6*(l1**2)*eta*qs.modes_a[qubit3]*qs.modes_a_dag[qubit2]\n",
    "snail_qubit1_H = 6*(l1)*eta*qs.modes_a[snail]*qs.modes_a_dag[qubit1]\n",
    "snail_qubit3_H = 6*(l1)*eta*qs.modes_a[snail]*qs.modes_a_dag[qubit3]\n",
    "snail_adj_qubit1_H = 6*(l1)*eta*qs.modes_a[qubit1]*qs.modes_a_dag[snail]\n",
    "snail_ajd_qubit3_H = 6*(l1)*eta*qs.modes_a[qubit3]*qs.modes_a_dag[snail]\n",
    "\n",
    "#create the time coefficients of all of these hamiltonian parts \n",
    "\n",
    "#write in the evaluated functions and find the values before multiplying to a matrix\n",
    "def int_func(w1,w2,wp,t):\n",
    "    a=((np.exp(-1j*(w1-w2+wp)*t))/(-1j*(w1-w2+wp)) - (1/(-1j*(w1-w2+wp))))\n",
    "    return a\n",
    "\n",
    "def int_func_conj_wp(w1,w2,wp,t):\n",
    "     a = ((np.exp(-1j*(w1-w2-wp)*t))/(-1j*(w1-w2-wp)) - (1/(-1j*(w1-w2-wp))))\n",
    "     return a\n",
    "\n",
    "def int_func_conj(w1,w2,wp,t):\n",
    "    a = ((np.exp(1j*(w1-w2+wp)*t))/(1j*(w1-w2+wp)) - (1/(1j*(w1-w2+wp))))\n",
    "    return a \n",
    "\n",
    "def int_func_conj_wp_conj(w1,w2,wp,t):\n",
    "    a = ((np.exp(1j*(w1-w2-wp)*t))/(1j*(w1-w2-wp)) - (1/(1j*(w1-w2-wp))))\n",
    "    return a\n",
    "\n",
    "T = 100\n",
    "\n",
    "qubit1_qubit2_adj_val = int_func(w1,w2,wp,T)\n",
    "qubit1_adj_qubit2_val = int_func_conj(w1,w2,wp,T)\n",
    "qubit1_qubit3_adj_val = int_func(w1,w3,wp,T) + int_func_conj_wp(w1,w3,wp,T)\n",
    "qubit2_qubit3_adj_val = int_func(w2,w3,wp,T) + int_func_conj_wp(w2,w3,wp,T)\n",
    "qubit1_adj_qubit3_val = int_func(w3,w1,wp,T) + int_func_conj_wp(w3,w1,wp,T)\n",
    "qubit2_adj_qubit3_val = int_func(w3,w2,wp,T) + int_func_conj_wp(w3,w2,wp,T)\n",
    "snail_qubit1_val = int_func(ws,w1,wp,T) + int_func_conj_wp(ws,w1,wp,T)\n",
    "snail_qubit3_val = int_func(ws,w3,wp,T) + int_func_conj_wp(ws,w3,wp,T)\n",
    "snail_adj_qubit1_val = int_func_conj(ws,w1,wp,T) + int_func_conj_wp_conj(ws,w1,wp,T)\n",
    "snail_ajd_qubit3_val = int_func_conj(ws,w3,wp,T) + int_func_conj_wp_conj(ws,w3,wp,T)\n",
    "\n",
    "# creating the hamiltonian matrix and the time multiplier\n",
    "H = [H_no_time, qubit1_qubit2_adj_H, qubit1_adj_qubit2_H, qubit1_qubit3_adj_H, qubit2_qubit3_adj_H,\n",
    "    qubit1_adj_qubit3_H, qubit2_adj_qubit3_H, snail_qubit1_H, snail_qubit3_H, snail_adj_qubit1_H, snail_ajd_qubit3_H]\n",
    "time_multiplier = [T, qubit1_qubit2_adj_val, qubit1_adj_qubit2_val, qubit1_qubit3_adj_val, qubit2_qubit3_adj_val, \n",
    "                   qubit1_adj_qubit3_val, qubit2_adj_qubit3_val, snail_qubit1_val, snail_qubit3_val, snail_adj_qubit1_val, snail_ajd_qubit3_val]\n",
    "\n",
    "\n",
    "#W = H*T part of the exponential\n",
    "\n",
    "W = []\n",
    "for i in range(len(H)):\n",
    "    W.append(eta * H[i] * time_multiplier[i])\n",
    "\n",
    "W = W[0] + W[1] + W[2] + W[3] + W[4] + W[5] + W[6] + W[7] + W[8] + W[9] + W[10] \n",
    "\n",
    "\n",
    "U_propagator = (-1j * W).expm()"
   ]
  },
  {
   "cell_type": "code",
   "execution_count": 356,
   "metadata": {},
   "outputs": [
    {
     "data": {
      "text/plain": [
       "0.014341254429242714"
      ]
     },
     "execution_count": 356,
     "metadata": {},
     "output_type": "execute_result"
    }
   ],
   "source": [
    "np.abs(qt.average_gate_fidelity(desired_U, U_propagator))"
   ]
  },
  {
   "cell_type": "code",
   "execution_count": 357,
   "metadata": {},
   "outputs": [],
   "source": [
    "#optimize over the amplitude to find the highest fidelity for H3\n",
    "amps = np.linspace(0,8,1000)\n",
    "fid = []\n",
    "Z=[]\n",
    "\n",
    "for i in amps:\n",
    "    for j in range(len(H)):\n",
    "        Z.append(i * H[j] * time_multiplier[j])\n",
    "\n",
    "    W = Z[0] + Z[1] + Z[2] + Z[3] + Z[4] + Z[5] + Z[6] + Z[7] + Z[8] + Z[9] + Z[10] \n",
    "\n",
    "    U_propagator = (-1j * W).expm()\n",
    "\n",
    "    #calculate the fidelity\n",
    "    fid.append(np.abs(qt.average_gate_fidelity(desired_U, U_propagator)))\n",
    "\n",
    "    #clearing the list for the next iteration\n",
    "    Z.clear()"
   ]
  },
  {
   "cell_type": "code",
   "execution_count": 358,
   "metadata": {},
   "outputs": [
    {
     "name": "stdout",
     "output_type": "stream",
     "text": [
      "The max fidelity is = 0.25925925925925924 and the amplitude is = 0.0\n"
     ]
    }
   ],
   "source": [
    "#finding the max fidelity that was found \n",
    "max_fid = 0.0\n",
    "for i in range(len(fid)):\n",
    "    if max_fid < fid[i]:\n",
    "        max_fid = fid[i]\n",
    "        location = i\n",
    "\n",
    "amplitude = location*(8/1000)\n",
    "print(\"The max fidelity is = %s and the amplitude is = %s\" % (max_fid, amplitude))"
   ]
  },
  {
   "cell_type": "code",
   "execution_count": null,
   "metadata": {},
   "outputs": [],
   "source": [
    "# need to actually optimize to find the graph data that you are looking for\n",
    "# you will have to optimize over the eta(amplitude) while also scanning over the position of the qubits\n",
    "# you will then have to run code to be able to find the data result that you are looking for because it will have too many unnecessary points\n"
   ]
  }
 ],
 "metadata": {
  "kernelspec": {
   "display_name": "venv",
   "language": "python",
   "name": "python3"
  },
  "language_info": {
   "codemirror_mode": {
    "name": "ipython",
    "version": 3
   },
   "file_extension": ".py",
   "mimetype": "text/x-python",
   "name": "python",
   "nbconvert_exporter": "python",
   "pygments_lexer": "ipython3",
   "version": "3.9.12"
  },
  "orig_nbformat": 4
 },
 "nbformat": 4,
 "nbformat_minor": 2
}
