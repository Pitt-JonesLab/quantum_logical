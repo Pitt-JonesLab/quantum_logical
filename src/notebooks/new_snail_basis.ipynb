{
  "cells": [
    {
      "cell_type": "code",
      "execution_count": 1,
      "metadata": {},
      "outputs": [],
      "source": [
        "# explicit tutorial on the encoding\n",
        "# what gates do encoding and detection\n",
        "# the known solutions are the 5-wave and parallel 3-wave\n",
        "# (we don't know if there exists others yet)\n",
        "# but we need to first be able to simulate the faults and effective increases in lifetimes\n",
        "# if that the qubits had lifetimes and errro channels\n",
        "import numpy as np\n",
        "from IPython.display import display, Math"
      ]
    },
    {
      "cell_type": "code",
      "execution_count": 2,
      "metadata": {},
      "outputs": [
        {
          "ename": "ImportError",
          "evalue": "cannot import name 'QubitInteraction' from 'quantum_logical.conversiongain' (/home/evm9/quantum_logical/src/quantum_logical/conversiongain.py)",
          "output_type": "error",
          "traceback": [
            "\u001b[0;31m---------------------------------------------------------------------------\u001b[0m",
            "\u001b[0;31mImportError\u001b[0m                               Traceback (most recent call last)",
            "Cell \u001b[0;32mIn[2], line 1\u001b[0m\n\u001b[0;32m----> 1\u001b[0m \u001b[39mfrom\u001b[39;00m \u001b[39mquantum_logical\u001b[39;00m\u001b[39m.\u001b[39;00m\u001b[39mconversiongain\u001b[39;00m \u001b[39mimport\u001b[39;00m QubitInteraction\n\u001b[1;32m      3\u001b[0m \u001b[39m# TODO refactor to conversion gain\u001b[39;00m\n\u001b[1;32m      4\u001b[0m \u001b[39m# we should be able to return the equation from the class\u001b[39;00m\n\u001b[1;32m      5\u001b[0m H \u001b[39m=\u001b[39m QubitInteraction(gc\u001b[39m=\u001b[39mnp\u001b[39m.\u001b[39mpi \u001b[39m/\u001b[39m \u001b[39m2\u001b[39m, gg\u001b[39m=\u001b[39m\u001b[39m0\u001b[39m, transmon_levels\u001b[39m=\u001b[39m\u001b[39m2\u001b[39m)\n",
            "\u001b[0;31mImportError\u001b[0m: cannot import name 'QubitInteraction' from 'quantum_logical.conversiongain' (/home/evm9/quantum_logical/src/quantum_logical/conversiongain.py)"
          ]
        }
      ],
      "source": [
        "from quantum_logical.conversiongain import QubitInteraction\n",
        "\n",
        "# TODO refactor to conversion gain\n",
        "# we should be able to return the equation from the class\n",
        "H = QubitInteraction(gc=np.pi / 2, gg=0, transmon_levels=2)\n",
        "display(Math(str(H)))\n",
        "U = H.construct_U(t=1.0)\n",
        "print(U)"
      ]
    },
    {
      "cell_type": "code",
      "execution_count": null,
      "metadata": {},
      "outputs": [],
      "source": []
    },
    {
      "cell_type": "markdown",
      "metadata": {},
      "source": [
        "Quick introduction using standard phase repetition code\n",
        "\\begin{align}\n",
        "|L_0\\rangle = |+++\\rangle\\\\\n",
        "|L_1\\rangle = |---\\rangle\n",
        "\\end{align}\n",
        "\n",
        "such that $|\\psi\\rangle = \\alpha |L_0\\rangle + \\beta |L_1\\rangle$\n"
      ]
    },
    {
      "cell_type": "code",
      "execution_count": null,
      "metadata": {},
      "outputs": [],
      "source": [
        "from quantum_logical.basis import PhaseReptition\n",
        "\n",
        "encoding = PhaseReptition()"
      ]
    },
    {
      "cell_type": "code",
      "execution_count": null,
      "metadata": {},
      "outputs": [
        {
          "ename": "AttributeError",
          "evalue": "'PhaseReptition' object has no attribute 'initialize'",
          "output_type": "error",
          "traceback": [
            "\u001b[0;31m---------------------------------------------------------------------------\u001b[0m",
            "\u001b[0;31mAttributeError\u001b[0m                            Traceback (most recent call last)",
            "Cell \u001b[0;32mIn[6], line 2\u001b[0m\n\u001b[1;32m      1\u001b[0m \u001b[39m# to initialize the encoding:\u001b[39;00m\n\u001b[0;32m----> 2\u001b[0m encoding\u001b[39m.\u001b[39;49minitialize()\n",
            "\u001b[0;31mAttributeError\u001b[0m: 'PhaseReptition' object has no attribute 'initialize'"
          ]
        }
      ],
      "source": [
        "# to initialize the encoding:\n",
        "# encoding.initialize()"
      ]
    },
    {
      "cell_type": "markdown",
      "metadata": {},
      "source": [
        "To create logical operators use the following transformation:\n",
        "\\begin{align*}\n",
        "A = |L_0\\rangle\\langle0| + |L_1\\rangle\\langle1|\\\\\n",
        "U' = A U A^\\dagger\n",
        "\\end{align*}\n",
        ",where U is unitary that acts on the $|0\\rangle$ and $|1\\rangle$ states.\n"
      ]
    },
    {
      "cell_type": "code",
      "execution_count": null,
      "metadata": {},
      "outputs": [
        {
          "data": {
            "text/plain": [
              "(8, 8)"
            ]
          },
          "execution_count": 7,
          "metadata": {},
          "output_type": "execute_result"
        }
      ],
      "source": [
        "from qiskit import QuantumCircuit\n",
        "from qiskit.quantum_info.operators import Operator\n",
        "\n",
        "qc = QuantumCircuit(3)\n",
        "qc.cx(0, 1)\n",
        "qc.cx(0, 2)\n",
        "Operator(qc).data.shape"
      ]
    },
    {
      "cell_type": "code",
      "execution_count": null,
      "metadata": {},
      "outputs": [
        {
          "data": {
            "text/latex": [
              "Quantum object: dims = [[2, 2, 2], [2]], shape = (8, 2), type = oper, isherm = False $ \\\\ \\left(\\begin{matrix}0.354 & 0.354\\\\0.354 & -0.354\\\\0.354 & -0.354\\\\0.354 & 0.354\\\\0.354 & -0.354\\\\0.354 & 0.354\\\\0.354 & 0.354\\\\0.354 & -0.354\\\\\\end{matrix}\\right)$"
            ],
            "text/plain": [
              "Quantum object: dims = [[2, 2, 2], [2]], shape = (8, 2), type = oper, isherm = False\n",
              "Qobj data =\n",
              "[[ 0.35355339  0.35355339]\n",
              " [ 0.35355339 -0.35355339]\n",
              " [ 0.35355339 -0.35355339]\n",
              " [ 0.35355339  0.35355339]\n",
              " [ 0.35355339 -0.35355339]\n",
              " [ 0.35355339  0.35355339]\n",
              " [ 0.35355339  0.35355339]\n",
              " [ 0.35355339 -0.35355339]]"
            ]
          },
          "execution_count": 8,
          "metadata": {},
          "output_type": "execute_result"
        }
      ],
      "source": [
        "encoding.logical_basis.transform_operator"
      ]
    },
    {
      "cell_type": "markdown",
      "metadata": {},
      "source": [
        "Next,\n"
      ]
    },
    {
      "cell_type": "code",
      "execution_count": null,
      "metadata": {},
      "outputs": [
        {
          "data": {
            "text/latex": [
              "Quantum object: dims = [[3, 3, 3], [2]], shape = (27, 2), type = oper, isherm = False $ \\\\ \\left(\\begin{matrix}0.354 & 0.354\\\\0.0 & 0.0\\\\0.354 & -0.354\\\\0.0 & 0.0\\\\0.0 & 0.0\\\\\\vdots & \\vdots\\\\0.0 & 0.0\\\\0.0 & 0.0\\\\0.354 & 0.354\\\\0.0 & 0.0\\\\0.354 & -0.354\\\\\\end{matrix}\\right)$"
            ],
            "text/plain": [
              "Quantum object: dims = [[3, 3, 3], [2]], shape = (27, 2), type = oper, isherm = False\n",
              "Qobj data =\n",
              "[[ 0.35355339  0.35355339]\n",
              " [ 0.          0.        ]\n",
              " [ 0.35355339 -0.35355339]\n",
              " [ 0.          0.        ]\n",
              " [ 0.          0.        ]\n",
              " [ 0.          0.        ]\n",
              " [ 0.35355339 -0.35355339]\n",
              " [ 0.          0.        ]\n",
              " [ 0.35355339  0.35355339]\n",
              " [ 0.          0.        ]\n",
              " [ 0.          0.        ]\n",
              " [ 0.          0.        ]\n",
              " [ 0.          0.        ]\n",
              " [ 0.          0.        ]\n",
              " [ 0.          0.        ]\n",
              " [ 0.          0.        ]\n",
              " [ 0.          0.        ]\n",
              " [ 0.          0.        ]\n",
              " [ 0.35355339 -0.35355339]\n",
              " [ 0.          0.        ]\n",
              " [ 0.35355339  0.35355339]\n",
              " [ 0.          0.        ]\n",
              " [ 0.          0.        ]\n",
              " [ 0.          0.        ]\n",
              " [ 0.35355339  0.35355339]\n",
              " [ 0.          0.        ]\n",
              " [ 0.35355339 -0.35355339]]"
            ]
          },
          "execution_count": 10,
          "metadata": {},
          "output_type": "execute_result"
        }
      ],
      "source": [
        "from quantum_logical.basis import SNAILConcatWithAncilla\n",
        "\n",
        "encoding = SNAILConcatWithAncilla()\n",
        "encoding.logical_basis.transform_operator"
      ]
    },
    {
      "cell_type": "code",
      "execution_count": 18,
      "metadata": {},
      "outputs": [
        {
          "data": {
            "text/latex": [
              "$\\displaystyle <quantum_logical.conversiongain.ConversionGainThreeWave object at 0x7fca66cafa30>$"
            ],
            "text/plain": [
              "<IPython.core.display.Math object>"
            ]
          },
          "metadata": {},
          "output_type": "display_data"
        },
        {
          "name": "stdout",
          "output_type": "stream",
          "text": [
            "Quantum object: dims = [[4], [4]], shape = (4, 4), type = oper, isherm = False\n",
            "Qobj data =\n",
            "[[1.+0.j 0.+0.j 0.+0.j 0.+0.j]\n",
            " [0.+0.j 0.+0.j 0.-1.j 0.+0.j]\n",
            " [0.+0.j 0.-1.j 0.+0.j 0.+0.j]\n",
            " [0.+0.j 0.+0.j 0.+0.j 1.+0.j]]\n"
          ]
        }
      ],
      "source": [
        "from quantum_logical.conversiongain import (\n",
        "    ConversionGainThreeWave,\n",
        "    ConversionGainFiveWave,\n",
        ")\n",
        "\n",
        "H = ConversionGainThreeWave(gc=np.pi / 2, gg=0, transmon_levels=2)\n",
        "display(Math(str(H)))\n",
        "U = H.unitary(t=1.0)\n",
        "print(U)"
      ]
    },
    {
      "cell_type": "code",
      "execution_count": null,
      "metadata": {},
      "outputs": [],
      "source": [
        "# multiply this unitary to the following state\n",
        "# |e> o\\otimes [\\alpha |g+f> + \\beta |g-e>]\n",
        "state = "
      ]
    },
    {
      "cell_type": "code",
      "execution_count": null,
      "metadata": {},
      "outputs": [
        {
          "data": {
            "text/latex": [
              "$\\displaystyle \\hat{H} = (1.57) (a a b^\\dagger b^\\dagger) + (0.00) (a a b b) + \\text{h.c.}$"
            ],
            "text/plain": [
              "<IPython.core.display.Math object>"
            ]
          },
          "metadata": {},
          "output_type": "display_data"
        },
        {
          "name": "stdout",
          "output_type": "stream",
          "text": [
            "Quantum object: dims = [[3, 3], [3, 3]], shape = (9, 9), type = oper, isherm = True\n",
            "Qobj data =\n",
            "[[ 1.  0.  0.  0.  0.  0.  0.  0.  0.]\n",
            " [ 0.  1.  0.  0.  0.  0.  0.  0.  0.]\n",
            " [ 0.  0. -1.  0.  0.  0.  0.  0.  0.]\n",
            " [ 0.  0.  0.  1.  0.  0.  0.  0.  0.]\n",
            " [ 0.  0.  0.  0.  1.  0.  0.  0.  0.]\n",
            " [ 0.  0.  0.  0.  0.  1.  0.  0.  0.]\n",
            " [ 0.  0.  0.  0.  0.  0. -1.  0.  0.]\n",
            " [ 0.  0.  0.  0.  0.  0.  0.  1.  0.]\n",
            " [ 0.  0.  0.  0.  0.  0.  0.  0.  1.]]\n"
          ]
        }
      ],
      "source": [
        "H = ConversionGainFiveWave(gc=np.pi / 2, gg=0)\n",
        "display(Math(str(H)))\n",
        "U = H.unitary(t=1.0)\n",
        "print(U)"
      ]
    },
    {
      "cell_type": "code",
      "execution_count": null,
      "metadata": {},
      "outputs": [],
      "source": [
        "# todo, check decode solution with 3-, 5-wave gates\n",
        "# show that 5-wave stays in encoding, 3-wave does not\n",
        "# is_centralizer()"
      ]
    },
    {
      "cell_type": "code",
      "execution_count": null,
      "metadata": {},
      "outputs": [],
      "source": [
        "from qutip import *"
      ]
    },
    {
      "cell_type": "code",
      "execution_count": null,
      "metadata": {},
      "outputs": [
        {
          "data": {
            "text/latex": [
              "Quantum object: dims = [[3], [3]], shape = (3, 3), type = oper, isherm = False $ \\\\ \\left(\\begin{matrix}0.0 & 0.0 & 0.0\\\\1.0 & 0.0 & 0.0\\\\0.0 & 1.414 & 0.0\\\\\\end{matrix}\\right)$"
            ],
            "text/plain": [
              "Quantum object: dims = [[3], [3]], shape = (3, 3), type = oper, isherm = False\n",
              "Qobj data =\n",
              "[[0.         0.         0.        ]\n",
              " [1.         0.         0.        ]\n",
              " [0.         1.41421356 0.        ]]"
            ]
          },
          "execution_count": 3,
          "metadata": {},
          "output_type": "execute_result"
        }
      ],
      "source": [
        "qutip.create(3)"
      ]
    },
    {
      "cell_type": "code",
      "execution_count": 6,
      "metadata": {},
      "outputs": [
        {
          "name": "stdout",
          "output_type": "stream",
          "text": [
            "Quantum object: dims = [[3], [3]], shape = (3, 3), type = oper, isherm = False\n",
            "Qobj data =\n",
            "[[0. 0. 0.]\n",
            " [1. 0. 0.]\n",
            " [0. 0. 0.]]\n"
          ]
        }
      ],
      "source": [
        "from quantum_logical.qubitoperator import QubitOperator, Transition\n",
        "\n",
        "# Example\n",
        "op_a_ge = QubitOperator(\"a\", Transition.GE, transmon_levels=3)\n",
        "print(op_a_ge.to_qutip())\n",
        "\n",
        "# op_a_ge_dag = op_a_ge.dag()\n",
        "# print(op_a_ge_dag.to_qutip())"
      ]
    },
    {
      "cell_type": "code",
      "execution_count": null,
      "metadata": {},
      "outputs": [],
      "source": []
    }
  ],
  "metadata": {
    "kernelspec": {
      "display_name": ".venv",
      "language": "python",
      "name": "python3"
    },
    "language_info": {
      "codemirror_mode": {
        "name": "ipython",
        "version": 3
      },
      "file_extension": ".py",
      "mimetype": "text/x-python",
      "name": "python",
      "nbconvert_exporter": "python",
      "pygments_lexer": "ipython3",
      "version": "3.9.16"
    },
    "orig_nbformat": 4
  },
  "nbformat": 4,
  "nbformat_minor": 2
}
