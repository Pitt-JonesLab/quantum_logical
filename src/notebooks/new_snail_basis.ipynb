{
  "cells": [
    {
      "cell_type": "code",
      "execution_count": 46,
      "metadata": {},
      "outputs": [],
      "source": [
        "# explicit tutorial on the encoding\n",
        "# what gates do encoding and detection\n",
        "# the known solutions are the 5-wave and parallel 3-wave\n",
        "# (we don't know if there exists others yet)\n",
        "# but we need to first be able to simulate the faults and effective increases in lifetimes\n",
        "# if that the qubits had lifetimes and errro channels\n",
        "import numpy as np\n",
        "from IPython.display import display, Math"
      ]
    },
    {
      "cell_type": "code",
      "execution_count": 47,
      "metadata": {},
      "outputs": [
        {
          "data": {
            "text/latex": [
              "$\\displaystyle \\hat{H} = 1.57 (a b^\\dagger + a^\\dagger b) + 0.00 (a b + a^\\dagger b^\\dagger)$"
            ],
            "text/plain": [
              "<IPython.core.display.Math object>"
            ]
          },
          "metadata": {},
          "output_type": "display_data"
        },
        {
          "name": "stdout",
          "output_type": "stream",
          "text": [
            "Quantum object: dims = [[2, 2], [2, 2]], shape = (4, 4), type = oper, isherm = False\n",
            "Qobj data =\n",
            "[[1.+0.j 0.+0.j 0.+0.j 0.+0.j]\n",
            " [0.+0.j 0.+0.j 0.-1.j 0.+0.j]\n",
            " [0.+0.j 0.-1.j 0.+0.j 0.+0.j]\n",
            " [0.+0.j 0.+0.j 0.+0.j 1.+0.j]]\n"
          ]
        }
      ],
      "source": [
        "from quantum_logical.conversiongain import QubitInteraction\n",
        "\n",
        "# TODO refactor to conversion gain\n",
        "# we should be able to return the equation from the class\n",
        "H = QubitInteraction(gc=np.pi / 2, gg=0, transmon_levels=2)\n",
        "display(Math(str(H)))\n",
        "U = H.construct_U(t=1.0)\n",
        "print(U)"
      ]
    },
    {
      "cell_type": "markdown",
      "metadata": {},
      "source": [
        "Quick introduction using standard phase repetition code\n",
        "\\begin{align}\n",
        "|L_0\\rangle = |+++\\rangle\\\\\n",
        "|L_1\\rangle = |---\\rangle\n",
        "\\end{align}\n",
        "\n",
        "such that $|\\psi\\rangle = \\alpha |L_0\\rangle + \\beta |L_1\\rangle$"
      ]
    },
    {
      "cell_type": "code",
      "execution_count": 48,
      "metadata": {},
      "outputs": [],
      "source": [
        "from quantum_logical.basis import PhaseReptition\n",
        "\n",
        "encoding = PhaseReptition()"
      ]
    },
    {
      "cell_type": "code",
      "execution_count": 49,
      "metadata": {},
      "outputs": [
        {
          "ename": "AttributeError",
          "evalue": "'PhaseReptition' object has no attribute 'initialize'",
          "output_type": "error",
          "traceback": [
            "\u001b[0;31m---------------------------------------------------------------------------\u001b[0m",
            "\u001b[0;31mAttributeError\u001b[0m                            Traceback (most recent call last)",
            "Cell \u001b[0;32mIn[49], line 2\u001b[0m\n\u001b[1;32m      1\u001b[0m \u001b[39m# to initialize the encoding:\u001b[39;00m\n\u001b[0;32m----> 2\u001b[0m encoding\u001b[39m.\u001b[39;49minitialize()\n",
            "\u001b[0;31mAttributeError\u001b[0m: 'PhaseReptition' object has no attribute 'initialize'"
          ]
        }
      ],
      "source": [
        "# to initialize the encoding:\n",
        "encoding.initialize()"
      ]
    },
    {
      "cell_type": "markdown",
      "metadata": {},
      "source": [
        "To create logical operators use the following transformation:\n",
        "\\begin{align*}\n",
        "A = |L_0\\rangle\\langle0| + |L_1\\rangle\\langle1|\\\\\n",
        "U' = A U A^\\dagger\n",
        "\\end{align*}\n",
        ",where U is unitary that acts on the $|0\\rangle$ and $|1\\rangle$ states."
      ]
    },
    {
      "cell_type": "code",
      "execution_count": 53,
      "metadata": {},
      "outputs": [
        {
          "data": {
            "text/plain": [
              "(8, 8)"
            ]
          },
          "execution_count": 53,
          "metadata": {},
          "output_type": "execute_result"
        }
      ],
      "source": [
        "from qiskit import QuantumCircuit\n",
        "from qiskit.quantum_info.operators import Operator\n",
        "\n",
        "qc = QuantumCircuit(3)\n",
        "qc.cx(0, 1)\n",
        "qc.cx(0, 2)\n",
        "Operator(qc).data.shape"
      ]
    },
    {
      "cell_type": "code",
      "execution_count": 50,
      "metadata": {},
      "outputs": [
        {
          "data": {
            "text/latex": [
              "Quantum object: dims = [[2, 2, 2], [2]], shape = (8, 2), type = oper, isherm = False $ \\\\ \\left(\\begin{matrix}0.354 & 0.354\\\\0.354 & -0.354\\\\0.354 & -0.354\\\\0.354 & 0.354\\\\0.354 & -0.354\\\\0.354 & 0.354\\\\0.354 & 0.354\\\\0.354 & -0.354\\\\\\end{matrix}\\right)$"
            ],
            "text/plain": [
              "Quantum object: dims = [[2, 2, 2], [2]], shape = (8, 2), type = oper, isherm = False\n",
              "Qobj data =\n",
              "[[ 0.35355339  0.35355339]\n",
              " [ 0.35355339 -0.35355339]\n",
              " [ 0.35355339 -0.35355339]\n",
              " [ 0.35355339  0.35355339]\n",
              " [ 0.35355339 -0.35355339]\n",
              " [ 0.35355339  0.35355339]\n",
              " [ 0.35355339  0.35355339]\n",
              " [ 0.35355339 -0.35355339]]"
            ]
          },
          "execution_count": 50,
          "metadata": {},
          "output_type": "execute_result"
        }
      ],
      "source": [
        "encoding.logical_basis.transform_operator"
      ]
    },
    {
      "cell_type": "markdown",
      "metadata": {},
      "source": [
        "Next, "
      ]
    },
    {
      "cell_type": "code",
      "execution_count": 51,
      "metadata": {},
      "outputs": [
        {
          "data": {
            "text/latex": [
              "Quantum object: dims = [[3, 3, 3], [2]], shape = (27, 2), type = oper, isherm = False $ \\\\ \\left(\\begin{matrix}0.354 & 0.354\\\\0.0 & 0.0\\\\0.354 & -0.354\\\\0.0 & 0.0\\\\0.0 & 0.0\\\\\\vdots & \\vdots\\\\0.0 & 0.0\\\\0.0 & 0.0\\\\0.354 & 0.354\\\\0.0 & 0.0\\\\0.354 & -0.354\\\\\\end{matrix}\\right)$"
            ],
            "text/plain": [
              "Quantum object: dims = [[3, 3, 3], [2]], shape = (27, 2), type = oper, isherm = False\n",
              "Qobj data =\n",
              "[[ 0.35355339  0.35355339]\n",
              " [ 0.          0.        ]\n",
              " [ 0.35355339 -0.35355339]\n",
              " [ 0.          0.        ]\n",
              " [ 0.          0.        ]\n",
              " [ 0.          0.        ]\n",
              " [ 0.35355339 -0.35355339]\n",
              " [ 0.          0.        ]\n",
              " [ 0.35355339  0.35355339]\n",
              " [ 0.          0.        ]\n",
              " [ 0.          0.        ]\n",
              " [ 0.          0.        ]\n",
              " [ 0.          0.        ]\n",
              " [ 0.          0.        ]\n",
              " [ 0.          0.        ]\n",
              " [ 0.          0.        ]\n",
              " [ 0.          0.        ]\n",
              " [ 0.          0.        ]\n",
              " [ 0.35355339 -0.35355339]\n",
              " [ 0.          0.        ]\n",
              " [ 0.35355339  0.35355339]\n",
              " [ 0.          0.        ]\n",
              " [ 0.          0.        ]\n",
              " [ 0.          0.        ]\n",
              " [ 0.35355339  0.35355339]\n",
              " [ 0.          0.        ]\n",
              " [ 0.35355339 -0.35355339]]"
            ]
          },
          "execution_count": 51,
          "metadata": {},
          "output_type": "execute_result"
        }
      ],
      "source": [
        "from quantum_logical.basis import SNAILConcatWithAncilla\n",
        "\n",
        "encoding = SNAILConcatWithAncilla()\n",
        "encoding.logical_basis.transform_operator"
      ]
    }
  ],
  "metadata": {
    "kernelspec": {
      "display_name": ".venv",
      "language": "python",
      "name": "python3"
    },
    "language_info": {
      "codemirror_mode": {
        "name": "ipython",
        "version": 3
      },
      "file_extension": ".py",
      "mimetype": "text/x-python",
      "name": "python",
      "nbconvert_exporter": "python",
      "pygments_lexer": "ipython3",
      "version": "3.9.16"
    },
    "orig_nbformat": 4
  },
  "nbformat": 4,
  "nbformat_minor": 2
}
