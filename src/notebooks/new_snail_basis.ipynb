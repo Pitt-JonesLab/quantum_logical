{
  "cells": [
    {
      "cell_type": "markdown",
      "metadata": {},
      "source": [
        "break into steps\n",
        "\n",
        "- 5-wave gate. we can build but not fast enough\n",
        "\n",
        "- can we build out 3-wave (one-step), maybe?\n",
        "\n",
        "- can we build out of multiple 3-waves...\n",
        "- how do we account for t1, t2 error rates?\n",
        "- is there an even better encoding?\n",
        "\n",
        "- we need to experiments to find these gates (advantage is we have realistic hardware to validate each path)\n"
      ]
    },
    {
      "cell_type": "markdown",
      "metadata": {},
      "source": [
        "I want to be able to reason about the efficiency of a quantum error correction code.\n",
        "\n",
        "A code $\\mathcal{C}$ is given by $\\{|L_0)\\rangle, |L_1\\rangle\\}$ such that $\\langle L_0 | L_1 \\rangle = 0$.\n",
        "\n",
        "An error correction code will be more or less efficient depending on the number of errors it can detect/correct and the number of qubits it uses.\n",
        "\n",
        "Additionally, an error correction code will require translating all algorithm instructions into the code's basis. This translation requires:\n",
        "\n",
        "1. Encode and decode instructions.\n",
        "\n",
        "2. A set of instructions for syndrome detections. These typically involve a series of controlled-U gates; conditioned on the state qubit and acting on the ancilla qubit. A measurement is used to project the continuous errors into a discrete syndrome. Non-conventional stabilizer ancillas may use other gates, for example, erasure detection using an iSWAP.\n",
        "\n",
        "3. A set of instructions for the correction procedure conditioned on the syndrome. This likely involves resetting the faulty qubit and reapplying the encoding procedure.\n",
        "\n",
        "4. A set of logical operators to perform the algorithm computation with. A logical operation can be created by\n",
        "   \\begin{align}\n",
        "   A = |L_0\\rangle\\langle0| + |L_1\\rangle\\langle1| \\\\\n",
        "   U' = A U A^\\dagger\n",
        "   \\end{align}\n",
        "   where $U$ is a unitary that acts on the $|0\\rangle$ and $|1\\rangle $ states.\n",
        "   We can also describe a logical operator as a centralizer to the stabilizer group.\n",
        "\n",
        "   This is interesting because it complicates the research question we answered in previous work, regarding most efficient basis gate. Here, efficient hardware computational operations don't necessary create efficient logical operations. More, we will be limited by qubit connectivity as we will need connections between two logical qubit's state qubits in order to perform a logical operation.\n",
        "\n",
        "5. A procedure for interleaving syndrome measurements and logical operations. Simply, we might choice to check for faults between every logical operation, or we might choice to check for faults after every $n$ logical operations. Moreover, depending on the construction of the code, we might be able to check for syndrome in parallel with the logical operation (for example, if syndrome check commutes with the logical operation), or if can be done in parallel with the other syndrome checks (this might not be possible if the syndrome checks leave the codespace for example).\n",
        "   If the syndrome checks cannot be done in parallel, we might not need unique ancilla qubits for each syndrome check.\n",
        "\n",
        "6. We should consider the efficiency of the code with regards to a specific error model. In particular, we should be able to characterize a system's error channels and gate fidelities in order to determine the best error correction code for that system Operator-sum representation of an error channel:\n",
        "\n",
        "\\begin{align}\n",
        "\\epsilon(\\rho) = \\sum_i E_i \\rho E_i^\\dagger\n",
        "\\end{align}\n",
        "\n",
        "Use the error channel to create noisy-operators.\n",
        "\n",
        "\\begin{align}\n",
        "U' = \\sum_i E_i U\n",
        "\\end{align}\n",
        "\n",
        "We can verify that the codespace meets minimum requirements for the given error channels. Suppose $\\Epsilon$ is quantum operation with operation elements ${E_i}$. A necessary and sufficient condition for the existence of an error-correction operation $R$ correcting $\\Epsilon$ on $\\mathcal{C}$ is that\n",
        "\\begin{align}\n",
        "P E^\\dagger*i E_j P = \\alpha*{ij} P\n",
        "\\end{align}\n",
        ", for some Hermitian matrix $\\alpha$ of complex numbers.\n",
        "\n",
        "In order to evaluate the large sets of tradeoffs, we need to describe the syndrome, correction, and logical operators in terms of circuit costs. If the code protects errors efficiently, but in practice the operators are too expensive too implement on our hardware (after decomposing into hardware basis gates), then the code is not useful. We need information about how the hardware in order to determine a more accurate expected **increase in effective qubit fidelities**.\n",
        "\n",
        "7. We might choice to enforce rules that continuous operators may not leave the codespace, otherwise this may lead to undectable faults. However, if doing so gives us an otherwise more efficient operation we might find it worthwhile.\n",
        "\n",
        "8. We should be able to analyze the efficiency analytically to some extent. For example, given an error channel in terms of symbolic parameters, we can write the expected error of a gate, or the average/worst case state fidelity following the gate. We can use these to determine how faulty each logical operation is, as well as how faulty the syndrome and correction steps are themselves. We can use this to predict how often we need to check for faults and use a Markov chain to determine probabilities we end up remaining in the codespace for a given number of logical operations.\n",
        "\n",
        "9. Given a fault map and qubit connectivity, we should be able to analyze the efficiency from sets of error codes. We should integrate the transformations into a transpiler pass which will insert the error correction circuity into the circuit and be able to run the circuit on a simulator or real device.\n"
      ]
    },
    {
      "cell_type": "code",
      "execution_count": 1,
      "metadata": {},
      "outputs": [],
      "source": [
        "# explicit tutorial on the encoding\n",
        "# what gates do encoding and detection\n",
        "# the known solutions are the 5-wave and parallel 3-wave\n",
        "# (we don't know if there exists others yet)\n",
        "# but we need to first be able to simulate the faults and effective increases in lifetimes\n",
        "# if that the qubits had lifetimes and errro channels\n",
        "import numpy as np\n",
        "from IPython.display import display, Math"
      ]
    },
    {
      "cell_type": "markdown",
      "metadata": {},
      "source": [
        "To create logical operators use the following transformation:\n",
        "\\begin{align*}\n",
        "A = |L_0\\rangle\\langle0| + |L_1\\rangle\\langle1|\\\\\n",
        "U' = A U A^\\dagger\n",
        "\\end{align*}\n",
        ",where U is unitary that acts on the $|0\\rangle$ and $|1\\rangle$ states.\n"
      ]
    },
    {
      "cell_type": "code",
      "execution_count": 9,
      "metadata": {},
      "outputs": [
        {
          "data": {
            "text/latex": [
              "Quantum object: dims = [[3, 3, 3], [2]], shape = (27, 2), type = oper, isherm = False $ \\\\ \\left(\\begin{matrix}0.354 & 0.354\\\\0.0 & 0.0\\\\0.354 & -0.354\\\\0.0 & 0.0\\\\0.0 & 0.0\\\\\\vdots & \\vdots\\\\0.0 & 0.0\\\\0.0 & 0.0\\\\0.354 & 0.354\\\\0.0 & 0.0\\\\0.354 & -0.354\\\\\\end{matrix}\\right)$"
            ],
            "text/plain": [
              "Quantum object: dims = [[3, 3, 3], [2]], shape = (27, 2), type = oper, isherm = False\n",
              "Qobj data =\n",
              "[[ 0.35355339  0.35355339]\n",
              " [ 0.          0.        ]\n",
              " [ 0.35355339 -0.35355339]\n",
              " [ 0.          0.        ]\n",
              " [ 0.          0.        ]\n",
              " [ 0.          0.        ]\n",
              " [ 0.35355339 -0.35355339]\n",
              " [ 0.          0.        ]\n",
              " [ 0.35355339  0.35355339]\n",
              " [ 0.          0.        ]\n",
              " [ 0.          0.        ]\n",
              " [ 0.          0.        ]\n",
              " [ 0.          0.        ]\n",
              " [ 0.          0.        ]\n",
              " [ 0.          0.        ]\n",
              " [ 0.          0.        ]\n",
              " [ 0.          0.        ]\n",
              " [ 0.          0.        ]\n",
              " [ 0.35355339 -0.35355339]\n",
              " [ 0.          0.        ]\n",
              " [ 0.35355339  0.35355339]\n",
              " [ 0.          0.        ]\n",
              " [ 0.          0.        ]\n",
              " [ 0.          0.        ]\n",
              " [ 0.35355339  0.35355339]\n",
              " [ 0.          0.        ]\n",
              " [ 0.35355339 -0.35355339]]"
            ]
          },
          "execution_count": 9,
          "metadata": {},
          "output_type": "execute_result"
        }
      ],
      "source": [
        "from quantum_logical.basis import SNAILConcatWithAncilla\n",
        "\n",
        "encoding = SNAILConcatWithAncilla()\n",
        "A = encoding.logical_basis.transform_operator\n",
        "A"
      ]
    },
    {
      "cell_type": "code",
      "execution_count": 3,
      "metadata": {},
      "outputs": [
        {
          "data": {
            "text/latex": [
              "Quantum object: dims = [[54], [54]], shape = (54, 54), type = oper, isherm = True $ \\\\ \\left(\\begin{matrix}0.500 & 0.0 & 0.0 & 0.0 & 0.0 & \\cdots & 0.0 & 0.0 & -0.500 & 0.0 & 0.0\\\\0.0 & 1.0 & 0.0 & 0.0 & 0.0 & \\cdots & 0.0 & 0.0 & 0.0 & 0.0 & 0.0\\\\0.0 & 0.0 & 0.500 & 0.0 & 0.0 & \\cdots & 0.0 & 0.0 & 0.0 & 0.0 & -0.500\\\\0.0 & 0.0 & 0.0 & 1.0 & 0.0 & \\cdots & 0.0 & 0.0 & 0.0 & 0.0 & 0.0\\\\0.0 & 0.0 & 0.0 & 0.0 & 1.0 & \\cdots & 0.0 & 0.0 & 0.0 & 0.0 & 0.0\\\\\\vdots & \\vdots & \\vdots & \\vdots & \\vdots & \\ddots & \\vdots & \\vdots & \\vdots & \\vdots & \\vdots\\\\0.0 & 0.0 & 0.0 & 0.0 & 0.0 & \\cdots & 1.0 & 0.0 & 0.0 & 0.0 & 0.0\\\\0.0 & 0.0 & 0.0 & 0.0 & 0.0 & \\cdots & 0.0 & 1.0 & 0.0 & 0.0 & 0.0\\\\-0.500 & 0.0 & 0.0 & 0.0 & 0.0 & \\cdots & 0.0 & 0.0 & 0.500 & 0.0 & 0.0\\\\0.0 & 0.0 & 0.0 & 0.0 & 0.0 & \\cdots & 0.0 & 0.0 & 0.0 & 1.0 & 0.0\\\\0.0 & 0.0 & -0.500 & 0.0 & 0.0 & \\cdots & 0.0 & 0.0 & 0.0 & 0.0 & 0.500\\\\\\end{matrix}\\right)$"
            ],
            "text/plain": [
              "Quantum object: dims = [[54], [54]], shape = (54, 54), type = oper, isherm = True\n",
              "Qobj data =\n",
              "[[ 0.5  0.   0.  ... -0.5  0.   0. ]\n",
              " [ 0.   1.   0.  ...  0.   0.   0. ]\n",
              " [ 0.   0.   0.5 ...  0.   0.  -0.5]\n",
              " ...\n",
              " [-0.5  0.   0.  ...  0.5  0.   0. ]\n",
              " [ 0.   0.   0.  ...  0.   1.   0. ]\n",
              " [ 0.   0.  -0.5 ...  0.   0.   0.5]]"
            ]
          },
          "execution_count": 3,
          "metadata": {},
          "output_type": "execute_result"
        }
      ],
      "source": [
        "# encoding.detection_operator\n",
        "encoding.ancilla[0]._detection_operator"
      ]
    },
    {
      "cell_type": "code",
      "execution_count": 5,
      "metadata": {},
      "outputs": [
        {
          "data": {
            "text/latex": [
              "$\\displaystyle <quantum_logical.conversiongain.ConversionGainThreeWave object at 0x7f3b168ae700>$"
            ],
            "text/plain": [
              "<IPython.core.display.Math object>"
            ]
          },
          "metadata": {},
          "output_type": "display_data"
        },
        {
          "name": "stdout",
          "output_type": "stream",
          "text": [
            "Quantum object: dims = [[9], [9]], shape = (9, 9), type = oper, isherm = False\n",
            "Qobj data =\n",
            "[[0.+0.j 0.+0.j 0.+0.j 0.+0.j 0.-1.j 0.+0.j 0.+0.j 0.+0.j 0.+0.j]\n",
            " [0.+0.j 1.+0.j 0.+0.j 0.+0.j 0.+0.j 0.+0.j 0.+0.j 0.+0.j 0.+0.j]\n",
            " [0.+0.j 0.+0.j 1.+0.j 0.+0.j 0.+0.j 0.+0.j 0.+0.j 0.+0.j 0.+0.j]\n",
            " [0.+0.j 0.+0.j 0.+0.j 1.+0.j 0.+0.j 0.+0.j 0.+0.j 0.+0.j 0.+0.j]\n",
            " [0.-1.j 0.+0.j 0.+0.j 0.+0.j 0.+0.j 0.+0.j 0.+0.j 0.+0.j 0.+0.j]\n",
            " [0.+0.j 0.+0.j 0.+0.j 0.+0.j 0.+0.j 1.+0.j 0.+0.j 0.+0.j 0.+0.j]\n",
            " [0.+0.j 0.+0.j 0.+0.j 0.+0.j 0.+0.j 0.+0.j 1.+0.j 0.+0.j 0.+0.j]\n",
            " [0.+0.j 0.+0.j 0.+0.j 0.+0.j 0.+0.j 0.+0.j 0.+0.j 1.+0.j 0.+0.j]\n",
            " [0.+0.j 0.+0.j 0.+0.j 0.+0.j 0.+0.j 0.+0.j 0.+0.j 0.+0.j 1.+0.j]]\n"
          ]
        }
      ],
      "source": [
        "from quantum_logical.conversiongain import (\n",
        "    ConversionGainThreeWave,\n",
        "    # ConversionGainThreeWaveTwo,\n",
        "    ConversionGainFiveWave,\n",
        ")\n",
        "\n",
        "H = ConversionGainThreeWave(gc=np.pi / 2, gg=0, transmon_levels=3)\n",
        "display(Math(str(H)))\n",
        "U1 = H.unitary(t=1.0)\n",
        "print(U1)"
      ]
    },
    {
      "cell_type": "markdown",
      "metadata": {},
      "source": [
        "![Alt text](../../images/image.png)\n"
      ]
    },
    {
      "cell_type": "code",
      "execution_count": 82,
      "metadata": {},
      "outputs": [
        {
          "data": {
            "text/latex": [
              "Quantum object: dims = [[9], [9]], shape = (9, 9), type = oper, isherm = False $ \\\\ \\left(\\begin{matrix}1.0 & 0.0 & 0.0 & 0.0 & 0.0 & 0.0 & 0.0 & 0.0 & 0.0\\\\0.0 & 1.0 & 0.0 & 0.0 & 0.0 & 0.0 & 0.0 & 0.0 & 0.0\\\\0.0 & 0.0 & 0.500 & 0.0 & 0.707 & 0.0 & -0.500j & 0.0 & 0.0\\\\0.0 & 0.0 & 0.0 & 1.0 & 0.0 & 0.0 & 0.0 & 0.0 & 0.0\\\\0.0 & 0.0 & -0.707 & 0.0 & 0.0 & 0.0 & -0.707j & 0.0 & 0.0\\\\0.0 & 0.0 & 0.0 & 0.0 & 0.0 & 1.0 & 0.0 & 0.0 & 0.0\\\\0.0 & 0.0 & 0.500j & 0.0 & -0.707j & 0.0 & 0.500 & 0.0 & 0.0\\\\0.0 & 0.0 & 0.0 & 0.0 & 0.0 & 0.0 & 0.0 & 1.0 & 0.0\\\\0.0 & 0.0 & 0.0 & 0.0 & 0.0 & 0.0 & 0.0 & 0.0 & 1.0\\\\\\end{matrix}\\right)$"
            ],
            "text/plain": [
              "Quantum object: dims = [[9], [9]], shape = (9, 9), type = oper, isherm = False\n",
              "Qobj data =\n",
              "[[ 1.        +0.j          0.        +0.j          0.        +0.j\n",
              "   0.        +0.j          0.        +0.j          0.        +0.j\n",
              "   0.        +0.j          0.        +0.j          0.        +0.j        ]\n",
              " [ 0.        +0.j          1.        +0.j          0.        +0.j\n",
              "   0.        +0.j          0.        +0.j          0.        +0.j\n",
              "   0.        +0.j          0.        +0.j          0.        +0.j        ]\n",
              " [ 0.        +0.j          0.        +0.j          0.5       +0.j\n",
              "   0.        +0.j          0.70710678+0.j          0.        +0.j\n",
              "   0.        -0.5j         0.        +0.j          0.        +0.j        ]\n",
              " [ 0.        +0.j          0.        +0.j          0.        +0.j\n",
              "   1.        +0.j          0.        +0.j          0.        +0.j\n",
              "   0.        +0.j          0.        +0.j          0.        +0.j        ]\n",
              " [ 0.        +0.j          0.        +0.j         -0.70710678+0.j\n",
              "   0.        +0.j          0.        +0.j          0.        +0.j\n",
              "   0.        -0.70710678j  0.        +0.j          0.        +0.j        ]\n",
              " [ 0.        +0.j          0.        +0.j          0.        +0.j\n",
              "   0.        +0.j          0.        +0.j          1.        +0.j\n",
              "   0.        +0.j          0.        +0.j          0.        +0.j        ]\n",
              " [ 0.        +0.j          0.        +0.j          0.        +0.5j\n",
              "   0.        +0.j          0.        -0.70710678j  0.        +0.j\n",
              "   0.5       +0.j          0.        +0.j          0.        +0.j        ]\n",
              " [ 0.        +0.j          0.        +0.j          0.        +0.j\n",
              "   0.        +0.j          0.        +0.j          0.        +0.j\n",
              "   0.        +0.j          1.        +0.j          0.        +0.j        ]\n",
              " [ 0.        +0.j          0.        +0.j          0.        +0.j\n",
              "   0.        +0.j          0.        +0.j          0.        +0.j\n",
              "   0.        +0.j          0.        +0.j          1.        +0.j        ]]"
            ]
          },
          "execution_count": 82,
          "metadata": {},
          "output_type": "execute_result"
        }
      ],
      "source": [
        "# what if we don't just compose the unitaries but put all the terms into the Hamiltonian?\n",
        "from quantum_logical.conversiongain import ConversionGainThreeWaveTogether\n",
        "\n",
        "H = ConversionGainThreeWaveTogether(\n",
        "    gc=np.pi / 2,\n",
        "    # gg=np.pi / 4,\n",
        "    gg=0,\n",
        "    phi_c1=-0.5 * np.pi,\n",
        "    phi_c2=0 * np.pi,\n",
        "    transmon_levels=3,\n",
        ")\n",
        "U3 = H.unitary(t=np.sqrt(2) / 2.0)\n",
        "U3"
      ]
    },
    {
      "cell_type": "code",
      "execution_count": 43,
      "metadata": {},
      "outputs": [
        {
          "name": "stdout",
          "output_type": "stream",
          "text": [
            "Transformed X gate:\n",
            " Quantum object: dims = [[3], [3]], shape = (3, 3), type = oper, isherm = True\n",
            "Qobj data =\n",
            "[[0. 0. 1.]\n",
            " [0. 0. 0.]\n",
            " [1. 0. 0.]]\n",
            "\n",
            "Transformed Z gate:\n",
            " Quantum object: dims = [[3], [3]], shape = (3, 3), type = oper, isherm = True\n",
            "Qobj data =\n",
            "[[ 1.  0.  0.]\n",
            " [ 0.  0.  0.]\n",
            " [ 0.  0. -1.]]\n"
          ]
        }
      ],
      "source": [
        "import qutip as qt\n",
        "\n",
        "\n",
        "def transform_gate_to_qutrit(gate):\n",
        "    \"\"\"\n",
        "    Transforms a 1Q qubit gate into a 1Q qutrit gate using the gf_isometry.\n",
        "\n",
        "    Parameters:\n",
        "    - gate: A 1Q qubit gate represented as a qutip Qobj.\n",
        "\n",
        "    Returns:\n",
        "    - A qutip Qobj representing the transformed 1Q qutrit gate.\n",
        "    \"\"\"\n",
        "    # Define the isometry\n",
        "    gf_isometry = qt.Qobj([[1, 0], [0, 0], [0, 1]])\n",
        "\n",
        "    # Transform the gate using the isometry\n",
        "    transformed_gate = gf_isometry * gate * gf_isometry.dag()\n",
        "\n",
        "    return transformed_gate\n",
        "\n",
        "\n",
        "# Example usage:\n",
        "X = qt.sigmax()\n",
        "Z = qt.sigmaz()\n",
        "\n",
        "X_transformed = transform_gate_to_qutrit(X)\n",
        "Z_transformed = transform_gate_to_qutrit(Z)\n",
        "\n",
        "print(\"Transformed X gate:\\n\", X_transformed)\n",
        "print(\"\\nTransformed Z gate:\\n\", Z_transformed)"
      ]
    },
    {
      "cell_type": "code",
      "execution_count": 83,
      "metadata": {},
      "outputs": [
        {
          "data": {
            "text/plain": [
              "transpile_benchy.utilities.numerical_decomp.BasicDecomposer"
            ]
          },
          "execution_count": 83,
          "metadata": {},
          "output_type": "execute_result"
        }
      ],
      "source": [
        "from transpile_benchy.utilities.numerical_decomp import BasicDecomposer\n",
        "from qiskit.circuit.library import UGate\n",
        "\n",
        "\n",
        "class QutritAnsatz:\n",
        "    def __init__(self, parameters):\n",
        "        sqrt_iswap_gf = self.multi_qubit_gate().full()\n",
        "        candidate_operator = np.eye(9)\n",
        "        u1 = transform_gate_to_qutrit(UGate(np.pi / 2, -np.pi / 2, 0).to_matrix())\n",
        "        u2 = transform_gate_to_qutrit(\n",
        "            UGate(np.pi / 2, np.pi / 2, np.pi / 2).to_matrix()\n",
        "        )\n",
        "        u = np.kron(u1, u2)\n",
        "        candidate_operator = u @ candidate_operator\n",
        "        candidate_operator = sqrt_iswap_gf @ candidate_operator\n",
        "\n",
        "        u1 = transform_gate_to_qutrit(UGate(np.pi, -np.pi / 2, np.pi / 2).to_matrix())\n",
        "        u2 = transform_gate_to_qutrit(UGate(0, 0, np.pi).to_matrix())\n",
        "        u = np.kron(u1, u2)\n",
        "        candidate_operator = u @ candidate_operator\n",
        "        candidate_operator = sqrt_iswap_gf @ candidate_operator\n",
        "\n",
        "        u1 = transform_gate_to_qutrit(\n",
        "            UGate(np.pi / 2, -np.pi / 2, -3 * np.pi / 2).to_matrix()\n",
        "        )\n",
        "        u2 = transform_gate_to_qutrit(UGate(np.pi / 2, 0, -np.pi / 2).to_matrix())\n",
        "        u = np.kron(u1, u2)\n",
        "        candidate_operator = u @ candidate_operator\n",
        "\n",
        "        U3_2Q = qt.Qobj(candidate_operator)\n",
        "        self.ansatz = U3_2Q\n",
        "\n",
        "    @classmethod\n",
        "    def from_parameters(cls, parameters):\n",
        "        return cls(parameters)\n",
        "\n",
        "    def multi_qubit_gate(self):\n",
        "        H = ConversionGainThreeWaveTogether(\n",
        "            gc=np.pi / 2,\n",
        "            # gg=np.pi / 4,\n",
        "            gg=0,\n",
        "            phi_c1=-0.5 * np.pi,\n",
        "            phi_c2=0 * np.pi,\n",
        "            transmon_levels=3,\n",
        "        )\n",
        "        U3 = H.unitary(t=np.sqrt(2) / 2.0)\n",
        "        return U3\n",
        "\n",
        "    def assign_parameters(self, parameters):\n",
        "        return self.ansatz"
      ]
    },
    {
      "cell_type": "code",
      "execution_count": 73,
      "metadata": {},
      "outputs": [
        {
          "data": {
            "text/latex": [
              "Quantum object: dims = [[9], [9]], shape = (9, 9), type = oper, isherm = False $ \\\\ \\left(\\begin{matrix}-0.500 & 0.0 & -0.500 & 0.0 & 0.0 & 0.0 & -1.220\\times10^{-16} & 0.0 & 1.102\\times10^{-17}\\\\0.0 & 0.0 & 0.0 & 0.0 & 0.0 & 0.0 & 0.0 & 0.0 & 0.0\\\\0.500j & 0.0 & 0.500j & 0.0 & 0.0 & 0.0 & -4.449\\times10^{-17} & 0.0 & 5.551\\times10^{-17}\\\\0.0 & 0.0 & 0.0 & 0.0 & 0.0 & 0.0 & 0.0 & 0.0 & 0.0\\\\0.0 & 0.0 & 0.0 & 0.0 & 0.0 & 0.0 & 0.0 & 0.0 & 0.0\\\\0.0 & 0.0 & 0.0 & 0.0 & 0.0 & 0.0 & 0.0 & 0.0 & 0.0\\\\5.551\\times10^{-17} & 0.0 & 0.0 & 0.0 & 0.0 & 0.0 & 0.500j & 0.0 & -0.500j\\\\0.0 & 0.0 & 0.0 & 0.0 & 0.0 & 0.0 & 0.0 & 0.0 & 0.0\\\\-2.439\\times10^{-17} & 0.0 & -1.493\\times10^{-16} & 0.0 & 0.0 & 0.0 & -0.500 & 0.0 & 0.500\\\\\\end{matrix}\\right)$"
            ],
            "text/plain": [
              "Quantum object: dims = [[9], [9]], shape = (9, 9), type = oper, isherm = False\n",
              "Qobj data =\n",
              "[[-5.00000000e-01-1.55516260e-16j  0.00000000e+00+0.00000000e+00j\n",
              "  -5.00000000e-01-4.44939578e-17j  0.00000000e+00+0.00000000e+00j\n",
              "   0.00000000e+00+0.00000000e+00j  0.00000000e+00+0.00000000e+00j\n",
              "  -1.22039496e-16+5.83717456e-17j  0.00000000e+00+0.00000000e+00j\n",
              "   1.10171934e-17-2.77555756e-17j]\n",
              " [ 0.00000000e+00+0.00000000e+00j  0.00000000e+00+0.00000000e+00j\n",
              "   0.00000000e+00+0.00000000e+00j  0.00000000e+00+0.00000000e+00j\n",
              "   0.00000000e+00+0.00000000e+00j  0.00000000e+00+0.00000000e+00j\n",
              "   0.00000000e+00+0.00000000e+00j  0.00000000e+00+0.00000000e+00j\n",
              "   0.00000000e+00+0.00000000e+00j]\n",
              " [-2.86059436e-18+5.00000000e-01j  0.00000000e+00+0.00000000e+00j\n",
              "   1.08161708e-16+5.00000000e-01j  0.00000000e+00+0.00000000e+00j\n",
              "   0.00000000e+00+0.00000000e+00j  0.00000000e+00+0.00000000e+00j\n",
              "  -4.44939578e-17-2.86059436e-18j  0.00000000e+00+0.00000000e+00j\n",
              "   5.55111512e-17+1.41638472e-16j]\n",
              " [ 0.00000000e+00+0.00000000e+00j  0.00000000e+00+0.00000000e+00j\n",
              "   0.00000000e+00+0.00000000e+00j  0.00000000e+00+0.00000000e+00j\n",
              "   0.00000000e+00+0.00000000e+00j  0.00000000e+00+0.00000000e+00j\n",
              "   0.00000000e+00+0.00000000e+00j  0.00000000e+00+0.00000000e+00j\n",
              "   0.00000000e+00+0.00000000e+00j]\n",
              " [ 0.00000000e+00+0.00000000e+00j  0.00000000e+00+0.00000000e+00j\n",
              "   0.00000000e+00+0.00000000e+00j  0.00000000e+00+0.00000000e+00j\n",
              "   0.00000000e+00+0.00000000e+00j  0.00000000e+00+0.00000000e+00j\n",
              "   0.00000000e+00+0.00000000e+00j  0.00000000e+00+0.00000000e+00j\n",
              "   0.00000000e+00+0.00000000e+00j]\n",
              " [ 0.00000000e+00+0.00000000e+00j  0.00000000e+00+0.00000000e+00j\n",
              "   0.00000000e+00+0.00000000e+00j  0.00000000e+00+0.00000000e+00j\n",
              "   0.00000000e+00+0.00000000e+00j  0.00000000e+00+0.00000000e+00j\n",
              "   0.00000000e+00+0.00000000e+00j  0.00000000e+00+0.00000000e+00j\n",
              "   0.00000000e+00+0.00000000e+00j]\n",
              " [ 5.55111512e-17-1.14385453e-16j  0.00000000e+00+0.00000000e+00j\n",
              "   0.00000000e+00-1.72409388e-17j  0.00000000e+00+0.00000000e+00j\n",
              "   0.00000000e+00+0.00000000e+00j  0.00000000e+00+0.00000000e+00j\n",
              "   5.88743022e-17+5.00000000e-01j  0.00000000e+00+0.00000000e+00j\n",
              "   9.37813637e-17-5.00000000e-01j]\n",
              " [ 0.00000000e+00+0.00000000e+00j  0.00000000e+00+0.00000000e+00j\n",
              "   0.00000000e+00+0.00000000e+00j  0.00000000e+00+0.00000000e+00j\n",
              "   0.00000000e+00+0.00000000e+00j  0.00000000e+00+0.00000000e+00j\n",
              "   0.00000000e+00+0.00000000e+00j  0.00000000e+00+0.00000000e+00j\n",
              "   0.00000000e+00+0.00000000e+00j]\n",
              " [-2.43924247e-17-2.77555756e-17j  0.00000000e+00+0.00000000e+00j\n",
              "  -1.49292515e-16-5.55111512e-17j  0.00000000e+00+0.00000000e+00j\n",
              "   0.00000000e+00+0.00000000e+00j  0.00000000e+00+0.00000000e+00j\n",
              "  -5.00000000e-01-2.43924247e-17j  0.00000000e+00+0.00000000e+00j\n",
              "   5.00000000e-01+1.21536939e-16j]]"
            ]
          },
          "execution_count": 73,
          "metadata": {},
          "output_type": "execute_result"
        }
      ],
      "source": [
        "from qiskit.circuit.library import UGate\n",
        "\n",
        "sqrt_iswap_gf = U3.full()\n",
        "candidate_operator = np.eye(9)\n",
        "u1 = transform_gate_to_qutrit(UGate(np.pi / 2, -np.pi / 2, 0).to_matrix())\n",
        "u2 = transform_gate_to_qutrit(UGate(np.pi / 2, np.pi / 2, np.pi / 2).to_matrix())\n",
        "u = np.kron(u1, u2)\n",
        "candidate_operator = u @ candidate_operator\n",
        "candidate_operator = sqrt_iswap_gf @ candidate_operator\n",
        "\n",
        "u1 = transform_gate_to_qutrit(UGate(np.pi, -np.pi / 2, np.pi / 2).to_matrix())\n",
        "u2 = transform_gate_to_qutrit(UGate(0, 0, np.pi).to_matrix())\n",
        "u = np.kron(u1, u2)\n",
        "candidate_operator = u @ candidate_operator\n",
        "candidate_operator = sqrt_iswap_gf @ candidate_operator\n",
        "\n",
        "u1 = transform_gate_to_qutrit(UGate(np.pi / 2, -np.pi / 2, -3 * np.pi / 2).to_matrix())\n",
        "u2 = transform_gate_to_qutrit(UGate(np.pi / 2, 0, -np.pi / 2).to_matrix())\n",
        "u = np.kron(u1, u2)\n",
        "candidate_operator = u @ candidate_operator\n",
        "\n",
        "U3_2Q = qt.Qobj(candidate_operator)\n",
        "U3_2Q"
      ]
    },
    {
      "cell_type": "code",
      "execution_count": 78,
      "metadata": {},
      "outputs": [
        {
          "data": {
            "text/latex": [
              "Quantum object: dims = [[4], [4]], shape = (4, 4), type = oper, isherm = False $ \\\\ \\left(\\begin{matrix}-0.500 & 0.0 & -0.500 & 0.0\\\\0.0 & 0.0 & 0.0 & 0.0\\\\0.500j & 0.0 & 0.500j & 0.0\\\\0.0 & 0.0 & 0.0 & 0.0\\\\\\end{matrix}\\right)$"
            ],
            "text/plain": [
              "Quantum object: dims = [[4], [4]], shape = (4, 4), type = oper, isherm = False\n",
              "Qobj data =\n",
              "[[-5.00000000e-01-1.55516260e-16j  0.00000000e+00+0.00000000e+00j\n",
              "  -5.00000000e-01-4.44939578e-17j  0.00000000e+00+0.00000000e+00j]\n",
              " [ 0.00000000e+00+0.00000000e+00j  0.00000000e+00+0.00000000e+00j\n",
              "   0.00000000e+00+0.00000000e+00j  0.00000000e+00+0.00000000e+00j]\n",
              " [-2.86059436e-18+5.00000000e-01j  0.00000000e+00+0.00000000e+00j\n",
              "   1.08161708e-16+5.00000000e-01j  0.00000000e+00+0.00000000e+00j]\n",
              " [ 0.00000000e+00+0.00000000e+00j  0.00000000e+00+0.00000000e+00j\n",
              "   0.00000000e+00+0.00000000e+00j  0.00000000e+00+0.00000000e+00j]]"
            ]
          },
          "execution_count": 78,
          "metadata": {},
          "output_type": "execute_result"
        }
      ],
      "source": [
        "reduced_matrix = U3_2Q[0:4, 0:4]\n",
        "qt.Qobj(reduced_matrix)"
      ]
    },
    {
      "cell_type": "code",
      "execution_count": 17,
      "metadata": {},
      "outputs": [],
      "source": [
        "# from qutip import Qobj\n",
        "# Qobj(H.construct_H().H.full())"
      ]
    },
    {
      "cell_type": "code",
      "execution_count": 8,
      "metadata": {},
      "outputs": [
        {
          "data": {
            "text/latex": [
              "Quantum object: dims = [[9], [9]], shape = (9, 9), type = oper, isherm = False $ \\\\ \\left(\\begin{matrix}1.0 & 0.0 & 0.0 & 0.0 & 0.0 & 0.0 & 0.0 & 0.0 & 0.0\\\\0.0 & 1.0 & 0.0 & 0.0 & 0.0 & 0.0 & 0.0 & 0.0 & 0.0\\\\0.0 & 0.0 & 0.0 & 0.0 & 0.0 & 0.0 & -1.0j & 0.0 & 0.0\\\\0.0 & 0.0 & 0.0 & 1.0 & 0.0 & 0.0 & 0.0 & 0.0 & 0.0\\\\0.0 & 0.0 & 0.0 & 0.0 & 1.0 & 0.0 & 0.0 & 0.0 & 0.0\\\\0.0 & 0.0 & 0.0 & 0.0 & 0.0 & 1.0 & 0.0 & 0.0 & 0.0\\\\0.0 & 0.0 & -1.0j & 0.0 & 0.0 & 0.0 & 0.0 & 0.0 & 0.0\\\\0.0 & 0.0 & 0.0 & 0.0 & 0.0 & 0.0 & 0.0 & 1.0 & 0.0\\\\0.0 & 0.0 & 0.0 & 0.0 & 0.0 & 0.0 & 0.0 & 0.0 & 1.0\\\\\\end{matrix}\\right)$"
            ],
            "text/plain": [
              "Quantum object: dims = [[9], [9]], shape = (9, 9), type = oper, isherm = False\n",
              "Qobj data =\n",
              "[[1.+0.j 0.+0.j 0.+0.j 0.+0.j 0.+0.j 0.+0.j 0.+0.j 0.+0.j 0.+0.j]\n",
              " [0.+0.j 1.+0.j 0.+0.j 0.+0.j 0.+0.j 0.+0.j 0.+0.j 0.+0.j 0.+0.j]\n",
              " [0.+0.j 0.+0.j 0.+0.j 0.+0.j 0.+0.j 0.+0.j 0.-1.j 0.+0.j 0.+0.j]\n",
              " [0.+0.j 0.+0.j 0.+0.j 1.+0.j 0.+0.j 0.+0.j 0.+0.j 0.+0.j 0.+0.j]\n",
              " [0.+0.j 0.+0.j 0.+0.j 0.+0.j 1.+0.j 0.+0.j 0.+0.j 0.+0.j 0.+0.j]\n",
              " [0.+0.j 0.+0.j 0.+0.j 0.+0.j 0.+0.j 1.+0.j 0.+0.j 0.+0.j 0.+0.j]\n",
              " [0.+0.j 0.+0.j 0.-1.j 0.+0.j 0.+0.j 0.+0.j 0.+0.j 0.+0.j 0.+0.j]\n",
              " [0.+0.j 0.+0.j 0.+0.j 0.+0.j 0.+0.j 0.+0.j 0.+0.j 1.+0.j 0.+0.j]\n",
              " [0.+0.j 0.+0.j 0.+0.j 0.+0.j 0.+0.j 0.+0.j 0.+0.j 0.+0.j 1.+0.j]]"
            ]
          },
          "execution_count": 8,
          "metadata": {},
          "output_type": "execute_result"
        }
      ],
      "source": [
        "H = ConversionGainFiveWave(gc=np.pi / 2, gg=0)\n",
        "U = H.unitary(t=1.0)\n",
        "U"
      ]
    },
    {
      "cell_type": "code",
      "execution_count": 125,
      "metadata": {},
      "outputs": [
        {
          "data": {
            "text/latex": [
              "Quantum object: dims = [[9], [9]], shape = (9, 9), type = oper, isherm = True $ \\\\ \\left(\\begin{matrix}0.0 & 0.0 & 0.0 & 0.0 & 0.0 & 0.0 & 0.0 & 0.0 & 0.0\\\\0.0 & 0.0 & 0.0 & 0.0 & 0.0 & 0.0 & 0.0 & 0.0 & 0.0\\\\0.0 & 0.0 & 0.0 & 0.0 & 0.0 & 0.0 & 1.571 & 0.0 & 0.0\\\\0.0 & 0.0 & 0.0 & 0.0 & 0.0 & 0.0 & 0.0 & 0.0 & 0.0\\\\0.0 & 0.0 & 0.0 & 0.0 & 0.0 & 0.0 & 0.0 & 0.0 & 0.0\\\\0.0 & 0.0 & 0.0 & 0.0 & 0.0 & 0.0 & 0.0 & 0.0 & 0.0\\\\0.0 & 0.0 & 1.571 & 0.0 & 0.0 & 0.0 & 0.0 & 0.0 & 0.0\\\\0.0 & 0.0 & 0.0 & 0.0 & 0.0 & 0.0 & 0.0 & 0.0 & 0.0\\\\0.0 & 0.0 & 0.0 & 0.0 & 0.0 & 0.0 & 0.0 & 0.0 & 0.0\\\\\\end{matrix}\\right)$"
            ],
            "text/plain": [
              "Quantum object: dims = [[9], [9]], shape = (9, 9), type = oper, isherm = True\n",
              "Qobj data =\n",
              "[[0.         0.         0.         0.         0.         0.\n",
              "  0.         0.         0.        ]\n",
              " [0.         0.         0.         0.         0.         0.\n",
              "  0.         0.         0.        ]\n",
              " [0.         0.         0.         0.         0.         0.\n",
              "  1.57079633 0.         0.        ]\n",
              " [0.         0.         0.         0.         0.         0.\n",
              "  0.         0.         0.        ]\n",
              " [0.         0.         0.         0.         0.         0.\n",
              "  0.         0.         0.        ]\n",
              " [0.         0.         0.         0.         0.         0.\n",
              "  0.         0.         0.        ]\n",
              " [0.         0.         1.57079633 0.         0.         0.\n",
              "  0.         0.         0.        ]\n",
              " [0.         0.         0.         0.         0.         0.\n",
              "  0.         0.         0.        ]\n",
              " [0.         0.         0.         0.         0.         0.\n",
              "  0.         0.         0.        ]]"
            ]
          },
          "execution_count": 125,
          "metadata": {},
          "output_type": "execute_result"
        }
      ],
      "source": [
        "from qutip import Qobj\n",
        "\n",
        "Qobj(H.construct_H().H.full())"
      ]
    },
    {
      "cell_type": "code",
      "execution_count": 126,
      "metadata": {},
      "outputs": [],
      "source": [
        "# todo, check decode solution with 3-, 5-wave gates\n",
        "# show that 5-wave stays in encoding, 3-wave does not\n",
        "# is_centralizer()"
      ]
    },
    {
      "cell_type": "code",
      "execution_count": 28,
      "metadata": {},
      "outputs": [],
      "source": [
        "from quantum_logical.basis import PhaseReptition\n",
        "from qiskit.quantum_info import StabilizerState\n",
        "from qutip import basis\n",
        "\n",
        "encoding = PhaseReptition()"
      ]
    },
    {
      "cell_type": "code",
      "execution_count": 29,
      "metadata": {},
      "outputs": [
        {
          "data": {
            "text/latex": [
              "Quantum object: dims = [[2, 2, 2], [1, 1, 1]], shape = (8, 1), type = ket $ \\\\ \\left(\\begin{matrix}0.354\\\\0.354\\\\0.354\\\\0.354\\\\0.354\\\\0.354\\\\0.354\\\\0.354\\\\\\end{matrix}\\right)$"
            ],
            "text/plain": [
              "Quantum object: dims = [[2, 2, 2], [1, 1, 1]], shape = (8, 1), type = ket\n",
              "Qobj data =\n",
              "[[0.35355339]\n",
              " [0.35355339]\n",
              " [0.35355339]\n",
              " [0.35355339]\n",
              " [0.35355339]\n",
              " [0.35355339]\n",
              " [0.35355339]\n",
              " [0.35355339]]"
            ]
          },
          "execution_count": 29,
          "metadata": {},
          "output_type": "execute_result"
        }
      ],
      "source": [
        "from qiskit.quantum_info import Statevector, Operator, Clifford\n",
        "\n",
        "op = encoding.logical_basis.zero_ket\n",
        "op"
      ]
    },
    {
      "cell_type": "code",
      "execution_count": 38,
      "metadata": {},
      "outputs": [
        {
          "data": {
            "text/latex": [
              "Quantum object: dims = [[16], [16]], shape = (16, 16), type = oper, isherm = True $ \\\\ \\left(\\begin{matrix}0.625 & 0.0 & 0.0 & 0.0 & 0.0 & \\cdots & -0.125 & 0.125 & -0.125 & -0.125 & -0.375\\\\0.0 & 0.625 & 0.0 & 0.0 & 0.0 & \\cdots & 0.125 & -0.125 & 0.125 & -0.375 & -0.125\\\\0.0 & 0.0 & 0.625 & 0.0 & 0.0 & \\cdots & 0.125 & -0.125 & -0.375 & 0.125 & -0.125\\\\0.0 & 0.0 & 0.0 & 0.625 & 0.0 & \\cdots & 0.375 & -0.375 & -0.125 & -0.125 & 0.125\\\\0.0 & 0.0 & 0.0 & 0.0 & 0.625 & \\cdots & -0.375 & 0.375 & 0.125 & 0.125 & -0.125\\\\\\vdots & \\vdots & \\vdots & \\vdots & \\vdots & \\ddots & \\vdots & \\vdots & \\vdots & \\vdots & \\vdots\\\\-0.125 & 0.125 & 0.125 & 0.375 & -0.375 & \\cdots & 0.625 & 0.0 & 0.0 & 0.0 & 0.0\\\\0.125 & -0.125 & -0.125 & -0.375 & 0.375 & \\cdots & 0.0 & 0.625 & 0.0 & 0.0 & 0.0\\\\-0.125 & 0.125 & -0.375 & -0.125 & 0.125 & \\cdots & 0.0 & 0.0 & 0.625 & 0.0 & 0.0\\\\-0.125 & -0.375 & 0.125 & -0.125 & 0.125 & \\cdots & 0.0 & 0.0 & 0.0 & 0.625 & 0.0\\\\-0.375 & -0.125 & -0.125 & 0.125 & -0.125 & \\cdots & 0.0 & 0.0 & 0.0 & 0.0 & 0.625\\\\\\end{matrix}\\right)$"
            ],
            "text/plain": [
              "Quantum object: dims = [[16], [16]], shape = (16, 16), type = oper, isherm = True\n",
              "Qobj data =\n",
              "[[ 0.625  0.     0.     0.     0.     0.     0.     0.     0.375  0.125\n",
              "   0.125 -0.125  0.125 -0.125 -0.125 -0.375]\n",
              " [ 0.     0.625  0.     0.     0.     0.     0.     0.     0.125  0.375\n",
              "  -0.125  0.125 -0.125  0.125 -0.375 -0.125]\n",
              " [ 0.     0.     0.625  0.     0.     0.     0.     0.     0.125 -0.125\n",
              "   0.375  0.125 -0.125 -0.375  0.125 -0.125]\n",
              " [ 0.     0.     0.     0.625  0.     0.     0.     0.    -0.125  0.125\n",
              "   0.125  0.375 -0.375 -0.125 -0.125  0.125]\n",
              " [ 0.     0.     0.     0.     0.625  0.     0.     0.     0.125 -0.125\n",
              "  -0.125 -0.375  0.375  0.125  0.125 -0.125]\n",
              " [ 0.     0.     0.     0.     0.     0.625  0.     0.    -0.125  0.125\n",
              "  -0.375 -0.125  0.125  0.375 -0.125  0.125]\n",
              " [ 0.     0.     0.     0.     0.     0.     0.625  0.    -0.125 -0.375\n",
              "   0.125 -0.125  0.125 -0.125  0.375  0.125]\n",
              " [ 0.     0.     0.     0.     0.     0.     0.     0.625 -0.375 -0.125\n",
              "  -0.125  0.125 -0.125  0.125  0.125  0.375]\n",
              " [ 0.375  0.125  0.125 -0.125  0.125 -0.125 -0.125 -0.375  0.625  0.\n",
              "   0.     0.     0.     0.     0.     0.   ]\n",
              " [ 0.125  0.375 -0.125  0.125 -0.125  0.125 -0.375 -0.125  0.     0.625\n",
              "   0.     0.     0.     0.     0.     0.   ]\n",
              " [ 0.125 -0.125  0.375  0.125 -0.125 -0.375  0.125 -0.125  0.     0.\n",
              "   0.625  0.     0.     0.     0.     0.   ]\n",
              " [-0.125  0.125  0.125  0.375 -0.375 -0.125 -0.125  0.125  0.     0.\n",
              "   0.     0.625  0.     0.     0.     0.   ]\n",
              " [ 0.125 -0.125 -0.125 -0.375  0.375  0.125  0.125 -0.125  0.     0.\n",
              "   0.     0.     0.625  0.     0.     0.   ]\n",
              " [-0.125  0.125 -0.375 -0.125  0.125  0.375 -0.125  0.125  0.     0.\n",
              "   0.     0.     0.     0.625  0.     0.   ]\n",
              " [-0.125 -0.375  0.125 -0.125  0.125 -0.125  0.375  0.125  0.     0.\n",
              "   0.     0.     0.     0.     0.625  0.   ]\n",
              " [-0.375 -0.125 -0.125  0.125 -0.125  0.125  0.125  0.375  0.     0.\n",
              "   0.     0.     0.     0.     0.     0.625]]"
            ]
          },
          "execution_count": 38,
          "metadata": {},
          "output_type": "execute_result"
        }
      ],
      "source": [
        "from qiskit import QuantumCircuit\n",
        "\n",
        "syndrome = encoding.ancilla[0]._detection_operator\n",
        "# op = Operator(syndrome.full())\n",
        "# qc = QuantumCircuit(4)\n",
        "# qc.append(op, [0, 1, 2, 3])\n",
        "syndrome"
      ]
    },
    {
      "cell_type": "code",
      "execution_count": 42,
      "metadata": {},
      "outputs": [
        {
          "data": {
            "text/plain": [
              "Operator([[ 1.+0.j,  0.+0.j,  0.+0.j, ...,  0.+0.j,  0.+0.j,  0.+0.j],\n",
              "          [ 0.+0.j,  1.+0.j,  0.+0.j, ...,  0.+0.j,  0.+0.j,  0.+0.j],\n",
              "          [ 0.+0.j,  0.+0.j,  1.+0.j, ...,  0.+0.j,  0.+0.j,  0.+0.j],\n",
              "          ...,\n",
              "          [ 0.+0.j,  0.+0.j,  0.+0.j, ..., -1.+0.j,  0.+0.j,  0.+0.j],\n",
              "          [ 0.+0.j,  0.+0.j,  0.+0.j, ...,  0.+0.j, -1.+0.j,  0.+0.j],\n",
              "          [ 0.+0.j,  0.+0.j,  0.+0.j, ...,  0.+0.j,  0.+0.j,  1.+0.j]],\n",
              "         input_dims=(2, 2, 2, 2, 2), output_dims=(2, 2, 2, 2, 2))"
            ]
          },
          "execution_count": 42,
          "metadata": {},
          "output_type": "execute_result"
        }
      ],
      "source": [
        "qc = QuantumCircuit(5)\n",
        "qc.cz(0, 3)\n",
        "qc.cz(1, 3)\n",
        "qc.cz(2, 4)\n",
        "qc.cz(3, 4)\n",
        "qc.draw()\n",
        "Operator(qc)"
      ]
    }
  ],
  "metadata": {
    "kernelspec": {
      "display_name": ".venv",
      "language": "python",
      "name": "python3"
    },
    "language_info": {
      "codemirror_mode": {
        "name": "ipython",
        "version": 3
      },
      "file_extension": ".py",
      "mimetype": "text/x-python",
      "name": "python",
      "nbconvert_exporter": "python",
      "pygments_lexer": "ipython3",
      "version": "3.9.17"
    },
    "orig_nbformat": 4
  },
  "nbformat": 4,
  "nbformat_minor": 2
}
