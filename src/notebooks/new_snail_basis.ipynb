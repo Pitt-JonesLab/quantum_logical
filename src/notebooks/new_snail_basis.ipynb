{
  "cells": [
    {
      "cell_type": "markdown",
      "metadata": {},
      "source": [
        "I want to be able to reason about the efficiency of a quantum error correction code.\n",
        "\n",
        "A code $\\mathcal{C}$ is given by $\\{|L_0)\\rangle, |L_1\\rangle\\}$ such that $\\langle L_0 | L_1 \\rangle = 0$.\n",
        "\n",
        "An error correction code will be more or less efficient depending on the number of errors it can detect/correct and the number of qubits it uses.\n",
        "\n",
        "Additionally, an error correction code will require translating all algorithm instructions into the code's basis. This translation requires:\n",
        "\n",
        "1. Encode and decode instructions.\n",
        "\n",
        "2. A set of instructions for syndrome detections. These typically involve a series of controlled-U gates; conditioned on the state qubit and acting on the ancilla qubit. A measurement is used to project the continuous errors into a discrete syndrome. Non-conventional stabilizer ancillas may use other gates, for example, erasure detection using an iSWAP.\n",
        "\n",
        "3. A set of instructions for the correction procedure conditioned on the syndrome. This likely involves resetting the faulty qubit and reapplying the encoding procedure.\n",
        "\n",
        "4. A set of logical operators to perform the algorithm computation with. A logical operation can be created by\n",
        "   \\begin{align}\n",
        "   A = |L_0\\rangle\\langle0| + |L_1\\rangle\\langle1| \\\\\n",
        "   U' = A U A^\\dagger\n",
        "   \\end{align}\n",
        "   where $U$ is a unitary that acts on the $|0\\rangle$ and $|1\\rangle $ states.\n",
        "   We can also describe a logical operator as a centralizer to the stabilizer group.\n",
        "\n",
        "   This is interesting because it complicates the research question we answered in previous work, regarding most efficient basis gate. Here, efficient hardware computational operations don't necessary create efficient logical operations. More, we will be limited by qubit connectivity as we will need connections between two logical qubit's state qubits in order to perform a logical operation.\n",
        "\n",
        "5. A procedure for interleaving syndrome measurements and logical operations. Simply, we might choice to check for faults between every logical operation, or we might choice to check for faults after every $n$ logical operations. Moreover, depending on the construction of the code, we might be able to check for syndrome in parallel with the logical operation (for example, if syndrome check commutes with the logical operation), or if can be done in parallel with the other syndrome checks (this might not be possible if the syndrome checks leave the codespace for example).\n",
        "   If the syndrome checks cannot be done in parallel, we might not need unique ancilla qubits for each syndrome check.\n",
        "\n",
        "6. We should consider the efficiency of the code with regards to a specific error model. In particular, we should be able to characterize a system's error channels and gate fidelities in order to determine the best error correction code for that system Operator-sum representation of an error channel:\n",
        "\n",
        "\\begin{align}\n",
        "\\epsilon(\\rho) = \\sum_i E_i \\rho E_i^\\dagger\n",
        "\\end{align}\n",
        "\n",
        "Use the error channel to create noisy-operators.\n",
        "\n",
        "\\begin{align}\n",
        "U' = \\sum_i E_i U\n",
        "\\end{align}\n",
        "\n",
        "We can verify that the codespace meets minimum requirements for the given error channels. Suppose $\\Epsilon$ is quantum operation with operation elements ${E_i}$. A necessary and sufficient condition for the existence of an error-correction operation $R$ correcting $\\Epsilon$ on $\\mathcal{C}$ is that\n",
        "\\begin{align}\n",
        "P E^\\dagger*i E_j P = \\alpha*{ij} P\n",
        "\\end{align}\n",
        ", for some Hermitian matrix $\\alpha$ of complex numbers.\n",
        "\n",
        "In order to evaluate the large sets of tradeoffs, we need to describe the syndrome, correction, and logical operators in terms of circuit costs. If the code protects errors efficiently, but in practice the operators are too expensive too implement on our hardware (after decomposing into hardware basis gates), then the code is not useful. We need information about how the hardware in order to determine a more accurate expected **increase in effective qubit fidelities**.\n",
        "\n",
        "7. We might choice to enforce rules that continuous operators may not leave the codespace, otherwise this may lead to undectable faults. However, if doing so gives us an otherwise more efficient operation we might find it worthwhile.\n",
        "\n",
        "8. We should be able to analyze the efficiency analytically to some extent. For example, given an error channel in terms of symbolic parameters, we can write the expected error of a gate, or the average/worst case state fidelity following the gate. We can use these to determine how faulty each logical operation is, as well as how faulty the syndrome and correction steps are themselves. We can use this to predict how often we need to check for faults and use a Markov chain to determine probabilities we end up remaining in the codespace for a given number of logical operations.\n",
        "\n",
        "9. Given a fault map and qubit connectivity, we should be able to analyze the efficiency from sets of error codes. We should integrate the transformations into a transpiler pass which will insert the error correction circuity into the circuit and be able to run the circuit on a simulator or real device.\n"
      ]
    },
    {
      "cell_type": "code",
      "execution_count": 175,
      "metadata": {},
      "outputs": [],
      "source": [
        "# explicit tutorial on the encoding\n",
        "# what gates do encoding and detection\n",
        "# the known solutions are the 5-wave and parallel 3-wave\n",
        "# (we don't know if there exists others yet)\n",
        "# but we need to first be able to simulate the faults and effective increases in lifetimes\n",
        "# if that the qubits had lifetimes and errro channels\n",
        "import numpy as np\n",
        "from IPython.display import display, Math"
      ]
    },
    {
      "cell_type": "markdown",
      "metadata": {},
      "source": [
        "To create logical operators use the following transformation:\n",
        "\\begin{align*}\n",
        "A = |L_0\\rangle\\langle0| + |L_1\\rangle\\langle1|\\\\\n",
        "U' = A U A^\\dagger\n",
        "\\end{align*}\n",
        ",where U is unitary that acts on the $|0\\rangle$ and $|1\\rangle$ states.\n"
      ]
    },
    {
      "cell_type": "code",
      "execution_count": 117,
      "metadata": {},
      "outputs": [
        {
          "data": {
            "text/latex": [
              "Quantum object: dims = [[3, 3, 3], [2]], shape = (27, 2), type = oper, isherm = False $ \\\\ \\left(\\begin{matrix}0.354 & 0.354\\\\0.0 & 0.0\\\\0.354 & -0.354\\\\0.0 & 0.0\\\\0.0 & 0.0\\\\\\vdots & \\vdots\\\\0.0 & 0.0\\\\0.0 & 0.0\\\\0.354 & 0.354\\\\0.0 & 0.0\\\\0.354 & -0.354\\\\\\end{matrix}\\right)$"
            ],
            "text/plain": [
              "Quantum object: dims = [[3, 3, 3], [2]], shape = (27, 2), type = oper, isherm = False\n",
              "Qobj data =\n",
              "[[ 0.35355339  0.35355339]\n",
              " [ 0.          0.        ]\n",
              " [ 0.35355339 -0.35355339]\n",
              " [ 0.          0.        ]\n",
              " [ 0.          0.        ]\n",
              " [ 0.          0.        ]\n",
              " [ 0.35355339 -0.35355339]\n",
              " [ 0.          0.        ]\n",
              " [ 0.35355339  0.35355339]\n",
              " [ 0.          0.        ]\n",
              " [ 0.          0.        ]\n",
              " [ 0.          0.        ]\n",
              " [ 0.          0.        ]\n",
              " [ 0.          0.        ]\n",
              " [ 0.          0.        ]\n",
              " [ 0.          0.        ]\n",
              " [ 0.          0.        ]\n",
              " [ 0.          0.        ]\n",
              " [ 0.35355339 -0.35355339]\n",
              " [ 0.          0.        ]\n",
              " [ 0.35355339  0.35355339]\n",
              " [ 0.          0.        ]\n",
              " [ 0.          0.        ]\n",
              " [ 0.          0.        ]\n",
              " [ 0.35355339  0.35355339]\n",
              " [ 0.          0.        ]\n",
              " [ 0.35355339 -0.35355339]]"
            ]
          },
          "execution_count": 117,
          "metadata": {},
          "output_type": "execute_result"
        }
      ],
      "source": [
        "from quantum_logical.basis import SNAILConcatWithAncilla\n",
        "\n",
        "encoding = SNAILConcatWithAncilla()\n",
        "A = encoding.logical_basis.transform_operator\n",
        "A"
      ]
    },
    {
      "cell_type": "code",
      "execution_count": 118,
      "metadata": {},
      "outputs": [
        {
          "data": {
            "text/latex": [
              "Quantum object: dims = [[54, 54], [54, 54]], shape = (2916, 2916), type = oper, isherm = True $ \\\\ \\left(\\begin{matrix}0.250 & 0.0 & 0.0 & 0.0 & 0.0 & \\cdots & 0.0 & 0.0 & 0.0 & 0.0 & 0.0\\\\0.0 & 0.500 & 0.0 & 0.0 & 0.0 & \\cdots & 0.0 & 0.0 & 0.0 & 0.0 & 0.0\\\\0.0 & 0.0 & 0.250 & 0.0 & 0.0 & \\cdots & 0.0 & 0.0 & 0.0 & 0.0 & 0.0\\\\0.0 & 0.0 & 0.0 & 0.500 & 0.0 & \\cdots & 0.0 & 0.0 & 0.0 & 0.0 & 0.0\\\\0.0 & 0.0 & 0.0 & 0.0 & 0.500 & \\cdots & 0.0 & 0.0 & 0.0 & 0.0 & 0.0\\\\\\vdots & \\vdots & \\vdots & \\vdots & \\vdots & \\ddots & \\vdots & \\vdots & \\vdots & \\vdots & \\vdots\\\\0.0 & 0.0 & 0.0 & 0.0 & 0.0 & \\cdots & 0.500 & 0.0 & 0.0 & 0.0 & 0.0\\\\0.0 & 0.0 & 0.0 & 0.0 & 0.0 & \\cdots & 0.0 & 0.500 & 0.0 & 0.0 & 0.0\\\\0.0 & 0.0 & 0.0 & 0.0 & 0.0 & \\cdots & 0.0 & 0.0 & 0.250 & 0.0 & 0.0\\\\0.0 & 0.0 & 0.0 & 0.0 & 0.0 & \\cdots & 0.0 & 0.0 & 0.0 & 0.500 & 0.0\\\\0.0 & 0.0 & 0.0 & 0.0 & 0.0 & \\cdots & 0.0 & 0.0 & 0.0 & 0.0 & 0.250\\\\\\end{matrix}\\right)$"
            ],
            "text/plain": [
              "Quantum object: dims = [[54, 54], [54, 54]], shape = (2916, 2916), type = oper, isherm = True\n",
              "Qobj data =\n",
              "[[0.25 0.   0.   ... 0.   0.   0.  ]\n",
              " [0.   0.5  0.   ... 0.   0.   0.  ]\n",
              " [0.   0.   0.25 ... 0.   0.   0.  ]\n",
              " ...\n",
              " [0.   0.   0.   ... 0.25 0.   0.  ]\n",
              " [0.   0.   0.   ... 0.   0.5  0.  ]\n",
              " [0.   0.   0.   ... 0.   0.   0.25]]"
            ]
          },
          "execution_count": 118,
          "metadata": {},
          "output_type": "execute_result"
        }
      ],
      "source": [
        "encoding.detection_operator"
      ]
    },
    {
      "cell_type": "code",
      "execution_count": 119,
      "metadata": {},
      "outputs": [
        {
          "data": {
            "text/latex": [
              "$\\displaystyle <quantum_logical.conversiongain.ConversionGainThreeWave object at 0x7fd105854bb0>$"
            ],
            "text/plain": [
              "<IPython.core.display.Math object>"
            ]
          },
          "metadata": {},
          "output_type": "display_data"
        },
        {
          "name": "stdout",
          "output_type": "stream",
          "text": [
            "Quantum object: dims = [[9], [9]], shape = (9, 9), type = oper, isherm = False\n",
            "Qobj data =\n",
            "[[0.+0.j 0.+0.j 0.+0.j 0.+0.j 0.-1.j 0.+0.j 0.+0.j 0.+0.j 0.+0.j]\n",
            " [0.+0.j 1.+0.j 0.+0.j 0.+0.j 0.+0.j 0.+0.j 0.+0.j 0.+0.j 0.+0.j]\n",
            " [0.+0.j 0.+0.j 1.+0.j 0.+0.j 0.+0.j 0.+0.j 0.+0.j 0.+0.j 0.+0.j]\n",
            " [0.+0.j 0.+0.j 0.+0.j 1.+0.j 0.+0.j 0.+0.j 0.+0.j 0.+0.j 0.+0.j]\n",
            " [0.-1.j 0.+0.j 0.+0.j 0.+0.j 0.+0.j 0.+0.j 0.+0.j 0.+0.j 0.+0.j]\n",
            " [0.+0.j 0.+0.j 0.+0.j 0.+0.j 0.+0.j 1.+0.j 0.+0.j 0.+0.j 0.+0.j]\n",
            " [0.+0.j 0.+0.j 0.+0.j 0.+0.j 0.+0.j 0.+0.j 1.+0.j 0.+0.j 0.+0.j]\n",
            " [0.+0.j 0.+0.j 0.+0.j 0.+0.j 0.+0.j 0.+0.j 0.+0.j 1.+0.j 0.+0.j]\n",
            " [0.+0.j 0.+0.j 0.+0.j 0.+0.j 0.+0.j 0.+0.j 0.+0.j 0.+0.j 1.+0.j]]\n"
          ]
        }
      ],
      "source": [
        "from quantum_logical.conversiongain import (\n",
        "    ConversionGainThreeWave,\n",
        "    ConversionGainThreeWaveTwo,\n",
        "    ConversionGainFiveWave,\n",
        ")\n",
        "\n",
        "H = ConversionGainThreeWave(gc=np.pi / 2, gg=0, transmon_levels=3)\n",
        "display(Math(str(H)))\n",
        "U1 = H.unitary(t=1.0)\n",
        "print(U1)"
      ]
    },
    {
      "cell_type": "code",
      "execution_count": 120,
      "metadata": {},
      "outputs": [
        {
          "data": {
            "text/latex": [
              "$\\displaystyle <quantum_logical.conversiongain.ConversionGainThreeWaveTwo object at 0x7fd1059962e0>$"
            ],
            "text/plain": [
              "<IPython.core.display.Math object>"
            ]
          },
          "metadata": {},
          "output_type": "display_data"
        },
        {
          "name": "stdout",
          "output_type": "stream",
          "text": [
            "Quantum object: dims = [[9], [9]], shape = (9, 9), type = oper, isherm = False\n",
            "Qobj data =\n",
            "[[1.+0.j 0.+0.j 0.+0.j 0.+0.j 0.+0.j 0.+0.j 0.+0.j 0.+0.j 0.+0.j]\n",
            " [0.+0.j 1.+0.j 0.+0.j 0.+0.j 0.+0.j 0.+0.j 0.+0.j 0.+0.j 0.+0.j]\n",
            " [0.+0.j 0.+0.j 1.+0.j 0.+0.j 0.+0.j 0.+0.j 0.+0.j 0.+0.j 0.+0.j]\n",
            " [0.+0.j 0.+0.j 0.+0.j 1.+0.j 0.+0.j 0.+0.j 0.+0.j 0.+0.j 0.+0.j]\n",
            " [0.+0.j 0.+0.j 0.+0.j 0.+0.j 0.+0.j 0.+0.j 0.+0.j 0.+0.j 0.-1.j]\n",
            " [0.+0.j 0.+0.j 0.+0.j 0.+0.j 0.+0.j 1.+0.j 0.+0.j 0.+0.j 0.+0.j]\n",
            " [0.+0.j 0.+0.j 0.+0.j 0.+0.j 0.+0.j 0.+0.j 1.+0.j 0.+0.j 0.+0.j]\n",
            " [0.+0.j 0.+0.j 0.+0.j 0.+0.j 0.+0.j 0.+0.j 0.+0.j 1.+0.j 0.+0.j]\n",
            " [0.+0.j 0.+0.j 0.+0.j 0.+0.j 0.-1.j 0.+0.j 0.+0.j 0.+0.j 0.+0.j]]\n"
          ]
        }
      ],
      "source": [
        "H = ConversionGainThreeWaveTwo(gc=np.pi / 2, gg=0, transmon_levels=3)\n",
        "display(Math(str(H)))\n",
        "U2 = H.unitary(t=1.0)\n",
        "print(U2)"
      ]
    },
    {
      "cell_type": "code",
      "execution_count": 121,
      "metadata": {},
      "outputs": [
        {
          "data": {
            "text/latex": [
              "Quantum object: dims = [[9], [9]], shape = (9, 9), type = oper, isherm = False $ \\\\ \\left(\\begin{matrix}0.0 & 0.0 & 0.0 & 0.0 & 0.0 & 0.0 & 0.0 & 0.0 & -1.0\\\\0.0 & 1.0 & 0.0 & 0.0 & 0.0 & 0.0 & 0.0 & 0.0 & 0.0\\\\0.0 & 0.0 & 1.0 & 0.0 & 0.0 & 0.0 & 0.0 & 0.0 & 0.0\\\\0.0 & 0.0 & 0.0 & 1.0 & 0.0 & 0.0 & 0.0 & 0.0 & 0.0\\\\-1.0j & 0.0 & 0.0 & 0.0 & 0.0 & 0.0 & 0.0 & 0.0 & 0.0\\\\0.0 & 0.0 & 0.0 & 0.0 & 0.0 & 1.0 & 0.0 & 0.0 & 0.0\\\\0.0 & 0.0 & 0.0 & 0.0 & 0.0 & 0.0 & 1.0 & 0.0 & 0.0\\\\0.0 & 0.0 & 0.0 & 0.0 & 0.0 & 0.0 & 0.0 & 1.0 & 0.0\\\\0.0 & 0.0 & 0.0 & 0.0 & -1.0j & 0.0 & 0.0 & 0.0 & 0.0\\\\\\end{matrix}\\right)$"
            ],
            "text/plain": [
              "Quantum object: dims = [[9], [9]], shape = (9, 9), type = oper, isherm = False\n",
              "Qobj data =\n",
              "[[ 0.+0.j  0.+0.j  0.+0.j  0.+0.j  0.+0.j  0.+0.j  0.+0.j  0.+0.j -1.+0.j]\n",
              " [ 0.+0.j  1.+0.j  0.+0.j  0.+0.j  0.+0.j  0.+0.j  0.+0.j  0.+0.j  0.+0.j]\n",
              " [ 0.+0.j  0.+0.j  1.+0.j  0.+0.j  0.+0.j  0.+0.j  0.+0.j  0.+0.j  0.+0.j]\n",
              " [ 0.+0.j  0.+0.j  0.+0.j  1.+0.j  0.+0.j  0.+0.j  0.+0.j  0.+0.j  0.+0.j]\n",
              " [ 0.-1.j  0.+0.j  0.+0.j  0.+0.j  0.+0.j  0.+0.j  0.+0.j  0.+0.j  0.+0.j]\n",
              " [ 0.+0.j  0.+0.j  0.+0.j  0.+0.j  0.+0.j  1.+0.j  0.+0.j  0.+0.j  0.+0.j]\n",
              " [ 0.+0.j  0.+0.j  0.+0.j  0.+0.j  0.+0.j  0.+0.j  1.+0.j  0.+0.j  0.+0.j]\n",
              " [ 0.+0.j  0.+0.j  0.+0.j  0.+0.j  0.+0.j  0.+0.j  0.+0.j  1.+0.j  0.+0.j]\n",
              " [ 0.+0.j  0.+0.j  0.+0.j  0.+0.j  0.-1.j  0.+0.j  0.+0.j  0.+0.j  0.+0.j]]"
            ]
          },
          "execution_count": 121,
          "metadata": {},
          "output_type": "execute_result"
        }
      ],
      "source": [
        "# looks like multiplying the two unitaries does not give the same result as the 5-wave\n",
        "U1 * U2"
      ]
    },
    {
      "cell_type": "markdown",
      "metadata": {},
      "source": [
        "![Alt text](../../images/image.png)\n"
      ]
    },
    {
      "cell_type": "code",
      "execution_count": 180,
      "metadata": {},
      "outputs": [
        {
          "data": {
            "text/latex": [
              "Quantum object: dims = [[9], [9]], shape = (9, 9), type = oper, isherm = True $ \\\\ \\left(\\begin{matrix}1.000 & 0.0 & 0.0 & 0.0 & 0.0 & 0.0 & 0.0 & 0.0 & 0.0\\\\0.0 & 1.000 & 0.0 & 0.0 & 0.0 & 0.0 & 0.0 & 0.0 & 0.0\\\\0.0 & 0.0 & 0.0 & 0.0 & 0.0 & 0.0 & 1.0j & 0.0 & 0.0\\\\0.0 & 0.0 & 0.0 & 1.000 & 0.0 & 0.0 & 0.0 & 0.0 & 0.0\\\\0.0 & 0.0 & 0.0 & 0.0 & -1.0 & 0.0 & 0.0 & 0.0 & 0.0\\\\0.0 & 0.0 & 0.0 & 0.0 & 0.0 & 1.000 & 0.0 & 0.0 & 0.0\\\\0.0 & 0.0 & -1.0j & 0.0 & 0.0 & 0.0 & 0.0 & 0.0 & 0.0\\\\0.0 & 0.0 & 0.0 & 0.0 & 0.0 & 0.0 & 0.0 & 1.000 & 0.0\\\\0.0 & 0.0 & 0.0 & 0.0 & 0.0 & 0.0 & 0.0 & 0.0 & 1.000\\\\\\end{matrix}\\right)$"
            ],
            "text/plain": [
              "Quantum object: dims = [[9], [9]], shape = (9, 9), type = oper, isherm = True\n",
              "Qobj data =\n",
              "[[ 1.+0.j  0.+0.j  0.+0.j  0.+0.j  0.+0.j  0.+0.j  0.+0.j  0.+0.j  0.+0.j]\n",
              " [ 0.+0.j  1.+0.j  0.+0.j  0.+0.j  0.+0.j  0.+0.j  0.+0.j  0.+0.j  0.+0.j]\n",
              " [ 0.+0.j  0.+0.j  0.+0.j  0.+0.j  0.+0.j  0.+0.j  0.+1.j  0.+0.j  0.+0.j]\n",
              " [ 0.+0.j  0.+0.j  0.+0.j  1.+0.j  0.+0.j  0.+0.j  0.+0.j  0.+0.j  0.+0.j]\n",
              " [ 0.+0.j  0.+0.j  0.+0.j  0.+0.j -1.+0.j  0.+0.j  0.+0.j  0.+0.j  0.+0.j]\n",
              " [ 0.+0.j  0.+0.j  0.+0.j  0.+0.j  0.+0.j  1.+0.j  0.+0.j  0.+0.j  0.+0.j]\n",
              " [ 0.+0.j  0.+0.j  0.-1.j  0.+0.j  0.+0.j  0.+0.j  0.+0.j  0.+0.j  0.+0.j]\n",
              " [ 0.+0.j  0.+0.j  0.+0.j  0.+0.j  0.+0.j  0.+0.j  0.+0.j  1.+0.j  0.+0.j]\n",
              " [ 0.+0.j  0.+0.j  0.+0.j  0.+0.j  0.+0.j  0.+0.j  0.+0.j  0.+0.j  1.+0.j]]"
            ]
          },
          "execution_count": 180,
          "metadata": {},
          "output_type": "execute_result"
        }
      ],
      "source": [
        "# what if we don't just compose the unitaries but put all the terms into the Hamiltonian?\n",
        "from quantum_logical.conversiongain import ConversionGainThreeWaveTogether\n",
        "\n",
        "H = ConversionGainThreeWaveTogether(\n",
        "    gc=np.pi / 2,\n",
        "    gg=0,\n",
        "    phi_c1=-0.5 * np.pi,\n",
        "    phi_c2=0 * np.pi,\n",
        "    transmon_levels=3,\n",
        ")\n",
        "U3 = H.unitary(t=np.sqrt(2))\n",
        "U3"
      ]
    },
    {
      "cell_type": "code",
      "execution_count": 123,
      "metadata": {},
      "outputs": [],
      "source": [
        "# from qutip import Qobj\n",
        "# Qobj(H.construct_H().H.full())"
      ]
    },
    {
      "cell_type": "code",
      "execution_count": 181,
      "metadata": {},
      "outputs": [
        {
          "data": {
            "text/latex": [
              "Quantum object: dims = [[9], [9]], shape = (9, 9), type = oper, isherm = False $ \\\\ \\left(\\begin{matrix}1.0 & 0.0 & 0.0 & 0.0 & 0.0 & 0.0 & 0.0 & 0.0 & 0.0\\\\0.0 & 1.0 & 0.0 & 0.0 & 0.0 & 0.0 & 0.0 & 0.0 & 0.0\\\\0.0 & 0.0 & 0.0 & 0.0 & 0.0 & 0.0 & -1.0j & 0.0 & 0.0\\\\0.0 & 0.0 & 0.0 & 1.0 & 0.0 & 0.0 & 0.0 & 0.0 & 0.0\\\\0.0 & 0.0 & 0.0 & 0.0 & 1.0 & 0.0 & 0.0 & 0.0 & 0.0\\\\0.0 & 0.0 & 0.0 & 0.0 & 0.0 & 1.0 & 0.0 & 0.0 & 0.0\\\\0.0 & 0.0 & -1.0j & 0.0 & 0.0 & 0.0 & 0.0 & 0.0 & 0.0\\\\0.0 & 0.0 & 0.0 & 0.0 & 0.0 & 0.0 & 0.0 & 1.0 & 0.0\\\\0.0 & 0.0 & 0.0 & 0.0 & 0.0 & 0.0 & 0.0 & 0.0 & 1.0\\\\\\end{matrix}\\right)$"
            ],
            "text/plain": [
              "Quantum object: dims = [[9], [9]], shape = (9, 9), type = oper, isherm = False\n",
              "Qobj data =\n",
              "[[1.+0.j 0.+0.j 0.+0.j 0.+0.j 0.+0.j 0.+0.j 0.+0.j 0.+0.j 0.+0.j]\n",
              " [0.+0.j 1.+0.j 0.+0.j 0.+0.j 0.+0.j 0.+0.j 0.+0.j 0.+0.j 0.+0.j]\n",
              " [0.+0.j 0.+0.j 0.+0.j 0.+0.j 0.+0.j 0.+0.j 0.-1.j 0.+0.j 0.+0.j]\n",
              " [0.+0.j 0.+0.j 0.+0.j 1.+0.j 0.+0.j 0.+0.j 0.+0.j 0.+0.j 0.+0.j]\n",
              " [0.+0.j 0.+0.j 0.+0.j 0.+0.j 1.+0.j 0.+0.j 0.+0.j 0.+0.j 0.+0.j]\n",
              " [0.+0.j 0.+0.j 0.+0.j 0.+0.j 0.+0.j 1.+0.j 0.+0.j 0.+0.j 0.+0.j]\n",
              " [0.+0.j 0.+0.j 0.-1.j 0.+0.j 0.+0.j 0.+0.j 0.+0.j 0.+0.j 0.+0.j]\n",
              " [0.+0.j 0.+0.j 0.+0.j 0.+0.j 0.+0.j 0.+0.j 0.+0.j 1.+0.j 0.+0.j]\n",
              " [0.+0.j 0.+0.j 0.+0.j 0.+0.j 0.+0.j 0.+0.j 0.+0.j 0.+0.j 1.+0.j]]"
            ]
          },
          "execution_count": 181,
          "metadata": {},
          "output_type": "execute_result"
        }
      ],
      "source": [
        "H = ConversionGainFiveWave(gc=np.pi / 2, gg=0)\n",
        "U = H.unitary(t=1.0)\n",
        "U"
      ]
    },
    {
      "cell_type": "code",
      "execution_count": 125,
      "metadata": {},
      "outputs": [
        {
          "data": {
            "text/latex": [
              "Quantum object: dims = [[9], [9]], shape = (9, 9), type = oper, isherm = True $ \\\\ \\left(\\begin{matrix}0.0 & 0.0 & 0.0 & 0.0 & 0.0 & 0.0 & 0.0 & 0.0 & 0.0\\\\0.0 & 0.0 & 0.0 & 0.0 & 0.0 & 0.0 & 0.0 & 0.0 & 0.0\\\\0.0 & 0.0 & 0.0 & 0.0 & 0.0 & 0.0 & 1.571 & 0.0 & 0.0\\\\0.0 & 0.0 & 0.0 & 0.0 & 0.0 & 0.0 & 0.0 & 0.0 & 0.0\\\\0.0 & 0.0 & 0.0 & 0.0 & 0.0 & 0.0 & 0.0 & 0.0 & 0.0\\\\0.0 & 0.0 & 0.0 & 0.0 & 0.0 & 0.0 & 0.0 & 0.0 & 0.0\\\\0.0 & 0.0 & 1.571 & 0.0 & 0.0 & 0.0 & 0.0 & 0.0 & 0.0\\\\0.0 & 0.0 & 0.0 & 0.0 & 0.0 & 0.0 & 0.0 & 0.0 & 0.0\\\\0.0 & 0.0 & 0.0 & 0.0 & 0.0 & 0.0 & 0.0 & 0.0 & 0.0\\\\\\end{matrix}\\right)$"
            ],
            "text/plain": [
              "Quantum object: dims = [[9], [9]], shape = (9, 9), type = oper, isherm = True\n",
              "Qobj data =\n",
              "[[0.         0.         0.         0.         0.         0.\n",
              "  0.         0.         0.        ]\n",
              " [0.         0.         0.         0.         0.         0.\n",
              "  0.         0.         0.        ]\n",
              " [0.         0.         0.         0.         0.         0.\n",
              "  1.57079633 0.         0.        ]\n",
              " [0.         0.         0.         0.         0.         0.\n",
              "  0.         0.         0.        ]\n",
              " [0.         0.         0.         0.         0.         0.\n",
              "  0.         0.         0.        ]\n",
              " [0.         0.         0.         0.         0.         0.\n",
              "  0.         0.         0.        ]\n",
              " [0.         0.         1.57079633 0.         0.         0.\n",
              "  0.         0.         0.        ]\n",
              " [0.         0.         0.         0.         0.         0.\n",
              "  0.         0.         0.        ]\n",
              " [0.         0.         0.         0.         0.         0.\n",
              "  0.         0.         0.        ]]"
            ]
          },
          "execution_count": 125,
          "metadata": {},
          "output_type": "execute_result"
        }
      ],
      "source": [
        "from qutip import Qobj\n",
        "\n",
        "Qobj(H.construct_H().H.full())"
      ]
    },
    {
      "cell_type": "code",
      "execution_count": 126,
      "metadata": {},
      "outputs": [],
      "source": [
        "# todo, check decode solution with 3-, 5-wave gates\n",
        "# show that 5-wave stays in encoding, 3-wave does not\n",
        "# is_centralizer()"
      ]
    },
    {
      "cell_type": "code",
      "execution_count": 135,
      "metadata": {},
      "outputs": [],
      "source": [
        "from quantum_logical.basis import PhaseReptition\n",
        "from qiskit.quantum_info import StabilizerState\n",
        "from qutip import basis\n",
        "\n",
        "encoding = PhaseReptition()"
      ]
    },
    {
      "cell_type": "code",
      "execution_count": 144,
      "metadata": {},
      "outputs": [
        {
          "data": {
            "text/latex": [
              "Quantum object: dims = [[2, 2, 2], [1, 1, 1]], shape = (8, 1), type = ket $ \\\\ \\left(\\begin{matrix}0.354\\\\0.354\\\\0.354\\\\0.354\\\\0.354\\\\0.354\\\\0.354\\\\0.354\\\\\\end{matrix}\\right)$"
            ],
            "text/plain": [
              "Quantum object: dims = [[2, 2, 2], [1, 1, 1]], shape = (8, 1), type = ket\n",
              "Qobj data =\n",
              "[[0.35355339]\n",
              " [0.35355339]\n",
              " [0.35355339]\n",
              " [0.35355339]\n",
              " [0.35355339]\n",
              " [0.35355339]\n",
              " [0.35355339]\n",
              " [0.35355339]]"
            ]
          },
          "execution_count": 144,
          "metadata": {},
          "output_type": "execute_result"
        }
      ],
      "source": [
        "from qiskit.quantum_info import Statevector, Operator, Clifford\n",
        "\n",
        "op = encoding.logical_basis.zero_ket\n",
        "op"
      ]
    },
    {
      "cell_type": "code",
      "execution_count": 174,
      "metadata": {},
      "outputs": [
        {
          "data": {
            "text/latex": [
              "Quantum object: dims = [[2, 2, 2], [1, 1, 1]], shape = (8, 1), type = ket $ \\\\ \\left(\\begin{matrix}0.354\\\\0.354\\\\0.354\\\\0.354\\\\-0.354\\\\-0.354\\\\-0.354\\\\-0.354\\\\\\end{matrix}\\right)$"
            ],
            "text/plain": [
              "Quantum object: dims = [[2, 2, 2], [1, 1, 1]], shape = (8, 1), type = ket\n",
              "Qobj data =\n",
              "[[ 0.35355339]\n",
              " [ 0.35355339]\n",
              " [ 0.35355339]\n",
              " [ 0.35355339]\n",
              " [-0.35355339]\n",
              " [-0.35355339]\n",
              " [-0.35355339]\n",
              " [-0.35355339]]"
            ]
          },
          "execution_count": 174,
          "metadata": {},
          "output_type": "execute_result"
        }
      ],
      "source": [
        "from qiskit.circuit.library import XGate, IGate, ZGate\n",
        "from qutip import tensor\n",
        "\n",
        "x = tensor(\n",
        "    Qobj(ZGate().to_matrix()),\n",
        "    Qobj(XGate().to_matrix()),\n",
        "    Qobj(IGate().to_matrix()),\n",
        ")\n",
        "x * op"
      ]
    },
    {
      "cell_type": "code",
      "execution_count": 156,
      "metadata": {},
      "outputs": [
        {
          "name": "stdout",
          "output_type": "stream",
          "text": [
            "Statevector([0.35355339+0.j, 0.35355339+0.j, 0.35355339+0.j,\n",
            "             0.35355339+0.j, 0.35355339+0.j, 0.35355339+0.j,\n",
            "             0.35355339+0.j, 0.35355339+0.j],\n",
            "            dims=(2, 2, 2))\n"
          ]
        }
      ],
      "source": [
        "sv = Statevector(op.full())\n",
        "sv"
      ]
    },
    {
      "cell_type": "code",
      "execution_count": 137,
      "metadata": {},
      "outputs": [
        {
          "data": {
            "image/png": "[encoded data removed]",
            "text/plain": [
              "<Figure size 162.08x284.278 with 1 Axes>"
            ]
          },
          "execution_count": 137,
          "metadata": {},
          "output_type": "execute_result"
        }
      ],
      "source": [
        "from qiskit import transpile\n",
        "\n",
        "transpile(qc, basis_gates=[\"u\", \"cx\"], optimization_level=1).draw(output=\"mpl\")"
      ]
    },
    {
      "cell_type": "code",
      "execution_count": 138,
      "metadata": {},
      "outputs": [
        {
          "data": {
            "text/plain": [
              "array([[0.35355339+0.j],\n",
              "       [0.35355339+0.j],\n",
              "       [0.35355339+0.j],\n",
              "       [0.35355339+0.j],\n",
              "       [0.35355339+0.j],\n",
              "       [0.35355339+0.j],\n",
              "       [0.35355339+0.j],\n",
              "       [0.35355339+0.j]])"
            ]
          },
          "execution_count": 138,
          "metadata": {},
          "output_type": "execute_result"
        }
      ],
      "source": [
        "encoding.logical_basis.zero_ket.full()"
      ]
    },
    {
      "cell_type": "code",
      "execution_count": 139,
      "metadata": {},
      "outputs": [
        {
          "data": {
            "text/plain": [
              "StabilizerState(StabilizerTable: ['+IIX', '+IXX', '+XIX'])"
            ]
          },
          "execution_count": 139,
          "metadata": {},
          "output_type": "execute_result"
        }
      ],
      "source": [
        "from qiskit import QuantumCircuit\n",
        "\n",
        "qc1 = QuantumCircuit(3)\n",
        "# qc.x(0)\n",
        "qc1.cx(0, 1)\n",
        "qc1.cx(0, 2)\n",
        "qc1.h(0)\n",
        "qc1.h(1)\n",
        "qc1.h(2)\n",
        "stab = StabilizerState(qc1)\n",
        "stab"
      ]
    },
    {
      "cell_type": "code",
      "execution_count": 140,
      "metadata": {},
      "outputs": [
        {
          "data": {
            "text/plain": [
              "StabilizerState(StabilizerTable: ['-IIX', '+IXX', '+XIX'])"
            ]
          },
          "execution_count": 140,
          "metadata": {},
          "output_type": "execute_result"
        }
      ],
      "source": [
        "from qiskit import QuantumCircuit\n",
        "\n",
        "qc2 = QuantumCircuit(3)\n",
        "qc2.x(0)\n",
        "qc2.cx(0, 1)\n",
        "qc2.cx(0, 2)\n",
        "qc2.h(0)\n",
        "qc2.h(1)\n",
        "qc2.h(2)\n",
        "stab = StabilizerState(qc2)\n",
        "stab"
      ]
    },
    {
      "cell_type": "code",
      "execution_count": 141,
      "metadata": {},
      "outputs": [
        {
          "data": {
            "text/plain": [
              "StabilizerState(StabilizerTable: ['-IIX', '+IXX', '+XIX'])"
            ]
          },
          "execution_count": 141,
          "metadata": {},
          "output_type": "execute_result"
        }
      ],
      "source": [
        "stab"
      ]
    },
    {
      "cell_type": "code",
      "execution_count": 142,
      "metadata": {},
      "outputs": [
        {
          "data": {
            "text/plain": [
              "['+ZZZ', '+IZI', '+ZII', '-IIX', '+IXX', '+XIX']"
            ]
          },
          "execution_count": 142,
          "metadata": {},
          "output_type": "execute_result"
        }
      ],
      "source": [
        "from qiskit.quantum_info.operators import Clifford\n",
        "\n",
        "Clifford(qc2).to_labels()"
      ]
    },
    {
      "cell_type": "code",
      "execution_count": 143,
      "metadata": {},
      "outputs": [],
      "source": [
        "from qiskit.quantum_info import Statevector\n",
        "\n",
        "state = Statevector(qc)"
      ]
    }
  ],
  "metadata": {
    "kernelspec": {
      "display_name": ".venv",
      "language": "python",
      "name": "python3"
    },
    "language_info": {
      "codemirror_mode": {
        "name": "ipython",
        "version": 3
      },
      "file_extension": ".py",
      "mimetype": "text/x-python",
      "name": "python",
      "nbconvert_exporter": "python",
      "pygments_lexer": "ipython3",
      "version": "3.9.17"
    },
    "orig_nbformat": 4
  },
  "nbformat": 4,
  "nbformat_minor": 2
}
